{
 "cells": [
  {
   "cell_type": "code",
   "execution_count": 14,
   "metadata": {
    "collapsed": true
   },
   "outputs": [],
   "source": [
    "from deap import base\n",
    "from deap import creator\n",
    "from deap import tools\n",
    "from deap import algorithms\n",
    "import random\n",
    "import numpy"
   ]
  },
  {
   "cell_type": "code",
   "execution_count": 3,
   "metadata": {
    "collapsed": true
   },
   "outputs": [],
   "source": [
    "# Fitness: minimizing the weight of bag and maximizing the value of bag\n",
    "creator.create(\"FitnessMulti\", base.Fitness, weights=(-1.0,1.0))\n",
    "creator.create(\"Individual\", set, fitness=creator.FitnessMulti)"
   ]
  },
  {
   "cell_type": "code",
   "execution_count": 4,
   "metadata": {
    "collapsed": true
   },
   "outputs": [],
   "source": [
    "NBR_ITEMS = 100\n",
    "items = {}\n",
    "for i in range(NBR_ITEMS):\n",
    "    items[i] = (random.randint(1, 10), random.uniform(0, 100)) # (weight, value)"
   ]
  },
  {
   "cell_type": "code",
   "execution_count": 32,
   "metadata": {
    "collapsed": true
   },
   "outputs": [],
   "source": [
    "IND_INIT_SIZE = 10\n",
    "toolbox = base.Toolbox()\n",
    "toolbox.register(\"attr_item\", random.randrange, NBR_ITEMS) # correspond the index of item in items\n",
    "toolbox.register(\"individual\", tools.initRepeat, creator.Individual,\n",
    "                toolbox.attr_item, IND_INIT_SIZE)\n",
    "toolbox.register(\"population\", tools.initRepeat, list, toolbox.individual)"
   ]
  },
  {
   "cell_type": "code",
   "execution_count": 30,
   "metadata": {
    "collapsed": false
   },
   "outputs": [
    {
     "data": {
      "text/plain": [
       "[{11, 28, 30, 48, 54, 68, 70, 73, 76, 94},\n",
       " {3, 32, 33, 35, 36, 48, 62, 63, 73, 81}]"
      ]
     },
     "execution_count": 30,
     "metadata": {},
     "output_type": "execute_result"
    }
   ],
   "source": [
    "toolbox.population(2)"
   ]
  },
  {
   "cell_type": "code",
   "execution_count": 33,
   "metadata": {
    "collapsed": true
   },
   "outputs": [],
   "source": [
    "MAX_ITEM = 20\n",
    "MAX_WEIGHT = 5*20\n",
    "def evaluate(individual):\n",
    "    weight = 0.0\n",
    "    value = 0.0\n",
    "    for item in individual:\n",
    "        weight += items[item][0]\n",
    "        value += items[item][1]\n",
    "    if len(individual) > MAX_ITEM or weight > MAX_WEIGHT:\n",
    "        return 10000, 0\n",
    "    return weight, value\n"
   ]
  },
  {
   "cell_type": "code",
   "execution_count": 11,
   "metadata": {
    "collapsed": true
   },
   "outputs": [],
   "source": [
    "def cxSet(ind1, ind2):\n",
    "    temp = set(ind1)\n",
    "    ind1 &= ind2\n",
    "    ind2 ^= temp\n",
    "    return ind1, ind2\n",
    "\n",
    "def mutSet(individual):\n",
    "    if random.random() < 0.5:\n",
    "        if len(individual) > 0:\n",
    "            individual.remove(random.choice(sorted(tuple(individual))))\n",
    "        else:\n",
    "            individual.add(random.randrange(NBR_ITEMS))\n",
    "    return individual,\n"
   ]
  },
  {
   "cell_type": "code",
   "execution_count": 12,
   "metadata": {
    "collapsed": true
   },
   "outputs": [],
   "source": [
    "toolbox.register(\"evaluate\", evaluate)\n",
    "toolbox.register(\"mate\", cxSet)\n",
    "toolbox.register(\"mutate\", mutSet)\n",
    "toolbox.register(\"select\", tools.selNSGA2)"
   ]
  },
  {
   "cell_type": "code",
   "execution_count": 34,
   "metadata": {
    "collapsed": true
   },
   "outputs": [],
   "source": [
    "def main():\n",
    "    NGEN = 50\n",
    "    MU = 50\n",
    "    LAMBDA = 100\n",
    "    CXPB = 0.7\n",
    "    MUTPB = 0.2\n",
    "    \n",
    "    pop = toolbox.population(n=MU)\n",
    "    hof = tools.ParetoFront()\n",
    "    stats = tools.Statistics(lambda ind: ind.fitness.values)\n",
    "    stats.register(\"avg\", numpy.mean, axis=0)\n",
    "    stats.register(\"std\", numpy.std, axis=0)\n",
    "    stats.register(\"min\", numpy.min, axis=0)\n",
    "    stats.register(\"max\", numpy.max, axis=0)\n",
    "    \n",
    "    algorithms.eaMuCommaLambda(pop, toolbox, MU, LAMBDA, CXPB, MUTPB, NGEN, stats, halloffame=hof)\n",
    "    \n",
    "    return pop, stats, hof"
   ]
  },
  {
   "cell_type": "code",
   "execution_count": 18,
   "metadata": {
    "collapsed": false,
    "scrolled": false
   },
   "outputs": [
    {
     "name": "stdout",
     "output_type": "stream",
     "text": [
      "gen\tnevals\tavg                          \tstd                        \tmin                          \tmax                          \n",
      "0  \t50    \t[  56.84        420.80818194]\t[ 10.11604666  89.65210261]\t[  20.          198.48936144]\t[  76.          625.39824075]\n",
      "1  \t89    \t[  10.58        115.22245406]\t[  20.78180935  196.22501689]\t[ 0.  0.]                    \t[  69.          580.33931812]\n",
      "2  \t92    \t[ 10.06        96.44445314]  \t[  21.56887572  190.93008853]\t[ 0.  0.]                    \t[  69.          578.96818314]\n",
      "3  \t88    \t[  1.08        17.21910032]  \t[  5.82353844  69.32653345]  \t[ 0.  0.]                    \t[  41.          463.91483584]\n",
      "4  \t92    \t[ 0.04        1.91949905]    \t[  0.28        13.43649335]  \t[ 0.  0.]                    \t[  2.          95.97495253]  \n",
      "5  \t87    \t[ 0.24        4.23043235]    \t[  1.08738218  17.31030995]  \t[ 0.  0.]                    \t[  6.          90.90138184]  \n",
      "6  \t95    \t[ 0.52        5.08642185]    \t[  2.00239856  17.73671862]  \t[ 0.  0.]                    \t[ 10.          85.60758917]  \n",
      "7  \t91    \t[ 0.18        3.60536287]    \t[  1.12587744  17.69931347]  \t[ 0.  0.]                    \t[  8.          95.83122821]  \n",
      "8  \t91    \t[ 0.36        6.48200434]    \t[  1.49345238  22.62864085]  \t[ 0.  0.]                    \t[  8.          95.83122821]  \n",
      "9  \t90    \t[ 0.16        4.65895877]    \t[  0.75789181  19.13272526]  \t[ 0.  0.]                    \t[  5.         95.1369712]    \n",
      "10 \t89    \t[ 0.04        1.91949905]    \t[  0.28        13.43649335]  \t[ 0.  0.]                    \t[  2.          95.97495253]  \n",
      "11 \t98    \t[ 0.28        4.44142439]    \t[  1.18389189  17.82319556]  \t[ 0.  0.]                    \t[  7.          83.78395754]  \n",
      "12 \t91    \t[ 0.04        1.97737282]    \t[  0.28        13.84160973]  \t[ 0.  0.]                    \t[  2.          98.86864094]  \n",
      "13 \t90    \t[ 0.06        2.94526816]    \t[  0.31048349  15.28615805]  \t[ 0.  0.]                    \t[  2.          98.86864094]  \n",
      "14 \t87    \t[ 0.16        2.05100554]    \t[  0.98711701  10.0643346 ]  \t[ 0.  0.]                    \t[  7.          54.15551007]  \n",
      "15 \t86    \t[ 0.04        1.97737282]    \t[  0.28        13.84160973]  \t[ 0.  0.]                    \t[  2.          98.86864094]  \n",
      "16 \t86    \t[ 0.12        2.83330189]    \t[  0.71105555  14.58768485]  \t[ 0.  0.]                    \t[  5.          93.27032745]  \n",
      "17 \t93    \t[ 0.12        3.64936782]    \t[  0.71105555  17.89520936]  \t[ 0.  0.]                    \t[  5.         95.1369712]    \n",
      "18 \t85    \t[ 0.14        5.39599622]    \t[  0.72138755  21.37697748]  \t[ 0.  0.]                    \t[  5.         95.1369712]    \n",
      "19 \t85    \t[ 0.2         3.31290596]    \t[  1.0198039   13.35055642]  \t[ 0.  0.]                    \t[  7.          67.75442126]  \n",
      "20 \t88    \t[ 0.02       1.7466284]      \t[  0.14        12.22639877]  \t[ 0.  0.]                    \t[  1.          87.33141981]  \n",
      "21 \t96    \t[ 0.04        1.69287801]    \t[  0.28        11.85014605]  \t[ 0.  0.]                    \t[  2.          84.64390035]  \n",
      "22 \t94    \t[ 0.04        1.97737282]    \t[  0.28        13.84160973]  \t[ 0.  0.]                    \t[  2.          98.86864094]  \n",
      "23 \t91    \t[ 0.2         3.85912862]    \t[  1.0198039   15.95146178]  \t[ 0.  0.]                    \t[  7.          90.45802176]  \n",
      "24 \t90    \t[ 0.14        5.39599622]    \t[  0.72138755  21.37697748]  \t[ 0.  0.]                    \t[  5.         95.1369712]    \n",
      "25 \t88    \t[ 0.02       1.7466284]      \t[  0.14        12.22639877]  \t[ 0.  0.]                    \t[  1.          87.33141981]  \n",
      "26 \t91    \t[ 0.28        5.42843169]    \t[  1.11427106  21.54698721]  \t[ 0.  0.]                    \t[  5.         95.1369712]    \n",
      "27 \t95    \t[ 0.4         7.51042742]    \t[  1.4832397   25.47965532]  \t[ 0.  0.]                    \t[  8.          95.83122821]  \n",
      "28 \t90    \t[ 0.12       2.2589629]      \t[  0.71105555  13.50047076]  \t[ 0.  0.]                    \t[  5.         95.1369712]    \n",
      "29 \t88    \t[ 0.08        2.15050934]    \t[  0.44        11.17892439]  \t[ 0.  0.]                    \t[  3.          72.45483119]  \n",
      "30 \t91    \t[ 0.18        4.57424698]    \t[  0.88746831  18.73722754]  \t[ 0.  0.]                    \t[  6.          90.90138184]  \n",
      "31 \t91    \t[ 0.18       3.9599322]      \t[  0.88746831  17.76896901]  \t[ 0.  0.]                    \t[  6.          90.90138184]  \n",
      "32 \t88    \t[ 0.06        2.92300365]    \t[  0.31048349  15.22061419]  \t[ 0.  0.]                    \t[  2.          98.86864094]  \n",
      "33 \t86    \t[ 0.54        7.88748189]    \t[  1.78        24.14889505]  \t[ 0.  0.]                    \t[  9.          93.47731607]  \n",
      "34 \t93    \t[ 0.36      5.763884]        \t[  1.42492105  20.25512107]  \t[ 0.  0.]                    \t[  7.          90.45802176]  \n",
      "35 \t85    \t[ 0.22        4.25291675]    \t[  1.06376689  17.35843092]  \t[ 0.  0.]                    \t[  7.          90.45802176]  \n",
      "36 \t95    \t[ 0.54        9.55570597]    \t[  1.61505418  24.60990387]  \t[ 0.  0.]                    \t[  7.          90.45802176]  \n",
      "37 \t87    \t[ 0.06        2.04645856]    \t[  0.31048349  12.0563164 ]  \t[ 0.  0.]                    \t[  2.          84.64390035]  \n",
      "38 \t89    \t[ 0.12        3.59147773]    \t[  0.71105555  17.62708162]  \t[ 0.  0.]                    \t[  5.         95.1369712]    \n",
      "39 \t92    \t[ 0.18       3.0727892]      \t[  0.81706793  14.52719011]  \t[ 0.  0.]                    \t[  5.         95.1369712]    \n",
      "40 \t87    \t[ 0.3         5.78018156]    \t[  1.04403065  20.01457267]  \t[ 0.  0.]                    \t[  5.         95.1369712]    \n",
      "41 \t92    \t[ 0.14        3.50676594]    \t[  0.84876381  17.1917326 ]  \t[ 0.  0.]                    \t[  6.          90.90138184]  \n",
      "42 \t94    \t[ 0.04        1.91949905]    \t[  0.28        13.43649335]  \t[ 0.  0.]                    \t[  2.          95.97495253]  \n",
      "43 \t89    \t[ 0.22        3.40089009]    \t[  1.40413675  16.66130205]  \t[ 0.  0.]                    \t[ 10.          85.60758917]  \n",
      "44 \t89    \t[ 0.38        6.73927944]    \t[  1.30980915  22.88187406]  \t[ 0.  0.]                    \t[  6.          90.90138184]  \n",
      "45 \t92    \t[ 0.4         7.71595544]    \t[  1.3114877   23.81768093]  \t[ 0.  0.]                    \t[  6.          90.90138184]  \n",
      "46 \t93    \t[ 0.12        3.54517033]    \t[  0.71105555  17.36965626]  \t[ 0.  0.]                    \t[  5.          89.92709647]  \n",
      "47 \t96    \t[ 0.04        1.91949905]    \t[  0.28        13.43649335]  \t[ 0.  0.]                    \t[  2.          95.97495253]  \n",
      "48 \t87    \t[ 0.06       2.1529422]      \t[  0.31048349  13.50234999]  \t[ 0.  0.]                    \t[  2.          95.97495253]  \n",
      "49 \t86    \t[ 0.06        2.86512988]    \t[  0.31048349  14.85684167]  \t[ 0.  0.]                    \t[  2.          95.97495253]  \n",
      "50 \t90    \t[ 0.12        5.73025976]    \t[  0.43081318  20.61634183]  \t[ 0.  0.]                    \t[  2.          95.97495253]  \n"
     ]
    },
    {
     "data": {
      "text/plain": [
       "([set(),\n",
       "  {41},\n",
       "  {42},\n",
       "  {41},\n",
       "  set(),\n",
       "  {42},\n",
       "  set(),\n",
       "  set(),\n",
       "  set(),\n",
       "  set(),\n",
       "  set(),\n",
       "  set(),\n",
       "  set(),\n",
       "  set(),\n",
       "  set(),\n",
       "  set(),\n",
       "  set(),\n",
       "  set(),\n",
       "  set(),\n",
       "  set(),\n",
       "  set(),\n",
       "  set(),\n",
       "  set(),\n",
       "  set(),\n",
       "  set(),\n",
       "  set(),\n",
       "  set(),\n",
       "  set(),\n",
       "  set(),\n",
       "  set(),\n",
       "  set(),\n",
       "  set(),\n",
       "  set(),\n",
       "  set(),\n",
       "  set(),\n",
       "  set(),\n",
       "  set(),\n",
       "  set(),\n",
       "  set(),\n",
       "  set(),\n",
       "  set(),\n",
       "  set(),\n",
       "  set(),\n",
       "  set(),\n",
       "  set(),\n",
       "  set(),\n",
       "  set(),\n",
       "  set(),\n",
       "  set(),\n",
       "  set()],\n",
       " <deap.tools.support.Statistics at 0x7f6e600e9cc0>,\n",
       " <deap.tools.support.ParetoFront at 0x7f6e600d1f98>)"
      ]
     },
     "execution_count": 18,
     "metadata": {},
     "output_type": "execute_result"
    }
   ],
   "source": [
    "main()"
   ]
  },
  {
   "cell_type": "code",
   "execution_count": null,
   "metadata": {
    "collapsed": true
   },
   "outputs": [],
   "source": []
  }
 ],
 "metadata": {
  "anaconda-cloud": {},
  "kernelspec": {
   "display_name": "Python [conda root]",
   "language": "python",
   "name": "conda-root-py"
  },
  "language_info": {
   "codemirror_mode": {
    "name": "ipython",
    "version": 3
   },
   "file_extension": ".py",
   "mimetype": "text/x-python",
   "name": "python",
   "nbconvert_exporter": "python",
   "pygments_lexer": "ipython3",
   "version": "3.5.2"
  }
 },
 "nbformat": 4,
 "nbformat_minor": 1
}
