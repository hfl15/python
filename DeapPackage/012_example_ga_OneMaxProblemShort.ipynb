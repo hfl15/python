{
 "cells": [
  {
   "cell_type": "code",
   "execution_count": 20,
   "metadata": {
    "collapsed": true
   },
   "outputs": [],
   "source": [
    "from deap import creator\n",
    "from deap import base\n",
    "from deap import tools\n",
    "from deap import algorithms\n",
    "import random\n",
    "import numpy"
   ]
  },
  {
   "cell_type": "code",
   "execution_count": 21,
   "metadata": {
    "collapsed": true
   },
   "outputs": [],
   "source": [
    "creator.create(\"FitnessMax\", base.Fitness, weights=(1.0,))\n",
    "creator.create(\"Individual\", list, fitness=creator.FitnessMax)"
   ]
  },
  {
   "cell_type": "code",
   "execution_count": 22,
   "metadata": {
    "collapsed": true
   },
   "outputs": [],
   "source": [
    "toolbox = base.Toolbox()\n",
    "toolbox.register(\"attr_bool\", random.randint, 0, 1)\n",
    "toolbox.register(\"individual\", tools.initRepeat, creator.Individual, toolbox.attr_bool, n=100)\n",
    "toolbox.register(\"population\", tools.initRepeat, list, toolbox.individual)"
   ]
  },
  {
   "cell_type": "code",
   "execution_count": 23,
   "metadata": {
    "collapsed": true
   },
   "outputs": [],
   "source": [
    "def evaluate(individual):\n",
    "    return sum(individual),\n",
    "\n",
    "toolbox.register(\"mate\", tools.cxTwoPoint)\n",
    "toolbox.register(\"mutate\", tools.mutFlipBit, indpb=0.05)\n",
    "toolbox.register(\"select\", tools.selTournament, tournsize=3)\n",
    "toolbox.register(\"evaluate\",evaluate)"
   ]
  },
  {
   "cell_type": "code",
   "execution_count": 26,
   "metadata": {
    "collapsed": true
   },
   "outputs": [],
   "source": [
    "def main():\n",
    "    pop = toolbox.population(n=300)\n",
    "    hof = tools.HallOfFame(1)\n",
    "    stats = tools.Statistics(lambda ind: ind.fitness.values)\n",
    "    stats.register(\"avg\", numpy.mean)\n",
    "    stats.register(\"std\", numpy.std)\n",
    "    stats.register(\"min\", numpy.min)\n",
    "    stats.register(\"max\", numpy.max)\n",
    "    \n",
    "    pop, log = algorithms.eaSimple(pop, toolbox, cxpb=0.5, mutpb=0.2, ngen=40,\n",
    "                                  stats = stats, halloffame=hof, verbose=True)"
   ]
  },
  {
   "cell_type": "code",
   "execution_count": 27,
   "metadata": {
    "collapsed": false
   },
   "outputs": [
    {
     "name": "stdout",
     "output_type": "stream",
     "text": [
      "gen\tnevals\tavg  \tstd    \tmin\tmax\n",
      "0  \t300   \t49.94\t5.10455\t37 \t63 \n",
      "1  \t176   \t54.41\t3.68446\t46 \t63 \n",
      "2  \t174   \t57.1767\t3.27904\t49 \t68 \n",
      "3  \t174   \t59.69  \t3.24149\t51 \t73 \n",
      "4  \t174   \t62.25  \t3.5063 \t48 \t76 \n",
      "5  \t196   \t64.5333\t3.68269\t51 \t76 \n",
      "6  \t175   \t67.2267\t3.65266\t57 \t76 \n",
      "7  \t176   \t69.9033\t3.43909\t61 \t80 \n",
      "8  \t182   \t72.43  \t3.12811\t63 \t80 \n",
      "9  \t186   \t74.5267\t2.84885\t62 \t81 \n",
      "10 \t183   \t76.19  \t2.4112 \t69 \t84 \n",
      "11 \t182   \t77.43  \t2.56355\t67 \t84 \n",
      "12 \t194   \t78.7633\t2.63325\t71 \t86 \n",
      "13 \t184   \t80.21  \t2.7177 \t71 \t89 \n",
      "14 \t189   \t81.7933\t2.46386\t73 \t89 \n",
      "15 \t173   \t83.1833\t2.40064\t74 \t90 \n",
      "16 \t193   \t84.1933\t2.49986\t75 \t90 \n",
      "17 \t183   \t85.5033\t2.46644\t77 \t92 \n",
      "18 \t184   \t86.72  \t2.31407\t79 \t91 \n",
      "19 \t192   \t87.8733\t2.48676\t77 \t93 \n",
      "20 \t172   \t89.1   \t2.16718\t81 \t93 \n",
      "21 \t195   \t89.6567\t2.44788\t81 \t94 \n",
      "22 \t180   \t90.4233\t2.46795\t81 \t95 \n",
      "23 \t174   \t91.1467\t2.52952\t81 \t95 \n",
      "24 \t205   \t92.1133\t2.35241\t83 \t96 \n",
      "25 \t178   \t92.9767\t2.16089\t83 \t96 \n",
      "26 \t160   \t93.7433\t2.05202\t85 \t97 \n",
      "27 \t177   \t94.4233\t1.81772\t86 \t97 \n",
      "28 \t181   \t94.7733\t2.01377\t87 \t98 \n",
      "29 \t202   \t95.1433\t2.11883\t86 \t98 \n",
      "30 \t178   \t95.7267\t2.18601\t84 \t98 \n",
      "31 \t183   \t96.0767\t2.39947\t83 \t99 \n",
      "32 \t199   \t96.62  \t2.17767\t88 \t99 \n",
      "33 \t188   \t97.0733\t2.13728\t84 \t99 \n",
      "34 \t187   \t97.13  \t2.25235\t88 \t99 \n",
      "35 \t183   \t97.56  \t2.16019\t88 \t100\n",
      "36 \t186   \t97.7433\t2.27247\t89 \t100\n",
      "37 \t185   \t98.08  \t2.17722\t89 \t100\n",
      "38 \t189   \t98.1367\t2.26524\t89 \t100\n",
      "39 \t185   \t98.15  \t2.26587\t88 \t100\n",
      "40 \t186   \t98.69  \t1.91152\t90 \t100\n"
     ]
    }
   ],
   "source": [
    "main()"
   ]
  },
  {
   "cell_type": "code",
   "execution_count": null,
   "metadata": {
    "collapsed": true
   },
   "outputs": [],
   "source": []
  }
 ],
 "metadata": {
  "kernelspec": {
   "display_name": "Python [conda root]",
   "language": "python",
   "name": "conda-root-py"
  },
  "language_info": {
   "codemirror_mode": {
    "name": "ipython",
    "version": 3
   },
   "file_extension": ".py",
   "mimetype": "text/x-python",
   "name": "python",
   "nbconvert_exporter": "python",
   "pygments_lexer": "ipython3",
   "version": "3.5.2"
  }
 },
 "nbformat": 4,
 "nbformat_minor": 1
}
