{
 "cells": [
  {
   "cell_type": "code",
   "execution_count": 1,
   "metadata": {
    "collapsed": true
   },
   "outputs": [],
   "source": [
    "import random\n",
    "import operator\n",
    "import numpy\n",
    "\n",
    "from deap import algorithms\n",
    "from deap import base\n",
    "from deap import tools\n",
    "from deap import creator\n",
    "from deap import gp"
   ]
  },
  {
   "cell_type": "code",
   "execution_count": 2,
   "metadata": {
    "collapsed": true
   },
   "outputs": [],
   "source": [
    "def if_then_else(condition, out1, out2):\n",
    "    return out1 if condition else out2"
   ]
  },
  {
   "cell_type": "code",
   "execution_count": 7,
   "metadata": {
    "collapsed": true
   },
   "outputs": [],
   "source": [
    "## Initialize Multiplexer problem input and output vectors\n",
    "\n",
    "MUX_SELECT_LINES = 3\n",
    "MUX_IN_LINES = 2 ** MUX_SELECT_LINES\n",
    "MUX_TOTAL_LINES = MUX_SELECT_LINES + MUX_IN_LINES\n",
    "\n",
    "# input: [A0 A1 A2 D0 D1 D2 D3 D4 D5 D6 D7] for a 8-3 mux\n",
    "inputs = [[0] * MUX_TOTAL_LINES for i in range(2 ** MUX_TOTAL_LINES)]\n",
    "outputs = [None] * (2 ** MUX_TOTAL_LINES)\n",
    "\n",
    "for i in range(2 ** MUX_TOTAL_LINES):\n",
    "    value = i\n",
    "    divisor = 2 ** MUX_TOTAL_LINES\n",
    "    # Fill the inputs bits\n",
    "    for j in range(MUX_TOTAL_LINES):\n",
    "        divisor /= 2\n",
    "        if value >= divisor:\n",
    "            inputs[i][j] = 1\n",
    "            value -= divisor\n",
    "    # Determine the corresponding output\n",
    "    indexOutput = MUX_SELECT_LINES\n",
    "    for j, k in enumerate(inputs[i][:MUX_SELECT_LINES]):\n",
    "        indexOutput += k * 2**j\n",
    "    outputs[i] = inputs[i][indexOutput]"
   ]
  },
  {
   "cell_type": "code",
   "execution_count": 8,
   "metadata": {
    "collapsed": true
   },
   "outputs": [],
   "source": [
    "pset = gp.PrimitiveSet(\"MAIN\", MUX_TOTAL_LINES, prefix=\"IN\")\n",
    "pset.addPrimitive(operator.and_, 2)\n",
    "pset.addPrimitive(operator.or_, 2)\n",
    "pset.addPrimitive(operator.not_, 1)\n",
    "pset.addPrimitive(operator.not_, 1)\n",
    "pset.addPrimitive(if_then_else, 3)\n",
    "pset.addTerminal(1)\n",
    "pset.addTerminal(0)"
   ]
  },
  {
   "cell_type": "code",
   "execution_count": 9,
   "metadata": {
    "collapsed": true
   },
   "outputs": [],
   "source": [
    "creator.create(\"FitnessMax\", base.Fitness, weights=(1.0,))\n",
    "creator.create(\"Individual\", gp.PrimitiveTree, fitness=creator.FitnessMax)"
   ]
  },
  {
   "cell_type": "code",
   "execution_count": 11,
   "metadata": {
    "collapsed": true
   },
   "outputs": [],
   "source": [
    "toolbox = base.Toolbox()\n",
    "toolbox.register(\"expr\", gp.genFull, pset=pset, min_=2, max_=4)\n",
    "toolbox.register(\"individual\", tools.initIterate, creator.Individual, toolbox.expr)\n",
    "toolbox.register(\"population\", tools.initRepeat, list, toolbox.individual)\n",
    "toolbox.register(\"compile\", gp.compile, pset=pset)"
   ]
  },
  {
   "cell_type": "code",
   "execution_count": 12,
   "metadata": {
    "collapsed": true
   },
   "outputs": [],
   "source": [
    "def evaluate(individual):\n",
    "    func = toolbox.compile(expr=individual)\n",
    "    return sum(func(*in_) == out for in_, out in zip(inputs, outputs)),"
   ]
  },
  {
   "cell_type": "code",
   "execution_count": 13,
   "metadata": {
    "collapsed": true
   },
   "outputs": [],
   "source": [
    "toolbox.register(\"evaluate\",evaluate)\n",
    "toolbox.register(\"select\", tools.selTournament, tournsize=7)\n",
    "toolbox.register(\"mate\", gp.cxOnePoint)\n",
    "toolbox.register(\"expr_mut\", gp.genGrow, min_=0, max_=2)\n",
    "toolbox.register(\"mutate\", gp.mutUniform, expr=toolbox.expr_mut, pset=pset)"
   ]
  },
  {
   "cell_type": "code",
   "execution_count": 15,
   "metadata": {
    "collapsed": true
   },
   "outputs": [],
   "source": [
    "def main():\n",
    "    pop = toolbox.population(n=40)\n",
    "    hof = tools.HallOfFame(1)\n",
    "    stats = tools.Statistics(lambda ind: ind.fitness.values)\n",
    "    stats.register(\"avg\", numpy.mean)\n",
    "    stats.register(\"std\", numpy.std)\n",
    "    stats.register(\"min\", numpy.min)\n",
    "    stats.register(\"max\", numpy.max)\n",
    "    \n",
    "    algorithms.eaSimple(pop, toolbox, cxpb=0.8, mutpb=0.1, ngen=40, stats=stats, halloffame=hof, verbose=True)\n",
    "    \n",
    "    return pop, stats, hof\n"
   ]
  },
  {
   "cell_type": "code",
   "execution_count": 16,
   "metadata": {
    "collapsed": false
   },
   "outputs": [
    {
     "name": "stdout",
     "output_type": "stream",
     "text": [
      "gen\tnevals\tavg   \tstd    \tmin\tmax \n",
      "0  \t40    \t1038.6\t70.0146\t896\t1184\n",
      "1  \t34    \t1086.6\t85.3583\t896\t1184\n",
      "2  \t28    \t1151  \t56.0054\t896\t1216\n",
      "3  \t33    \t1161.6\t35.9199\t1056\t1216\n",
      "4  \t34    \t1176  \t33.6095\t1024\t1216\n",
      "5  \t30    \t1171  \t52.9358\t928 \t1216\n",
      "6  \t36    \t1195.6\t31.9975\t1088\t1280\n",
      "7  \t29    \t1204  \t50.4381\t1024\t1280\n",
      "8  \t34    \t1217.6\t55.4025\t1088\t1280\n",
      "9  \t37    \t1235.2\t51.9938\t1152\t1280\n",
      "10 \t26    \t1238.4\t65.2674\t1024\t1280\n",
      "11 \t38    \t1229.6\t58.0813\t1120\t1280\n",
      "12 \t32    \t1228  \t70.722 \t1024\t1312\n",
      "13 \t37    \t1229.6\t57.193 \t1024\t1312\n",
      "14 \t37    \t1232.4\t54.0799\t1152\t1296\n",
      "15 \t37    \t1239.2\t54.1346\t1152\t1296\n",
      "16 \t34    \t1254.4\t66.4337\t1056\t1312\n",
      "17 \t35    \t1266.8\t49.6564\t1096\t1312\n",
      "18 \t29    \t1288.8\t36.4768\t1168\t1344\n",
      "19 \t26    \t1289  \t44.0068\t1152\t1344\n",
      "20 \t30    \t1297.2\t54.6567\t1152\t1344\n",
      "21 \t36    \t1299.2\t60.3138\t1152\t1344\n",
      "22 \t34    \t1303  \t61.0623\t1024\t1344\n",
      "23 \t37    \t1312.8\t49.1789\t1152\t1360\n",
      "24 \t32    \t1330.6\t42.0433\t1152\t1376\n",
      "25 \t32    \t1341.6\t40.7215\t1216\t1424\n",
      "26 \t27    \t1337.4\t63.2174\t1088\t1440\n",
      "27 \t33    \t1364.2\t58.3229\t1152\t1440\n",
      "28 \t38    \t1386.6\t58.114 \t1216\t1440\n",
      "29 \t30    \t1390.4\t77.2155\t1088\t1440\n",
      "30 \t32    \t1394  \t95.9458\t1088\t1472\n",
      "31 \t32    \t1414.4\t58.1089\t1216\t1472\n",
      "32 \t31    \t1410.4\t69.3328\t1248\t1472\n",
      "33 \t38    \t1419.2\t91.0174\t1152\t1472\n",
      "34 \t31    \t1447.6\t55.0767\t1216\t1472\n",
      "35 \t33    \t1440.8\t63.8949\t1216\t1472\n",
      "36 \t34    \t1436.2\t61.5009\t1280\t1472\n",
      "37 \t37    \t1436  \t79.3373\t1152\t1472\n",
      "38 \t35    \t1435.6\t60.185 \t1216\t1472\n",
      "39 \t37    \t1450.8\t64.5117\t1088\t1472\n",
      "40 \t35    \t1441.2\t69.7779\t1184\t1488\n"
     ]
    }
   ],
   "source": [
    "pop, stats, hof = main()"
   ]
  },
  {
   "cell_type": "code",
   "execution_count": null,
   "metadata": {
    "collapsed": true
   },
   "outputs": [],
   "source": []
  }
 ],
 "metadata": {
  "kernelspec": {
   "display_name": "Python [conda root]",
   "language": "python",
   "name": "conda-root-py"
  },
  "language_info": {
   "codemirror_mode": {
    "name": "ipython",
    "version": 3
   },
   "file_extension": ".py",
   "mimetype": "text/x-python",
   "name": "python",
   "nbconvert_exporter": "python",
   "pygments_lexer": "ipython3",
   "version": "3.5.2"
  }
 },
 "nbformat": 4,
 "nbformat_minor": 1
}
