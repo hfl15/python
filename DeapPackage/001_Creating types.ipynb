{
 "cells": [
  {
   "cell_type": "markdown",
   "metadata": {},
   "source": [
    "## Creating types"
   ]
  },
  {
   "cell_type": "code",
   "execution_count": 82,
   "metadata": {
    "collapsed": true
   },
   "outputs": [],
   "source": [
    "from deap import base\n",
    "from deap import creator\n",
    "from deap import tools\n",
    "import random"
   ]
  },
  {
   "cell_type": "markdown",
   "metadata": {},
   "source": [
    "### Fitness"
   ]
  },
  {
   "cell_type": "code",
   "execution_count": 83,
   "metadata": {
    "collapsed": false
   },
   "outputs": [],
   "source": [
    "creator.create(\"FitnessMin\", base.Fitness, weights=(-1.0,))\n",
    "creator.create(\"FintnessMulti\", base.Fitness, weights=(1.0,1.0))"
   ]
  },
  {
   "cell_type": "markdown",
   "metadata": {},
   "source": [
    "### Individual"
   ]
  },
  {
   "cell_type": "markdown",
   "metadata": {},
   "source": [
    "### List of floats"
   ]
  },
  {
   "cell_type": "code",
   "execution_count": 84,
   "metadata": {
    "collapsed": false
   },
   "outputs": [
    {
     "data": {
      "text/plain": [
       "[0.1408536133903745,\n",
       " 0.47997410990090683,\n",
       " 0.42647841306593126,\n",
       " 0.4752417511262794,\n",
       " 0.43075507963588855,\n",
       " 0.2335917983662128,\n",
       " 0.8423490796390783,\n",
       " 0.29888801885748284,\n",
       " 0.27361722107599984,\n",
       " 0.8716716283450413]"
      ]
     },
     "execution_count": 84,
     "metadata": {},
     "output_type": "execute_result"
    }
   ],
   "source": [
    "from deap import base\n",
    "from deap import creator\n",
    "from deap import tools\n",
    "import random\n",
    "\n",
    "creator.create(\"FitnessMax\", base.Fitness, weights=(1.0,))\n",
    "creator.create(\"Individual\", list, fitness=creator.FitnessMax)\n",
    "\n",
    "IND_SIZE = 10\n",
    "\n",
    "toolbox = base.Toolbox()\n",
    "toolbox.register(\"attr_float\", random.random)\n",
    "toolbox.register(\"individual\", tools.initRepeat, creator.Individual, toolbox.attr_float, n=IND_SIZE)\n",
    "toolbox.individual()"
   ]
  },
  {
   "cell_type": "markdown",
   "metadata": {},
   "source": [
    "### Permutation"
   ]
  },
  {
   "cell_type": "code",
   "execution_count": 13,
   "metadata": {
    "collapsed": false
   },
   "outputs": [
    {
     "data": {
      "text/plain": [
       "[7, 3, 0, 6, 8, 2, 9, 5, 1, 4]"
      ]
     },
     "execution_count": 13,
     "metadata": {},
     "output_type": "execute_result"
    }
   ],
   "source": [
    "from deap import base\n",
    "from deap import creator\n",
    "from deap import tools\n",
    "import random\n",
    "\n",
    "creator.create(\"FitnessMax\", base.Fitness, weights=(1.0,))\n",
    "creator.create(\"Individual\", list, fitness=creator.FitnessMax)\n",
    "\n",
    "IND_SIZE = 10\n",
    "\n",
    "toolbox = base.Toolbox()\n",
    "toolbox.register(\"indices\", random.sample, range(IND_SIZE), IND_SIZE)\n",
    "toolbox.register(\"individual\", tools.initIterate, creator.Individual, toolbox.indices)\n",
    "toolbox.individual()"
   ]
  },
  {
   "cell_type": "code",
   "execution_count": 19,
   "metadata": {
    "collapsed": false
   },
   "outputs": [
    {
     "name": "stdout",
     "output_type": "stream",
     "text": [
      "the result of tools.initIterate\n",
      "[2, 5, 6, 9, 4, 0, 8, 7, 3, 1]\n",
      "the result of tools.initRepeat\n",
      "[[1, 6, 9, 8, 4, 2, 7, 0, 3, 5]]\n"
     ]
    }
   ],
   "source": [
    "# tools.initIterate vs tools.initRepeat\n",
    "toolbox.register(\"individual\", tools.initIterate, creator.Individual, toolbox.indices)\n",
    "print(\"the result of tools.initIterate\")\n",
    "print(toolbox.individual())\n",
    "\n",
    "toolbox.register(\"individual\", tools.initRepeat, creator.Individual, toolbox.indices)\n",
    "print(\"the result of tools.initRepeat\")\n",
    "print(toolbox.individual(1)) "
   ]
  },
  {
   "cell_type": "markdown",
   "metadata": {},
   "source": [
    "### Arithmetic Expression"
   ]
  },
  {
   "cell_type": "code",
   "execution_count": 29,
   "metadata": {
    "collapsed": false
   },
   "outputs": [
    {
     "data": {
      "text/plain": [
       "[<deap.gp.Primitive at 0x7facfc631548>,\n",
       " <deap.gp.Primitive at 0x7facfc6313b8>,\n",
       " <deap.gp.Terminal at 0x7facfc6296c0>,\n",
       " <deap.gp.Terminal at 0x7facfc6296c0>]"
      ]
     },
     "execution_count": 29,
     "metadata": {},
     "output_type": "execute_result"
    }
   ],
   "source": [
    "from deap import base\n",
    "from deap import creator\n",
    "from deap import tools\n",
    "from deap import gp\n",
    "\n",
    "import random\n",
    "import operator\n",
    "\n",
    "pset = gp.PrimitiveSet(\"MAIN\", arity=1) # set name is called 'MAIN' and has a single variable \n",
    "pset.addPrimitive(operator.add, 2)\n",
    "pset.addPrimitive(operator.sub, 2)\n",
    "pset.addPrimitive(operator.mul, 2)\n",
    "pset.addPrimitive(min, 1)\n",
    "\n",
    "creator.create(\"FitnessMax\", base.Fitness, weights=(1.0,))\n",
    "creator.create(\"Individual\", gp.PrimitiveTree, fitness=creator.FitnessMax, pset=pset)\n",
    "\n",
    "toolbox = base.Toolbox()\n",
    "toolbox.register(\"expr\", gp.genHalfAndHalf, pset=pset, min_=1, max_=2)\n",
    "toolbox.register(\"individual\", tools.initIterate, creator.Individual, toolbox.expr)\n",
    "toolbox.individual()"
   ]
  },
  {
   "cell_type": "markdown",
   "metadata": {},
   "source": [
    "### Evolution strategy"
   ]
  },
  {
   "cell_type": "code",
   "execution_count": 38,
   "metadata": {
    "collapsed": false
   },
   "outputs": [
    {
     "data": {
      "text/plain": [
       "array('d', [-3.0188333498739492, -0.9183442448425652, -4.586506613508364, -1.7511170302623356, 0.983799857371018, 4.0660482018453195, 4.2051362432510135, 3.4442391167646544, 0.2854191425550878, -2.0217883855445096])"
      ]
     },
     "execution_count": 38,
     "metadata": {},
     "output_type": "execute_result"
    }
   ],
   "source": [
    "from deap import base\n",
    "from deap import creator\n",
    "from deap import tools\n",
    "\n",
    "import array\n",
    "import random\n",
    "\n",
    "creator.create(\"FitnessMax\", base.Fitness, weights=(1.0,))\n",
    "creator.create(\"Individual\", array.array, typecode='d', fitness=creator.FitnessMax, strategy=None)\n",
    "creator.create(\"Strategy\", array.array, typecode='d')\n",
    "\n",
    "def initEs(icls, scls, size, imin, imax, smin, smax):\n",
    "    ind = icls(random.uniform(imin,imax) for _ in range(size))\n",
    "    ind.strategy = scls(random.uniform(smin,smax) for _ in range(size))\n",
    "    return ind\n",
    "\n",
    "IND_SIZE = 10\n",
    "MIN_VALUE, MAX_VALUE = -5., 5.\n",
    "MIN_STRAT, MAX_STRAT = -1., 1.\n",
    "\n",
    "toolbox = base.Toolbox()\n",
    "toolbox.register(\"individual\", initEs, \n",
    "                creator.Individual, creator.Strategy,\n",
    "                IND_SIZE, MIN_VALUE, MAX_VALUE,\n",
    "                MIN_STRAT, MAX_STRAT)\n",
    "\n",
    "toolbox.individual()"
   ]
  },
  {
   "cell_type": "markdown",
   "metadata": {},
   "source": [
    "### Particle"
   ]
  },
  {
   "cell_type": "code",
   "execution_count": 73,
   "metadata": {
    "collapsed": false
   },
   "outputs": [
    {
     "data": {
      "text/plain": [
       "[4.104576378209526, 1.7024630623752275]"
      ]
     },
     "execution_count": 73,
     "metadata": {},
     "output_type": "execute_result"
    }
   ],
   "source": [
    "# A particle is another special type of individual as it usually has a speed and generally remember its best position.\n",
    "\n",
    "from deap import base\n",
    "from deap import creator\n",
    "from deap import tools\n",
    "\n",
    "import random\n",
    "\n",
    "creator.create(\"FitnessMax\", base.Fitness, weights=(1.0,))\n",
    "creator.create(\"Particle\", list, fitness=creator.FitnessMax, speed=None,\n",
    "               smin=None, smax=None, best=None)\n",
    "\n",
    "def initParticle(pcls, size, pmin, pmax, smin, smax):\n",
    "    part = pcls(random.uniform(pmin, pmax) for _ in range(size))\n",
    "    part.speed = [random.uniform(smin, smax) for _ in range(size)]\n",
    "    part.smin = smin\n",
    "    part.smax = smax\n",
    "    return part\n",
    "\n",
    "toolbox = base.Toolbox()\n",
    "toolbox.register(\"particle\", initParticle, creator.Particle, size=2,\n",
    "                 pmin=-6, pmax=6, smin=-3, smax=3)\n",
    "toolbox.particle()"
   ]
  },
  {
   "cell_type": "markdown",
   "metadata": {},
   "source": [
    "### A Funky One"
   ]
  },
  {
   "cell_type": "code",
   "execution_count": 78,
   "metadata": {
    "collapsed": false
   },
   "outputs": [
    {
     "data": {
      "text/plain": [
       "[7,\n",
       " 0.15532796403813948,\n",
       " 10,\n",
       " 0.723601002264451,\n",
       " 6,\n",
       " -0.013718095312811374,\n",
       " 10,\n",
       " 0.1247750815069853]"
      ]
     },
     "execution_count": 78,
     "metadata": {},
     "output_type": "execute_result"
    }
   ],
   "source": [
    "from deap import base\n",
    "from deap import creator\n",
    "from deap import tools\n",
    "\n",
    "import random\n",
    "\n",
    "creator.create(\"FitnessMax\", base.Fitness, weights=(1.0,))\n",
    "creator.create(\"Individual\", list, fitness=creator.FitnessMax)\n",
    "\n",
    "toolbox = base.Toolbox()\n",
    "\n",
    "INT_MIN, INT_MAX = 5, 10\n",
    "FLT_MIN, FLT_MAX = -0.2, 0.8\n",
    "N_CYCLES = 4\n",
    "\n",
    "toolbox.register(\"attr_int\", random.randint, INT_MIN, INT_MAX)\n",
    "toolbox.register(\"attr_flt\", random.uniform, FLT_MIN, FLT_MAX)\n",
    "toolbox.register(\"individual\", tools.initCycle, creator.Individual, \n",
    "                 (toolbox.attr_int, toolbox.attr_flt), n=N_CYCLES)\n",
    "toolbox.individual()"
   ]
  },
  {
   "cell_type": "markdown",
   "metadata": {},
   "source": [
    "### Population"
   ]
  },
  {
   "cell_type": "markdown",
   "metadata": {},
   "source": [
    "Population are much like individuals. Instead of being initialized with attributes, they are filled with \n",
    "individuals, strategies, or particles."
   ]
  },
  {
   "cell_type": "code",
   "execution_count": 79,
   "metadata": {
    "collapsed": false
   },
   "outputs": [],
   "source": [
    "## Bag\n",
    "toolbox.register(\"population\", tools.initRepeat, list, toolbox.individual)\n",
    "toolbox.population(n=2)\n",
    "\n",
    "## Grid\n",
    "N_COL = 2\n",
    "N_ROW = 2\n",
    "toolbox.register(\"row\", tools.initRepeat, list, toolbox.individual, n=N_COL)\n",
    "toolbox.register(\"population\", tools.initRepeat, list, toolbox.row, n=N_ROW)\n",
    "toolbox.population()\n",
    "\n",
    "## Swarm\n",
    "creator.create(\"Swarm\", list, gbest=None, gbestfit=creator.FitnessMax)\n",
    "toolbox.register(\"swarm\", tools.initRepeat, creator.Swarm, toolbox.particle)\n",
    "\n",
    "## Demes\n",
    "toolbox.register(\"deme\", tools.initRepeat, list, toolbox.individual)\n",
    "\n",
    "DEME_SIZE = 10, 50, 100\n",
    "population = [toolbox.deme(n=i) for i in DEME_SIZE]"
   ]
  },
  {
   "cell_type": "markdown",
   "metadata": {},
   "source": [
    "### Seeding a population"
   ]
  },
  {
   "cell_type": "code",
   "execution_count": null,
   "metadata": {
    "collapsed": true
   },
   "outputs": [],
   "source": [
    "import json\n",
    "\n",
    "from deap import base\n",
    "from deap import creator\n",
    "\n",
    "creator.create(\"FitnessMax\", base.Fitness, weights=(1.0, 1.0))\n",
    "creator.create(\"Individual\", list, fitness=creator.FitnessMax)\n",
    "\n",
    "def initIndividual(icls, content):\n",
    "    return icls(content)\n",
    "\n",
    "def initPopulation(pcls, ind_init, filename):\n",
    "    with open(filename, \"r\") as pop_file:\n",
    "        contents = json.load(pop_file)\n",
    "    return pcls(ind_init(c) for c in contents)\n",
    "\n",
    "toolbox = base.Toolbox()\n",
    "\n",
    "toolbox.register(\"individual_guess\", initIndividual, creator.Individual)\n",
    "toolbox.register(\"population_guess\", initPopulation, list, toolbox.individual_guess, \"my_guess.json\")\n",
    "\n",
    "population = toolbox.population_guess()"
   ]
  }
 ],
 "metadata": {
  "kernelspec": {
   "display_name": "Python [conda root]",
   "language": "python",
   "name": "conda-root-py"
  },
  "language_info": {
   "codemirror_mode": {
    "name": "ipython",
    "version": 3
   },
   "file_extension": ".py",
   "mimetype": "text/x-python",
   "name": "python",
   "nbconvert_exporter": "python",
   "pygments_lexer": "ipython3",
   "version": "3.5.2"
  }
 },
 "nbformat": 4,
 "nbformat_minor": 1
}
