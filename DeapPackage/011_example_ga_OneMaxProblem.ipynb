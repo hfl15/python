{
 "cells": [
  {
   "cell_type": "markdown",
   "metadata": {},
   "source": [
    "# One Max Problem"
   ]
  },
  {
   "cell_type": "code",
   "execution_count": 1,
   "metadata": {
    "collapsed": true
   },
   "outputs": [],
   "source": [
    "from deap import base\n",
    "from deap import creator\n",
    "from deap import tools\n",
    "import random"
   ]
  },
  {
   "cell_type": "code",
   "execution_count": 2,
   "metadata": {
    "collapsed": true
   },
   "outputs": [],
   "source": [
    "creator.create(\"FitnessMax\", base.Fitness, weights=(1.0,))\n",
    "creator.create(\"Individual\", list, fitness=creator.FitnessMax)"
   ]
  },
  {
   "cell_type": "code",
   "execution_count": 4,
   "metadata": {
    "collapsed": false
   },
   "outputs": [],
   "source": [
    "toolbox = base.Toolbox()\n",
    "toolbox.register(\"attr_bool\", random.randint, 0, 1) # generator\n",
    "toolbox.register(\"individual\", tools.initRepeat, creator.Individual, toolbox.attr_bool,100)\n",
    "toolbox.register(\"population\", tools.initRepeat, list, toolbox.individual)"
   ]
  },
  {
   "cell_type": "code",
   "execution_count": 6,
   "metadata": {
    "collapsed": true
   },
   "outputs": [],
   "source": [
    "def evaluate(individual):\n",
    "    return sum(individual),"
   ]
  },
  {
   "cell_type": "code",
   "execution_count": 12,
   "metadata": {
    "collapsed": true
   },
   "outputs": [],
   "source": [
    "toolbox.register(\"mate\", tools.cxTwoPoint)\n",
    "toolbox.register(\"mutate\", tools.mutFlipBit, indpb=0.05)\n",
    "toolbox.register(\"select\", tools.selTournament, tournsize=3)\n",
    "toolbox.register(\"evaluate\", evaluate)"
   ]
  },
  {
   "cell_type": "code",
   "execution_count": 15,
   "metadata": {
    "collapsed": true
   },
   "outputs": [],
   "source": [
    "NGEN = 10\n",
    "CXPB = 0.5\n",
    "MUTPB = 0.5\n",
    "def main():\n",
    "    pop = toolbox.population(n=300)\n",
    "    \n",
    "    fitness = map(toolbox.evaluate, pop)\n",
    "    for ind,fit in zip(pop, fitness):\n",
    "        ind.fitness.values = fit\n",
    "    \n",
    "    for g in range(NGEN):\n",
    "        print(\"---Generation {} --\".format(g))\n",
    "        # select\n",
    "        offspring = toolbox.select(pop,len(pop))\n",
    "        # Clone\n",
    "        offspring = list(map(toolbox.clone, offspring))\n",
    "        # crossover\n",
    "        for child1, child2 in zip(offspring[::2], offspring[1::2]):\n",
    "            if random.random() < CXPB:\n",
    "                toolbox.mate(child1, child2)\n",
    "                del child1.fitness.values\n",
    "                del child2.fitness.values\n",
    "        # mutation\n",
    "        for mutant in offspring:\n",
    "            if random.random() < MUTPB:\n",
    "                toolbox.mutate(mutant)\n",
    "                del mutant.fitness.values\n",
    "        \n",
    "        # re-evaluation\n",
    "        invalid_ind = [ind for ind in offspring if not ind.fitness.valid]\n",
    "        fitness = map(toolbox.evaluate, invalid_ind)\n",
    "        for ind, fit in zip(invalid_ind, fitness):\n",
    "            ind.fitness.values = fit\n",
    "        \n",
    "        pop[:] = offspring\n",
    "        \n",
    "        # stats\n",
    "        fits = [ind.fitness.values[0] for ind in pop]\n",
    "        \n",
    "        length = len(pop)\n",
    "        mean = sum(fits) / length\n",
    "        sum2 = sum(x*x for x in fits)\n",
    "        std = abs(sum2 / length - mean**2)**0.5\n",
    "        \n",
    "        print(\"Min {}\".format(min(fits)))\n",
    "        print(\"Max {}\".format(max(fits)))\n",
    "        print(\"Avg {}\".format(mean))\n",
    "        print(\"Std {}\".format(std))"
   ]
  },
  {
   "cell_type": "code",
   "execution_count": 16,
   "metadata": {
    "collapsed": false
   },
   "outputs": [
    {
     "name": "stdout",
     "output_type": "stream",
     "text": [
      "---Generation 0 --\n",
      "Min 42.0\n",
      "Max 68.0\n",
      "Avg 54.39333333333333\n",
      "Std 4.228311982602806\n",
      "---Generation 1 --\n",
      "Min 46.0\n",
      "Max 67.0\n",
      "Avg 57.61333333333334\n",
      "Std 3.8110132802473875\n",
      "---Generation 2 --\n",
      "Min 51.0\n",
      "Max 72.0\n",
      "Avg 61.0\n",
      "Std 3.350621832834386\n",
      "---Generation 3 --\n",
      "Min 52.0\n",
      "Max 73.0\n",
      "Avg 63.14333333333333\n",
      "Std 3.324072134529582\n",
      "---Generation 4 --\n",
      "Min 54.0\n",
      "Max 75.0\n",
      "Avg 64.92\n",
      "Std 3.2721450660587967\n",
      "---Generation 5 --\n",
      "Min 50.0\n",
      "Max 76.0\n",
      "Avg 66.43333333333334\n",
      "Std 3.6804287189885145\n",
      "---Generation 6 --\n",
      "Min 58.0\n",
      "Max 76.0\n",
      "Avg 68.28666666666666\n",
      "Std 3.3671682794631326\n",
      "---Generation 7 --\n",
      "Min 59.0\n",
      "Max 77.0\n",
      "Avg 70.08666666666667\n",
      "Std 3.019793959122899\n",
      "---Generation 8 --\n",
      "Min 63.0\n",
      "Max 80.0\n",
      "Avg 71.41333333333333\n",
      "Std 3.10201368289859\n",
      "---Generation 9 --\n",
      "Min 65.0\n",
      "Max 81.0\n",
      "Avg 72.77666666666667\n",
      "Std 3.0681355177949228\n"
     ]
    }
   ],
   "source": [
    "main()"
   ]
  },
  {
   "cell_type": "code",
   "execution_count": null,
   "metadata": {
    "collapsed": true
   },
   "outputs": [],
   "source": []
  }
 ],
 "metadata": {
  "kernelspec": {
   "display_name": "Python [conda root]",
   "language": "python",
   "name": "conda-root-py"
  },
  "language_info": {
   "codemirror_mode": {
    "name": "ipython",
    "version": 3
   },
   "file_extension": ".py",
   "mimetype": "text/x-python",
   "name": "python",
   "nbconvert_exporter": "python",
   "pygments_lexer": "ipython3",
   "version": "3.5.2"
  }
 },
 "nbformat": 4,
 "nbformat_minor": 1
}
