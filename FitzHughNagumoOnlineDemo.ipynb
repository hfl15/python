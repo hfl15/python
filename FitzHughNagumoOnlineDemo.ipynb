{
 "cells": [
  {
   "cell_type": "markdown",
   "metadata": {},
   "source": [
    "$$\n",
    "\\dot{v_i} = v_i - \\dfrac{v_i^3}{3} - w_i + I_i + D\\sum\\limits_{i,j} A_{ij} (v_j - v_i)  \\\\\n",
    "\\tau \\dot{w_i} = v_i + a - b w_i\n",
    "$$"
   ]
  },
  {
   "cell_type": "code",
   "execution_count": 1,
   "metadata": {
    "collapsed": false
   },
   "outputs": [],
   "source": [
    "from __future__ import print_function"
   ]
  },
  {
   "cell_type": "code",
   "execution_count": 2,
   "metadata": {
    "collapsed": false
   },
   "outputs": [
    {
     "name": "stderr",
     "output_type": "stream",
     "text": [
      "/home/happyling/anaconda3/lib/python3.5/site-packages/ipykernel/__main__.py:16: VisibleDeprecationWarning: using a non-integer number instead of an integer will result in an error in the future\n",
      "/home/happyling/anaconda3/lib/python3.5/site-packages/ipykernel/__main__.py:19: VisibleDeprecationWarning: using a non-integer number instead of an integer will result in an error in the future\n",
      "/home/happyling/anaconda3/lib/python3.5/site-packages/ipykernel/__main__.py:20: VisibleDeprecationWarning: using a non-integer number instead of an integer will result in an error in the future\n"
     ]
    }
   ],
   "source": [
    "import numpy as np\n",
    "import random\n",
    "seed = 42\n",
    "random.seed(seed)\n",
    "np.random.seed(seed)\n",
    "from scipy.integrate import odeint\n",
    "\n",
    "def ring(N):\n",
    "    A = np.diag(np.ones(N-1), 1) + np.diag(np.ones(N-1), -1)\n",
    "    A[0, -1] = 1\n",
    "    A[-1, 0] = 1\n",
    "    return A\n",
    "\n",
    "def fitzhugh_nagumo(state, t, A, D, a, b, eps):\n",
    "    N = len(state)/2\n",
    "    x, y = state.reshape(2, N)\n",
    "    coupling = np.array([[j-i for j in x] for i in x])\n",
    "    coupling = np.sum(A*coupling, axis=1)\n",
    "    I = np.zeros(N)\n",
    "    I[N/2-1: N/2+1] = 5.0 if 0.5*t % 1 < 0.2 and t < 40 else 0\n",
    "    dx = x - x**3/3.0 - y + D*coupling + I\n",
    "    dy = (x + a - b*y)*eps\n",
    "    return np.hstack([dx, dy])\n",
    "\n",
    "N = 200\n",
    "state0 = np.zeros(2*N)\n",
    "state0[:N] = -1.5\n",
    "t = np.linspace(0, 150, 1500)\n",
    "D, a, b, eps = 1, 0.7, 0.8, 1/12.5\n",
    "A = ring(N)\n",
    "args = (A, D, a, b, eps)\n",
    "res = odeint(fitzhugh_nagumo, state0, t, args=args)\n",
    "res_ani = res[:, :]     # for animation\n",
    "res = res[400:, :]      # cut off the initial pumping phase"
   ]
  },
  {
   "cell_type": "code",
   "execution_count": 3,
   "metadata": {
    "collapsed": true
   },
   "outputs": [],
   "source": [
    "# http://jakevdp.github.io/blog/2013/05/12/embedding-matplotlib-animations/\n",
    "from tempfile import NamedTemporaryFile\n",
    "from IPython.display import HTML\n",
    "import matplotlib.animation as animation\n",
    "\n",
    "def anim_to_html(anim):\n",
    "    \n",
    "    VIDEO_TAG = \"\"\"<video controls>\n",
    "    <source src=\"data:video/x-m4v;base64,{0}\" type=\"video/mp4\">\n",
    "    Your browser does not support the video tag.\n",
    "    </video>\"\"\"\n",
    "    \n",
    "    if not hasattr(anim, '_encoded_video'):\n",
    "        with NamedTemporaryFile(suffix='.mp4') as f:\n",
    "            anim.save(f.name, fps=20, extra_args=['-vcodec', 'libx264'])\n",
    "            video = open(f.name, \"rb\").read()\n",
    "        anim._encoded_video = video.encode(\"base64\")\n",
    "    \n",
    "    return VIDEO_TAG.format(anim._encoded_video)\n",
    "\n",
    "def display_animation(anim):\n",
    "    plt.close(anim._fig)\n",
    "    return HTML(anim_to_html(anim))\n",
    "\n"
   ]
  },
  {
   "cell_type": "code",
   "execution_count": 4,
   "metadata": {
    "collapsed": false
   },
   "outputs": [
    {
     "name": "stderr",
     "output_type": "stream",
     "text": [
      "/home/happyling/anaconda3/lib/python3.5/site-packages/matplotlib/animation.py:784: UserWarning: MovieWriter ffmpeg unavailable\n",
      "  warnings.warn(\"MovieWriter %s unavailable\" % writer)\n"
     ]
    },
    {
     "ename": "ValueError",
     "evalue": "Cannot save animation: no writers are available. Please install mencoder or ffmpeg to save animations.",
     "output_type": "error",
     "traceback": [
      "\u001b[0;31m---------------------------------------------------------------------------\u001b[0m",
      "\u001b[0;31mIndexError\u001b[0m                                Traceback (most recent call last)",
      "\u001b[0;32m/home/happyling/anaconda3/lib/python3.5/site-packages/matplotlib/animation.py\u001b[0m in \u001b[0;36msave\u001b[0;34m(self, filename, writer, fps, dpi, codec, bitrate, extra_args, metadata, extra_anim, savefig_kwargs)\u001b[0m\n\u001b[1;32m    786\u001b[0m                 \u001b[0;32mtry\u001b[0m\u001b[0;34m:\u001b[0m\u001b[0;34m\u001b[0m\u001b[0m\n\u001b[0;32m--> 787\u001b[0;31m                     writer = writers[writers.list()[0]](fps, codec, bitrate,\n\u001b[0m\u001b[1;32m    788\u001b[0m                                                         \u001b[0mextra_args\u001b[0m\u001b[0;34m=\u001b[0m\u001b[0mextra_args\u001b[0m\u001b[0;34m,\u001b[0m\u001b[0;34m\u001b[0m\u001b[0m\n",
      "\u001b[0;31mIndexError\u001b[0m: list index out of range",
      "\nDuring handling of the above exception, another exception occurred:\n",
      "\u001b[0;31mValueError\u001b[0m                                Traceback (most recent call last)",
      "\u001b[0;32m<ipython-input-4-86993280627e>\u001b[0m in \u001b[0;36m<module>\u001b[0;34m()\u001b[0m\n\u001b[1;32m     24\u001b[0m \u001b[0;34m\u001b[0m\u001b[0m\n\u001b[1;32m     25\u001b[0m \u001b[0mani\u001b[0m \u001b[0;34m=\u001b[0m \u001b[0manimation\u001b[0m\u001b[0;34m.\u001b[0m\u001b[0mFuncAnimation\u001b[0m\u001b[0;34m(\u001b[0m\u001b[0mfig\u001b[0m\u001b[0;34m,\u001b[0m \u001b[0manimate\u001b[0m\u001b[0;34m,\u001b[0m \u001b[0minit_func\u001b[0m\u001b[0;34m=\u001b[0m\u001b[0minit\u001b[0m\u001b[0;34m,\u001b[0m \u001b[0mframes\u001b[0m\u001b[0;34m=\u001b[0m\u001b[0mres_ani\u001b[0m\u001b[0;34m.\u001b[0m\u001b[0mshape\u001b[0m\u001b[0;34m[\u001b[0m\u001b[0;36m0\u001b[0m\u001b[0;34m]\u001b[0m\u001b[0;34m,\u001b[0m \u001b[0minterval\u001b[0m\u001b[0;34m=\u001b[0m\u001b[0;36m15\u001b[0m\u001b[0;34m,\u001b[0m \u001b[0mblit\u001b[0m\u001b[0;34m=\u001b[0m\u001b[0;32mTrue\u001b[0m\u001b[0;34m)\u001b[0m\u001b[0;34m\u001b[0m\u001b[0m\n\u001b[0;32m---> 26\u001b[0;31m \u001b[0mdisplay_animation\u001b[0m\u001b[0;34m(\u001b[0m\u001b[0mani\u001b[0m\u001b[0;34m)\u001b[0m\u001b[0;34m\u001b[0m\u001b[0m\n\u001b[0m",
      "\u001b[0;32m<ipython-input-3-c883ff74d92c>\u001b[0m in \u001b[0;36mdisplay_animation\u001b[0;34m(anim)\u001b[0m\n\u001b[1;32m     21\u001b[0m \u001b[0;32mdef\u001b[0m \u001b[0mdisplay_animation\u001b[0m\u001b[0;34m(\u001b[0m\u001b[0manim\u001b[0m\u001b[0;34m)\u001b[0m\u001b[0;34m:\u001b[0m\u001b[0;34m\u001b[0m\u001b[0m\n\u001b[1;32m     22\u001b[0m     \u001b[0mplt\u001b[0m\u001b[0;34m.\u001b[0m\u001b[0mclose\u001b[0m\u001b[0;34m(\u001b[0m\u001b[0manim\u001b[0m\u001b[0;34m.\u001b[0m\u001b[0m_fig\u001b[0m\u001b[0;34m)\u001b[0m\u001b[0;34m\u001b[0m\u001b[0m\n\u001b[0;32m---> 23\u001b[0;31m     \u001b[0;32mreturn\u001b[0m \u001b[0mHTML\u001b[0m\u001b[0;34m(\u001b[0m\u001b[0manim_to_html\u001b[0m\u001b[0;34m(\u001b[0m\u001b[0manim\u001b[0m\u001b[0;34m)\u001b[0m\u001b[0;34m)\u001b[0m\u001b[0;34m\u001b[0m\u001b[0m\n\u001b[0m\u001b[1;32m     24\u001b[0m \u001b[0;34m\u001b[0m\u001b[0m\n",
      "\u001b[0;32m<ipython-input-3-c883ff74d92c>\u001b[0m in \u001b[0;36manim_to_html\u001b[0;34m(anim)\u001b[0m\n\u001b[1;32m     13\u001b[0m     \u001b[0;32mif\u001b[0m \u001b[0;32mnot\u001b[0m \u001b[0mhasattr\u001b[0m\u001b[0;34m(\u001b[0m\u001b[0manim\u001b[0m\u001b[0;34m,\u001b[0m \u001b[0;34m'_encoded_video'\u001b[0m\u001b[0;34m)\u001b[0m\u001b[0;34m:\u001b[0m\u001b[0;34m\u001b[0m\u001b[0m\n\u001b[1;32m     14\u001b[0m         \u001b[0;32mwith\u001b[0m \u001b[0mNamedTemporaryFile\u001b[0m\u001b[0;34m(\u001b[0m\u001b[0msuffix\u001b[0m\u001b[0;34m=\u001b[0m\u001b[0;34m'.mp4'\u001b[0m\u001b[0;34m)\u001b[0m \u001b[0;32mas\u001b[0m \u001b[0mf\u001b[0m\u001b[0;34m:\u001b[0m\u001b[0;34m\u001b[0m\u001b[0m\n\u001b[0;32m---> 15\u001b[0;31m             \u001b[0manim\u001b[0m\u001b[0;34m.\u001b[0m\u001b[0msave\u001b[0m\u001b[0;34m(\u001b[0m\u001b[0mf\u001b[0m\u001b[0;34m.\u001b[0m\u001b[0mname\u001b[0m\u001b[0;34m,\u001b[0m \u001b[0mfps\u001b[0m\u001b[0;34m=\u001b[0m\u001b[0;36m20\u001b[0m\u001b[0;34m,\u001b[0m \u001b[0mextra_args\u001b[0m\u001b[0;34m=\u001b[0m\u001b[0;34m[\u001b[0m\u001b[0;34m'-vcodec'\u001b[0m\u001b[0;34m,\u001b[0m \u001b[0;34m'libx264'\u001b[0m\u001b[0;34m]\u001b[0m\u001b[0;34m)\u001b[0m\u001b[0;34m\u001b[0m\u001b[0m\n\u001b[0m\u001b[1;32m     16\u001b[0m             \u001b[0mvideo\u001b[0m \u001b[0;34m=\u001b[0m \u001b[0mopen\u001b[0m\u001b[0;34m(\u001b[0m\u001b[0mf\u001b[0m\u001b[0;34m.\u001b[0m\u001b[0mname\u001b[0m\u001b[0;34m,\u001b[0m \u001b[0;34m\"rb\"\u001b[0m\u001b[0;34m)\u001b[0m\u001b[0;34m.\u001b[0m\u001b[0mread\u001b[0m\u001b[0;34m(\u001b[0m\u001b[0;34m)\u001b[0m\u001b[0;34m\u001b[0m\u001b[0m\n\u001b[1;32m     17\u001b[0m         \u001b[0manim\u001b[0m\u001b[0;34m.\u001b[0m\u001b[0m_encoded_video\u001b[0m \u001b[0;34m=\u001b[0m \u001b[0mvideo\u001b[0m\u001b[0;34m.\u001b[0m\u001b[0mencode\u001b[0m\u001b[0;34m(\u001b[0m\u001b[0;34m\"base64\"\u001b[0m\u001b[0;34m)\u001b[0m\u001b[0;34m\u001b[0m\u001b[0m\n",
      "\u001b[0;32m/home/happyling/anaconda3/lib/python3.5/site-packages/matplotlib/animation.py\u001b[0m in \u001b[0;36msave\u001b[0;34m(self, filename, writer, fps, dpi, codec, bitrate, extra_args, metadata, extra_anim, savefig_kwargs)\u001b[0m\n\u001b[1;32m    789\u001b[0m                                                         metadata=metadata)\n\u001b[1;32m    790\u001b[0m                 \u001b[0;32mexcept\u001b[0m \u001b[0mIndexError\u001b[0m\u001b[0;34m:\u001b[0m\u001b[0;34m\u001b[0m\u001b[0m\n\u001b[0;32m--> 791\u001b[0;31m                     raise ValueError(\"Cannot save animation: no writers are \"\n\u001b[0m\u001b[1;32m    792\u001b[0m                                      \u001b[0;34m\"available. Please install mencoder or \"\u001b[0m\u001b[0;34m\u001b[0m\u001b[0m\n\u001b[1;32m    793\u001b[0m                                      \"ffmpeg to save animations.\")\n",
      "\u001b[0;31mValueError\u001b[0m: Cannot save animation: no writers are available. Please install mencoder or ffmpeg to save animations."
     ]
    }
   ],
   "source": [
    "%matplotlib inline\n",
    "import matplotlib.pyplot as plt\n",
    "\n",
    "fig = plt.figure()\n",
    "\n",
    "ax = plt.axes(xlim=(0-150, N-151), ylim=(np.min(res[:, :N]), np.max(res[:, :N])))\n",
    "ax.set_xlabel(r\"space $i$\")\n",
    "ax.set_ylabel(r\"$v_i$\")\n",
    "ax.set_title(\"n =0 \")\n",
    "\n",
    "line, = ax.plot([], [], 'o')\n",
    "plt.tight_layout()\n",
    "\n",
    "def init():\n",
    "    line.set_data([], [])\n",
    "    return line,\n",
    "\n",
    "def animate(i):\n",
    "    x = np.arange(N) - 150\n",
    "    y = res_ani[i, :N]\n",
    "    line.set_data(x, y)\n",
    "    ax.set_title(\"n = %i\" % i)\n",
    "    return line,\n",
    "\n",
    "ani = animation.FuncAnimation(fig, animate, init_func=init, frames=res_ani.shape[0], interval=15, blit=True)\n",
    "display_animation(ani)"
   ]
  },
  {
   "cell_type": "markdown",
   "metadata": {},
   "source": [
    "### Prepare the data"
   ]
  },
  {
   "cell_type": "code",
   "execution_count": 5,
   "metadata": {
    "collapsed": false
   },
   "outputs": [
    {
     "name": "stderr",
     "output_type": "stream",
     "text": [
      "/home/happyling/anaconda3/lib/python3.5/site-packages/ipykernel/__main__.py:16: VisibleDeprecationWarning: using a non-integer number instead of an integer will result in an error in the future\n",
      "/home/happyling/anaconda3/lib/python3.5/site-packages/ipykernel/__main__.py:18: VisibleDeprecationWarning: using a non-integer number instead of an integer will result in an error in the future\n"
     ]
    }
   ],
   "source": [
    "import pandas as pd\n",
    "\n",
    "def prepare_data(res, space_sampling, time_delays):\n",
    "    data = pd.DataFrame()\n",
    "    names = []\n",
    "    dt = 0.1 \n",
    "    start = 250\n",
    "    tau = 200*dt\n",
    "    center = 150\n",
    "\n",
    "    for dx in space_sampling:\n",
    "        for dt in time_delays:\n",
    "\n",
    "            name = \"v{0}_{1}\".format(-dx, dt)\n",
    "            names.append(name)\n",
    "            data[name] = res[start-dt:-dt-tau, center+dx]\n",
    "\n",
    "    data['v_tau'] = res[start+tau:, center]\n",
    "\n",
    "    data = (data - data.min() )/ (data.max() - data.min())\n",
    "    return data, names\n",
    "\n",
    "def split(data, names):\n",
    "    train = data[:]\n",
    "    target = train.pop('v_tau').as_matrix()\n",
    "    train = train.as_matrix()\n",
    "    varnames = names[:]\n",
    "    return train, target, varnames\n",
    "\n",
    "zero_sampling = [0]\n",
    "time_delays = [0, 10, 20, 30, 40]\n",
    "space_sampling = [0, -2, -4, -6, -8, -10, -20]\n",
    "\n",
    "site_only = prepare_data(res, zero_sampling, time_delays)\n",
    "spatial_extended = prepare_data(res, space_sampling, zero_sampling)\n",
    "mixed = prepare_data(res, space_sampling, time_delays)\n",
    "\n",
    "samplings = [site_only, spatial_extended, mixed]\n",
    "sampling_name = [\"site only\", \"spatial extended\", \"mixed\"]\n",
    "\n",
    "reg_input =  list(map(split, *zip(*samplings)))"
   ]
  },
  {
   "cell_type": "code",
   "execution_count": 6,
   "metadata": {
    "collapsed": false
   },
   "outputs": [
    {
     "data": {
      "text/plain": [
       "(3, 3)"
      ]
     },
     "execution_count": 6,
     "metadata": {},
     "output_type": "execute_result"
    }
   ],
   "source": [
    "np.shape(reg_input)"
   ]
  },
  {
   "cell_type": "code",
   "execution_count": 7,
   "metadata": {
    "collapsed": false
   },
   "outputs": [],
   "source": [
    "import ffx\n",
    "ffx.core.CONSIDER_THRESH = False\n",
    "\n",
    "def run_ffx(data, target, varnames):\n",
    "    train_X = data[::2]\n",
    "    train_y = target[::2]\n",
    "    test_X = data[1::2]\n",
    "    test_y = target[1::2]\n",
    "    models = ffx.run(train_X, train_y, test_X, test_y, varnames=varnames)\n",
    "    \n",
    "    base = [model.numBases() for model in models]\n",
    "    test_error = [model.test_nmse for model in models]\n",
    "    train_error = [ffx.core.nmse(model.simulate(train_X), train_y, min(target), max(target))\n",
    "                           for model in models]\n",
    "    \n",
    "    return [base, test_error], [base, train_error], models"
   ]
  },
  {
   "cell_type": "code",
   "execution_count": 8,
   "metadata": {
    "collapsed": false
   },
   "outputs": [
    {
     "name": "stderr",
     "output_type": "stream",
     "text": [
      "/home/happyling/anaconda3/lib/python3.5/site-packages/ffx/core.py:865: VisibleDeprecationWarning: using a non-integer number instead of an integer will result in an error in the future\n",
      "  st, fin, num=ss.numAlphas() * 10)[::-1][:ss.numAlphas() / 4]\n",
      "/home/happyling/anaconda3/lib/python3.5/site-packages/sklearn/linear_model/coordinate_descent.py:466: ConvergenceWarning: Objective did not converge. You might want to increase the number of iterations\n",
      "  ConvergenceWarning)\n"
     ]
    }
   ],
   "source": [
    "ffx_results = map(lambda x: run_ffx(*x), reg_input)\n",
    "ffx_results = list(ffx_results)"
   ]
  },
  {
   "cell_type": "code",
   "execution_count": 9,
   "metadata": {
    "collapsed": false
   },
   "outputs": [
    {
     "name": "stdout",
     "output_type": "stream",
     "text": [
      "site only -0.0273 + 3.34*v0_0 - 2.41*v0_0 * v0_10 - 2.09*v0_40 * v0_10 + 1.64*v0_20^2 - 1.53*v0_20 - 1.16*v0_10 + 0.991*v0_30^2 + 0.684*v0_0^2 + 0.463*v0_30 + 0.433*v0_20 * v0_0 + 0.373*v0_20 * v0_10 - 0.359*v0_40^2 + 0.216*v0_40 + 0.00286*v0_10^2\n",
      "\n",
      "spatial extended -0.00247 + 0.897*v2_0 + 0.178*v0_0 - 0.0650*v4_0 + 0.00280*v10_0 - 0.00210*v8_0\n",
      "\n",
      "mixed 0.00894 + 0.442*v4_30 + 0.346*v2_10 + 0.175*v2_0\n",
      "\n"
     ]
    },
    {
     "data": {
      "image/png": "[encoded data removed]",
      "text/plain": [
       "<matplotlib.figure.Figure at 0x7feb34107ba8>"
      ]
     },
     "metadata": {},
     "output_type": "display_data"
    }
   ],
   "source": [
    "##plt.style.use('style.mplstyle')\n",
    "\n",
    "for result, name in zip(ffx_results, sampling_name):\n",
    "    front, front_train, front_models = result\n",
    "    comp, error = front\n",
    "    print(name, str(front_models[-1]))\n",
    "    print()\n",
    "    plt.plot(comp, error, label=name)\n",
    "plt.xlabel(r\"Complexity $\\Gamma_2$\")\n",
    "plt.ylabel(r\"Error $\\Gamma_1$\")\n",
    "plt.legend()\n",
    "plt.tight_layout()"
   ]
  },
  {
   "cell_type": "code",
   "execution_count": 11,
   "metadata": {
    "collapsed": false
   },
   "outputs": [
    {
     "name": "stdout",
     "output_type": "stream",
     "text": [
      "-0.0273 + 3.34*v0_0 - 2.41*v0_0 * v0_10 - 2.09*v0_40 * v0_10 + 1.64*v0_20^2 - 1.53*v0_20 - 1.16*v0_10 + 0.991*v0_30^2 + 0.684*v0_0^2 + 0.463*v0_30 + 0.433*v0_20 * v0_0 + 0.373*v0_20 * v0_10 - 0.359*v0_40^2 + 0.216*v0_40 + 0.00286*v0_10^2 14 0.03572564386390949\n",
      "-0.00247 + 0.897*v2_0 + 0.178*v0_0 - 0.0650*v4_0 + 0.00280*v10_0 - 0.00210*v8_0 5 0.00987989211514151\n",
      "0.00894 + 0.442*v4_30 + 0.346*v2_10 + 0.175*v2_0 3 0.009842030330692317\n"
     ]
    },
    {
     "data": {
      "image/png": "[encoded data removed]",
      "text/plain": [
       "<matplotlib.figure.Figure at 0x7feb2e216f60>"
      ]
     },
     "metadata": {},
     "output_type": "display_data"
    }
   ],
   "source": [
    "for result, input_, name, i in zip(ffx_results, reg_input, sampling_name, [0.5, 0.25, 0.0]):\n",
    "    front, front_train, front_models = result\n",
    "    model = front_models[-1]\n",
    "    print(model, model.numBases(), model.test_nmse)\n",
    "    train = input_[0]\n",
    "    \n",
    "    target = input_[1]\n",
    "    delta = len(t) - len(train)\n",
    "    plt.plot(t[delta:], model.simulate(train) - target + i, ms=0, label=name)\n",
    "    \n",
    "plt.xlabel(r\"time t\")\n",
    "plt.ylabel(r\"$v_0 - \\hat{v_0}$\")\n",
    "plt.legend(loc=4)\n",
    "plt.tight_layout()"
   ]
  },
  {
   "cell_type": "code",
   "execution_count": 12,
   "metadata": {
    "collapsed": false
   },
   "outputs": [
    {
     "data": {
      "image/png": "[encoded data removed]",
      "text/plain": [
       "<matplotlib.figure.Figure at 0x7feb3405ba58>"
      ]
     },
     "metadata": {},
     "output_type": "display_data"
    }
   ],
   "source": [
    "model = ffx_results[-1][-1][-1]\n",
    "\n",
    "def gradient1d(x, y):\n",
    "    return np.gradient(y, np.gradient(x))\n",
    "\n",
    "plt.plot(t[delta:], gradient1d(t[delta:], target), ms=3, label=\"obs\")\n",
    "plt.plot(t[delta:], gradient1d(t[delta:], model.simulate(train)), ms=3, label=\"pred\")\n",
    "plt.xlabel(r\"time t\")\n",
    "plt.ylabel(r\"$\\partial_t v_0$\")\n",
    "plt.legend()\n",
    "plt.tight_layout()"
   ]
  },
  {
   "cell_type": "code",
   "execution_count": 13,
   "metadata": {
    "collapsed": false
   },
   "outputs": [],
   "source": [
    "from deap import base\n",
    "from deap import creator\n",
    "from deap import tools\n",
    "from deap import gp\n",
    "\n",
    "class MyGPTree(gp.PrimitiveTree):\n",
    "\n",
    "    def __init__(self, content, op=str):\n",
    "        gp.PrimitiveTree.__init__(self, content)\n",
    "        self.op = op\n",
    "\n",
    "    def __hash__(self):\n",
    "        return hash(self.op(self))\n",
    "\n",
    "    def __eq__(self, other):\n",
    "        return self.op(self) == self.op(other)\n",
    "\n",
    "\n",
    "def remove_twins(pop):\n",
    "    return list(set(pop))"
   ]
  },
  {
   "cell_type": "code",
   "execution_count": 14,
   "metadata": {
    "collapsed": true
   },
   "outputs": [],
   "source": [
    "def _div(left, right):\n",
    "    with np.errstate(divide='ignore', invalid='ignore'):\n",
    "        x = np.divide(left, right)\n",
    "        if isinstance(x, np.ndarray):\n",
    "            x[np.isinf(x)] = 0\n",
    "            x[np.isnan(x)] = 0\n",
    "        elif np.isinf(x) or np.isnan(x):\n",
    "            x = 0\n",
    "    return x\n",
    "\n",
    "def _pow(y, n=1):\n",
    "    with np.errstate(divide='ignore', invalid='ignore'):\n",
    "        x = np.power(y, n)\n",
    "        if isinstance(x, np.ndarray):\n",
    "            x[np.isinf(x)] = 0\n",
    "            x[np.isnan(x)] = 0\n",
    "        elif np.isinf(x) or np.isnan(x):\n",
    "            x = 0\n",
    "    return x\n",
    "\n",
    "def _log(x):\n",
    "    with np.errstate(divide='ignore', invalid='ignore'):\n",
    "        x = np.log(x)\n",
    "        if isinstance(x, np.ndarray):\n",
    "            x[np.isinf(x)] = 1\n",
    "            x[np.isnan(x)] = 1\n",
    "        elif np.isinf(x) or np.isnan(x):\n",
    "            x = 1\n",
    "    return x\n",
    "\n",
    "def _sqrt(x):\n",
    "    with np.errstate(invalid='ignore'):\n",
    "        x = np.sqrt(x)\n",
    "        if isinstance(x, np.ndarray):\n",
    "            x[np.isinf(x)] = 0\n",
    "            x[np.isnan(x)] = 0\n",
    "        elif np.isinf(x) or np.isnan(x):\n",
    "            x = 1\n",
    "    return x\n",
    "\n",
    "def prepare_funcset(strat, n):\n",
    "    funcset = gp.PrimitiveSet(\"MAIN\", n)\n",
    "\n",
    "    funcset.addPrimitive(np.add, 2, name=\"Add\")\n",
    "    funcset.addPrimitive(np.subtract, 2, name=\"Sub\")\n",
    "    funcset.addPrimitive(np.multiply, 2, name=\"Mul\")\n",
    "    funcset.addPrimitive(_div, 2, name=\"Div\")\n",
    "\n",
    "    if \"symc\" in strat:\n",
    "        id_ = len([x for x in dir(gp) if \"symc\" in x])   # number of instances of symc Ephemeral class\n",
    "        funcset.addEphemeralConstant(\"symc{}\".format(id_), lambda: 1.0)\n",
    "\n",
    "    if \"pot\" in strat:\n",
    "        funcset.addPrimitive(np.square, 1, name=\"square\")\n",
    "        funcset.addPrimitive(_sqrt, 1, name=\"sqrt\")\n",
    "    if \"exp\" in strat:\n",
    "        funcset.addPrimitive(np.exp, 1, name=\"exp\")\n",
    "        funcset.addPrimitive(_log, 1, name=\"log\")\n",
    "    if \"trigo\" in strat:\n",
    "        funcset.addPrimitive(np.sin, 1, name=\"sin\")\n",
    "        funcset.addPrimitive(np.cos, 1, name=\"cos\")\n",
    "        \n",
    "    return funcset"
   ]
  },
  {
   "cell_type": "code",
   "execution_count": 15,
   "metadata": {
    "collapsed": true
   },
   "outputs": [],
   "source": [
    "import scipy.optimize as opt\n",
    "import copy\n",
    "\n",
    "\n",
    "def generate_context(pset, data):\n",
    "    context = {arg: dat for arg, dat in zip(pset.arguments, data.T)}\n",
    "    context.update(pset.context)\n",
    "\n",
    "    return context\n",
    "\n",
    "\n",
    "def optimize_constants(ind, cost, context, precision=3, options=None, constraints=None):\n",
    "    \"\"\" Update the constant values of ind according to:\n",
    "    vec(c) = argmin_c ||yhat(data,c) - y||\n",
    "\n",
    "    This needs to be called together when using symbolic constants.\n",
    "    It may be called as a mutation operator together with the usage of ercs.\n",
    "    \"\"\"\n",
    "    idx = [index for index, node in enumerate(ind) if isinstance(node, gp.Ephemeral)]\n",
    "\n",
    "    if len(idx) == 0:\n",
    "        return ind\n",
    "\n",
    "    values = [ind[i].value for i in idx]\n",
    "    values_bak = copy.copy(values)\n",
    "    args = [(\"c%i\" % i) for i in range(len(idx))]\n",
    "\n",
    "    code = str(ind)\n",
    "    for i, arg in zip(idx, args):\n",
    "        code = code.replace(ind[i].format(), arg, 1)\n",
    "    code = \"lambda {args}: {code}\".format(args=\",\".join(args), code=code)\n",
    "    yhat = eval(code, context, {})\n",
    "    with np.errstate(invalid='ignore', over='ignore'):\n",
    "        res = opt.minimize(cost, values, args=yhat, options=options, constraints=constraints)\n",
    "\n",
    "    if res.success and all(np.isfinite(res.x)):\n",
    "        values = res.x\n",
    "    else:\n",
    "        values = values_bak\n",
    "\n",
    "    for i, value in zip(idx, values):\n",
    "        ind[i] = type(ind[i])()\n",
    "        ind[i].value = round(value, 3)\n",
    "\n",
    "    return ind"
   ]
  },
  {
   "cell_type": "code",
   "execution_count": 16,
   "metadata": {
    "collapsed": true
   },
   "outputs": [],
   "source": [
    "import re\n",
    "from sympy import simplify, lambdify\n",
    "\n",
    "def convert_inverse_prim(prim, args):\n",
    "    \"\"\"\n",
    "    Convert inverse prims according to:\n",
    "    [Dd]iv(a,b) -> Mul[a, 1/b]\n",
    "    [Ss]ub(a,b) -> Add[a, -b]\n",
    "\n",
    "    We achieve this by overwriting the corresponding format method of the sub and div prim.\n",
    "    \"\"\"\n",
    "\n",
    "    prim.name = re.sub(r'([A-Z])', lambda pat: pat.group(1).lower(), prim.name)    #lower all capital letters\n",
    "\n",
    "    converter = {\n",
    "        'sub': lambda *args_: \"Add({}, Mul(-1,{}))\".format(*args_),\n",
    "        'div': lambda *args_: \"Mul({}, Pow({}, -1))\".format(*args_)\n",
    "    }\n",
    "    prim_formatter = converter.get(prim.name, prim.format)\n",
    "\n",
    "    return prim_formatter(*args)\n",
    "\n",
    "\n",
    "def stringify_for_sympy(f):\n",
    "    \"\"\"Return the expression in a human readable string.\n",
    "    \"\"\"\n",
    "    string = \"\"\n",
    "    stack = []\n",
    "    for node in f:\n",
    "        stack.append((node, []))\n",
    "        while len(stack[-1][1]) == stack[-1][0].arity:\n",
    "            prim, args = stack.pop()\n",
    "            string = convert_inverse_prim(prim, args)\n",
    "            if len(stack) == 0:\n",
    "                break  # If stack is empty, all nodes should have been seen\n",
    "            stack[-1][1].append(string)\n",
    "    return string\n",
    "\n",
    "\n",
    "def simplify_this(expr):\n",
    "    return simplify(stringify_for_sympy(expr))\n"
   ]
  },
  {
   "cell_type": "code",
   "execution_count": 38,
   "metadata": {
    "collapsed": true
   },
   "outputs": [],
   "source": [
    "import operator\n",
    "\n",
    "hyper = {'gen': 50, 'mu': 500, 'cxpb': 0.5}\n",
    "\n",
    "def run_gp(data, target, varnames, hyper=hyper):\n",
    "    train_X = data[::2]\n",
    "    train_y = target[::2]\n",
    "    test_X = data[1::2]\n",
    "    test_y = target[1::2]\n",
    "    \n",
    "    funcset = prepare_funcset([\"exp\", \"symc\", \"pot\", \"trigo\"], data.shape[1])\n",
    "    \n",
    "    new_varnames = {'ARG%i' % i: var for i, var in enumerate(varnames)}\n",
    "    funcset.renameArguments(**new_varnames)\n",
    "    \n",
    "    toolbox = base.Toolbox()\n",
    "    toolbox.register(\"compile\", gp.compile, pset=funcset)\n",
    "    \n",
    "    def error_(ind, compile, y, X):\n",
    "        model = compile(expr=ind)\n",
    "        yhat = model(*X.T)\n",
    "        return np.sqrt(np.nanmean((y-yhat)**2))\n",
    "    \n",
    "    error = lambda ind: error_(ind, toolbox.compile, train_y, train_X)\n",
    "    finalize = lambda ind: error_(ind, toolbox.compile, test_y, test_X)\n",
    "    \n",
    "    def _evaluate(ind):\n",
    "        return error(ind), len(ind)\n",
    "    \n",
    "    optimize_options = {'maxiter': 5}\n",
    "    cons = ({'type': 'ineq', 'fun': lambda x: 10.0-np.abs(x)})\n",
    "    context = generate_context(funcset, train_X)\n",
    "    cost = lambda args, yhat: np.sum((train_y - yhat(*args))**2)\n",
    "    \n",
    "    optimize = lambda ind: optimize_constants(ind, cost=cost, context=context,\n",
    "                                              options=optimize_options, constraints=cons)\n",
    "    \n",
    "    creator.create(\"Fitness\", base.Fitness, weights=(-1.0, -1.0))\n",
    "    creator.create(\"Individual\", MyGPTree, fitness=creator.Fitness)\n",
    "\n",
    "    toolbox.register(\"expr\", gp.genHalfAndHalf, pset=funcset, min_=1, max_=4)\n",
    "    toolbox.register(\"individual\", tools.initIterate, creator.Individual, toolbox.expr)\n",
    "    toolbox.register(\"population\", tools.initRepeat, list, toolbox.individual)\n",
    "\n",
    "    toolbox.register(\"select\", tools.selNSGA2)\n",
    "    toolbox.register(\"mate\", gp.cxOnePoint)\n",
    "    toolbox.register(\"expr_mut\", gp.genHalfAndHalf, min_=0, max_=2)\n",
    "    toolbox.register(\"mutate\", gp.mutUniform, expr=toolbox.expr_mut, pset=funcset)\n",
    "\n",
    "    toolbox.decorate(\"mate\", gp.staticLimit(key=operator.attrgetter(\"height\"), max_value=17))\n",
    "    toolbox.decorate(\"mutate\", gp.staticLimit(key=operator.attrgetter(\"height\"), max_value=17))\n",
    "\n",
    "    toolbox.register(\"evaluate\", _evaluate)\n",
    "    \n",
    "    def evolve(toolbox, seed=seed, gen=0, mu=1, lambda_=1, cxpb=1, mutp=0):\n",
    "        random.seed(seed)\n",
    "        np.random.seed(seed)\n",
    "\n",
    "        pop = remove_twins(toolbox.population(n=mu))\n",
    "        pop = list(toolbox.map(optimize, pop))\n",
    "\n",
    "        invalid_ind = [ind for ind in pop if not ind.fitness.valid]\n",
    "        fitnesses = list(toolbox.map(toolbox.evaluate, invalid_ind))\n",
    "        for ind, fit in zip(invalid_ind, fitnesses):\n",
    "            \n",
    "            ind.fitness.values = fit\n",
    "\n",
    "        pop = toolbox.select(pop, mu)\n",
    "        stats = tools.Statistics(lambda ind: ind.fitness.values)\n",
    "        stats.register(\"min\", np.nanmin, axis=0)\n",
    "        stats.register(\"max\", np.nanmax, axis=0)\n",
    "        stats.register(\"diversity\", lambda pop: len(set(map(str, pop))))\n",
    "\n",
    "        logbook = tools.Logbook()\n",
    "        logbook.header = \"gen\", \"evals\", \"min\", \"max\", \"diversity\"\n",
    "\n",
    "        record = stats.compile(pop)\n",
    "        logbook.record(gen=0, evals=len(invalid_ind), **record)\n",
    "        print(logbook.stream)\n",
    "        if record['min'][0] == 0.0:\n",
    "            return pop, logbook\n",
    "\n",
    "        for gen in range(1, gen):\n",
    "            offspring = tools.selRandom(pop, mu)\n",
    "            offspring = [toolbox.clone(ind) for ind in offspring]\n",
    "\n",
    "            for ind1, ind2 in zip(offspring[::2], offspring[1::2]):\n",
    "                if random.random() <= cxpb:\n",
    "                    toolbox.mate(ind1, ind2)\n",
    "\n",
    "                toolbox.mutate(ind1)\n",
    "                toolbox.mutate(ind2)\n",
    "                del ind1.fitness.values, ind2.fitness.values\n",
    "\n",
    "            offspring = list(toolbox.map(optimize, offspring))\n",
    "\n",
    "            invalid_ind = [ind for ind in offspring if not ind.fitness.valid]\n",
    "            fitnesses = list(toolbox.map(toolbox.evaluate, invalid_ind))\n",
    "            for ind, fit in zip(invalid_ind, fitnesses):\n",
    "                ind.fitness.values = fit\n",
    "\n",
    "            pop = toolbox.select(remove_twins(pop+offspring), mu)\n",
    "            record = stats.compile(pop)\n",
    "            logbook.record(gen=gen, evals=len(invalid_ind), **record)\n",
    "\n",
    "            print(logbook.stream)\n",
    "            if record['min'][0] < 1E-4:\n",
    "                break\n",
    "\n",
    "        return pop, logbook\n",
    "    \n",
    "    pop, log = evolve(toolbox, **hyper)\n",
    "    \n",
    "    pareto = tools.ParetoFront()\n",
    "    pareto.update(pop)\n",
    "    \n",
    "    train_error = np.array([ind.fitness.values[0] for ind in pareto])  # store so we can quickly access this\n",
    "\n",
    "    fitnesses = list(toolbox.map(finalize, pareto))\n",
    "    for ind, fit in zip(pareto, fitnesses):\n",
    "            ind.fitness.values = fit, len(ind)\n",
    "    \n",
    "    error, complexity = map(np.array, zip(*[ind.fitness.values for ind in pareto]))\n",
    "    models_compiled = [toolbox.compile(m) for m in pareto]\n",
    "    return [complexity, error], [complexity, train_error], pareto, models_compiled"
   ]
  },
  {
   "cell_type": "code",
   "execution_count": 33,
   "metadata": {
    "collapsed": false
   },
   "outputs": [],
   "source": [
    "gp_results = map(lambda x: run_gp(*x), reg_input)"
   ]
  },
  {
   "cell_type": "code",
   "execution_count": 34,
   "metadata": {
    "collapsed": false
   },
   "outputs": [],
   "source": [
    "data,target,varname = reg_input[1]"
   ]
  },
  {
   "cell_type": "code",
   "execution_count": 35,
   "metadata": {
    "collapsed": false
   },
   "outputs": [
    {
     "data": {
      "text/plain": [
       "7"
      ]
     },
     "execution_count": 35,
     "metadata": {},
     "output_type": "execute_result"
    }
   ],
   "source": [
    "data.shape[1]"
   ]
  },
  {
   "cell_type": "code",
   "execution_count": 36,
   "metadata": {
    "collapsed": false
   },
   "outputs": [
    {
     "name": "stdout",
     "output_type": "stream",
     "text": [
      "gen\tevals\tmin                      \tmax        \tdiversity\n",
      "0  \t401  \t[ 0.11444102  2.        ]\t[ inf  21.]\t378      \n",
      "1  \t500  \t[ 0.11444102  1.        ]\t[  2.48803797  23.        ]\t454      \n",
      "2  \t500  \t[ 0.08864531  1.        ]\t[  2.48803797  21.        ]\t417      \n",
      "3  \t500  \t[ 0.08863007  1.        ]\t[  2.48803797  19.        ]\t432      \n",
      "4  \t500  \t[ 0.08863007  1.        ]\t[  2.48803797  19.        ]\t437      \n",
      "5  \t500  \t[ 0.08863007  1.        ]\t[  2.48803797  19.        ]\t428      \n",
      "6  \t500  \t[ 0.08863007  1.        ]\t[  2.48803797  19.        ]\t423      \n",
      "7  \t500  \t[ 0.08863007  1.        ]\t[  2.48803797  19.        ]\t428      \n",
      "8  \t500  \t[ 0.0765771  1.       ]  \t[  2.48803797  19.        ]\t431      \n",
      "9  \t500  \t[ 0.07540742  1.        ]\t[  2.48803797  19.        ]\t423      \n",
      "10 \t500  \t[ 0.07540742  1.        ]\t[  2.48803797  20.        ]\t421      \n",
      "11 \t500  \t[ 0.07540742  1.        ]\t[  2.48803797  20.        ]\t418      \n",
      "12 \t500  \t[ 0.07540742  1.        ]\t[  2.48803797  19.        ]\t419      \n",
      "13 \t500  \t[ 0.07540742  1.        ]\t[  2.48803797  19.        ]\t413      \n",
      "14 \t500  \t[ 0.07359681  1.        ]\t[  2.48803797  19.        ]\t411      \n",
      "15 \t500  \t[ 0.07359681  1.        ]\t[  2.48803797  19.        ]\t398      \n",
      "16 \t500  \t[ 0.07359681  1.        ]\t[  2.48803797  19.        ]\t380      \n",
      "17 \t500  \t[ 0.07359681  1.        ]\t[  2.48803797  19.        ]\t379      \n",
      "18 \t500  \t[ 0.07329048  1.        ]\t[  2.48803797  19.        ]\t393      \n",
      "19 \t500  \t[ 0.07006682  1.        ]\t[  2.48803797  20.        ]\t397      \n",
      "20 \t500  \t[ 0.07006682  1.        ]\t[  2.48803797  20.        ]\t407      \n",
      "21 \t500  \t[ 0.07006682  1.        ]\t[  2.48803797  20.        ]\t407      \n",
      "22 \t500  \t[ 0.07006682  1.        ]\t[  2.48803797  20.        ]\t408      \n",
      "23 \t500  \t[ 0.07006682  1.        ]\t[  2.48803797  21.        ]\t417      \n",
      "24 \t500  \t[ 0.07006682  1.        ]\t[  2.48803797  21.        ]\t412      \n",
      "25 \t500  \t[ 0.0697521  1.       ]  \t[  2.48803797  21.        ]\t411      \n",
      "26 \t500  \t[ 0.0697521  1.       ]  \t[  2.48803797  21.        ]\t416      \n",
      "27 \t500  \t[ 0.06853984  1.        ]\t[  2.48803797  21.        ]\t418      \n",
      "28 \t500  \t[ 0.06818233  1.        ]\t[  2.48803797  27.        ]\t421      \n",
      "29 \t500  \t[ 0.06818233  1.        ]\t[  2.48803797  23.        ]\t418      \n",
      "30 \t500  \t[ 0.06818233  1.        ]\t[  2.48803797  26.        ]\t429      \n",
      "31 \t500  \t[ 0.06818233  1.        ]\t[  2.48803797  27.        ]\t428      \n",
      "32 \t500  \t[ 0.06818233  1.        ]\t[  2.48803797  27.        ]\t431      \n",
      "33 \t500  \t[ 0.06487014  1.        ]\t[  2.31135701  27.        ]\t435      \n",
      "34 \t500  \t[ 0.06345237  1.        ]\t[  2.30189652  27.        ]\t435      \n",
      "35 \t500  \t[ 0.06345237  1.        ]\t[  2.30189652  27.        ]\t435      \n",
      "36 \t500  \t[ 0.06345237  1.        ]\t[  2.28347984  27.        ]\t435      \n",
      "37 \t500  \t[ 0.06171518  1.        ]\t[  2.28347984  30.        ]\t433      \n",
      "38 \t500  \t[ 0.05942984  1.        ]\t[  2.27577377  30.        ]\t432      \n",
      "39 \t500  \t[ 0.05942984  1.        ]\t[  2.27577377  35.        ]\t432      \n",
      "40 \t500  \t[ 0.05473933  1.        ]\t[  1.15451973  24.        ]\t431      \n",
      "41 \t500  \t[ 0.05473933  1.        ]\t[  1.15451973  24.        ]\t431      \n",
      "42 \t500  \t[ 0.05473933  1.        ]\t[  1.15451973  24.        ]\t432      \n",
      "43 \t500  \t[ 0.05473933  1.        ]\t[  1.15451973  24.        ]\t429      \n",
      "44 \t500  \t[ 0.05473933  1.        ]\t[  1.15451973  24.        ]\t427      \n",
      "45 \t500  \t[ 0.05473933  1.        ]\t[  1.14009004  24.        ]\t426      \n",
      "46 \t500  \t[ 0.05473933  1.        ]\t[  1.15451973  24.        ]\t425      \n",
      "47 \t500  \t[ 0.05473933  1.        ]\t[  1.15451973  23.        ]\t422      \n",
      "48 \t500  \t[ 0.05473933  1.        ]\t[  1.14009004  23.        ]\t421      \n",
      "49 \t500  \t[ 0.05473933  1.        ]\t[  1.14009004  30.        ]\t421      \n",
      "gen\tevals\tmin                      \tmax        \tdiversity\n",
      "0  \t406  \t[ 0.03425259  2.        ]\t[ inf  24.]\t386      \n",
      "1  \t500  \t[ 0.03425259  1.        ]\t[  2.5455355  24.       ]\t462      \n",
      "2  \t500  \t[ 0.03425259  1.        ]\t[  2.5455355  24.       ]\t449      \n",
      "3  \t500  \t[ 0.03425259  1.        ]\t[  2.5455355  18.       ]\t444      \n",
      "4  \t500  \t[ 0.03425259  1.        ]\t[  2.5455355  18.       ]\t450      \n",
      "5  \t500  \t[ 0.02175759  1.        ]\t[  2.5455355  19.       ]\t449      \n",
      "6  \t500  \t[ 0.01517653  1.        ]\t[  2.5455355  19.       ]\t447      \n",
      "7  \t500  \t[ 0.01517653  1.        ]\t[  2.5455355  19.       ]\t447      \n",
      "8  \t500  \t[ 0.01517653  1.        ]\t[  2.5455355  24.       ]\t444      \n",
      "9  \t500  \t[ 0.01517653  1.        ]\t[  2.5455355  23.       ]\t447      \n",
      "10 \t500  \t[ 0.01517653  1.        ]\t[  2.5455355  21.       ]\t449      \n",
      "11 \t500  \t[ 0.01517653  1.        ]\t[  2.5455355  23.       ]\t448      \n",
      "12 \t500  \t[ 0.01517653  1.        ]\t[  2.5455355  23.       ]\t443      \n",
      "13 \t500  \t[ 0.01517653  1.        ]\t[  2.5455355  21.       ]\t443      \n",
      "14 \t500  \t[ 0.01517653  1.        ]\t[  2.5455355  26.       ]\t444      \n",
      "15 \t500  \t[ 0.01517653  1.        ]\t[  2.48803797  27.        ]\t443      \n",
      "16 \t500  \t[ 0.01517653  1.        ]\t[  2.26681162  27.        ]\t439      \n",
      "17 \t500  \t[ 0.01517653  1.        ]\t[  1.17351675  27.        ]\t435      \n",
      "18 \t500  \t[ 0.01517653  1.        ]\t[  1.17351675  24.        ]\t422      \n",
      "19 \t500  \t[ 0.01517653  1.        ]\t[  1.17351675  28.        ]\t430      \n",
      "20 \t500  \t[ 0.01517653  1.        ]\t[  1.17351675  28.        ]\t427      \n",
      "21 \t500  \t[ 0.01517653  1.        ]\t[  1.11158705  28.        ]\t430      \n",
      "22 \t500  \t[ 0.01517653  1.        ]\t[  1.11158705  30.        ]\t423      \n",
      "23 \t500  \t[ 0.01517653  1.        ]\t[  1.09892536  29.        ]\t419      \n",
      "24 \t500  \t[ 0.01517653  1.        ]\t[  1.09892536  25.        ]\t414      \n",
      "25 \t500  \t[ 0.01395701  1.        ]\t[  1.08862335  29.        ]\t410      \n",
      "26 \t500  \t[ 0.01395701  1.        ]\t[  1.04136717  29.        ]\t404      \n",
      "27 \t500  \t[ 0.01395701  1.        ]\t[  0.7846946  29.       ]  \t394      \n",
      "28 \t500  \t[ 0.01395701  1.        ]\t[  1.08862335  29.        ]\t410      \n",
      "29 \t500  \t[ 0.01395701  1.        ]\t[  0.78053301  29.        ]\t409      \n",
      "30 \t500  \t[ 0.01395701  1.        ]\t[  0.78053301  29.        ]\t405      \n",
      "31 \t500  \t[ 0.01395701  1.        ]\t[  0.77588495  29.        ]\t407      \n",
      "32 \t500  \t[ 0.01395701  1.        ]\t[  0.76910274  29.        ]\t405      \n",
      "33 \t500  \t[ 0.01216889  1.        ]\t[  0.76244794  31.        ]\t402      \n",
      "34 \t500  \t[ 0.01216889  1.        ]\t[  0.76244794  35.        ]\t401      \n",
      "35 \t500  \t[ 0.01216889  1.        ]\t[  0.75194918  35.        ]\t398      \n",
      "36 \t500  \t[ 0.01216889  1.        ]\t[  0.7480377  46.       ]  \t392      \n",
      "37 \t500  \t[ 0.01216889  1.        ]\t[  0.7480377  27.       ]  \t386      \n",
      "38 \t500  \t[ 0.01216889  1.        ]\t[  0.7480377  27.       ]  \t384      \n",
      "39 \t500  \t[ 0.01216889  1.        ]\t[  0.7480377  27.       ]  \t378      \n",
      "40 \t500  \t[ 0.01216889  1.        ]\t[  0.7480377  27.       ]  \t380      \n",
      "41 \t500  \t[ 0.01139654  1.        ]\t[  0.7480377  27.       ]  \t382      \n",
      "42 \t500  \t[ 0.01058782  1.        ]\t[  0.77588495  27.        ]\t381      \n",
      "43 \t500  \t[ 0.01058782  1.        ]\t[  0.77588495  27.        ]\t378      \n",
      "44 \t500  \t[ 0.01058782  1.        ]\t[  0.77588495  27.        ]\t372      \n",
      "45 \t500  \t[ 0.01040292  1.        ]\t[  0.76244794  27.        ]\t369      \n",
      "46 \t500  \t[ 0.01040292  1.        ]\t[  0.76244794  27.        ]\t368      \n",
      "47 \t500  \t[ 0.01040292  1.        ]\t[  0.7480377  27.       ]  \t365      \n",
      "48 \t500  \t[ 0.01040292  1.        ]\t[  0.7480377  27.       ]  \t362      \n",
      "49 \t500  \t[ 0.01040292  1.        ]\t[  0.76910274  27.        ]\t357      \n",
      "gen\tevals\tmin                      \tmax        \tdiversity\n",
      "0  \t456  \t[ 0.02669589  2.        ]\t[ inf  23.]\t453      \n",
      "1  \t500  \t[ 0.0076398  1.       ]  \t[  2.54220089  18.        ]\t496      \n",
      "2  \t500  \t[ 0.0076398  1.       ]  \t[  1.1820559  18.       ]  \t491      \n",
      "3  \t500  \t[ 0.0076398  1.       ]  \t[  1.09892536  20.        ]\t496      \n",
      "4  \t500  \t[ 0.0076398  1.       ]  \t[  0.75693585  20.        ]\t491      \n",
      "5  \t500  \t[ 0.0076398  1.       ]  \t[  0.75056242  20.        ]\t491      \n",
      "6  \t500  \t[ 0.0076398  1.       ]  \t[  0.7480377  21.       ]  \t488      \n",
      "7  \t500  \t[ 0.0076398  1.       ]  \t[  0.37596548  21.        ]\t482      \n",
      "8  \t500  \t[ 0.0076398  1.       ]  \t[  0.36814374  23.        ]\t475      \n",
      "9  \t500  \t[ 0.0076398  1.       ]  \t[  0.36814374  20.        ]\t471      \n",
      "10 \t500  \t[ 0.0076398  1.       ]  \t[  0.36814374  21.        ]\t468      \n",
      "11 \t500  \t[ 0.0076398  1.       ]  \t[  0.36814374  21.        ]\t470      \n",
      "12 \t500  \t[ 0.0076398  1.       ]  \t[  0.36814374  21.        ]\t469      \n",
      "13 \t500  \t[ 0.0076398  1.       ]  \t[  0.36814374  21.        ]\t465      \n",
      "14 \t500  \t[ 0.00756128  1.        ]\t[  0.36814374  21.        ]\t461      \n",
      "15 \t500  \t[ 0.00756128  1.        ]\t[  0.36814374  21.        ]\t457      \n",
      "16 \t500  \t[ 0.00756128  1.        ]\t[  0.36814374  21.        ]\t454      \n",
      "17 \t500  \t[ 0.00756128  1.        ]\t[  0.36814374  21.        ]\t464      \n",
      "18 \t500  \t[ 0.00756128  1.        ]\t[  0.36814374  21.        ]\t464      \n",
      "19 \t500  \t[ 0.00756128  1.        ]\t[  0.36814374  20.        ]\t457      \n",
      "20 \t500  \t[ 0.00756128  1.        ]\t[  0.36814374  20.        ]\t456      \n",
      "21 \t500  \t[ 0.00756128  1.        ]\t[  0.36814374  20.        ]\t450      \n",
      "22 \t500  \t[ 0.00756128  1.        ]\t[  0.36814374  20.        ]\t450      \n",
      "23 \t500  \t[ 0.00756128  1.        ]\t[  0.36814374  20.        ]\t451      \n",
      "24 \t500  \t[ 0.00756128  1.        ]\t[  0.36814374  20.        ]\t444      \n",
      "25 \t500  \t[ 0.00756128  1.        ]\t[  0.36814374  20.        ]\t443      \n",
      "26 \t500  \t[ 0.00756128  1.        ]\t[  0.36814374  18.        ]\t441      \n",
      "27 \t500  \t[ 0.00734094  1.        ]\t[  0.36814374  18.        ]\t433      \n",
      "28 \t500  \t[ 0.00734094  1.        ]\t[  0.36814374  19.        ]\t426      \n",
      "29 \t500  \t[ 0.00734094  1.        ]\t[  0.36814374  20.        ]\t422      \n",
      "30 \t500  \t[ 0.00687921  1.        ]\t[  0.36814374  20.        ]\t413      \n",
      "31 \t500  \t[ 0.00687921  1.        ]\t[  0.36814374  20.        ]\t396      \n",
      "32 \t500  \t[ 0.00687921  1.        ]\t[  0.36814374  20.        ]\t385      \n",
      "33 \t500  \t[ 0.00687921  1.        ]\t[  0.36814374  20.        ]\t365      \n",
      "34 \t500  \t[ 0.00687921  1.        ]\t[  0.36814374  20.        ]\t341      \n",
      "35 \t500  \t[ 0.00687921  1.        ]\t[  0.35122509  23.        ]\t306      \n",
      "36 \t500  \t[ 0.00651932  1.        ]\t[  0.32208813  24.        ]\t273      \n",
      "37 \t500  \t[ 0.00651932  1.        ]\t[  0.295581  24.      ]    \t233      \n",
      "38 \t500  \t[ 0.00651932  1.        ]\t[  0.24257118  21.        ]\t168      \n",
      "39 \t500  \t[ 0.00651932  1.        ]\t[  0.21478856  21.        ]\t135      \n",
      "40 \t500  \t[ 0.00649219  1.        ]\t[  0.21478856  22.        ]\t135      \n",
      "41 \t500  \t[ 0.00635344  1.        ]\t[  0.20121579  22.        ]\t128      \n",
      "42 \t500  \t[ 0.00635344  1.        ]\t[  0.20121579  22.        ]\t127      \n",
      "43 \t500  \t[ 0.00635344  1.        ]\t[  0.21478856  22.        ]\t136      \n",
      "44 \t500  \t[ 0.00635344  1.        ]\t[  0.23436538  22.        ]\t149      \n",
      "45 \t500  \t[ 0.00635344  1.        ]\t[  0.22520372  22.        ]\t150      \n",
      "46 \t500  \t[ 0.00635344  1.        ]\t[  0.23436538  22.        ]\t163      \n",
      "47 \t500  \t[ 0.00635344  1.        ]\t[  0.23436538  22.        ]\t167      \n",
      "48 \t500  \t[ 0.00635344  1.        ]\t[  0.23436538  22.        ]\t167      \n",
      "49 \t500  \t[ 0.00635344  1.        ]\t[  0.25429956  22.        ]\t186      \n"
     ]
    }
   ],
   "source": [
    "gp_results = list(gp_results)"
   ]
  },
  {
   "cell_type": "code",
   "execution_count": 30,
   "metadata": {
    "collapsed": false
   },
   "outputs": [
    {
     "name": "stdout",
     "output_type": "stream",
     "text": [
      "gen\tevals\tmin                      \tmax        \tdiversity\n",
      "0  \t401  \t[ 0.11444102  2.        ]\t[ inf  21.]\t378      \n",
      "1  \t500  \t[ 0.11444102  1.        ]\t[  2.48803797  23.        ]\t454      \n",
      "2  \t500  \t[ 0.08864531  1.        ]\t[  2.48803797  21.        ]\t417      \n",
      "3  \t500  \t[ 0.08863007  1.        ]\t[  2.48803797  19.        ]\t432      \n",
      "4  \t500  \t[ 0.08863007  1.        ]\t[  2.48803797  19.        ]\t437      \n",
      "5  \t500  \t[ 0.08863007  1.        ]\t[  2.48803797  19.        ]\t428      \n",
      "6  \t500  \t[ 0.08863007  1.        ]\t[  2.48803797  19.        ]\t423      \n",
      "7  \t500  \t[ 0.08863007  1.        ]\t[  2.48803797  19.        ]\t428      \n",
      "8  \t500  \t[ 0.0765771  1.       ]  \t[  2.48803797  19.        ]\t431      \n",
      "9  \t500  \t[ 0.07540742  1.        ]\t[  2.48803797  19.        ]\t423      \n",
      "10 \t500  \t[ 0.07540742  1.        ]\t[  2.48803797  20.        ]\t421      \n",
      "11 \t500  \t[ 0.07540742  1.        ]\t[  2.48803797  20.        ]\t418      \n",
      "12 \t500  \t[ 0.07540742  1.        ]\t[  2.48803797  19.        ]\t419      \n",
      "13 \t500  \t[ 0.07540742  1.        ]\t[  2.48803797  19.        ]\t413      \n",
      "14 \t500  \t[ 0.07359681  1.        ]\t[  2.48803797  19.        ]\t411      \n",
      "15 \t500  \t[ 0.07359681  1.        ]\t[  2.48803797  19.        ]\t398      \n",
      "16 \t500  \t[ 0.07359681  1.        ]\t[  2.48803797  19.        ]\t380      \n",
      "17 \t500  \t[ 0.07359681  1.        ]\t[  2.48803797  19.        ]\t379      \n",
      "18 \t500  \t[ 0.07329048  1.        ]\t[  2.48803797  19.        ]\t393      \n",
      "19 \t500  \t[ 0.07006682  1.        ]\t[  2.48803797  20.        ]\t397      \n",
      "20 \t500  \t[ 0.07006682  1.        ]\t[  2.48803797  20.        ]\t407      \n",
      "21 \t500  \t[ 0.07006682  1.        ]\t[  2.48803797  20.        ]\t407      \n",
      "22 \t500  \t[ 0.07006682  1.        ]\t[  2.48803797  20.        ]\t408      \n",
      "23 \t500  \t[ 0.07006682  1.        ]\t[  2.48803797  21.        ]\t417      \n",
      "24 \t500  \t[ 0.07006682  1.        ]\t[  2.48803797  21.        ]\t412      \n",
      "25 \t500  \t[ 0.0697521  1.       ]  \t[  2.48803797  21.        ]\t411      \n",
      "26 \t500  \t[ 0.0697521  1.       ]  \t[  2.48803797  21.        ]\t416      \n",
      "27 \t500  \t[ 0.06853984  1.        ]\t[  2.48803797  21.        ]\t418      \n",
      "28 \t500  \t[ 0.06818233  1.        ]\t[  2.48803797  27.        ]\t421      \n",
      "29 \t500  \t[ 0.06818233  1.        ]\t[  2.48803797  23.        ]\t418      \n",
      "30 \t500  \t[ 0.06818233  1.        ]\t[  2.48803797  26.        ]\t429      \n",
      "31 \t500  \t[ 0.06818233  1.        ]\t[  2.48803797  27.        ]\t428      \n",
      "32 \t500  \t[ 0.06818233  1.        ]\t[  2.48803797  27.        ]\t431      \n",
      "33 \t500  \t[ 0.06487014  1.        ]\t[  2.31135701  27.        ]\t435      \n",
      "34 \t500  \t[ 0.06345237  1.        ]\t[  2.30189652  27.        ]\t435      \n",
      "35 \t500  \t[ 0.06345237  1.        ]\t[  2.30189652  27.        ]\t435      \n",
      "36 \t500  \t[ 0.06345237  1.        ]\t[  2.28347984  27.        ]\t435      \n",
      "37 \t500  \t[ 0.06171518  1.        ]\t[  2.28347984  30.        ]\t433      \n",
      "38 \t500  \t[ 0.05942984  1.        ]\t[  2.27577377  30.        ]\t432      \n",
      "39 \t500  \t[ 0.05942984  1.        ]\t[  2.27577377  35.        ]\t432      \n",
      "40 \t500  \t[ 0.05473933  1.        ]\t[  1.15451973  24.        ]\t431      \n",
      "41 \t500  \t[ 0.05473933  1.        ]\t[  1.15451973  24.        ]\t431      \n",
      "42 \t500  \t[ 0.05473933  1.        ]\t[  1.15451973  24.        ]\t432      \n",
      "43 \t500  \t[ 0.05473933  1.        ]\t[  1.15451973  24.        ]\t429      \n",
      "44 \t500  \t[ 0.05473933  1.        ]\t[  1.15451973  24.        ]\t427      \n",
      "45 \t500  \t[ 0.05473933  1.        ]\t[  1.14009004  24.        ]\t426      \n",
      "46 \t500  \t[ 0.05473933  1.        ]\t[  1.15451973  24.        ]\t425      \n",
      "47 \t500  \t[ 0.05473933  1.        ]\t[  1.15451973  23.        ]\t422      \n",
      "48 \t500  \t[ 0.05473933  1.        ]\t[  1.14009004  23.        ]\t421      \n",
      "49 \t500  \t[ 0.05473933  1.        ]\t[  1.14009004  30.        ]\t421      \n",
      "2.3319999999999999*v0_0 + cos(exp(v0_10)) - 0.58099999999999996\n",
      "gen\tevals\tmin                      \tmax        \tdiversity\n",
      "0  \t406  \t[ 0.03425259  2.        ]\t[ inf  24.]\t386      \n",
      "1  \t500  \t[ 0.03425259  1.        ]\t[  2.5455355  24.       ]\t462      \n",
      "2  \t500  \t[ 0.03425259  1.        ]\t[  2.5455355  24.       ]\t449      \n",
      "3  \t500  \t[ 0.03425259  1.        ]\t[  2.5455355  18.       ]\t444      \n",
      "4  \t500  \t[ 0.03425259  1.        ]\t[  2.5455355  18.       ]\t450      \n",
      "5  \t500  \t[ 0.02175759  1.        ]\t[  2.5455355  19.       ]\t449      \n",
      "6  \t500  \t[ 0.01517653  1.        ]\t[  2.5455355  19.       ]\t447      \n",
      "7  \t500  \t[ 0.01517653  1.        ]\t[  2.5455355  19.       ]\t447      \n",
      "8  \t500  \t[ 0.01517653  1.        ]\t[  2.5455355  24.       ]\t444      \n",
      "9  \t500  \t[ 0.01517653  1.        ]\t[  2.5455355  23.       ]\t447      \n",
      "10 \t500  \t[ 0.01517653  1.        ]\t[  2.5455355  21.       ]\t449      \n",
      "11 \t500  \t[ 0.01517653  1.        ]\t[  2.5455355  23.       ]\t448      \n",
      "12 \t500  \t[ 0.01517653  1.        ]\t[  2.5455355  23.       ]\t443      \n",
      "13 \t500  \t[ 0.01517653  1.        ]\t[  2.5455355  21.       ]\t443      \n",
      "14 \t500  \t[ 0.01517653  1.        ]\t[  2.5455355  26.       ]\t444      \n",
      "15 \t500  \t[ 0.01517653  1.        ]\t[  2.48803797  27.        ]\t443      \n",
      "16 \t500  \t[ 0.01517653  1.        ]\t[  2.26681162  27.        ]\t439      \n",
      "17 \t500  \t[ 0.01517653  1.        ]\t[  1.17351675  27.        ]\t435      \n",
      "18 \t500  \t[ 0.01517653  1.        ]\t[  1.17351675  24.        ]\t422      \n",
      "19 \t500  \t[ 0.01517653  1.        ]\t[  1.17351675  28.        ]\t430      \n",
      "20 \t500  \t[ 0.01517653  1.        ]\t[  1.17351675  28.        ]\t427      \n",
      "21 \t500  \t[ 0.01517653  1.        ]\t[  1.11158705  28.        ]\t430      \n",
      "22 \t500  \t[ 0.01517653  1.        ]\t[  1.11158705  30.        ]\t423      \n",
      "23 \t500  \t[ 0.01517653  1.        ]\t[  1.09892536  29.        ]\t419      \n",
      "24 \t500  \t[ 0.01517653  1.        ]\t[  1.09892536  25.        ]\t414      \n",
      "25 \t500  \t[ 0.01395701  1.        ]\t[  1.08862335  29.        ]\t410      \n",
      "26 \t500  \t[ 0.01395701  1.        ]\t[  1.04136717  29.        ]\t404      \n",
      "27 \t500  \t[ 0.01395701  1.        ]\t[  0.7846946  29.       ]  \t394      \n",
      "28 \t500  \t[ 0.01395701  1.        ]\t[  1.08862335  29.        ]\t410      \n",
      "29 \t500  \t[ 0.01395701  1.        ]\t[  0.78053301  29.        ]\t409      \n",
      "30 \t500  \t[ 0.01395701  1.        ]\t[  0.78053301  29.        ]\t405      \n",
      "31 \t500  \t[ 0.01395701  1.        ]\t[  0.77588495  29.        ]\t407      \n",
      "32 \t500  \t[ 0.01395701  1.        ]\t[  0.76910274  29.        ]\t405      \n",
      "33 \t500  \t[ 0.01216889  1.        ]\t[  0.76244794  31.        ]\t402      \n",
      "34 \t500  \t[ 0.01216889  1.        ]\t[  0.76244794  35.        ]\t401      \n",
      "35 \t500  \t[ 0.01216889  1.        ]\t[  0.75194918  35.        ]\t398      \n",
      "36 \t500  \t[ 0.01216889  1.        ]\t[  0.7480377  46.       ]  \t392      \n",
      "37 \t500  \t[ 0.01216889  1.        ]\t[  0.7480377  27.       ]  \t386      \n",
      "38 \t500  \t[ 0.01216889  1.        ]\t[  0.7480377  27.       ]  \t384      \n",
      "39 \t500  \t[ 0.01216889  1.        ]\t[  0.7480377  27.       ]  \t378      \n",
      "40 \t500  \t[ 0.01216889  1.        ]\t[  0.7480377  27.       ]  \t380      \n",
      "41 \t500  \t[ 0.01139654  1.        ]\t[  0.7480377  27.       ]  \t382      \n",
      "42 \t500  \t[ 0.01058782  1.        ]\t[  0.77588495  27.        ]\t381      \n",
      "43 \t500  \t[ 0.01058782  1.        ]\t[  0.77588495  27.        ]\t378      \n",
      "44 \t500  \t[ 0.01058782  1.        ]\t[  0.77588495  27.        ]\t372      \n",
      "45 \t500  \t[ 0.01040292  1.        ]\t[  0.76244794  27.        ]\t369      \n",
      "46 \t500  \t[ 0.01040292  1.        ]\t[  0.76244794  27.        ]\t368      \n",
      "47 \t500  \t[ 0.01040292  1.        ]\t[  0.7480377  27.       ]  \t365      \n",
      "48 \t500  \t[ 0.01040292  1.        ]\t[  0.7480377  27.       ]  \t362      \n",
      "49 \t500  \t[ 0.01040292  1.        ]\t[  0.76910274  27.        ]\t357      \n",
      "v20_0*(v0_0 - v4_0)*sqrt(square(square(1.157) + 0.092999999999999999))*cos(cos(v8_0)) + v2_0\n",
      "gen\tevals\tmin                      \tmax        \tdiversity\n",
      "0  \t456  \t[ 0.02669589  2.        ]\t[ inf  23.]\t453      \n",
      "1  \t500  \t[ 0.0076398  1.       ]  \t[  2.54220089  18.        ]\t496      \n",
      "2  \t500  \t[ 0.0076398  1.       ]  \t[  1.1820559  18.       ]  \t491      \n",
      "3  \t500  \t[ 0.0076398  1.       ]  \t[  1.09892536  20.        ]\t496      \n",
      "4  \t500  \t[ 0.0076398  1.       ]  \t[  0.75693585  20.        ]\t491      \n",
      "5  \t500  \t[ 0.0076398  1.       ]  \t[  0.75056242  20.        ]\t491      \n",
      "6  \t500  \t[ 0.0076398  1.       ]  \t[  0.7480377  21.       ]  \t488      \n",
      "7  \t500  \t[ 0.0076398  1.       ]  \t[  0.37596548  21.        ]\t482      \n",
      "8  \t500  \t[ 0.0076398  1.       ]  \t[  0.36814374  23.        ]\t475      \n",
      "9  \t500  \t[ 0.0076398  1.       ]  \t[  0.36814374  20.        ]\t471      \n",
      "10 \t500  \t[ 0.0076398  1.       ]  \t[  0.36814374  21.        ]\t468      \n",
      "11 \t500  \t[ 0.0076398  1.       ]  \t[  0.36814374  21.        ]\t470      \n",
      "12 \t500  \t[ 0.0076398  1.       ]  \t[  0.36814374  21.        ]\t469      \n",
      "13 \t500  \t[ 0.0076398  1.       ]  \t[  0.36814374  21.        ]\t465      \n",
      "14 \t500  \t[ 0.00756128  1.        ]\t[  0.36814374  21.        ]\t461      \n",
      "15 \t500  \t[ 0.00756128  1.        ]\t[  0.36814374  21.        ]\t457      \n",
      "16 \t500  \t[ 0.00756128  1.        ]\t[  0.36814374  21.        ]\t454      \n",
      "17 \t500  \t[ 0.00756128  1.        ]\t[  0.36814374  21.        ]\t464      \n",
      "18 \t500  \t[ 0.00756128  1.        ]\t[  0.36814374  21.        ]\t464      \n",
      "19 \t500  \t[ 0.00756128  1.        ]\t[  0.36814374  20.        ]\t457      \n",
      "20 \t500  \t[ 0.00756128  1.        ]\t[  0.36814374  20.        ]\t456      \n",
      "21 \t500  \t[ 0.00756128  1.        ]\t[  0.36814374  20.        ]\t450      \n",
      "22 \t500  \t[ 0.00756128  1.        ]\t[  0.36814374  20.        ]\t450      \n",
      "23 \t500  \t[ 0.00756128  1.        ]\t[  0.36814374  20.        ]\t451      \n",
      "24 \t500  \t[ 0.00756128  1.        ]\t[  0.36814374  20.        ]\t444      \n",
      "25 \t500  \t[ 0.00756128  1.        ]\t[  0.36814374  20.        ]\t443      \n",
      "26 \t500  \t[ 0.00756128  1.        ]\t[  0.36814374  18.        ]\t441      \n",
      "27 \t500  \t[ 0.00734094  1.        ]\t[  0.36814374  18.        ]\t433      \n",
      "28 \t500  \t[ 0.00734094  1.        ]\t[  0.36814374  19.        ]\t426      \n",
      "29 \t500  \t[ 0.00734094  1.        ]\t[  0.36814374  20.        ]\t422      \n",
      "30 \t500  \t[ 0.00687921  1.        ]\t[  0.36814374  20.        ]\t413      \n",
      "31 \t500  \t[ 0.00687921  1.        ]\t[  0.36814374  20.        ]\t396      \n",
      "32 \t500  \t[ 0.00687921  1.        ]\t[  0.36814374  20.        ]\t385      \n",
      "33 \t500  \t[ 0.00687921  1.        ]\t[  0.36814374  20.        ]\t365      \n",
      "34 \t500  \t[ 0.00687921  1.        ]\t[  0.36814374  20.        ]\t341      \n",
      "35 \t500  \t[ 0.00687921  1.        ]\t[  0.35122509  23.        ]\t306      \n",
      "36 \t500  \t[ 0.00651932  1.        ]\t[  0.32208813  24.        ]\t273      \n",
      "37 \t500  \t[ 0.00651932  1.        ]\t[  0.295581  24.      ]    \t233      \n",
      "38 \t500  \t[ 0.00651932  1.        ]\t[  0.24257118  21.        ]\t168      \n",
      "39 \t500  \t[ 0.00651932  1.        ]\t[  0.21478856  21.        ]\t135      \n",
      "40 \t500  \t[ 0.00649219  1.        ]\t[  0.21478856  22.        ]\t135      \n",
      "41 \t500  \t[ 0.00635344  1.        ]\t[  0.20121579  22.        ]\t128      \n",
      "42 \t500  \t[ 0.00635344  1.        ]\t[  0.20121579  22.        ]\t127      \n",
      "43 \t500  \t[ 0.00635344  1.        ]\t[  0.21478856  22.        ]\t136      \n",
      "44 \t500  \t[ 0.00635344  1.        ]\t[  0.23436538  22.        ]\t149      \n",
      "45 \t500  \t[ 0.00635344  1.        ]\t[  0.22520372  22.        ]\t150      \n",
      "46 \t500  \t[ 0.00635344  1.        ]\t[  0.23436538  22.        ]\t163      \n",
      "47 \t500  \t[ 0.00635344  1.        ]\t[  0.23436538  22.        ]\t167      \n",
      "48 \t500  \t[ 0.00635344  1.        ]\t[  0.23436538  22.        ]\t167      \n",
      "49 \t500  \t[ 0.00635344  1.        ]\t[  0.25429956  22.        ]\t186      \n",
      "v4_30*cos(v10_30*(v0_20 + v20_0))\n"
     ]
    },
    {
     "data": {
      "text/plain": [
       "<matplotlib.legend.Legend at 0x7feb15c7ae80>"
      ]
     },
     "execution_count": 30,
     "metadata": {},
     "output_type": "execute_result"
    },
    {
     "data": {
      "image/png": "[encoded data removed]",
      "text/plain": [
       "<matplotlib.figure.Figure at 0x7feb15d1a2b0>"
      ]
     },
     "metadata": {},
     "output_type": "display_data"
    }
   ],
   "source": [
    "for result, name in zip(gp_results, sampling_name):\n",
    "    front, front_train, front_models, _ = result\n",
    "    comp, error = front\n",
    "    plt.plot(comp, error, label=name)\n",
    "    model = front_models[0]\n",
    "    print(simplify_this(model))\n",
    "    \n",
    "plt.xlabel(r\"Complexity $\\Gamma_2$\")\n",
    "plt.ylabel(r\"Error $\\Gamma_1$\")\n",
    "plt.legend()"
   ]
  },
  {
   "cell_type": "code",
   "execution_count": 43,
   "metadata": {
    "collapsed": false
   },
   "outputs": [
    {
     "data": {
      "text/plain": [
       "(830, 7)"
      ]
     },
     "execution_count": 43,
     "metadata": {},
     "output_type": "execute_result"
    }
   ],
   "source": [
    "test = reg_input[1]\n",
    "test[0]\n",
    "np.shape(test[0])"
   ]
  },
  {
   "cell_type": "code",
   "execution_count": 37,
   "metadata": {
    "collapsed": false
   },
   "outputs": [
    {
     "data": {
      "text/plain": [
       "<matplotlib.legend.Legend at 0x7feb15b20128>"
      ]
     },
     "execution_count": 37,
     "metadata": {},
     "output_type": "execute_result"
    },
    {
     "data": {
      "image/png": "[encoded data removed]",
      "text/plain": [
       "<matplotlib.figure.Figure at 0x7feb159e4518>"
      ]
     },
     "metadata": {},
     "output_type": "display_data"
    },
    {
     "data": {
      "image/png": "[encoded data removed]",
      "text/plain": [
       "<matplotlib.figure.Figure at 0x7feb159e4b70>"
      ]
     },
     "metadata": {},
     "output_type": "display_data"
    }
   ],
   "source": [
    "fig1 = plt.figure(0)\n",
    "fig2 = plt.figure(1)\n",
    "\n",
    "ax1 = fig1.add_subplot(111)\n",
    "ax2 = fig2.add_subplot(111)\n",
    "\n",
    "\n",
    "deriv = gradient1d(t[delta:], target)\n",
    "for result, input_, name, i in zip(gp_results, reg_input, sampling_name, [0.5, 0.25, 0.0]):\n",
    "    front, front_train, models, models_bin = result\n",
    "    model = models_bin[0]\n",
    "    train = input_[0]\n",
    "    \n",
    "    target = input_[1]\n",
    "    delta = len(t) - len(train)\n",
    "    ax1.plot(t[delta:], model(*train.T) - target + i, label=name, ms=0)\n",
    "    ax2.plot(t[delta:], gradient1d(t[delta:], model(*train.T)) - deriv + 3*i, label=name, ms=0)\n",
    "    \n",
    "ax1.set_xlabel(r\"time t\")\n",
    "ax1.set_ylabel(r\"$v_0 - \\hat{v_0}$\")\n",
    "ax1.legend(loc=4)\n",
    "\n",
    "ax2.set_xlabel(r\"time t\")\n",
    "ax2.set_ylabel(r\"$\\partial_t v_0 - \\partial_t \\hat{v}_0$\")\n",
    "ax2.legend(loc=4)"
   ]
  },
  {
   "cell_type": "code",
   "execution_count": null,
   "metadata": {
    "collapsed": true
   },
   "outputs": [],
   "source": []
  },
  {
   "cell_type": "code",
   "execution_count": null,
   "metadata": {
    "collapsed": true
   },
   "outputs": [],
   "source": []
  }
 ],
 "metadata": {
  "anaconda-cloud": {},
  "kernelspec": {
   "display_name": "Python [default]",
   "language": "python",
   "name": "python3"
  },
  "language_info": {
   "codemirror_mode": {
    "name": "ipython",
    "version": 3
   },
   "file_extension": ".py",
   "mimetype": "text/x-python",
   "name": "python",
   "nbconvert_exporter": "python",
   "pygments_lexer": "ipython3",
   "version": "3.5.2"
  }
 },
 "nbformat": 4,
 "nbformat_minor": 0
}
