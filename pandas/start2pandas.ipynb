{
 "cells": [
  {
   "cell_type": "markdown",
   "metadata": {},
   "source": [
    "10 Minutes to pandas. Go through the short introduction of pandas for new users."
   ]
  },
  {
   "cell_type": "code",
   "execution_count": 1,
   "metadata": {
    "collapsed": true
   },
   "outputs": [],
   "source": [
    "# import\n",
    "import pandas as pd\n",
    "import numpy as np\n",
    "import matplotlib.pyplot as plt\n",
    "%matplotlib inline"
   ]
  },
  {
   "cell_type": "code",
   "execution_count": 3,
   "metadata": {
    "collapsed": true
   },
   "outputs": [],
   "source": [
    "##############################################\n",
    "#Object Creation: Series and DataFrame\n",
    "#############################################"
   ]
  },
  {
   "cell_type": "code",
   "execution_count": 4,
   "metadata": {
    "collapsed": true
   },
   "outputs": [],
   "source": [
    "s = pd.Series([1,3,5,np.nan,6,8])"
   ]
  },
  {
   "cell_type": "code",
   "execution_count": 5,
   "metadata": {
    "collapsed": false
   },
   "outputs": [
    {
     "data": {
      "text/plain": [
       "0    1.0\n",
       "1    3.0\n",
       "2    5.0\n",
       "3    NaN\n",
       "4    6.0\n",
       "5    8.0\n",
       "dtype: float64"
      ]
     },
     "execution_count": 5,
     "metadata": {},
     "output_type": "execute_result"
    }
   ],
   "source": [
    "s"
   ]
  },
  {
   "cell_type": "code",
   "execution_count": 6,
   "metadata": {
    "collapsed": true
   },
   "outputs": [],
   "source": [
    "dates = pd.date_range('20120101',periods=6)"
   ]
  },
  {
   "cell_type": "code",
   "execution_count": 7,
   "metadata": {
    "collapsed": false
   },
   "outputs": [
    {
     "data": {
      "text/plain": [
       "DatetimeIndex(['2012-01-01', '2012-01-02', '2012-01-03', '2012-01-04',\n",
       "               '2012-01-05', '2012-01-06'],\n",
       "              dtype='datetime64[ns]', freq='D')"
      ]
     },
     "execution_count": 7,
     "metadata": {},
     "output_type": "execute_result"
    }
   ],
   "source": [
    "dates"
   ]
  },
  {
   "cell_type": "code",
   "execution_count": 8,
   "metadata": {
    "collapsed": true
   },
   "outputs": [],
   "source": [
    "df = pd.DataFrame(np.random.randn(6,4),index=dates,columns=list('ABCD'))"
   ]
  },
  {
   "cell_type": "code",
   "execution_count": 9,
   "metadata": {
    "collapsed": false
   },
   "outputs": [
    {
     "data": {
      "text/html": [
       "<div>\n",
       "<table border=\"1\" class=\"dataframe\">\n",
       "  <thead>\n",
       "    <tr style=\"text-align: right;\">\n",
       "      <th></th>\n",
       "      <th>A</th>\n",
       "      <th>B</th>\n",
       "      <th>C</th>\n",
       "      <th>D</th>\n",
       "    </tr>\n",
       "  </thead>\n",
       "  <tbody>\n",
       "    <tr>\n",
       "      <th>2012-01-01</th>\n",
       "      <td>-0.141358</td>\n",
       "      <td>0.515122</td>\n",
       "      <td>0.535776</td>\n",
       "      <td>-0.102975</td>\n",
       "    </tr>\n",
       "    <tr>\n",
       "      <th>2012-01-02</th>\n",
       "      <td>0.960969</td>\n",
       "      <td>-0.996593</td>\n",
       "      <td>-1.328265</td>\n",
       "      <td>0.628583</td>\n",
       "    </tr>\n",
       "    <tr>\n",
       "      <th>2012-01-03</th>\n",
       "      <td>1.295228</td>\n",
       "      <td>0.247058</td>\n",
       "      <td>-0.311899</td>\n",
       "      <td>-1.085820</td>\n",
       "    </tr>\n",
       "    <tr>\n",
       "      <th>2012-01-04</th>\n",
       "      <td>-0.092972</td>\n",
       "      <td>0.906611</td>\n",
       "      <td>1.391475</td>\n",
       "      <td>0.212823</td>\n",
       "    </tr>\n",
       "    <tr>\n",
       "      <th>2012-01-05</th>\n",
       "      <td>1.494592</td>\n",
       "      <td>-0.061850</td>\n",
       "      <td>-0.192055</td>\n",
       "      <td>0.251388</td>\n",
       "    </tr>\n",
       "    <tr>\n",
       "      <th>2012-01-06</th>\n",
       "      <td>-0.147605</td>\n",
       "      <td>-0.218538</td>\n",
       "      <td>0.551034</td>\n",
       "      <td>-1.095484</td>\n",
       "    </tr>\n",
       "  </tbody>\n",
       "</table>\n",
       "</div>"
      ],
      "text/plain": [
       "                   A         B         C         D\n",
       "2012-01-01 -0.141358  0.515122  0.535776 -0.102975\n",
       "2012-01-02  0.960969 -0.996593 -1.328265  0.628583\n",
       "2012-01-03  1.295228  0.247058 -0.311899 -1.085820\n",
       "2012-01-04 -0.092972  0.906611  1.391475  0.212823\n",
       "2012-01-05  1.494592 -0.061850 -0.192055  0.251388\n",
       "2012-01-06 -0.147605 -0.218538  0.551034 -1.095484"
      ]
     },
     "execution_count": 9,
     "metadata": {},
     "output_type": "execute_result"
    }
   ],
   "source": [
    "df"
   ]
  },
  {
   "cell_type": "code",
   "execution_count": 10,
   "metadata": {
    "collapsed": true
   },
   "outputs": [],
   "source": [
    "# Creating DataFrame by passing a dict of objects that can be converted to series-like"
   ]
  },
  {
   "cell_type": "code",
   "execution_count": 11,
   "metadata": {
    "collapsed": true
   },
   "outputs": [],
   "source": [
    "df2 = pd.DataFrame({'A' : 1.,\n",
    "                  'B' : pd.Timestamp('20130102'),\n",
    "                  'C' : pd.Series(1,index=list(range(4)),dtype='float32'),\n",
    "                  'D' : np.array([3]*4,dtype='int32'),\n",
    "                  'E' : pd.Categorical([\"test\",\"train\",\"test\",\"train\"]),\n",
    "                  'F' : 'foo'})"
   ]
  },
  {
   "cell_type": "code",
   "execution_count": 12,
   "metadata": {
    "collapsed": false
   },
   "outputs": [
    {
     "data": {
      "text/html": [
       "<div>\n",
       "<table border=\"1\" class=\"dataframe\">\n",
       "  <thead>\n",
       "    <tr style=\"text-align: right;\">\n",
       "      <th></th>\n",
       "      <th>A</th>\n",
       "      <th>B</th>\n",
       "      <th>C</th>\n",
       "      <th>D</th>\n",
       "      <th>E</th>\n",
       "      <th>F</th>\n",
       "    </tr>\n",
       "  </thead>\n",
       "  <tbody>\n",
       "    <tr>\n",
       "      <th>0</th>\n",
       "      <td>1.0</td>\n",
       "      <td>2013-01-02</td>\n",
       "      <td>1.0</td>\n",
       "      <td>3</td>\n",
       "      <td>test</td>\n",
       "      <td>foo</td>\n",
       "    </tr>\n",
       "    <tr>\n",
       "      <th>1</th>\n",
       "      <td>1.0</td>\n",
       "      <td>2013-01-02</td>\n",
       "      <td>1.0</td>\n",
       "      <td>3</td>\n",
       "      <td>train</td>\n",
       "      <td>foo</td>\n",
       "    </tr>\n",
       "    <tr>\n",
       "      <th>2</th>\n",
       "      <td>1.0</td>\n",
       "      <td>2013-01-02</td>\n",
       "      <td>1.0</td>\n",
       "      <td>3</td>\n",
       "      <td>test</td>\n",
       "      <td>foo</td>\n",
       "    </tr>\n",
       "    <tr>\n",
       "      <th>3</th>\n",
       "      <td>1.0</td>\n",
       "      <td>2013-01-02</td>\n",
       "      <td>1.0</td>\n",
       "      <td>3</td>\n",
       "      <td>train</td>\n",
       "      <td>foo</td>\n",
       "    </tr>\n",
       "  </tbody>\n",
       "</table>\n",
       "</div>"
      ],
      "text/plain": [
       "     A          B    C  D      E    F\n",
       "0  1.0 2013-01-02  1.0  3   test  foo\n",
       "1  1.0 2013-01-02  1.0  3  train  foo\n",
       "2  1.0 2013-01-02  1.0  3   test  foo\n",
       "3  1.0 2013-01-02  1.0  3  train  foo"
      ]
     },
     "execution_count": 12,
     "metadata": {},
     "output_type": "execute_result"
    }
   ],
   "source": [
    "df2"
   ]
  },
  {
   "cell_type": "code",
   "execution_count": 13,
   "metadata": {
    "collapsed": false
   },
   "outputs": [
    {
     "data": {
      "text/plain": [
       "A           float64\n",
       "B    datetime64[ns]\n",
       "C           float32\n",
       "D             int32\n",
       "E          category\n",
       "F            object\n",
       "dtype: object"
      ]
     },
     "execution_count": 13,
     "metadata": {},
     "output_type": "execute_result"
    }
   ],
   "source": [
    "# Having specific dtypes\n",
    "df2.dtypes"
   ]
  },
  {
   "cell_type": "code",
   "execution_count": 14,
   "metadata": {
    "collapsed": true
   },
   "outputs": [],
   "source": [
    "# If you're using IPython, tab completion for column names (as well as public attributes) is automatically enabled.\n",
    "# Here's a subset of the attributes that will be completed:"
   ]
  },
  {
   "cell_type": "code",
   "execution_count": 16,
   "metadata": {
    "collapsed": true
   },
   "outputs": [],
   "source": [
    "# df2.<TAB>"
   ]
  },
  {
   "cell_type": "code",
   "execution_count": 17,
   "metadata": {
    "collapsed": true
   },
   "outputs": [],
   "source": [
    "########################################################\n",
    "#  Viewing Data\n",
    "########################################################"
   ]
  },
  {
   "cell_type": "code",
   "execution_count": 18,
   "metadata": {
    "collapsed": false
   },
   "outputs": [
    {
     "data": {
      "text/html": [
       "<div>\n",
       "<table border=\"1\" class=\"dataframe\">\n",
       "  <thead>\n",
       "    <tr style=\"text-align: right;\">\n",
       "      <th></th>\n",
       "      <th>A</th>\n",
       "      <th>B</th>\n",
       "      <th>C</th>\n",
       "      <th>D</th>\n",
       "    </tr>\n",
       "  </thead>\n",
       "  <tbody>\n",
       "    <tr>\n",
       "      <th>2012-01-01</th>\n",
       "      <td>-0.141358</td>\n",
       "      <td>0.515122</td>\n",
       "      <td>0.535776</td>\n",
       "      <td>-0.102975</td>\n",
       "    </tr>\n",
       "    <tr>\n",
       "      <th>2012-01-02</th>\n",
       "      <td>0.960969</td>\n",
       "      <td>-0.996593</td>\n",
       "      <td>-1.328265</td>\n",
       "      <td>0.628583</td>\n",
       "    </tr>\n",
       "    <tr>\n",
       "      <th>2012-01-03</th>\n",
       "      <td>1.295228</td>\n",
       "      <td>0.247058</td>\n",
       "      <td>-0.311899</td>\n",
       "      <td>-1.085820</td>\n",
       "    </tr>\n",
       "    <tr>\n",
       "      <th>2012-01-04</th>\n",
       "      <td>-0.092972</td>\n",
       "      <td>0.906611</td>\n",
       "      <td>1.391475</td>\n",
       "      <td>0.212823</td>\n",
       "    </tr>\n",
       "    <tr>\n",
       "      <th>2012-01-05</th>\n",
       "      <td>1.494592</td>\n",
       "      <td>-0.061850</td>\n",
       "      <td>-0.192055</td>\n",
       "      <td>0.251388</td>\n",
       "    </tr>\n",
       "  </tbody>\n",
       "</table>\n",
       "</div>"
      ],
      "text/plain": [
       "                   A         B         C         D\n",
       "2012-01-01 -0.141358  0.515122  0.535776 -0.102975\n",
       "2012-01-02  0.960969 -0.996593 -1.328265  0.628583\n",
       "2012-01-03  1.295228  0.247058 -0.311899 -1.085820\n",
       "2012-01-04 -0.092972  0.906611  1.391475  0.212823\n",
       "2012-01-05  1.494592 -0.061850 -0.192055  0.251388"
      ]
     },
     "execution_count": 18,
     "metadata": {},
     "output_type": "execute_result"
    }
   ],
   "source": [
    "df.head()"
   ]
  },
  {
   "cell_type": "code",
   "execution_count": 19,
   "metadata": {
    "collapsed": false
   },
   "outputs": [
    {
     "data": {
      "text/html": [
       "<div>\n",
       "<table border=\"1\" class=\"dataframe\">\n",
       "  <thead>\n",
       "    <tr style=\"text-align: right;\">\n",
       "      <th></th>\n",
       "      <th>A</th>\n",
       "      <th>B</th>\n",
       "      <th>C</th>\n",
       "      <th>D</th>\n",
       "    </tr>\n",
       "  </thead>\n",
       "  <tbody>\n",
       "    <tr>\n",
       "      <th>2012-01-04</th>\n",
       "      <td>-0.092972</td>\n",
       "      <td>0.906611</td>\n",
       "      <td>1.391475</td>\n",
       "      <td>0.212823</td>\n",
       "    </tr>\n",
       "    <tr>\n",
       "      <th>2012-01-05</th>\n",
       "      <td>1.494592</td>\n",
       "      <td>-0.061850</td>\n",
       "      <td>-0.192055</td>\n",
       "      <td>0.251388</td>\n",
       "    </tr>\n",
       "    <tr>\n",
       "      <th>2012-01-06</th>\n",
       "      <td>-0.147605</td>\n",
       "      <td>-0.218538</td>\n",
       "      <td>0.551034</td>\n",
       "      <td>-1.095484</td>\n",
       "    </tr>\n",
       "  </tbody>\n",
       "</table>\n",
       "</div>"
      ],
      "text/plain": [
       "                   A         B         C         D\n",
       "2012-01-04 -0.092972  0.906611  1.391475  0.212823\n",
       "2012-01-05  1.494592 -0.061850 -0.192055  0.251388\n",
       "2012-01-06 -0.147605 -0.218538  0.551034 -1.095484"
      ]
     },
     "execution_count": 19,
     "metadata": {},
     "output_type": "execute_result"
    }
   ],
   "source": [
    "df.tail(3)"
   ]
  },
  {
   "cell_type": "code",
   "execution_count": 20,
   "metadata": {
    "collapsed": false
   },
   "outputs": [
    {
     "data": {
      "text/plain": [
       "DatetimeIndex(['2012-01-01', '2012-01-02', '2012-01-03', '2012-01-04',\n",
       "               '2012-01-05', '2012-01-06'],\n",
       "              dtype='datetime64[ns]', freq='D')"
      ]
     },
     "execution_count": 20,
     "metadata": {},
     "output_type": "execute_result"
    }
   ],
   "source": [
    "df.index"
   ]
  },
  {
   "cell_type": "code",
   "execution_count": 21,
   "metadata": {
    "collapsed": false
   },
   "outputs": [
    {
     "data": {
      "text/plain": [
       "Index(['A', 'B', 'C', 'D'], dtype='object')"
      ]
     },
     "execution_count": 21,
     "metadata": {},
     "output_type": "execute_result"
    }
   ],
   "source": [
    "df.columns"
   ]
  },
  {
   "cell_type": "code",
   "execution_count": 22,
   "metadata": {
    "collapsed": false
   },
   "outputs": [
    {
     "data": {
      "text/plain": [
       "array([[-0.14135825,  0.51512243,  0.53577578, -0.10297474],\n",
       "       [ 0.96096949, -0.99659275, -1.32826543,  0.62858299],\n",
       "       [ 1.29522782,  0.24705763, -0.3118985 , -1.08581984],\n",
       "       [-0.09297225,  0.90661143,  1.39147465,  0.21282265],\n",
       "       [ 1.4945917 , -0.06185005, -0.19205501,  0.2513883 ],\n",
       "       [-0.14760456, -0.21853818,  0.55103385, -1.09548387]])"
      ]
     },
     "execution_count": 22,
     "metadata": {},
     "output_type": "execute_result"
    }
   ],
   "source": [
    "df.values"
   ]
  },
  {
   "cell_type": "code",
   "execution_count": 23,
   "metadata": {
    "collapsed": false
   },
   "outputs": [
    {
     "data": {
      "text/html": [
       "<div>\n",
       "<table border=\"1\" class=\"dataframe\">\n",
       "  <thead>\n",
       "    <tr style=\"text-align: right;\">\n",
       "      <th></th>\n",
       "      <th>A</th>\n",
       "      <th>B</th>\n",
       "      <th>C</th>\n",
       "      <th>D</th>\n",
       "    </tr>\n",
       "  </thead>\n",
       "  <tbody>\n",
       "    <tr>\n",
       "      <th>count</th>\n",
       "      <td>6.000000</td>\n",
       "      <td>6.000000</td>\n",
       "      <td>6.000000</td>\n",
       "      <td>6.000000</td>\n",
       "    </tr>\n",
       "    <tr>\n",
       "      <th>mean</th>\n",
       "      <td>0.561476</td>\n",
       "      <td>0.065302</td>\n",
       "      <td>0.107678</td>\n",
       "      <td>-0.198581</td>\n",
       "    </tr>\n",
       "    <tr>\n",
       "      <th>std</th>\n",
       "      <td>0.773791</td>\n",
       "      <td>0.658411</td>\n",
       "      <td>0.933358</td>\n",
       "      <td>0.728930</td>\n",
       "    </tr>\n",
       "    <tr>\n",
       "      <th>min</th>\n",
       "      <td>-0.147605</td>\n",
       "      <td>-0.996593</td>\n",
       "      <td>-1.328265</td>\n",
       "      <td>-1.095484</td>\n",
       "    </tr>\n",
       "    <tr>\n",
       "      <th>25%</th>\n",
       "      <td>-0.129262</td>\n",
       "      <td>-0.179366</td>\n",
       "      <td>-0.281938</td>\n",
       "      <td>-0.840109</td>\n",
       "    </tr>\n",
       "    <tr>\n",
       "      <th>50%</th>\n",
       "      <td>0.433999</td>\n",
       "      <td>0.092604</td>\n",
       "      <td>0.171860</td>\n",
       "      <td>0.054924</td>\n",
       "    </tr>\n",
       "    <tr>\n",
       "      <th>75%</th>\n",
       "      <td>1.211663</td>\n",
       "      <td>0.448106</td>\n",
       "      <td>0.547219</td>\n",
       "      <td>0.241747</td>\n",
       "    </tr>\n",
       "    <tr>\n",
       "      <th>max</th>\n",
       "      <td>1.494592</td>\n",
       "      <td>0.906611</td>\n",
       "      <td>1.391475</td>\n",
       "      <td>0.628583</td>\n",
       "    </tr>\n",
       "  </tbody>\n",
       "</table>\n",
       "</div>"
      ],
      "text/plain": [
       "              A         B         C         D\n",
       "count  6.000000  6.000000  6.000000  6.000000\n",
       "mean   0.561476  0.065302  0.107678 -0.198581\n",
       "std    0.773791  0.658411  0.933358  0.728930\n",
       "min   -0.147605 -0.996593 -1.328265 -1.095484\n",
       "25%   -0.129262 -0.179366 -0.281938 -0.840109\n",
       "50%    0.433999  0.092604  0.171860  0.054924\n",
       "75%    1.211663  0.448106  0.547219  0.241747\n",
       "max    1.494592  0.906611  1.391475  0.628583"
      ]
     },
     "execution_count": 23,
     "metadata": {},
     "output_type": "execute_result"
    }
   ],
   "source": [
    "df.describe()"
   ]
  },
  {
   "cell_type": "code",
   "execution_count": 24,
   "metadata": {
    "collapsed": false
   },
   "outputs": [
    {
     "data": {
      "text/html": [
       "<div>\n",
       "<table border=\"1\" class=\"dataframe\">\n",
       "  <thead>\n",
       "    <tr style=\"text-align: right;\">\n",
       "      <th></th>\n",
       "      <th>2012-01-01 00:00:00</th>\n",
       "      <th>2012-01-02 00:00:00</th>\n",
       "      <th>2012-01-03 00:00:00</th>\n",
       "      <th>2012-01-04 00:00:00</th>\n",
       "      <th>2012-01-05 00:00:00</th>\n",
       "      <th>2012-01-06 00:00:00</th>\n",
       "    </tr>\n",
       "  </thead>\n",
       "  <tbody>\n",
       "    <tr>\n",
       "      <th>A</th>\n",
       "      <td>-0.141358</td>\n",
       "      <td>0.960969</td>\n",
       "      <td>1.295228</td>\n",
       "      <td>-0.092972</td>\n",
       "      <td>1.494592</td>\n",
       "      <td>-0.147605</td>\n",
       "    </tr>\n",
       "    <tr>\n",
       "      <th>B</th>\n",
       "      <td>0.515122</td>\n",
       "      <td>-0.996593</td>\n",
       "      <td>0.247058</td>\n",
       "      <td>0.906611</td>\n",
       "      <td>-0.061850</td>\n",
       "      <td>-0.218538</td>\n",
       "    </tr>\n",
       "    <tr>\n",
       "      <th>C</th>\n",
       "      <td>0.535776</td>\n",
       "      <td>-1.328265</td>\n",
       "      <td>-0.311899</td>\n",
       "      <td>1.391475</td>\n",
       "      <td>-0.192055</td>\n",
       "      <td>0.551034</td>\n",
       "    </tr>\n",
       "    <tr>\n",
       "      <th>D</th>\n",
       "      <td>-0.102975</td>\n",
       "      <td>0.628583</td>\n",
       "      <td>-1.085820</td>\n",
       "      <td>0.212823</td>\n",
       "      <td>0.251388</td>\n",
       "      <td>-1.095484</td>\n",
       "    </tr>\n",
       "  </tbody>\n",
       "</table>\n",
       "</div>"
      ],
      "text/plain": [
       "   2012-01-01  2012-01-02  2012-01-03  2012-01-04  2012-01-05  2012-01-06\n",
       "A   -0.141358    0.960969    1.295228   -0.092972    1.494592   -0.147605\n",
       "B    0.515122   -0.996593    0.247058    0.906611   -0.061850   -0.218538\n",
       "C    0.535776   -1.328265   -0.311899    1.391475   -0.192055    0.551034\n",
       "D   -0.102975    0.628583   -1.085820    0.212823    0.251388   -1.095484"
      ]
     },
     "execution_count": 24,
     "metadata": {},
     "output_type": "execute_result"
    }
   ],
   "source": [
    "df.T"
   ]
  },
  {
   "cell_type": "code",
   "execution_count": 25,
   "metadata": {
    "collapsed": false
   },
   "outputs": [
    {
     "data": {
      "text/html": [
       "<div>\n",
       "<table border=\"1\" class=\"dataframe\">\n",
       "  <thead>\n",
       "    <tr style=\"text-align: right;\">\n",
       "      <th></th>\n",
       "      <th>D</th>\n",
       "      <th>C</th>\n",
       "      <th>B</th>\n",
       "      <th>A</th>\n",
       "    </tr>\n",
       "  </thead>\n",
       "  <tbody>\n",
       "    <tr>\n",
       "      <th>2012-01-01</th>\n",
       "      <td>-0.102975</td>\n",
       "      <td>0.535776</td>\n",
       "      <td>0.515122</td>\n",
       "      <td>-0.141358</td>\n",
       "    </tr>\n",
       "    <tr>\n",
       "      <th>2012-01-02</th>\n",
       "      <td>0.628583</td>\n",
       "      <td>-1.328265</td>\n",
       "      <td>-0.996593</td>\n",
       "      <td>0.960969</td>\n",
       "    </tr>\n",
       "    <tr>\n",
       "      <th>2012-01-03</th>\n",
       "      <td>-1.085820</td>\n",
       "      <td>-0.311899</td>\n",
       "      <td>0.247058</td>\n",
       "      <td>1.295228</td>\n",
       "    </tr>\n",
       "    <tr>\n",
       "      <th>2012-01-04</th>\n",
       "      <td>0.212823</td>\n",
       "      <td>1.391475</td>\n",
       "      <td>0.906611</td>\n",
       "      <td>-0.092972</td>\n",
       "    </tr>\n",
       "    <tr>\n",
       "      <th>2012-01-05</th>\n",
       "      <td>0.251388</td>\n",
       "      <td>-0.192055</td>\n",
       "      <td>-0.061850</td>\n",
       "      <td>1.494592</td>\n",
       "    </tr>\n",
       "    <tr>\n",
       "      <th>2012-01-06</th>\n",
       "      <td>-1.095484</td>\n",
       "      <td>0.551034</td>\n",
       "      <td>-0.218538</td>\n",
       "      <td>-0.147605</td>\n",
       "    </tr>\n",
       "  </tbody>\n",
       "</table>\n",
       "</div>"
      ],
      "text/plain": [
       "                   D         C         B         A\n",
       "2012-01-01 -0.102975  0.535776  0.515122 -0.141358\n",
       "2012-01-02  0.628583 -1.328265 -0.996593  0.960969\n",
       "2012-01-03 -1.085820 -0.311899  0.247058  1.295228\n",
       "2012-01-04  0.212823  1.391475  0.906611 -0.092972\n",
       "2012-01-05  0.251388 -0.192055 -0.061850  1.494592\n",
       "2012-01-06 -1.095484  0.551034 -0.218538 -0.147605"
      ]
     },
     "execution_count": 25,
     "metadata": {},
     "output_type": "execute_result"
    }
   ],
   "source": [
    "# Sorting by an axis\n",
    "df.sort_index(axis=1, ascending=False)"
   ]
  },
  {
   "cell_type": "code",
   "execution_count": 26,
   "metadata": {
    "collapsed": false
   },
   "outputs": [
    {
     "data": {
      "text/html": [
       "<div>\n",
       "<table border=\"1\" class=\"dataframe\">\n",
       "  <thead>\n",
       "    <tr style=\"text-align: right;\">\n",
       "      <th></th>\n",
       "      <th>A</th>\n",
       "      <th>B</th>\n",
       "      <th>C</th>\n",
       "      <th>D</th>\n",
       "    </tr>\n",
       "  </thead>\n",
       "  <tbody>\n",
       "    <tr>\n",
       "      <th>2012-01-02</th>\n",
       "      <td>0.960969</td>\n",
       "      <td>-0.996593</td>\n",
       "      <td>-1.328265</td>\n",
       "      <td>0.628583</td>\n",
       "    </tr>\n",
       "    <tr>\n",
       "      <th>2012-01-06</th>\n",
       "      <td>-0.147605</td>\n",
       "      <td>-0.218538</td>\n",
       "      <td>0.551034</td>\n",
       "      <td>-1.095484</td>\n",
       "    </tr>\n",
       "    <tr>\n",
       "      <th>2012-01-05</th>\n",
       "      <td>1.494592</td>\n",
       "      <td>-0.061850</td>\n",
       "      <td>-0.192055</td>\n",
       "      <td>0.251388</td>\n",
       "    </tr>\n",
       "    <tr>\n",
       "      <th>2012-01-03</th>\n",
       "      <td>1.295228</td>\n",
       "      <td>0.247058</td>\n",
       "      <td>-0.311899</td>\n",
       "      <td>-1.085820</td>\n",
       "    </tr>\n",
       "    <tr>\n",
       "      <th>2012-01-01</th>\n",
       "      <td>-0.141358</td>\n",
       "      <td>0.515122</td>\n",
       "      <td>0.535776</td>\n",
       "      <td>-0.102975</td>\n",
       "    </tr>\n",
       "    <tr>\n",
       "      <th>2012-01-04</th>\n",
       "      <td>-0.092972</td>\n",
       "      <td>0.906611</td>\n",
       "      <td>1.391475</td>\n",
       "      <td>0.212823</td>\n",
       "    </tr>\n",
       "  </tbody>\n",
       "</table>\n",
       "</div>"
      ],
      "text/plain": [
       "                   A         B         C         D\n",
       "2012-01-02  0.960969 -0.996593 -1.328265  0.628583\n",
       "2012-01-06 -0.147605 -0.218538  0.551034 -1.095484\n",
       "2012-01-05  1.494592 -0.061850 -0.192055  0.251388\n",
       "2012-01-03  1.295228  0.247058 -0.311899 -1.085820\n",
       "2012-01-01 -0.141358  0.515122  0.535776 -0.102975\n",
       "2012-01-04 -0.092972  0.906611  1.391475  0.212823"
      ]
     },
     "execution_count": 26,
     "metadata": {},
     "output_type": "execute_result"
    }
   ],
   "source": [
    "df.sort_values(by='B')"
   ]
  },
  {
   "cell_type": "code",
   "execution_count": 27,
   "metadata": {
    "collapsed": true
   },
   "outputs": [],
   "source": [
    "#############################################\n",
    "# Selection\n",
    "#############################################"
   ]
  },
  {
   "cell_type": "markdown",
   "metadata": {},
   "source": [
    "Note: While standard Python/Numpy expressions for selecting and setting are intuitive and come in handy for intetactive work, for production code, we recommend the optimized pandas access methods, .at, .iat, .loc, .iloc and .ix"
   ]
  },
  {
   "cell_type": "code",
   "execution_count": 39,
   "metadata": {
    "collapsed": true
   },
   "outputs": [],
   "source": [
    "# Selection by label"
   ]
  },
  {
   "cell_type": "code",
   "execution_count": 28,
   "metadata": {
    "collapsed": false
   },
   "outputs": [
    {
     "data": {
      "text/plain": [
       "2012-01-01   -0.141358\n",
       "2012-01-02    0.960969\n",
       "2012-01-03    1.295228\n",
       "2012-01-04   -0.092972\n",
       "2012-01-05    1.494592\n",
       "2012-01-06   -0.147605\n",
       "Freq: D, Name: A, dtype: float64"
      ]
     },
     "execution_count": 28,
     "metadata": {},
     "output_type": "execute_result"
    }
   ],
   "source": [
    "# Selecting a single column, which yield a Series, equivalent to df.A\n",
    "df['A']"
   ]
  },
  {
   "cell_type": "code",
   "execution_count": 29,
   "metadata": {
    "collapsed": true
   },
   "outputs": [],
   "source": [
    "# Selecting via [], which slices the rows."
   ]
  },
  {
   "cell_type": "code",
   "execution_count": 30,
   "metadata": {
    "collapsed": false
   },
   "outputs": [
    {
     "data": {
      "text/html": [
       "<div>\n",
       "<table border=\"1\" class=\"dataframe\">\n",
       "  <thead>\n",
       "    <tr style=\"text-align: right;\">\n",
       "      <th></th>\n",
       "      <th>A</th>\n",
       "      <th>B</th>\n",
       "      <th>C</th>\n",
       "      <th>D</th>\n",
       "    </tr>\n",
       "  </thead>\n",
       "  <tbody>\n",
       "    <tr>\n",
       "      <th>2012-01-01</th>\n",
       "      <td>-0.141358</td>\n",
       "      <td>0.515122</td>\n",
       "      <td>0.535776</td>\n",
       "      <td>-0.102975</td>\n",
       "    </tr>\n",
       "    <tr>\n",
       "      <th>2012-01-02</th>\n",
       "      <td>0.960969</td>\n",
       "      <td>-0.996593</td>\n",
       "      <td>-1.328265</td>\n",
       "      <td>0.628583</td>\n",
       "    </tr>\n",
       "    <tr>\n",
       "      <th>2012-01-03</th>\n",
       "      <td>1.295228</td>\n",
       "      <td>0.247058</td>\n",
       "      <td>-0.311899</td>\n",
       "      <td>-1.085820</td>\n",
       "    </tr>\n",
       "  </tbody>\n",
       "</table>\n",
       "</div>"
      ],
      "text/plain": [
       "                   A         B         C         D\n",
       "2012-01-01 -0.141358  0.515122  0.535776 -0.102975\n",
       "2012-01-02  0.960969 -0.996593 -1.328265  0.628583\n",
       "2012-01-03  1.295228  0.247058 -0.311899 -1.085820"
      ]
     },
     "execution_count": 30,
     "metadata": {},
     "output_type": "execute_result"
    }
   ],
   "source": [
    "df[0:3]"
   ]
  },
  {
   "cell_type": "code",
   "execution_count": 32,
   "metadata": {
    "collapsed": false
   },
   "outputs": [
    {
     "data": {
      "text/html": [
       "<div>\n",
       "<table border=\"1\" class=\"dataframe\">\n",
       "  <thead>\n",
       "    <tr style=\"text-align: right;\">\n",
       "      <th></th>\n",
       "      <th>A</th>\n",
       "      <th>B</th>\n",
       "      <th>C</th>\n",
       "      <th>D</th>\n",
       "    </tr>\n",
       "  </thead>\n",
       "  <tbody>\n",
       "    <tr>\n",
       "      <th>2012-01-02</th>\n",
       "      <td>0.960969</td>\n",
       "      <td>-0.996593</td>\n",
       "      <td>-1.328265</td>\n",
       "      <td>0.628583</td>\n",
       "    </tr>\n",
       "    <tr>\n",
       "      <th>2012-01-03</th>\n",
       "      <td>1.295228</td>\n",
       "      <td>0.247058</td>\n",
       "      <td>-0.311899</td>\n",
       "      <td>-1.085820</td>\n",
       "    </tr>\n",
       "    <tr>\n",
       "      <th>2012-01-04</th>\n",
       "      <td>-0.092972</td>\n",
       "      <td>0.906611</td>\n",
       "      <td>1.391475</td>\n",
       "      <td>0.212823</td>\n",
       "    </tr>\n",
       "  </tbody>\n",
       "</table>\n",
       "</div>"
      ],
      "text/plain": [
       "                   A         B         C         D\n",
       "2012-01-02  0.960969 -0.996593 -1.328265  0.628583\n",
       "2012-01-03  1.295228  0.247058 -0.311899 -1.085820\n",
       "2012-01-04 -0.092972  0.906611  1.391475  0.212823"
      ]
     },
     "execution_count": 32,
     "metadata": {},
     "output_type": "execute_result"
    }
   ],
   "source": [
    "df['20120102':'20120104']"
   ]
  },
  {
   "cell_type": "code",
   "execution_count": 33,
   "metadata": {
    "collapsed": false
   },
   "outputs": [
    {
     "data": {
      "text/plain": [
       "A   -0.141358\n",
       "B    0.515122\n",
       "C    0.535776\n",
       "D   -0.102975\n",
       "Name: 2012-01-01 00:00:00, dtype: float64"
      ]
     },
     "execution_count": 33,
     "metadata": {},
     "output_type": "execute_result"
    }
   ],
   "source": [
    "# For geting a cross section using a label\n",
    "df.loc[dates[0]] # get the row that corresponding the dates[0]"
   ]
  },
  {
   "cell_type": "code",
   "execution_count": 34,
   "metadata": {
    "collapsed": false
   },
   "outputs": [
    {
     "data": {
      "text/html": [
       "<div>\n",
       "<table border=\"1\" class=\"dataframe\">\n",
       "  <thead>\n",
       "    <tr style=\"text-align: right;\">\n",
       "      <th></th>\n",
       "      <th>A</th>\n",
       "      <th>B</th>\n",
       "    </tr>\n",
       "  </thead>\n",
       "  <tbody>\n",
       "    <tr>\n",
       "      <th>2012-01-01</th>\n",
       "      <td>-0.141358</td>\n",
       "      <td>0.515122</td>\n",
       "    </tr>\n",
       "    <tr>\n",
       "      <th>2012-01-02</th>\n",
       "      <td>0.960969</td>\n",
       "      <td>-0.996593</td>\n",
       "    </tr>\n",
       "    <tr>\n",
       "      <th>2012-01-03</th>\n",
       "      <td>1.295228</td>\n",
       "      <td>0.247058</td>\n",
       "    </tr>\n",
       "    <tr>\n",
       "      <th>2012-01-04</th>\n",
       "      <td>-0.092972</td>\n",
       "      <td>0.906611</td>\n",
       "    </tr>\n",
       "    <tr>\n",
       "      <th>2012-01-05</th>\n",
       "      <td>1.494592</td>\n",
       "      <td>-0.061850</td>\n",
       "    </tr>\n",
       "    <tr>\n",
       "      <th>2012-01-06</th>\n",
       "      <td>-0.147605</td>\n",
       "      <td>-0.218538</td>\n",
       "    </tr>\n",
       "  </tbody>\n",
       "</table>\n",
       "</div>"
      ],
      "text/plain": [
       "                   A         B\n",
       "2012-01-01 -0.141358  0.515122\n",
       "2012-01-02  0.960969 -0.996593\n",
       "2012-01-03  1.295228  0.247058\n",
       "2012-01-04 -0.092972  0.906611\n",
       "2012-01-05  1.494592 -0.061850\n",
       "2012-01-06 -0.147605 -0.218538"
      ]
     },
     "execution_count": 34,
     "metadata": {},
     "output_type": "execute_result"
    }
   ],
   "source": [
    "# Selecting on a multi-axis by label\n",
    "df.loc[:,['A','B']]"
   ]
  },
  {
   "cell_type": "code",
   "execution_count": 35,
   "metadata": {
    "collapsed": false
   },
   "outputs": [
    {
     "data": {
      "text/html": [
       "<div>\n",
       "<table border=\"1\" class=\"dataframe\">\n",
       "  <thead>\n",
       "    <tr style=\"text-align: right;\">\n",
       "      <th></th>\n",
       "      <th>A</th>\n",
       "      <th>B</th>\n",
       "    </tr>\n",
       "  </thead>\n",
       "  <tbody>\n",
       "    <tr>\n",
       "      <th>2012-01-02</th>\n",
       "      <td>0.960969</td>\n",
       "      <td>-0.996593</td>\n",
       "    </tr>\n",
       "    <tr>\n",
       "      <th>2012-01-03</th>\n",
       "      <td>1.295228</td>\n",
       "      <td>0.247058</td>\n",
       "    </tr>\n",
       "    <tr>\n",
       "      <th>2012-01-04</th>\n",
       "      <td>-0.092972</td>\n",
       "      <td>0.906611</td>\n",
       "    </tr>\n",
       "  </tbody>\n",
       "</table>\n",
       "</div>"
      ],
      "text/plain": [
       "                   A         B\n",
       "2012-01-02  0.960969 -0.996593\n",
       "2012-01-03  1.295228  0.247058\n",
       "2012-01-04 -0.092972  0.906611"
      ]
     },
     "execution_count": 35,
     "metadata": {},
     "output_type": "execute_result"
    }
   ],
   "source": [
    "# Showing label slicing, both endpoints are included\n",
    "df.loc['20120102':'20120104',['A','B']]"
   ]
  },
  {
   "cell_type": "code",
   "execution_count": 37,
   "metadata": {
    "collapsed": false
   },
   "outputs": [
    {
     "data": {
      "text/plain": [
       "A    0.960969\n",
       "B   -0.996593\n",
       "Name: 2012-01-02 00:00:00, dtype: float64"
      ]
     },
     "execution_count": 37,
     "metadata": {},
     "output_type": "execute_result"
    }
   ],
   "source": [
    "# Reduction in the dimensions of the returned object\n",
    "df.loc['20120102',['A','B']]"
   ]
  },
  {
   "cell_type": "code",
   "execution_count": 38,
   "metadata": {
    "collapsed": false
   },
   "outputs": [
    {
     "data": {
      "text/plain": [
       "-0.14135824762594176"
      ]
     },
     "execution_count": 38,
     "metadata": {},
     "output_type": "execute_result"
    }
   ],
   "source": [
    "# For getting a scalar value\n",
    "df.loc[dates[0],'A']"
   ]
  },
  {
   "cell_type": "code",
   "execution_count": 40,
   "metadata": {
    "collapsed": true
   },
   "outputs": [],
   "source": [
    "### Selection by Position"
   ]
  },
  {
   "cell_type": "code",
   "execution_count": 41,
   "metadata": {
    "collapsed": false
   },
   "outputs": [
    {
     "data": {
      "text/plain": [
       "A   -0.092972\n",
       "B    0.906611\n",
       "C    1.391475\n",
       "D    0.212823\n",
       "Name: 2012-01-04 00:00:00, dtype: float64"
      ]
     },
     "execution_count": 41,
     "metadata": {},
     "output_type": "execute_result"
    }
   ],
   "source": [
    "# Select via the position of the passed integers\n",
    "df.iloc[3] # get the third row"
   ]
  },
  {
   "cell_type": "code",
   "execution_count": 42,
   "metadata": {
    "collapsed": false
   },
   "outputs": [
    {
     "data": {
      "text/html": [
       "<div>\n",
       "<table border=\"1\" class=\"dataframe\">\n",
       "  <thead>\n",
       "    <tr style=\"text-align: right;\">\n",
       "      <th></th>\n",
       "      <th>A</th>\n",
       "      <th>B</th>\n",
       "    </tr>\n",
       "  </thead>\n",
       "  <tbody>\n",
       "    <tr>\n",
       "      <th>2012-01-04</th>\n",
       "      <td>-0.092972</td>\n",
       "      <td>0.906611</td>\n",
       "    </tr>\n",
       "    <tr>\n",
       "      <th>2012-01-05</th>\n",
       "      <td>1.494592</td>\n",
       "      <td>-0.061850</td>\n",
       "    </tr>\n",
       "  </tbody>\n",
       "</table>\n",
       "</div>"
      ],
      "text/plain": [
       "                   A         B\n",
       "2012-01-04 -0.092972  0.906611\n",
       "2012-01-05  1.494592 -0.061850"
      ]
     },
     "execution_count": 42,
     "metadata": {},
     "output_type": "execute_result"
    }
   ],
   "source": [
    "# By integer slices, acting similar to numpy/python\n",
    "df.iloc[3:5,0:2]"
   ]
  },
  {
   "cell_type": "code",
   "execution_count": 43,
   "metadata": {
    "collapsed": false
   },
   "outputs": [
    {
     "data": {
      "text/html": [
       "<div>\n",
       "<table border=\"1\" class=\"dataframe\">\n",
       "  <thead>\n",
       "    <tr style=\"text-align: right;\">\n",
       "      <th></th>\n",
       "      <th>A</th>\n",
       "      <th>C</th>\n",
       "    </tr>\n",
       "  </thead>\n",
       "  <tbody>\n",
       "    <tr>\n",
       "      <th>2012-01-02</th>\n",
       "      <td>0.960969</td>\n",
       "      <td>-1.328265</td>\n",
       "    </tr>\n",
       "    <tr>\n",
       "      <th>2012-01-03</th>\n",
       "      <td>1.295228</td>\n",
       "      <td>-0.311899</td>\n",
       "    </tr>\n",
       "    <tr>\n",
       "      <th>2012-01-05</th>\n",
       "      <td>1.494592</td>\n",
       "      <td>-0.192055</td>\n",
       "    </tr>\n",
       "  </tbody>\n",
       "</table>\n",
       "</div>"
      ],
      "text/plain": [
       "                   A         C\n",
       "2012-01-02  0.960969 -1.328265\n",
       "2012-01-03  1.295228 -0.311899\n",
       "2012-01-05  1.494592 -0.192055"
      ]
     },
     "execution_count": 43,
     "metadata": {},
     "output_type": "execute_result"
    }
   ],
   "source": [
    "df.iloc[[1,2,4],[0,2]]"
   ]
  },
  {
   "cell_type": "code",
   "execution_count": 44,
   "metadata": {
    "collapsed": false
   },
   "outputs": [
    {
     "data": {
      "text/html": [
       "<div>\n",
       "<table border=\"1\" class=\"dataframe\">\n",
       "  <thead>\n",
       "    <tr style=\"text-align: right;\">\n",
       "      <th></th>\n",
       "      <th>A</th>\n",
       "      <th>B</th>\n",
       "      <th>C</th>\n",
       "      <th>D</th>\n",
       "    </tr>\n",
       "  </thead>\n",
       "  <tbody>\n",
       "    <tr>\n",
       "      <th>2012-01-02</th>\n",
       "      <td>0.960969</td>\n",
       "      <td>-0.996593</td>\n",
       "      <td>-1.328265</td>\n",
       "      <td>0.628583</td>\n",
       "    </tr>\n",
       "    <tr>\n",
       "      <th>2012-01-03</th>\n",
       "      <td>1.295228</td>\n",
       "      <td>0.247058</td>\n",
       "      <td>-0.311899</td>\n",
       "      <td>-1.085820</td>\n",
       "    </tr>\n",
       "  </tbody>\n",
       "</table>\n",
       "</div>"
      ],
      "text/plain": [
       "                   A         B         C         D\n",
       "2012-01-02  0.960969 -0.996593 -1.328265  0.628583\n",
       "2012-01-03  1.295228  0.247058 -0.311899 -1.085820"
      ]
     },
     "execution_count": 44,
     "metadata": {},
     "output_type": "execute_result"
    }
   ],
   "source": [
    "df.iloc[1:3,:]"
   ]
  },
  {
   "cell_type": "code",
   "execution_count": 45,
   "metadata": {
    "collapsed": false
   },
   "outputs": [
    {
     "data": {
      "text/html": [
       "<div>\n",
       "<table border=\"1\" class=\"dataframe\">\n",
       "  <thead>\n",
       "    <tr style=\"text-align: right;\">\n",
       "      <th></th>\n",
       "      <th>B</th>\n",
       "      <th>C</th>\n",
       "    </tr>\n",
       "  </thead>\n",
       "  <tbody>\n",
       "    <tr>\n",
       "      <th>2012-01-01</th>\n",
       "      <td>0.515122</td>\n",
       "      <td>0.535776</td>\n",
       "    </tr>\n",
       "    <tr>\n",
       "      <th>2012-01-02</th>\n",
       "      <td>-0.996593</td>\n",
       "      <td>-1.328265</td>\n",
       "    </tr>\n",
       "    <tr>\n",
       "      <th>2012-01-03</th>\n",
       "      <td>0.247058</td>\n",
       "      <td>-0.311899</td>\n",
       "    </tr>\n",
       "    <tr>\n",
       "      <th>2012-01-04</th>\n",
       "      <td>0.906611</td>\n",
       "      <td>1.391475</td>\n",
       "    </tr>\n",
       "    <tr>\n",
       "      <th>2012-01-05</th>\n",
       "      <td>-0.061850</td>\n",
       "      <td>-0.192055</td>\n",
       "    </tr>\n",
       "    <tr>\n",
       "      <th>2012-01-06</th>\n",
       "      <td>-0.218538</td>\n",
       "      <td>0.551034</td>\n",
       "    </tr>\n",
       "  </tbody>\n",
       "</table>\n",
       "</div>"
      ],
      "text/plain": [
       "                   B         C\n",
       "2012-01-01  0.515122  0.535776\n",
       "2012-01-02 -0.996593 -1.328265\n",
       "2012-01-03  0.247058 -0.311899\n",
       "2012-01-04  0.906611  1.391475\n",
       "2012-01-05 -0.061850 -0.192055\n",
       "2012-01-06 -0.218538  0.551034"
      ]
     },
     "execution_count": 45,
     "metadata": {},
     "output_type": "execute_result"
    }
   ],
   "source": [
    "df.iloc[:,1:3]"
   ]
  },
  {
   "cell_type": "code",
   "execution_count": 46,
   "metadata": {
    "collapsed": false
   },
   "outputs": [
    {
     "data": {
      "text/plain": [
       "-0.99659275425908289"
      ]
     },
     "execution_count": 46,
     "metadata": {},
     "output_type": "execute_result"
    }
   ],
   "source": [
    "df.iloc[1,1]"
   ]
  },
  {
   "cell_type": "code",
   "execution_count": 47,
   "metadata": {
    "collapsed": true
   },
   "outputs": [],
   "source": [
    "### Boolean Indexing"
   ]
  },
  {
   "cell_type": "code",
   "execution_count": 48,
   "metadata": {
    "collapsed": false
   },
   "outputs": [
    {
     "data": {
      "text/html": [
       "<div>\n",
       "<table border=\"1\" class=\"dataframe\">\n",
       "  <thead>\n",
       "    <tr style=\"text-align: right;\">\n",
       "      <th></th>\n",
       "      <th>A</th>\n",
       "      <th>B</th>\n",
       "      <th>C</th>\n",
       "      <th>D</th>\n",
       "    </tr>\n",
       "  </thead>\n",
       "  <tbody>\n",
       "    <tr>\n",
       "      <th>2012-01-02</th>\n",
       "      <td>0.960969</td>\n",
       "      <td>-0.996593</td>\n",
       "      <td>-1.328265</td>\n",
       "      <td>0.628583</td>\n",
       "    </tr>\n",
       "    <tr>\n",
       "      <th>2012-01-03</th>\n",
       "      <td>1.295228</td>\n",
       "      <td>0.247058</td>\n",
       "      <td>-0.311899</td>\n",
       "      <td>-1.085820</td>\n",
       "    </tr>\n",
       "    <tr>\n",
       "      <th>2012-01-05</th>\n",
       "      <td>1.494592</td>\n",
       "      <td>-0.061850</td>\n",
       "      <td>-0.192055</td>\n",
       "      <td>0.251388</td>\n",
       "    </tr>\n",
       "  </tbody>\n",
       "</table>\n",
       "</div>"
      ],
      "text/plain": [
       "                   A         B         C         D\n",
       "2012-01-02  0.960969 -0.996593 -1.328265  0.628583\n",
       "2012-01-03  1.295228  0.247058 -0.311899 -1.085820\n",
       "2012-01-05  1.494592 -0.061850 -0.192055  0.251388"
      ]
     },
     "execution_count": 48,
     "metadata": {},
     "output_type": "execute_result"
    }
   ],
   "source": [
    "# Using a single column's value to select data\n",
    "df[df.A > 0]"
   ]
  },
  {
   "cell_type": "code",
   "execution_count": 50,
   "metadata": {
    "collapsed": false
   },
   "outputs": [
    {
     "data": {
      "text/html": [
       "<div>\n",
       "<table border=\"1\" class=\"dataframe\">\n",
       "  <thead>\n",
       "    <tr style=\"text-align: right;\">\n",
       "      <th></th>\n",
       "      <th>A</th>\n",
       "      <th>B</th>\n",
       "      <th>C</th>\n",
       "      <th>D</th>\n",
       "    </tr>\n",
       "  </thead>\n",
       "  <tbody>\n",
       "    <tr>\n",
       "      <th>2012-01-01</th>\n",
       "      <td>NaN</td>\n",
       "      <td>0.515122</td>\n",
       "      <td>0.535776</td>\n",
       "      <td>NaN</td>\n",
       "    </tr>\n",
       "    <tr>\n",
       "      <th>2012-01-02</th>\n",
       "      <td>0.960969</td>\n",
       "      <td>NaN</td>\n",
       "      <td>NaN</td>\n",
       "      <td>0.628583</td>\n",
       "    </tr>\n",
       "    <tr>\n",
       "      <th>2012-01-03</th>\n",
       "      <td>1.295228</td>\n",
       "      <td>0.247058</td>\n",
       "      <td>NaN</td>\n",
       "      <td>NaN</td>\n",
       "    </tr>\n",
       "    <tr>\n",
       "      <th>2012-01-04</th>\n",
       "      <td>NaN</td>\n",
       "      <td>0.906611</td>\n",
       "      <td>1.391475</td>\n",
       "      <td>0.212823</td>\n",
       "    </tr>\n",
       "    <tr>\n",
       "      <th>2012-01-05</th>\n",
       "      <td>1.494592</td>\n",
       "      <td>NaN</td>\n",
       "      <td>NaN</td>\n",
       "      <td>0.251388</td>\n",
       "    </tr>\n",
       "    <tr>\n",
       "      <th>2012-01-06</th>\n",
       "      <td>NaN</td>\n",
       "      <td>NaN</td>\n",
       "      <td>0.551034</td>\n",
       "      <td>NaN</td>\n",
       "    </tr>\n",
       "  </tbody>\n",
       "</table>\n",
       "</div>"
      ],
      "text/plain": [
       "                   A         B         C         D\n",
       "2012-01-01       NaN  0.515122  0.535776       NaN\n",
       "2012-01-02  0.960969       NaN       NaN  0.628583\n",
       "2012-01-03  1.295228  0.247058       NaN       NaN\n",
       "2012-01-04       NaN  0.906611  1.391475  0.212823\n",
       "2012-01-05  1.494592       NaN       NaN  0.251388\n",
       "2012-01-06       NaN       NaN  0.551034       NaN"
      ]
     },
     "execution_count": 50,
     "metadata": {},
     "output_type": "execute_result"
    }
   ],
   "source": [
    "# A where operation for getting\n",
    "df[df > 0]"
   ]
  },
  {
   "cell_type": "code",
   "execution_count": 51,
   "metadata": {
    "collapsed": false
   },
   "outputs": [
    {
     "data": {
      "text/html": [
       "<div>\n",
       "<table border=\"1\" class=\"dataframe\">\n",
       "  <thead>\n",
       "    <tr style=\"text-align: right;\">\n",
       "      <th></th>\n",
       "      <th>A</th>\n",
       "      <th>B</th>\n",
       "      <th>C</th>\n",
       "      <th>D</th>\n",
       "      <th>E</th>\n",
       "    </tr>\n",
       "  </thead>\n",
       "  <tbody>\n",
       "    <tr>\n",
       "      <th>2012-01-01</th>\n",
       "      <td>-0.141358</td>\n",
       "      <td>0.515122</td>\n",
       "      <td>0.535776</td>\n",
       "      <td>-0.102975</td>\n",
       "      <td>one</td>\n",
       "    </tr>\n",
       "    <tr>\n",
       "      <th>2012-01-02</th>\n",
       "      <td>0.960969</td>\n",
       "      <td>-0.996593</td>\n",
       "      <td>-1.328265</td>\n",
       "      <td>0.628583</td>\n",
       "      <td>one</td>\n",
       "    </tr>\n",
       "    <tr>\n",
       "      <th>2012-01-03</th>\n",
       "      <td>1.295228</td>\n",
       "      <td>0.247058</td>\n",
       "      <td>-0.311899</td>\n",
       "      <td>-1.085820</td>\n",
       "      <td>two</td>\n",
       "    </tr>\n",
       "    <tr>\n",
       "      <th>2012-01-04</th>\n",
       "      <td>-0.092972</td>\n",
       "      <td>0.906611</td>\n",
       "      <td>1.391475</td>\n",
       "      <td>0.212823</td>\n",
       "      <td>three</td>\n",
       "    </tr>\n",
       "    <tr>\n",
       "      <th>2012-01-05</th>\n",
       "      <td>1.494592</td>\n",
       "      <td>-0.061850</td>\n",
       "      <td>-0.192055</td>\n",
       "      <td>0.251388</td>\n",
       "      <td>four</td>\n",
       "    </tr>\n",
       "    <tr>\n",
       "      <th>2012-01-06</th>\n",
       "      <td>-0.147605</td>\n",
       "      <td>-0.218538</td>\n",
       "      <td>0.551034</td>\n",
       "      <td>-1.095484</td>\n",
       "      <td>three</td>\n",
       "    </tr>\n",
       "  </tbody>\n",
       "</table>\n",
       "</div>"
      ],
      "text/plain": [
       "                   A         B         C         D      E\n",
       "2012-01-01 -0.141358  0.515122  0.535776 -0.102975    one\n",
       "2012-01-02  0.960969 -0.996593 -1.328265  0.628583    one\n",
       "2012-01-03  1.295228  0.247058 -0.311899 -1.085820    two\n",
       "2012-01-04 -0.092972  0.906611  1.391475  0.212823  three\n",
       "2012-01-05  1.494592 -0.061850 -0.192055  0.251388   four\n",
       "2012-01-06 -0.147605 -0.218538  0.551034 -1.095484  three"
      ]
     },
     "execution_count": 51,
     "metadata": {},
     "output_type": "execute_result"
    }
   ],
   "source": [
    "# Using the isin() method for filtering\n",
    "df2 = df.copy()\n",
    "df2['E'] = ['one','one','two','three','four','three']\n",
    "df2"
   ]
  },
  {
   "cell_type": "code",
   "execution_count": 53,
   "metadata": {
    "collapsed": false
   },
   "outputs": [
    {
     "data": {
      "text/html": [
       "<div>\n",
       "<table border=\"1\" class=\"dataframe\">\n",
       "  <thead>\n",
       "    <tr style=\"text-align: right;\">\n",
       "      <th></th>\n",
       "      <th>A</th>\n",
       "      <th>B</th>\n",
       "      <th>C</th>\n",
       "      <th>D</th>\n",
       "      <th>E</th>\n",
       "    </tr>\n",
       "  </thead>\n",
       "  <tbody>\n",
       "    <tr>\n",
       "      <th>2012-01-03</th>\n",
       "      <td>1.295228</td>\n",
       "      <td>0.247058</td>\n",
       "      <td>-0.311899</td>\n",
       "      <td>-1.085820</td>\n",
       "      <td>two</td>\n",
       "    </tr>\n",
       "    <tr>\n",
       "      <th>2012-01-05</th>\n",
       "      <td>1.494592</td>\n",
       "      <td>-0.061850</td>\n",
       "      <td>-0.192055</td>\n",
       "      <td>0.251388</td>\n",
       "      <td>four</td>\n",
       "    </tr>\n",
       "  </tbody>\n",
       "</table>\n",
       "</div>"
      ],
      "text/plain": [
       "                   A         B         C         D     E\n",
       "2012-01-03  1.295228  0.247058 -0.311899 -1.085820   two\n",
       "2012-01-05  1.494592 -0.061850 -0.192055  0.251388  four"
      ]
     },
     "execution_count": 53,
     "metadata": {},
     "output_type": "execute_result"
    }
   ],
   "source": [
    "df2[df2['E'].isin(['two','four'])]"
   ]
  },
  {
   "cell_type": "code",
   "execution_count": 54,
   "metadata": {
    "collapsed": false
   },
   "outputs": [
    {
     "data": {
      "text/html": [
       "<div>\n",
       "<table border=\"1\" class=\"dataframe\">\n",
       "  <thead>\n",
       "    <tr style=\"text-align: right;\">\n",
       "      <th></th>\n",
       "      <th>A</th>\n",
       "      <th>B</th>\n",
       "      <th>C</th>\n",
       "      <th>D</th>\n",
       "      <th>E</th>\n",
       "    </tr>\n",
       "  </thead>\n",
       "  <tbody>\n",
       "    <tr>\n",
       "      <th>2012-01-01</th>\n",
       "      <td>-0.141358</td>\n",
       "      <td>0.515122</td>\n",
       "      <td>0.535776</td>\n",
       "      <td>-0.102975</td>\n",
       "      <td>one</td>\n",
       "    </tr>\n",
       "    <tr>\n",
       "      <th>2012-01-02</th>\n",
       "      <td>0.960969</td>\n",
       "      <td>-0.996593</td>\n",
       "      <td>-1.328265</td>\n",
       "      <td>0.628583</td>\n",
       "      <td>one</td>\n",
       "    </tr>\n",
       "  </tbody>\n",
       "</table>\n",
       "</div>"
      ],
      "text/plain": [
       "                   A         B         C         D    E\n",
       "2012-01-01 -0.141358  0.515122  0.535776 -0.102975  one\n",
       "2012-01-02  0.960969 -0.996593 -1.328265  0.628583  one"
      ]
     },
     "execution_count": 54,
     "metadata": {},
     "output_type": "execute_result"
    }
   ],
   "source": [
    "df2[df2['E'].isin(['one'])]"
   ]
  },
  {
   "cell_type": "code",
   "execution_count": 55,
   "metadata": {
    "collapsed": true
   },
   "outputs": [],
   "source": [
    "### Setting "
   ]
  },
  {
   "cell_type": "code",
   "execution_count": 58,
   "metadata": {
    "collapsed": false
   },
   "outputs": [
    {
     "data": {
      "text/plain": [
       "2012-01-02    1\n",
       "2012-01-03    2\n",
       "2012-01-04    3\n",
       "2012-01-05    4\n",
       "2012-01-06    5\n",
       "2012-01-07    6\n",
       "Freq: D, dtype: int64"
      ]
     },
     "execution_count": 58,
     "metadata": {},
     "output_type": "execute_result"
    }
   ],
   "source": [
    "# Setting a new column automatically aligns the data by the indexes\n",
    "s1 = pd.Series([1,2,3,4,5,6],index=pd.date_range('20120102',periods=6))\n",
    "s1"
   ]
  },
  {
   "cell_type": "code",
   "execution_count": 59,
   "metadata": {
    "collapsed": true
   },
   "outputs": [],
   "source": [
    "df['E'] = s1"
   ]
  },
  {
   "cell_type": "code",
   "execution_count": 60,
   "metadata": {
    "collapsed": false
   },
   "outputs": [
    {
     "data": {
      "text/html": [
       "<div>\n",
       "<table border=\"1\" class=\"dataframe\">\n",
       "  <thead>\n",
       "    <tr style=\"text-align: right;\">\n",
       "      <th></th>\n",
       "      <th>A</th>\n",
       "      <th>B</th>\n",
       "      <th>C</th>\n",
       "      <th>D</th>\n",
       "      <th>E</th>\n",
       "    </tr>\n",
       "  </thead>\n",
       "  <tbody>\n",
       "    <tr>\n",
       "      <th>2012-01-01</th>\n",
       "      <td>-0.141358</td>\n",
       "      <td>0.515122</td>\n",
       "      <td>0.535776</td>\n",
       "      <td>-0.102975</td>\n",
       "      <td>NaN</td>\n",
       "    </tr>\n",
       "    <tr>\n",
       "      <th>2012-01-02</th>\n",
       "      <td>0.960969</td>\n",
       "      <td>-0.996593</td>\n",
       "      <td>-1.328265</td>\n",
       "      <td>0.628583</td>\n",
       "      <td>1.0</td>\n",
       "    </tr>\n",
       "    <tr>\n",
       "      <th>2012-01-03</th>\n",
       "      <td>1.295228</td>\n",
       "      <td>0.247058</td>\n",
       "      <td>-0.311899</td>\n",
       "      <td>-1.085820</td>\n",
       "      <td>2.0</td>\n",
       "    </tr>\n",
       "    <tr>\n",
       "      <th>2012-01-04</th>\n",
       "      <td>-0.092972</td>\n",
       "      <td>0.906611</td>\n",
       "      <td>1.391475</td>\n",
       "      <td>0.212823</td>\n",
       "      <td>3.0</td>\n",
       "    </tr>\n",
       "    <tr>\n",
       "      <th>2012-01-05</th>\n",
       "      <td>1.494592</td>\n",
       "      <td>-0.061850</td>\n",
       "      <td>-0.192055</td>\n",
       "      <td>0.251388</td>\n",
       "      <td>4.0</td>\n",
       "    </tr>\n",
       "    <tr>\n",
       "      <th>2012-01-06</th>\n",
       "      <td>-0.147605</td>\n",
       "      <td>-0.218538</td>\n",
       "      <td>0.551034</td>\n",
       "      <td>-1.095484</td>\n",
       "      <td>5.0</td>\n",
       "    </tr>\n",
       "  </tbody>\n",
       "</table>\n",
       "</div>"
      ],
      "text/plain": [
       "                   A         B         C         D    E\n",
       "2012-01-01 -0.141358  0.515122  0.535776 -0.102975  NaN\n",
       "2012-01-02  0.960969 -0.996593 -1.328265  0.628583  1.0\n",
       "2012-01-03  1.295228  0.247058 -0.311899 -1.085820  2.0\n",
       "2012-01-04 -0.092972  0.906611  1.391475  0.212823  3.0\n",
       "2012-01-05  1.494592 -0.061850 -0.192055  0.251388  4.0\n",
       "2012-01-06 -0.147605 -0.218538  0.551034 -1.095484  5.0"
      ]
     },
     "execution_count": 60,
     "metadata": {},
     "output_type": "execute_result"
    }
   ],
   "source": [
    "df"
   ]
  },
  {
   "cell_type": "code",
   "execution_count": 61,
   "metadata": {
    "collapsed": true
   },
   "outputs": [],
   "source": [
    "## Setting values by label\n",
    "df.at[dates[0],'A'] = 0"
   ]
  },
  {
   "cell_type": "code",
   "execution_count": 62,
   "metadata": {
    "collapsed": true
   },
   "outputs": [],
   "source": [
    "## Setting values by position\n",
    "df.iat[0,1] = 0"
   ]
  },
  {
   "cell_type": "code",
   "execution_count": 63,
   "metadata": {
    "collapsed": true
   },
   "outputs": [],
   "source": [
    "## Setting by assigning with a numpy array\n",
    "df.loc[:,'D'] = np.array([5]*len(df))"
   ]
  },
  {
   "cell_type": "code",
   "execution_count": 64,
   "metadata": {
    "collapsed": false
   },
   "outputs": [
    {
     "data": {
      "text/html": [
       "<div>\n",
       "<table border=\"1\" class=\"dataframe\">\n",
       "  <thead>\n",
       "    <tr style=\"text-align: right;\">\n",
       "      <th></th>\n",
       "      <th>A</th>\n",
       "      <th>B</th>\n",
       "      <th>C</th>\n",
       "      <th>D</th>\n",
       "      <th>E</th>\n",
       "    </tr>\n",
       "  </thead>\n",
       "  <tbody>\n",
       "    <tr>\n",
       "      <th>2012-01-01</th>\n",
       "      <td>0.000000</td>\n",
       "      <td>0.000000</td>\n",
       "      <td>0.535776</td>\n",
       "      <td>5</td>\n",
       "      <td>NaN</td>\n",
       "    </tr>\n",
       "    <tr>\n",
       "      <th>2012-01-02</th>\n",
       "      <td>0.960969</td>\n",
       "      <td>-0.996593</td>\n",
       "      <td>-1.328265</td>\n",
       "      <td>5</td>\n",
       "      <td>1.0</td>\n",
       "    </tr>\n",
       "    <tr>\n",
       "      <th>2012-01-03</th>\n",
       "      <td>1.295228</td>\n",
       "      <td>0.247058</td>\n",
       "      <td>-0.311899</td>\n",
       "      <td>5</td>\n",
       "      <td>2.0</td>\n",
       "    </tr>\n",
       "    <tr>\n",
       "      <th>2012-01-04</th>\n",
       "      <td>-0.092972</td>\n",
       "      <td>0.906611</td>\n",
       "      <td>1.391475</td>\n",
       "      <td>5</td>\n",
       "      <td>3.0</td>\n",
       "    </tr>\n",
       "    <tr>\n",
       "      <th>2012-01-05</th>\n",
       "      <td>1.494592</td>\n",
       "      <td>-0.061850</td>\n",
       "      <td>-0.192055</td>\n",
       "      <td>5</td>\n",
       "      <td>4.0</td>\n",
       "    </tr>\n",
       "    <tr>\n",
       "      <th>2012-01-06</th>\n",
       "      <td>-0.147605</td>\n",
       "      <td>-0.218538</td>\n",
       "      <td>0.551034</td>\n",
       "      <td>5</td>\n",
       "      <td>5.0</td>\n",
       "    </tr>\n",
       "  </tbody>\n",
       "</table>\n",
       "</div>"
      ],
      "text/plain": [
       "                   A         B         C  D    E\n",
       "2012-01-01  0.000000  0.000000  0.535776  5  NaN\n",
       "2012-01-02  0.960969 -0.996593 -1.328265  5  1.0\n",
       "2012-01-03  1.295228  0.247058 -0.311899  5  2.0\n",
       "2012-01-04 -0.092972  0.906611  1.391475  5  3.0\n",
       "2012-01-05  1.494592 -0.061850 -0.192055  5  4.0\n",
       "2012-01-06 -0.147605 -0.218538  0.551034  5  5.0"
      ]
     },
     "execution_count": 64,
     "metadata": {},
     "output_type": "execute_result"
    }
   ],
   "source": [
    "## The result of the prior setting operations\n",
    "df"
   ]
  },
  {
   "cell_type": "code",
   "execution_count": 65,
   "metadata": {
    "collapsed": false
   },
   "outputs": [
    {
     "data": {
      "text/html": [
       "<div>\n",
       "<table border=\"1\" class=\"dataframe\">\n",
       "  <thead>\n",
       "    <tr style=\"text-align: right;\">\n",
       "      <th></th>\n",
       "      <th>A</th>\n",
       "      <th>B</th>\n",
       "      <th>C</th>\n",
       "      <th>D</th>\n",
       "      <th>E</th>\n",
       "    </tr>\n",
       "  </thead>\n",
       "  <tbody>\n",
       "    <tr>\n",
       "      <th>2012-01-01</th>\n",
       "      <td>0.000000</td>\n",
       "      <td>0.000000</td>\n",
       "      <td>-0.535776</td>\n",
       "      <td>-5</td>\n",
       "      <td>NaN</td>\n",
       "    </tr>\n",
       "    <tr>\n",
       "      <th>2012-01-02</th>\n",
       "      <td>-0.960969</td>\n",
       "      <td>-0.996593</td>\n",
       "      <td>-1.328265</td>\n",
       "      <td>-5</td>\n",
       "      <td>-1.0</td>\n",
       "    </tr>\n",
       "    <tr>\n",
       "      <th>2012-01-03</th>\n",
       "      <td>-1.295228</td>\n",
       "      <td>-0.247058</td>\n",
       "      <td>-0.311899</td>\n",
       "      <td>-5</td>\n",
       "      <td>-2.0</td>\n",
       "    </tr>\n",
       "    <tr>\n",
       "      <th>2012-01-04</th>\n",
       "      <td>-0.092972</td>\n",
       "      <td>-0.906611</td>\n",
       "      <td>-1.391475</td>\n",
       "      <td>-5</td>\n",
       "      <td>-3.0</td>\n",
       "    </tr>\n",
       "    <tr>\n",
       "      <th>2012-01-05</th>\n",
       "      <td>-1.494592</td>\n",
       "      <td>-0.061850</td>\n",
       "      <td>-0.192055</td>\n",
       "      <td>-5</td>\n",
       "      <td>-4.0</td>\n",
       "    </tr>\n",
       "    <tr>\n",
       "      <th>2012-01-06</th>\n",
       "      <td>-0.147605</td>\n",
       "      <td>-0.218538</td>\n",
       "      <td>-0.551034</td>\n",
       "      <td>-5</td>\n",
       "      <td>-5.0</td>\n",
       "    </tr>\n",
       "  </tbody>\n",
       "</table>\n",
       "</div>"
      ],
      "text/plain": [
       "                   A         B         C  D    E\n",
       "2012-01-01  0.000000  0.000000 -0.535776 -5  NaN\n",
       "2012-01-02 -0.960969 -0.996593 -1.328265 -5 -1.0\n",
       "2012-01-03 -1.295228 -0.247058 -0.311899 -5 -2.0\n",
       "2012-01-04 -0.092972 -0.906611 -1.391475 -5 -3.0\n",
       "2012-01-05 -1.494592 -0.061850 -0.192055 -5 -4.0\n",
       "2012-01-06 -0.147605 -0.218538 -0.551034 -5 -5.0"
      ]
     },
     "execution_count": 65,
     "metadata": {},
     "output_type": "execute_result"
    }
   ],
   "source": [
    "# A where operation with setting\n",
    "df2 = df.copy()\n",
    "df2[df2 > 0] = -df2\n",
    "df2"
   ]
  },
  {
   "cell_type": "code",
   "execution_count": 66,
   "metadata": {
    "collapsed": true
   },
   "outputs": [],
   "source": [
    "########################################\n",
    "### Missing Data\n",
    "########################################"
   ]
  },
  {
   "cell_type": "code",
   "execution_count": 67,
   "metadata": {
    "collapsed": true
   },
   "outputs": [],
   "source": [
    "# pandas primarily uses the value np.nan to represent missing data. \n",
    "# It is by default not included in computations.\n",
    "# See the Missing Data Section of pandas's website."
   ]
  },
  {
   "cell_type": "code",
   "execution_count": 75,
   "metadata": {
    "collapsed": false
   },
   "outputs": [
    {
     "data": {
      "text/html": [
       "<div>\n",
       "<table border=\"1\" class=\"dataframe\">\n",
       "  <thead>\n",
       "    <tr style=\"text-align: right;\">\n",
       "      <th></th>\n",
       "      <th>A</th>\n",
       "      <th>B</th>\n",
       "      <th>C</th>\n",
       "      <th>D</th>\n",
       "      <th>E</th>\n",
       "      <th>F</th>\n",
       "    </tr>\n",
       "  </thead>\n",
       "  <tbody>\n",
       "    <tr>\n",
       "      <th>2012-01-01</th>\n",
       "      <td>0.000000</td>\n",
       "      <td>0.000000</td>\n",
       "      <td>0.535776</td>\n",
       "      <td>5</td>\n",
       "      <td>NaN</td>\n",
       "      <td>1.0</td>\n",
       "    </tr>\n",
       "    <tr>\n",
       "      <th>2012-01-02</th>\n",
       "      <td>0.960969</td>\n",
       "      <td>-0.996593</td>\n",
       "      <td>-1.328265</td>\n",
       "      <td>5</td>\n",
       "      <td>1.0</td>\n",
       "      <td>1.0</td>\n",
       "    </tr>\n",
       "    <tr>\n",
       "      <th>2012-01-03</th>\n",
       "      <td>1.295228</td>\n",
       "      <td>0.247058</td>\n",
       "      <td>-0.311899</td>\n",
       "      <td>5</td>\n",
       "      <td>2.0</td>\n",
       "      <td>NaN</td>\n",
       "    </tr>\n",
       "    <tr>\n",
       "      <th>2012-01-04</th>\n",
       "      <td>-0.092972</td>\n",
       "      <td>0.906611</td>\n",
       "      <td>1.391475</td>\n",
       "      <td>5</td>\n",
       "      <td>3.0</td>\n",
       "      <td>NaN</td>\n",
       "    </tr>\n",
       "  </tbody>\n",
       "</table>\n",
       "</div>"
      ],
      "text/plain": [
       "                   A         B         C  D    E    F\n",
       "2012-01-01  0.000000  0.000000  0.535776  5  NaN  1.0\n",
       "2012-01-02  0.960969 -0.996593 -1.328265  5  1.0  1.0\n",
       "2012-01-03  1.295228  0.247058 -0.311899  5  2.0  NaN\n",
       "2012-01-04 -0.092972  0.906611  1.391475  5  3.0  NaN"
      ]
     },
     "execution_count": 75,
     "metadata": {},
     "output_type": "execute_result"
    }
   ],
   "source": [
    "# Reindexing allows you to change/add/delete the index on a specified axis.\n",
    "# This returns a copy of the data\n",
    "df1 = df.reindex( index=dates[0:4], columns=(df.columns) | ['F'])\n",
    "df1.loc[dates[0]:dates[1],'F'] = 1\n",
    "df1"
   ]
  },
  {
   "cell_type": "code",
   "execution_count": 76,
   "metadata": {
    "collapsed": false
   },
   "outputs": [
    {
     "data": {
      "text/html": [
       "<div>\n",
       "<table border=\"1\" class=\"dataframe\">\n",
       "  <thead>\n",
       "    <tr style=\"text-align: right;\">\n",
       "      <th></th>\n",
       "      <th>A</th>\n",
       "      <th>B</th>\n",
       "      <th>C</th>\n",
       "      <th>D</th>\n",
       "      <th>E</th>\n",
       "      <th>F</th>\n",
       "    </tr>\n",
       "  </thead>\n",
       "  <tbody>\n",
       "    <tr>\n",
       "      <th>2012-01-02</th>\n",
       "      <td>0.960969</td>\n",
       "      <td>-0.996593</td>\n",
       "      <td>-1.328265</td>\n",
       "      <td>5</td>\n",
       "      <td>1.0</td>\n",
       "      <td>1.0</td>\n",
       "    </tr>\n",
       "  </tbody>\n",
       "</table>\n",
       "</div>"
      ],
      "text/plain": [
       "                   A         B         C  D    E    F\n",
       "2012-01-02  0.960969 -0.996593 -1.328265  5  1.0  1.0"
      ]
     },
     "execution_count": 76,
     "metadata": {},
     "output_type": "execute_result"
    }
   ],
   "source": [
    "# to drop any rows that have missing data\n",
    "df1.dropna(how='any')"
   ]
  },
  {
   "cell_type": "code",
   "execution_count": 77,
   "metadata": {
    "collapsed": false
   },
   "outputs": [
    {
     "data": {
      "text/html": [
       "<div>\n",
       "<table border=\"1\" class=\"dataframe\">\n",
       "  <thead>\n",
       "    <tr style=\"text-align: right;\">\n",
       "      <th></th>\n",
       "      <th>A</th>\n",
       "      <th>B</th>\n",
       "      <th>C</th>\n",
       "      <th>D</th>\n",
       "      <th>E</th>\n",
       "      <th>F</th>\n",
       "    </tr>\n",
       "  </thead>\n",
       "  <tbody>\n",
       "    <tr>\n",
       "      <th>2012-01-01</th>\n",
       "      <td>0.000000</td>\n",
       "      <td>0.000000</td>\n",
       "      <td>0.535776</td>\n",
       "      <td>5</td>\n",
       "      <td>5.0</td>\n",
       "      <td>1.0</td>\n",
       "    </tr>\n",
       "    <tr>\n",
       "      <th>2012-01-02</th>\n",
       "      <td>0.960969</td>\n",
       "      <td>-0.996593</td>\n",
       "      <td>-1.328265</td>\n",
       "      <td>5</td>\n",
       "      <td>1.0</td>\n",
       "      <td>1.0</td>\n",
       "    </tr>\n",
       "    <tr>\n",
       "      <th>2012-01-03</th>\n",
       "      <td>1.295228</td>\n",
       "      <td>0.247058</td>\n",
       "      <td>-0.311899</td>\n",
       "      <td>5</td>\n",
       "      <td>2.0</td>\n",
       "      <td>5.0</td>\n",
       "    </tr>\n",
       "    <tr>\n",
       "      <th>2012-01-04</th>\n",
       "      <td>-0.092972</td>\n",
       "      <td>0.906611</td>\n",
       "      <td>1.391475</td>\n",
       "      <td>5</td>\n",
       "      <td>3.0</td>\n",
       "      <td>5.0</td>\n",
       "    </tr>\n",
       "  </tbody>\n",
       "</table>\n",
       "</div>"
      ],
      "text/plain": [
       "                   A         B         C  D    E    F\n",
       "2012-01-01  0.000000  0.000000  0.535776  5  5.0  1.0\n",
       "2012-01-02  0.960969 -0.996593 -1.328265  5  1.0  1.0\n",
       "2012-01-03  1.295228  0.247058 -0.311899  5  2.0  5.0\n",
       "2012-01-04 -0.092972  0.906611  1.391475  5  3.0  5.0"
      ]
     },
     "execution_count": 77,
     "metadata": {},
     "output_type": "execute_result"
    }
   ],
   "source": [
    "# Filling missing data\n",
    "df1.fillna(value=5)"
   ]
  },
  {
   "cell_type": "code",
   "execution_count": 78,
   "metadata": {
    "collapsed": false
   },
   "outputs": [
    {
     "data": {
      "text/html": [
       "<div>\n",
       "<table border=\"1\" class=\"dataframe\">\n",
       "  <thead>\n",
       "    <tr style=\"text-align: right;\">\n",
       "      <th></th>\n",
       "      <th>A</th>\n",
       "      <th>B</th>\n",
       "      <th>C</th>\n",
       "      <th>D</th>\n",
       "      <th>E</th>\n",
       "      <th>F</th>\n",
       "    </tr>\n",
       "  </thead>\n",
       "  <tbody>\n",
       "    <tr>\n",
       "      <th>2012-01-01</th>\n",
       "      <td>False</td>\n",
       "      <td>False</td>\n",
       "      <td>False</td>\n",
       "      <td>False</td>\n",
       "      <td>True</td>\n",
       "      <td>False</td>\n",
       "    </tr>\n",
       "    <tr>\n",
       "      <th>2012-01-02</th>\n",
       "      <td>False</td>\n",
       "      <td>False</td>\n",
       "      <td>False</td>\n",
       "      <td>False</td>\n",
       "      <td>False</td>\n",
       "      <td>False</td>\n",
       "    </tr>\n",
       "    <tr>\n",
       "      <th>2012-01-03</th>\n",
       "      <td>False</td>\n",
       "      <td>False</td>\n",
       "      <td>False</td>\n",
       "      <td>False</td>\n",
       "      <td>False</td>\n",
       "      <td>True</td>\n",
       "    </tr>\n",
       "    <tr>\n",
       "      <th>2012-01-04</th>\n",
       "      <td>False</td>\n",
       "      <td>False</td>\n",
       "      <td>False</td>\n",
       "      <td>False</td>\n",
       "      <td>False</td>\n",
       "      <td>True</td>\n",
       "    </tr>\n",
       "  </tbody>\n",
       "</table>\n",
       "</div>"
      ],
      "text/plain": [
       "                A      B      C      D      E      F\n",
       "2012-01-01  False  False  False  False   True  False\n",
       "2012-01-02  False  False  False  False  False  False\n",
       "2012-01-03  False  False  False  False  False   True\n",
       "2012-01-04  False  False  False  False  False   True"
      ]
     },
     "execution_count": 78,
     "metadata": {},
     "output_type": "execute_result"
    }
   ],
   "source": [
    "# To get the boolean mask where values are nan\n",
    "pd.isnull(df1)"
   ]
  },
  {
   "cell_type": "code",
   "execution_count": 79,
   "metadata": {
    "collapsed": true
   },
   "outputs": [],
   "source": [
    "############################################\n",
    "## Operation\n",
    "############################################"
   ]
  },
  {
   "cell_type": "code",
   "execution_count": 80,
   "metadata": {
    "collapsed": true
   },
   "outputs": [],
   "source": [
    "### Stats"
   ]
  },
  {
   "cell_type": "code",
   "execution_count": 81,
   "metadata": {
    "collapsed": false
   },
   "outputs": [
    {
     "data": {
      "text/html": [
       "<div>\n",
       "<table border=\"1\" class=\"dataframe\">\n",
       "  <thead>\n",
       "    <tr style=\"text-align: right;\">\n",
       "      <th></th>\n",
       "      <th>A</th>\n",
       "      <th>B</th>\n",
       "      <th>C</th>\n",
       "      <th>D</th>\n",
       "      <th>E</th>\n",
       "    </tr>\n",
       "  </thead>\n",
       "  <tbody>\n",
       "    <tr>\n",
       "      <th>2012-01-01</th>\n",
       "      <td>0.000000</td>\n",
       "      <td>0.000000</td>\n",
       "      <td>0.535776</td>\n",
       "      <td>5</td>\n",
       "      <td>NaN</td>\n",
       "    </tr>\n",
       "    <tr>\n",
       "      <th>2012-01-02</th>\n",
       "      <td>0.960969</td>\n",
       "      <td>-0.996593</td>\n",
       "      <td>-1.328265</td>\n",
       "      <td>5</td>\n",
       "      <td>1.0</td>\n",
       "    </tr>\n",
       "    <tr>\n",
       "      <th>2012-01-03</th>\n",
       "      <td>1.295228</td>\n",
       "      <td>0.247058</td>\n",
       "      <td>-0.311899</td>\n",
       "      <td>5</td>\n",
       "      <td>2.0</td>\n",
       "    </tr>\n",
       "    <tr>\n",
       "      <th>2012-01-04</th>\n",
       "      <td>-0.092972</td>\n",
       "      <td>0.906611</td>\n",
       "      <td>1.391475</td>\n",
       "      <td>5</td>\n",
       "      <td>3.0</td>\n",
       "    </tr>\n",
       "    <tr>\n",
       "      <th>2012-01-05</th>\n",
       "      <td>1.494592</td>\n",
       "      <td>-0.061850</td>\n",
       "      <td>-0.192055</td>\n",
       "      <td>5</td>\n",
       "      <td>4.0</td>\n",
       "    </tr>\n",
       "    <tr>\n",
       "      <th>2012-01-06</th>\n",
       "      <td>-0.147605</td>\n",
       "      <td>-0.218538</td>\n",
       "      <td>0.551034</td>\n",
       "      <td>5</td>\n",
       "      <td>5.0</td>\n",
       "    </tr>\n",
       "  </tbody>\n",
       "</table>\n",
       "</div>"
      ],
      "text/plain": [
       "                   A         B         C  D    E\n",
       "2012-01-01  0.000000  0.000000  0.535776  5  NaN\n",
       "2012-01-02  0.960969 -0.996593 -1.328265  5  1.0\n",
       "2012-01-03  1.295228  0.247058 -0.311899  5  2.0\n",
       "2012-01-04 -0.092972  0.906611  1.391475  5  3.0\n",
       "2012-01-05  1.494592 -0.061850 -0.192055  5  4.0\n",
       "2012-01-06 -0.147605 -0.218538  0.551034  5  5.0"
      ]
     },
     "execution_count": 81,
     "metadata": {},
     "output_type": "execute_result"
    }
   ],
   "source": [
    "# Operations in general exclude missing data\n",
    "# Performing a descriptive statistic\n",
    "df"
   ]
  },
  {
   "cell_type": "code",
   "execution_count": 82,
   "metadata": {
    "collapsed": false
   },
   "outputs": [
    {
     "data": {
      "text/plain": [
       "A    0.585035\n",
       "B   -0.020552\n",
       "C    0.107678\n",
       "D    5.000000\n",
       "E    3.000000\n",
       "dtype: float64"
      ]
     },
     "execution_count": 82,
     "metadata": {},
     "output_type": "execute_result"
    }
   ],
   "source": [
    "df.mean()"
   ]
  },
  {
   "cell_type": "code",
   "execution_count": 83,
   "metadata": {
    "collapsed": false
   },
   "outputs": [
    {
     "data": {
      "text/plain": [
       "2012-01-01    1.383944\n",
       "2012-01-02    0.927222\n",
       "2012-01-03    1.646077\n",
       "2012-01-04    2.041023\n",
       "2012-01-05    2.048137\n",
       "2012-01-06    2.036978\n",
       "Freq: D, dtype: float64"
      ]
     },
     "execution_count": 83,
     "metadata": {},
     "output_type": "execute_result"
    }
   ],
   "source": [
    "# Same operation on the other axis\n",
    "df.mean(1)"
   ]
  },
  {
   "cell_type": "code",
   "execution_count": 84,
   "metadata": {
    "collapsed": true
   },
   "outputs": [],
   "source": [
    "# Operating whith objects that have different dimensionality and need aligment.\n",
    "# In addition, pandas automatically broadcasts along the specified dimension.\n"
   ]
  },
  {
   "cell_type": "code",
   "execution_count": 99,
   "metadata": {
    "collapsed": true
   },
   "outputs": [],
   "source": [
    "s = pd.Series([1,3,5,np.nan,6,8],index=dates).shift(2)"
   ]
  },
  {
   "cell_type": "code",
   "execution_count": 100,
   "metadata": {
    "collapsed": false
   },
   "outputs": [
    {
     "data": {
      "text/plain": [
       "2012-01-01    NaN\n",
       "2012-01-02    NaN\n",
       "2012-01-03    1.0\n",
       "2012-01-04    3.0\n",
       "2012-01-05    5.0\n",
       "2012-01-06    NaN\n",
       "Freq: D, dtype: float64"
      ]
     },
     "execution_count": 100,
     "metadata": {},
     "output_type": "execute_result"
    }
   ],
   "source": [
    "s"
   ]
  },
  {
   "cell_type": "code",
   "execution_count": 101,
   "metadata": {
    "collapsed": false
   },
   "outputs": [
    {
     "data": {
      "text/html": [
       "<div>\n",
       "<table border=\"1\" class=\"dataframe\">\n",
       "  <thead>\n",
       "    <tr style=\"text-align: right;\">\n",
       "      <th></th>\n",
       "      <th>A</th>\n",
       "      <th>B</th>\n",
       "      <th>C</th>\n",
       "      <th>D</th>\n",
       "      <th>E</th>\n",
       "    </tr>\n",
       "  </thead>\n",
       "  <tbody>\n",
       "    <tr>\n",
       "      <th>2012-01-01</th>\n",
       "      <td>NaN</td>\n",
       "      <td>NaN</td>\n",
       "      <td>NaN</td>\n",
       "      <td>NaN</td>\n",
       "      <td>NaN</td>\n",
       "    </tr>\n",
       "    <tr>\n",
       "      <th>2012-01-02</th>\n",
       "      <td>NaN</td>\n",
       "      <td>NaN</td>\n",
       "      <td>NaN</td>\n",
       "      <td>NaN</td>\n",
       "      <td>NaN</td>\n",
       "    </tr>\n",
       "    <tr>\n",
       "      <th>2012-01-03</th>\n",
       "      <td>0.295228</td>\n",
       "      <td>-0.752942</td>\n",
       "      <td>-1.311899</td>\n",
       "      <td>4.0</td>\n",
       "      <td>1.0</td>\n",
       "    </tr>\n",
       "    <tr>\n",
       "      <th>2012-01-04</th>\n",
       "      <td>-3.092972</td>\n",
       "      <td>-2.093389</td>\n",
       "      <td>-1.608525</td>\n",
       "      <td>2.0</td>\n",
       "      <td>0.0</td>\n",
       "    </tr>\n",
       "    <tr>\n",
       "      <th>2012-01-05</th>\n",
       "      <td>-3.505408</td>\n",
       "      <td>-5.061850</td>\n",
       "      <td>-5.192055</td>\n",
       "      <td>0.0</td>\n",
       "      <td>-1.0</td>\n",
       "    </tr>\n",
       "    <tr>\n",
       "      <th>2012-01-06</th>\n",
       "      <td>NaN</td>\n",
       "      <td>NaN</td>\n",
       "      <td>NaN</td>\n",
       "      <td>NaN</td>\n",
       "      <td>NaN</td>\n",
       "    </tr>\n",
       "  </tbody>\n",
       "</table>\n",
       "</div>"
      ],
      "text/plain": [
       "                   A         B         C    D    E\n",
       "2012-01-01       NaN       NaN       NaN  NaN  NaN\n",
       "2012-01-02       NaN       NaN       NaN  NaN  NaN\n",
       "2012-01-03  0.295228 -0.752942 -1.311899  4.0  1.0\n",
       "2012-01-04 -3.092972 -2.093389 -1.608525  2.0  0.0\n",
       "2012-01-05 -3.505408 -5.061850 -5.192055  0.0 -1.0\n",
       "2012-01-06       NaN       NaN       NaN  NaN  NaN"
      ]
     },
     "execution_count": 101,
     "metadata": {},
     "output_type": "execute_result"
    }
   ],
   "source": [
    "df.sub(s,axis='index')"
   ]
  },
  {
   "cell_type": "code",
   "execution_count": 102,
   "metadata": {
    "collapsed": true
   },
   "outputs": [],
   "source": [
    "### Apply"
   ]
  },
  {
   "cell_type": "code",
   "execution_count": 103,
   "metadata": {
    "collapsed": false
   },
   "outputs": [
    {
     "data": {
      "text/html": [
       "<div>\n",
       "<table border=\"1\" class=\"dataframe\">\n",
       "  <thead>\n",
       "    <tr style=\"text-align: right;\">\n",
       "      <th></th>\n",
       "      <th>A</th>\n",
       "      <th>B</th>\n",
       "      <th>C</th>\n",
       "      <th>D</th>\n",
       "      <th>E</th>\n",
       "    </tr>\n",
       "  </thead>\n",
       "  <tbody>\n",
       "    <tr>\n",
       "      <th>2012-01-01</th>\n",
       "      <td>0.000000</td>\n",
       "      <td>0.000000</td>\n",
       "      <td>0.535776</td>\n",
       "      <td>5</td>\n",
       "      <td>NaN</td>\n",
       "    </tr>\n",
       "    <tr>\n",
       "      <th>2012-01-02</th>\n",
       "      <td>0.960969</td>\n",
       "      <td>-0.996593</td>\n",
       "      <td>-1.328265</td>\n",
       "      <td>5</td>\n",
       "      <td>1.0</td>\n",
       "    </tr>\n",
       "    <tr>\n",
       "      <th>2012-01-03</th>\n",
       "      <td>1.295228</td>\n",
       "      <td>0.247058</td>\n",
       "      <td>-0.311899</td>\n",
       "      <td>5</td>\n",
       "      <td>2.0</td>\n",
       "    </tr>\n",
       "    <tr>\n",
       "      <th>2012-01-04</th>\n",
       "      <td>-0.092972</td>\n",
       "      <td>0.906611</td>\n",
       "      <td>1.391475</td>\n",
       "      <td>5</td>\n",
       "      <td>3.0</td>\n",
       "    </tr>\n",
       "    <tr>\n",
       "      <th>2012-01-05</th>\n",
       "      <td>1.494592</td>\n",
       "      <td>-0.061850</td>\n",
       "      <td>-0.192055</td>\n",
       "      <td>5</td>\n",
       "      <td>4.0</td>\n",
       "    </tr>\n",
       "    <tr>\n",
       "      <th>2012-01-06</th>\n",
       "      <td>-0.147605</td>\n",
       "      <td>-0.218538</td>\n",
       "      <td>0.551034</td>\n",
       "      <td>5</td>\n",
       "      <td>5.0</td>\n",
       "    </tr>\n",
       "  </tbody>\n",
       "</table>\n",
       "</div>"
      ],
      "text/plain": [
       "                   A         B         C  D    E\n",
       "2012-01-01  0.000000  0.000000  0.535776  5  NaN\n",
       "2012-01-02  0.960969 -0.996593 -1.328265  5  1.0\n",
       "2012-01-03  1.295228  0.247058 -0.311899  5  2.0\n",
       "2012-01-04 -0.092972  0.906611  1.391475  5  3.0\n",
       "2012-01-05  1.494592 -0.061850 -0.192055  5  4.0\n",
       "2012-01-06 -0.147605 -0.218538  0.551034  5  5.0"
      ]
     },
     "execution_count": 103,
     "metadata": {},
     "output_type": "execute_result"
    }
   ],
   "source": [
    "## Applying function to the data\n",
    "df"
   ]
  },
  {
   "cell_type": "code",
   "execution_count": 104,
   "metadata": {
    "collapsed": false
   },
   "outputs": [
    {
     "data": {
      "text/html": [
       "<div>\n",
       "<table border=\"1\" class=\"dataframe\">\n",
       "  <thead>\n",
       "    <tr style=\"text-align: right;\">\n",
       "      <th></th>\n",
       "      <th>A</th>\n",
       "      <th>B</th>\n",
       "      <th>C</th>\n",
       "      <th>D</th>\n",
       "      <th>E</th>\n",
       "    </tr>\n",
       "  </thead>\n",
       "  <tbody>\n",
       "    <tr>\n",
       "      <th>2012-01-01</th>\n",
       "      <td>0.000000</td>\n",
       "      <td>0.000000</td>\n",
       "      <td>0.535776</td>\n",
       "      <td>5</td>\n",
       "      <td>NaN</td>\n",
       "    </tr>\n",
       "    <tr>\n",
       "      <th>2012-01-02</th>\n",
       "      <td>0.960969</td>\n",
       "      <td>-0.996593</td>\n",
       "      <td>-0.792490</td>\n",
       "      <td>10</td>\n",
       "      <td>1.0</td>\n",
       "    </tr>\n",
       "    <tr>\n",
       "      <th>2012-01-03</th>\n",
       "      <td>2.256197</td>\n",
       "      <td>-0.749535</td>\n",
       "      <td>-1.104388</td>\n",
       "      <td>15</td>\n",
       "      <td>3.0</td>\n",
       "    </tr>\n",
       "    <tr>\n",
       "      <th>2012-01-04</th>\n",
       "      <td>2.163225</td>\n",
       "      <td>0.157076</td>\n",
       "      <td>0.287086</td>\n",
       "      <td>20</td>\n",
       "      <td>6.0</td>\n",
       "    </tr>\n",
       "    <tr>\n",
       "      <th>2012-01-05</th>\n",
       "      <td>3.657817</td>\n",
       "      <td>0.095226</td>\n",
       "      <td>0.095031</td>\n",
       "      <td>25</td>\n",
       "      <td>10.0</td>\n",
       "    </tr>\n",
       "    <tr>\n",
       "      <th>2012-01-06</th>\n",
       "      <td>3.510212</td>\n",
       "      <td>-0.123312</td>\n",
       "      <td>0.646065</td>\n",
       "      <td>30</td>\n",
       "      <td>15.0</td>\n",
       "    </tr>\n",
       "  </tbody>\n",
       "</table>\n",
       "</div>"
      ],
      "text/plain": [
       "                   A         B         C   D     E\n",
       "2012-01-01  0.000000  0.000000  0.535776   5   NaN\n",
       "2012-01-02  0.960969 -0.996593 -0.792490  10   1.0\n",
       "2012-01-03  2.256197 -0.749535 -1.104388  15   3.0\n",
       "2012-01-04  2.163225  0.157076  0.287086  20   6.0\n",
       "2012-01-05  3.657817  0.095226  0.095031  25  10.0\n",
       "2012-01-06  3.510212 -0.123312  0.646065  30  15.0"
      ]
     },
     "execution_count": 104,
     "metadata": {},
     "output_type": "execute_result"
    }
   ],
   "source": [
    "df.apply(np.cumsum)"
   ]
  },
  {
   "cell_type": "code",
   "execution_count": 106,
   "metadata": {
    "collapsed": false
   },
   "outputs": [
    {
     "data": {
      "text/plain": [
       "A    1.642196\n",
       "B    1.903204\n",
       "C    2.719740\n",
       "D    0.000000\n",
       "E    4.000000\n",
       "dtype: float64"
      ]
     },
     "execution_count": 106,
     "metadata": {},
     "output_type": "execute_result"
    }
   ],
   "source": [
    "df.apply(lambda x: x.max() - x.min()) # x indicate each row of df by defaut"
   ]
  },
  {
   "cell_type": "code",
   "execution_count": 107,
   "metadata": {
    "collapsed": true
   },
   "outputs": [],
   "source": [
    "## Histogramming"
   ]
  },
  {
   "cell_type": "code",
   "execution_count": 108,
   "metadata": {
    "collapsed": false
   },
   "outputs": [
    {
     "data": {
      "text/plain": [
       "0    5\n",
       "1    4\n",
       "2    1\n",
       "3    4\n",
       "4    2\n",
       "5    0\n",
       "6    5\n",
       "7    3\n",
       "8    6\n",
       "9    3\n",
       "dtype: int64"
      ]
     },
     "execution_count": 108,
     "metadata": {},
     "output_type": "execute_result"
    }
   ],
   "source": [
    "s = pd.Series(np.random.randint(0,7,size=10))\n",
    "s"
   ]
  },
  {
   "cell_type": "code",
   "execution_count": 109,
   "metadata": {
    "collapsed": false
   },
   "outputs": [
    {
     "data": {
      "text/plain": [
       "5    2\n",
       "4    2\n",
       "3    2\n",
       "6    1\n",
       "2    1\n",
       "1    1\n",
       "0    1\n",
       "dtype: int64"
      ]
     },
     "execution_count": 109,
     "metadata": {},
     "output_type": "execute_result"
    }
   ],
   "source": [
    "s.value_counts()"
   ]
  },
  {
   "cell_type": "code",
   "execution_count": 110,
   "metadata": {
    "collapsed": true
   },
   "outputs": [],
   "source": [
    "## String Methods"
   ]
  },
  {
   "cell_type": "markdown",
   "metadata": {},
   "source": [
    "Series is equipped with a set of string processing methods in the 'str' attribute that make it easy to operate on each element of the array, as in the code snippet below. Note that pattern-matching in 'str' generally uses regular expressions by default (and in some cases always uses them). See more at Vectorized String Methods."
   ]
  },
  {
   "cell_type": "code",
   "execution_count": 111,
   "metadata": {
    "collapsed": false
   },
   "outputs": [
    {
     "data": {
      "text/plain": [
       "0       A\n",
       "1       B\n",
       "2       C\n",
       "3    Aaba\n",
       "4    Baca\n",
       "5     NaN\n",
       "6    CABA\n",
       "7     dog\n",
       "8     cat\n",
       "dtype: object"
      ]
     },
     "execution_count": 111,
     "metadata": {},
     "output_type": "execute_result"
    }
   ],
   "source": [
    "s = pd.Series(['A','B','C','Aaba','Baca',np.nan,'CABA','dog','cat'])\n",
    "s"
   ]
  },
  {
   "cell_type": "code",
   "execution_count": 112,
   "metadata": {
    "collapsed": false
   },
   "outputs": [
    {
     "data": {
      "text/plain": [
       "0       a\n",
       "1       b\n",
       "2       c\n",
       "3    aaba\n",
       "4    baca\n",
       "5     NaN\n",
       "6    caba\n",
       "7     dog\n",
       "8     cat\n",
       "dtype: object"
      ]
     },
     "execution_count": 112,
     "metadata": {},
     "output_type": "execute_result"
    }
   ],
   "source": [
    "s.str.lower()"
   ]
  },
  {
   "cell_type": "code",
   "execution_count": 113,
   "metadata": {
    "collapsed": true
   },
   "outputs": [],
   "source": [
    "################################################\n",
    "###  Merge\n",
    "################################################"
   ]
  },
  {
   "cell_type": "code",
   "execution_count": 114,
   "metadata": {
    "collapsed": true
   },
   "outputs": [],
   "source": [
    "## Concat"
   ]
  },
  {
   "cell_type": "markdown",
   "metadata": {},
   "source": [
    "Pandas provides various facilities for easily combining together Series, DataFrame, and Panel objects with various kinds of set logic for the indexes and relational algebra functionality in the case of join/merge-type operations.\n",
    "See the Merging section"
   ]
  },
  {
   "cell_type": "code",
   "execution_count": 115,
   "metadata": {
    "collapsed": false
   },
   "outputs": [
    {
     "data": {
      "text/html": [
       "<div>\n",
       "<table border=\"1\" class=\"dataframe\">\n",
       "  <thead>\n",
       "    <tr style=\"text-align: right;\">\n",
       "      <th></th>\n",
       "      <th>0</th>\n",
       "      <th>1</th>\n",
       "      <th>2</th>\n",
       "      <th>3</th>\n",
       "    </tr>\n",
       "  </thead>\n",
       "  <tbody>\n",
       "    <tr>\n",
       "      <th>0</th>\n",
       "      <td>-0.232497</td>\n",
       "      <td>0.414056</td>\n",
       "      <td>-0.956625</td>\n",
       "      <td>0.172314</td>\n",
       "    </tr>\n",
       "    <tr>\n",
       "      <th>1</th>\n",
       "      <td>0.021775</td>\n",
       "      <td>-1.091190</td>\n",
       "      <td>-0.303424</td>\n",
       "      <td>-1.391095</td>\n",
       "    </tr>\n",
       "    <tr>\n",
       "      <th>2</th>\n",
       "      <td>0.262042</td>\n",
       "      <td>0.120217</td>\n",
       "      <td>-0.153599</td>\n",
       "      <td>2.354800</td>\n",
       "    </tr>\n",
       "    <tr>\n",
       "      <th>3</th>\n",
       "      <td>-0.042133</td>\n",
       "      <td>1.147307</td>\n",
       "      <td>-1.154657</td>\n",
       "      <td>-2.629318</td>\n",
       "    </tr>\n",
       "    <tr>\n",
       "      <th>4</th>\n",
       "      <td>-0.025494</td>\n",
       "      <td>0.103904</td>\n",
       "      <td>0.851035</td>\n",
       "      <td>-0.185440</td>\n",
       "    </tr>\n",
       "    <tr>\n",
       "      <th>5</th>\n",
       "      <td>-0.142785</td>\n",
       "      <td>-0.042485</td>\n",
       "      <td>-0.015978</td>\n",
       "      <td>-1.172049</td>\n",
       "    </tr>\n",
       "    <tr>\n",
       "      <th>6</th>\n",
       "      <td>-0.778407</td>\n",
       "      <td>0.874380</td>\n",
       "      <td>0.614095</td>\n",
       "      <td>1.614016</td>\n",
       "    </tr>\n",
       "    <tr>\n",
       "      <th>7</th>\n",
       "      <td>-0.957620</td>\n",
       "      <td>-1.617743</td>\n",
       "      <td>-0.450405</td>\n",
       "      <td>-0.433573</td>\n",
       "    </tr>\n",
       "    <tr>\n",
       "      <th>8</th>\n",
       "      <td>-0.732191</td>\n",
       "      <td>-0.549562</td>\n",
       "      <td>0.535162</td>\n",
       "      <td>0.489395</td>\n",
       "    </tr>\n",
       "    <tr>\n",
       "      <th>9</th>\n",
       "      <td>-1.033884</td>\n",
       "      <td>-0.546205</td>\n",
       "      <td>-0.294216</td>\n",
       "      <td>-0.395757</td>\n",
       "    </tr>\n",
       "  </tbody>\n",
       "</table>\n",
       "</div>"
      ],
      "text/plain": [
       "          0         1         2         3\n",
       "0 -0.232497  0.414056 -0.956625  0.172314\n",
       "1  0.021775 -1.091190 -0.303424 -1.391095\n",
       "2  0.262042  0.120217 -0.153599  2.354800\n",
       "3 -0.042133  1.147307 -1.154657 -2.629318\n",
       "4 -0.025494  0.103904  0.851035 -0.185440\n",
       "5 -0.142785 -0.042485 -0.015978 -1.172049\n",
       "6 -0.778407  0.874380  0.614095  1.614016\n",
       "7 -0.957620 -1.617743 -0.450405 -0.433573\n",
       "8 -0.732191 -0.549562  0.535162  0.489395\n",
       "9 -1.033884 -0.546205 -0.294216 -0.395757"
      ]
     },
     "execution_count": 115,
     "metadata": {},
     "output_type": "execute_result"
    }
   ],
   "source": [
    "# Concatenating pandas objects together with concat()\n",
    "df = pd.DataFrame(np.random.randn(10,4))\n",
    "df"
   ]
  },
  {
   "cell_type": "code",
   "execution_count": 120,
   "metadata": {
    "collapsed": false
   },
   "outputs": [
    {
     "data": {
      "text/plain": [
       "[          0         1         2         3\n",
       " 0 -0.232497  0.414056 -0.956625  0.172314\n",
       " 1  0.021775 -1.091190 -0.303424 -1.391095\n",
       " 2  0.262042  0.120217 -0.153599  2.354800,\n",
       "           0         1         2         3\n",
       " 3 -0.042133  1.147307 -1.154657 -2.629318\n",
       " 4 -0.025494  0.103904  0.851035 -0.185440\n",
       " 5 -0.142785 -0.042485 -0.015978 -1.172049\n",
       " 6 -0.778407  0.874380  0.614095  1.614016,\n",
       "           0         1         2         3\n",
       " 7 -0.957620 -1.617743 -0.450405 -0.433573\n",
       " 8 -0.732191 -0.549562  0.535162  0.489395\n",
       " 9 -1.033884 -0.546205 -0.294216 -0.395757]"
      ]
     },
     "execution_count": 120,
     "metadata": {},
     "output_type": "execute_result"
    }
   ],
   "source": [
    "# break it into pieces\n",
    "pieces = [df[:3],df[3:7],df[7:]]\n",
    "pieces"
   ]
  },
  {
   "cell_type": "code",
   "execution_count": 121,
   "metadata": {
    "collapsed": false
   },
   "outputs": [
    {
     "data": {
      "text/html": [
       "<div>\n",
       "<table border=\"1\" class=\"dataframe\">\n",
       "  <thead>\n",
       "    <tr style=\"text-align: right;\">\n",
       "      <th></th>\n",
       "      <th>0</th>\n",
       "      <th>1</th>\n",
       "      <th>2</th>\n",
       "      <th>3</th>\n",
       "    </tr>\n",
       "  </thead>\n",
       "  <tbody>\n",
       "    <tr>\n",
       "      <th>0</th>\n",
       "      <td>-0.232497</td>\n",
       "      <td>0.414056</td>\n",
       "      <td>-0.956625</td>\n",
       "      <td>0.172314</td>\n",
       "    </tr>\n",
       "    <tr>\n",
       "      <th>1</th>\n",
       "      <td>0.021775</td>\n",
       "      <td>-1.091190</td>\n",
       "      <td>-0.303424</td>\n",
       "      <td>-1.391095</td>\n",
       "    </tr>\n",
       "    <tr>\n",
       "      <th>2</th>\n",
       "      <td>0.262042</td>\n",
       "      <td>0.120217</td>\n",
       "      <td>-0.153599</td>\n",
       "      <td>2.354800</td>\n",
       "    </tr>\n",
       "    <tr>\n",
       "      <th>3</th>\n",
       "      <td>-0.042133</td>\n",
       "      <td>1.147307</td>\n",
       "      <td>-1.154657</td>\n",
       "      <td>-2.629318</td>\n",
       "    </tr>\n",
       "    <tr>\n",
       "      <th>4</th>\n",
       "      <td>-0.025494</td>\n",
       "      <td>0.103904</td>\n",
       "      <td>0.851035</td>\n",
       "      <td>-0.185440</td>\n",
       "    </tr>\n",
       "    <tr>\n",
       "      <th>5</th>\n",
       "      <td>-0.142785</td>\n",
       "      <td>-0.042485</td>\n",
       "      <td>-0.015978</td>\n",
       "      <td>-1.172049</td>\n",
       "    </tr>\n",
       "    <tr>\n",
       "      <th>6</th>\n",
       "      <td>-0.778407</td>\n",
       "      <td>0.874380</td>\n",
       "      <td>0.614095</td>\n",
       "      <td>1.614016</td>\n",
       "    </tr>\n",
       "    <tr>\n",
       "      <th>7</th>\n",
       "      <td>-0.957620</td>\n",
       "      <td>-1.617743</td>\n",
       "      <td>-0.450405</td>\n",
       "      <td>-0.433573</td>\n",
       "    </tr>\n",
       "    <tr>\n",
       "      <th>8</th>\n",
       "      <td>-0.732191</td>\n",
       "      <td>-0.549562</td>\n",
       "      <td>0.535162</td>\n",
       "      <td>0.489395</td>\n",
       "    </tr>\n",
       "    <tr>\n",
       "      <th>9</th>\n",
       "      <td>-1.033884</td>\n",
       "      <td>-0.546205</td>\n",
       "      <td>-0.294216</td>\n",
       "      <td>-0.395757</td>\n",
       "    </tr>\n",
       "  </tbody>\n",
       "</table>\n",
       "</div>"
      ],
      "text/plain": [
       "          0         1         2         3\n",
       "0 -0.232497  0.414056 -0.956625  0.172314\n",
       "1  0.021775 -1.091190 -0.303424 -1.391095\n",
       "2  0.262042  0.120217 -0.153599  2.354800\n",
       "3 -0.042133  1.147307 -1.154657 -2.629318\n",
       "4 -0.025494  0.103904  0.851035 -0.185440\n",
       "5 -0.142785 -0.042485 -0.015978 -1.172049\n",
       "6 -0.778407  0.874380  0.614095  1.614016\n",
       "7 -0.957620 -1.617743 -0.450405 -0.433573\n",
       "8 -0.732191 -0.549562  0.535162  0.489395\n",
       "9 -1.033884 -0.546205 -0.294216 -0.395757"
      ]
     },
     "execution_count": 121,
     "metadata": {},
     "output_type": "execute_result"
    }
   ],
   "source": [
    "pd.concat(pieces)"
   ]
  },
  {
   "cell_type": "code",
   "execution_count": 124,
   "metadata": {
    "collapsed": true
   },
   "outputs": [],
   "source": [
    "## Join\n",
    "# SQL style merges. See the Database style joining"
   ]
  },
  {
   "cell_type": "code",
   "execution_count": 125,
   "metadata": {
    "collapsed": false
   },
   "outputs": [
    {
     "data": {
      "text/html": [
       "<div>\n",
       "<table border=\"1\" class=\"dataframe\">\n",
       "  <thead>\n",
       "    <tr style=\"text-align: right;\">\n",
       "      <th></th>\n",
       "      <th>key</th>\n",
       "      <th>lval</th>\n",
       "    </tr>\n",
       "  </thead>\n",
       "  <tbody>\n",
       "    <tr>\n",
       "      <th>0</th>\n",
       "      <td>foo</td>\n",
       "      <td>1</td>\n",
       "    </tr>\n",
       "    <tr>\n",
       "      <th>1</th>\n",
       "      <td>foo</td>\n",
       "      <td>2</td>\n",
       "    </tr>\n",
       "  </tbody>\n",
       "</table>\n",
       "</div>"
      ],
      "text/plain": [
       "   key  lval\n",
       "0  foo     1\n",
       "1  foo     2"
      ]
     },
     "execution_count": 125,
     "metadata": {},
     "output_type": "execute_result"
    }
   ],
   "source": [
    "left = pd.DataFrame({\n",
    "        'key' : ['foo','foo'],\n",
    "        'lval': [1,2]\n",
    "    })\n",
    "left"
   ]
  },
  {
   "cell_type": "code",
   "execution_count": 126,
   "metadata": {
    "collapsed": false
   },
   "outputs": [
    {
     "data": {
      "text/html": [
       "<div>\n",
       "<table border=\"1\" class=\"dataframe\">\n",
       "  <thead>\n",
       "    <tr style=\"text-align: right;\">\n",
       "      <th></th>\n",
       "      <th>key</th>\n",
       "      <th>rval</th>\n",
       "    </tr>\n",
       "  </thead>\n",
       "  <tbody>\n",
       "    <tr>\n",
       "      <th>0</th>\n",
       "      <td>foo</td>\n",
       "      <td>4</td>\n",
       "    </tr>\n",
       "    <tr>\n",
       "      <th>1</th>\n",
       "      <td>foo</td>\n",
       "      <td>5</td>\n",
       "    </tr>\n",
       "  </tbody>\n",
       "</table>\n",
       "</div>"
      ],
      "text/plain": [
       "   key  rval\n",
       "0  foo     4\n",
       "1  foo     5"
      ]
     },
     "execution_count": 126,
     "metadata": {},
     "output_type": "execute_result"
    }
   ],
   "source": [
    "right = pd.DataFrame({\n",
    "        'key' : ['foo','foo'],\n",
    "        'rval': [4,5]\n",
    "    })\n",
    "right"
   ]
  },
  {
   "cell_type": "code",
   "execution_count": 127,
   "metadata": {
    "collapsed": false
   },
   "outputs": [
    {
     "data": {
      "text/html": [
       "<div>\n",
       "<table border=\"1\" class=\"dataframe\">\n",
       "  <thead>\n",
       "    <tr style=\"text-align: right;\">\n",
       "      <th></th>\n",
       "      <th>key</th>\n",
       "      <th>lval</th>\n",
       "      <th>rval</th>\n",
       "    </tr>\n",
       "  </thead>\n",
       "  <tbody>\n",
       "    <tr>\n",
       "      <th>0</th>\n",
       "      <td>foo</td>\n",
       "      <td>1</td>\n",
       "      <td>4</td>\n",
       "    </tr>\n",
       "    <tr>\n",
       "      <th>1</th>\n",
       "      <td>foo</td>\n",
       "      <td>1</td>\n",
       "      <td>5</td>\n",
       "    </tr>\n",
       "    <tr>\n",
       "      <th>2</th>\n",
       "      <td>foo</td>\n",
       "      <td>2</td>\n",
       "      <td>4</td>\n",
       "    </tr>\n",
       "    <tr>\n",
       "      <th>3</th>\n",
       "      <td>foo</td>\n",
       "      <td>2</td>\n",
       "      <td>5</td>\n",
       "    </tr>\n",
       "  </tbody>\n",
       "</table>\n",
       "</div>"
      ],
      "text/plain": [
       "   key  lval  rval\n",
       "0  foo     1     4\n",
       "1  foo     1     5\n",
       "2  foo     2     4\n",
       "3  foo     2     5"
      ]
     },
     "execution_count": 127,
     "metadata": {},
     "output_type": "execute_result"
    }
   ],
   "source": [
    "pd.merge(left,right,on='key')"
   ]
  },
  {
   "cell_type": "code",
   "execution_count": 128,
   "metadata": {
    "collapsed": true
   },
   "outputs": [],
   "source": [
    "###  Append\n",
    "# Append rows to a DataFrame. See the Appending section"
   ]
  },
  {
   "cell_type": "code",
   "execution_count": 129,
   "metadata": {
    "collapsed": false
   },
   "outputs": [
    {
     "data": {
      "text/html": [
       "<div>\n",
       "<table border=\"1\" class=\"dataframe\">\n",
       "  <thead>\n",
       "    <tr style=\"text-align: right;\">\n",
       "      <th></th>\n",
       "      <th>A</th>\n",
       "      <th>B</th>\n",
       "      <th>C</th>\n",
       "      <th>D</th>\n",
       "    </tr>\n",
       "  </thead>\n",
       "  <tbody>\n",
       "    <tr>\n",
       "      <th>0</th>\n",
       "      <td>-1.369915</td>\n",
       "      <td>-1.930554</td>\n",
       "      <td>-0.130017</td>\n",
       "      <td>-0.488412</td>\n",
       "    </tr>\n",
       "    <tr>\n",
       "      <th>1</th>\n",
       "      <td>0.884762</td>\n",
       "      <td>-0.738478</td>\n",
       "      <td>-1.491449</td>\n",
       "      <td>0.222696</td>\n",
       "    </tr>\n",
       "    <tr>\n",
       "      <th>2</th>\n",
       "      <td>0.950910</td>\n",
       "      <td>1.049367</td>\n",
       "      <td>-0.987850</td>\n",
       "      <td>-1.814065</td>\n",
       "    </tr>\n",
       "    <tr>\n",
       "      <th>3</th>\n",
       "      <td>0.829573</td>\n",
       "      <td>1.504485</td>\n",
       "      <td>1.532989</td>\n",
       "      <td>0.694654</td>\n",
       "    </tr>\n",
       "    <tr>\n",
       "      <th>4</th>\n",
       "      <td>-0.752002</td>\n",
       "      <td>-0.859496</td>\n",
       "      <td>0.139550</td>\n",
       "      <td>-0.829831</td>\n",
       "    </tr>\n",
       "    <tr>\n",
       "      <th>5</th>\n",
       "      <td>-1.253918</td>\n",
       "      <td>0.564493</td>\n",
       "      <td>0.473954</td>\n",
       "      <td>-0.084973</td>\n",
       "    </tr>\n",
       "    <tr>\n",
       "      <th>6</th>\n",
       "      <td>0.868182</td>\n",
       "      <td>0.490297</td>\n",
       "      <td>0.671699</td>\n",
       "      <td>-0.034065</td>\n",
       "    </tr>\n",
       "    <tr>\n",
       "      <th>7</th>\n",
       "      <td>-0.370738</td>\n",
       "      <td>0.976783</td>\n",
       "      <td>0.363466</td>\n",
       "      <td>-0.245434</td>\n",
       "    </tr>\n",
       "  </tbody>\n",
       "</table>\n",
       "</div>"
      ],
      "text/plain": [
       "          A         B         C         D\n",
       "0 -1.369915 -1.930554 -0.130017 -0.488412\n",
       "1  0.884762 -0.738478 -1.491449  0.222696\n",
       "2  0.950910  1.049367 -0.987850 -1.814065\n",
       "3  0.829573  1.504485  1.532989  0.694654\n",
       "4 -0.752002 -0.859496  0.139550 -0.829831\n",
       "5 -1.253918  0.564493  0.473954 -0.084973\n",
       "6  0.868182  0.490297  0.671699 -0.034065\n",
       "7 -0.370738  0.976783  0.363466 -0.245434"
      ]
     },
     "execution_count": 129,
     "metadata": {},
     "output_type": "execute_result"
    }
   ],
   "source": [
    "df = pd.DataFrame(np.random.randn(8,4),columns=['A','B','C','D'])\n",
    "df"
   ]
  },
  {
   "cell_type": "code",
   "execution_count": 133,
   "metadata": {
    "collapsed": false
   },
   "outputs": [
    {
     "data": {
      "text/plain": [
       "A    0.829573\n",
       "B    1.504485\n",
       "C    1.532989\n",
       "D    0.694654\n",
       "Name: 3, dtype: float64"
      ]
     },
     "execution_count": 133,
     "metadata": {},
     "output_type": "execute_result"
    }
   ],
   "source": [
    "s = df.iloc[3]\n",
    "s"
   ]
  },
  {
   "cell_type": "code",
   "execution_count": 134,
   "metadata": {
    "collapsed": false
   },
   "outputs": [
    {
     "data": {
      "text/html": [
       "<div>\n",
       "<table border=\"1\" class=\"dataframe\">\n",
       "  <thead>\n",
       "    <tr style=\"text-align: right;\">\n",
       "      <th></th>\n",
       "      <th>A</th>\n",
       "      <th>B</th>\n",
       "      <th>C</th>\n",
       "      <th>D</th>\n",
       "    </tr>\n",
       "  </thead>\n",
       "  <tbody>\n",
       "    <tr>\n",
       "      <th>0</th>\n",
       "      <td>-1.369915</td>\n",
       "      <td>-1.930554</td>\n",
       "      <td>-0.130017</td>\n",
       "      <td>-0.488412</td>\n",
       "    </tr>\n",
       "    <tr>\n",
       "      <th>1</th>\n",
       "      <td>0.884762</td>\n",
       "      <td>-0.738478</td>\n",
       "      <td>-1.491449</td>\n",
       "      <td>0.222696</td>\n",
       "    </tr>\n",
       "    <tr>\n",
       "      <th>2</th>\n",
       "      <td>0.950910</td>\n",
       "      <td>1.049367</td>\n",
       "      <td>-0.987850</td>\n",
       "      <td>-1.814065</td>\n",
       "    </tr>\n",
       "    <tr>\n",
       "      <th>3</th>\n",
       "      <td>0.829573</td>\n",
       "      <td>1.504485</td>\n",
       "      <td>1.532989</td>\n",
       "      <td>0.694654</td>\n",
       "    </tr>\n",
       "    <tr>\n",
       "      <th>4</th>\n",
       "      <td>-0.752002</td>\n",
       "      <td>-0.859496</td>\n",
       "      <td>0.139550</td>\n",
       "      <td>-0.829831</td>\n",
       "    </tr>\n",
       "    <tr>\n",
       "      <th>5</th>\n",
       "      <td>-1.253918</td>\n",
       "      <td>0.564493</td>\n",
       "      <td>0.473954</td>\n",
       "      <td>-0.084973</td>\n",
       "    </tr>\n",
       "    <tr>\n",
       "      <th>6</th>\n",
       "      <td>0.868182</td>\n",
       "      <td>0.490297</td>\n",
       "      <td>0.671699</td>\n",
       "      <td>-0.034065</td>\n",
       "    </tr>\n",
       "    <tr>\n",
       "      <th>7</th>\n",
       "      <td>-0.370738</td>\n",
       "      <td>0.976783</td>\n",
       "      <td>0.363466</td>\n",
       "      <td>-0.245434</td>\n",
       "    </tr>\n",
       "    <tr>\n",
       "      <th>8</th>\n",
       "      <td>0.829573</td>\n",
       "      <td>1.504485</td>\n",
       "      <td>1.532989</td>\n",
       "      <td>0.694654</td>\n",
       "    </tr>\n",
       "  </tbody>\n",
       "</table>\n",
       "</div>"
      ],
      "text/plain": [
       "          A         B         C         D\n",
       "0 -1.369915 -1.930554 -0.130017 -0.488412\n",
       "1  0.884762 -0.738478 -1.491449  0.222696\n",
       "2  0.950910  1.049367 -0.987850 -1.814065\n",
       "3  0.829573  1.504485  1.532989  0.694654\n",
       "4 -0.752002 -0.859496  0.139550 -0.829831\n",
       "5 -1.253918  0.564493  0.473954 -0.084973\n",
       "6  0.868182  0.490297  0.671699 -0.034065\n",
       "7 -0.370738  0.976783  0.363466 -0.245434\n",
       "8  0.829573  1.504485  1.532989  0.694654"
      ]
     },
     "execution_count": 134,
     "metadata": {},
     "output_type": "execute_result"
    }
   ],
   "source": [
    "df.append(s,ignore_index=True)"
   ]
  },
  {
   "cell_type": "code",
   "execution_count": 135,
   "metadata": {
    "collapsed": true
   },
   "outputs": [],
   "source": [
    "## Grouping"
   ]
  },
  {
   "cell_type": "code",
   "execution_count": 136,
   "metadata": {
    "collapsed": true
   },
   "outputs": [],
   "source": [
    "# By \"group by\" we are referring to a process involving one or more of the following steps\n",
    "#    Splitting : the data into groups based on some criteria\n",
    "#    Applying : a function to each group independently\n",
    "#    Combining : the results into a data structure\n",
    "# Seed the Grouping section"
   ]
  },
  {
   "cell_type": "code",
   "execution_count": 137,
   "metadata": {
    "collapsed": false
   },
   "outputs": [
    {
     "data": {
      "text/html": [
       "<div>\n",
       "<table border=\"1\" class=\"dataframe\">\n",
       "  <thead>\n",
       "    <tr style=\"text-align: right;\">\n",
       "      <th></th>\n",
       "      <th>A</th>\n",
       "      <th>B</th>\n",
       "      <th>C</th>\n",
       "      <th>D</th>\n",
       "    </tr>\n",
       "  </thead>\n",
       "  <tbody>\n",
       "    <tr>\n",
       "      <th>0</th>\n",
       "      <td>foo</td>\n",
       "      <td>one</td>\n",
       "      <td>1.045439</td>\n",
       "      <td>-0.356303</td>\n",
       "    </tr>\n",
       "    <tr>\n",
       "      <th>1</th>\n",
       "      <td>bar</td>\n",
       "      <td>one</td>\n",
       "      <td>-0.219672</td>\n",
       "      <td>0.579529</td>\n",
       "    </tr>\n",
       "    <tr>\n",
       "      <th>2</th>\n",
       "      <td>foo</td>\n",
       "      <td>two</td>\n",
       "      <td>0.389218</td>\n",
       "      <td>-1.076520</td>\n",
       "    </tr>\n",
       "    <tr>\n",
       "      <th>3</th>\n",
       "      <td>bar</td>\n",
       "      <td>three</td>\n",
       "      <td>-0.190011</td>\n",
       "      <td>-2.504312</td>\n",
       "    </tr>\n",
       "    <tr>\n",
       "      <th>4</th>\n",
       "      <td>foo</td>\n",
       "      <td>two</td>\n",
       "      <td>0.638625</td>\n",
       "      <td>0.661820</td>\n",
       "    </tr>\n",
       "    <tr>\n",
       "      <th>5</th>\n",
       "      <td>bar</td>\n",
       "      <td>two</td>\n",
       "      <td>0.032324</td>\n",
       "      <td>1.084815</td>\n",
       "    </tr>\n",
       "    <tr>\n",
       "      <th>6</th>\n",
       "      <td>foo</td>\n",
       "      <td>one</td>\n",
       "      <td>-0.548152</td>\n",
       "      <td>-0.110945</td>\n",
       "    </tr>\n",
       "    <tr>\n",
       "      <th>7</th>\n",
       "      <td>foo</td>\n",
       "      <td>three</td>\n",
       "      <td>-0.031050</td>\n",
       "      <td>1.237791</td>\n",
       "    </tr>\n",
       "  </tbody>\n",
       "</table>\n",
       "</div>"
      ],
      "text/plain": [
       "     A      B         C         D\n",
       "0  foo    one  1.045439 -0.356303\n",
       "1  bar    one -0.219672  0.579529\n",
       "2  foo    two  0.389218 -1.076520\n",
       "3  bar  three -0.190011 -2.504312\n",
       "4  foo    two  0.638625  0.661820\n",
       "5  bar    two  0.032324  1.084815\n",
       "6  foo    one -0.548152 -0.110945\n",
       "7  foo  three -0.031050  1.237791"
      ]
     },
     "execution_count": 137,
     "metadata": {},
     "output_type": "execute_result"
    }
   ],
   "source": [
    "df = pd.DataFrame({\n",
    "        'A' : ['foo','bar','foo','bar','foo','bar','foo','foo'],\n",
    "        'B' : ['one','one','two','three','two','two','one','three'],\n",
    "        'C' : np.random.randn(8),\n",
    "        'D' : np.random.randn(8)\n",
    "    })\n",
    "df"
   ]
  },
  {
   "cell_type": "code",
   "execution_count": 139,
   "metadata": {
    "collapsed": false
   },
   "outputs": [
    {
     "data": {
      "text/html": [
       "<div>\n",
       "<table border=\"1\" class=\"dataframe\">\n",
       "  <thead>\n",
       "    <tr style=\"text-align: right;\">\n",
       "      <th></th>\n",
       "      <th>C</th>\n",
       "      <th>D</th>\n",
       "    </tr>\n",
       "    <tr>\n",
       "      <th>A</th>\n",
       "      <th></th>\n",
       "      <th></th>\n",
       "    </tr>\n",
       "  </thead>\n",
       "  <tbody>\n",
       "    <tr>\n",
       "      <th>bar</th>\n",
       "      <td>-0.377359</td>\n",
       "      <td>-0.839968</td>\n",
       "    </tr>\n",
       "    <tr>\n",
       "      <th>foo</th>\n",
       "      <td>1.494079</td>\n",
       "      <td>0.355843</td>\n",
       "    </tr>\n",
       "  </tbody>\n",
       "</table>\n",
       "</div>"
      ],
      "text/plain": [
       "            C         D\n",
       "A                      \n",
       "bar -0.377359 -0.839968\n",
       "foo  1.494079  0.355843"
      ]
     },
     "execution_count": 139,
     "metadata": {},
     "output_type": "execute_result"
    }
   ],
   "source": [
    "# Grouping and then applying a function 'sum' to the resulting groups.\n",
    "df.groupby('A').sum()"
   ]
  },
  {
   "cell_type": "code",
   "execution_count": 140,
   "metadata": {
    "collapsed": false
   },
   "outputs": [
    {
     "data": {
      "text/html": [
       "<div>\n",
       "<table border=\"1\" class=\"dataframe\">\n",
       "  <thead>\n",
       "    <tr style=\"text-align: right;\">\n",
       "      <th></th>\n",
       "      <th></th>\n",
       "      <th>C</th>\n",
       "      <th>D</th>\n",
       "    </tr>\n",
       "    <tr>\n",
       "      <th>A</th>\n",
       "      <th>B</th>\n",
       "      <th></th>\n",
       "      <th></th>\n",
       "    </tr>\n",
       "  </thead>\n",
       "  <tbody>\n",
       "    <tr>\n",
       "      <th rowspan=\"3\" valign=\"top\">bar</th>\n",
       "      <th>one</th>\n",
       "      <td>-0.219672</td>\n",
       "      <td>0.579529</td>\n",
       "    </tr>\n",
       "    <tr>\n",
       "      <th>three</th>\n",
       "      <td>-0.190011</td>\n",
       "      <td>-2.504312</td>\n",
       "    </tr>\n",
       "    <tr>\n",
       "      <th>two</th>\n",
       "      <td>0.032324</td>\n",
       "      <td>1.084815</td>\n",
       "    </tr>\n",
       "    <tr>\n",
       "      <th rowspan=\"3\" valign=\"top\">foo</th>\n",
       "      <th>one</th>\n",
       "      <td>0.497287</td>\n",
       "      <td>-0.467248</td>\n",
       "    </tr>\n",
       "    <tr>\n",
       "      <th>three</th>\n",
       "      <td>-0.031050</td>\n",
       "      <td>1.237791</td>\n",
       "    </tr>\n",
       "    <tr>\n",
       "      <th>two</th>\n",
       "      <td>1.027842</td>\n",
       "      <td>-0.414700</td>\n",
       "    </tr>\n",
       "  </tbody>\n",
       "</table>\n",
       "</div>"
      ],
      "text/plain": [
       "                  C         D\n",
       "A   B                        \n",
       "bar one   -0.219672  0.579529\n",
       "    three -0.190011 -2.504312\n",
       "    two    0.032324  1.084815\n",
       "foo one    0.497287 -0.467248\n",
       "    three -0.031050  1.237791\n",
       "    two    1.027842 -0.414700"
      ]
     },
     "execution_count": 140,
     "metadata": {},
     "output_type": "execute_result"
    }
   ],
   "source": [
    "# Grouping by multiple columns forms a hierarchical index, which we then apply the function.\n",
    "df.groupby(['A','B']).sum()"
   ]
  },
  {
   "cell_type": "code",
   "execution_count": 141,
   "metadata": {
    "collapsed": true
   },
   "outputs": [],
   "source": [
    "##########################################\n",
    "##  Reshaping\n",
    "##########################################"
   ]
  },
  {
   "cell_type": "code",
   "execution_count": 142,
   "metadata": {
    "collapsed": true
   },
   "outputs": [],
   "source": [
    "## Stack"
   ]
  },
  {
   "cell_type": "code",
   "execution_count": 143,
   "metadata": {
    "collapsed": false
   },
   "outputs": [
    {
     "data": {
      "text/plain": [
       "[('bar', 'one'),\n",
       " ('bar', 'two'),\n",
       " ('baz', 'one'),\n",
       " ('baz', 'two'),\n",
       " ('foo', 'one'),\n",
       " ('foo', 'two'),\n",
       " ('qux', 'one'),\n",
       " ('qux', 'two')]"
      ]
     },
     "execution_count": 143,
     "metadata": {},
     "output_type": "execute_result"
    }
   ],
   "source": [
    "tuples = list(zip(*[['bar', 'bar', 'baz', 'baz',\n",
    "                     'foo', 'foo', 'qux', 'qux'],\n",
    "                    ['one', 'two', 'one', 'two',\n",
    "                     'one', 'two', 'one', 'two']\n",
    "                   ]\n",
    "                 )\n",
    "             )\n",
    "tuples"
   ]
  },
  {
   "cell_type": "code",
   "execution_count": 145,
   "metadata": {
    "collapsed": false
   },
   "outputs": [
    {
     "data": {
      "text/plain": [
       "MultiIndex(levels=[['bar', 'baz', 'foo', 'qux'], ['one', 'two']],\n",
       "           labels=[[0, 0, 1, 1, 2, 2, 3, 3], [0, 1, 0, 1, 0, 1, 0, 1]],\n",
       "           names=['first', 'second'])"
      ]
     },
     "execution_count": 145,
     "metadata": {},
     "output_type": "execute_result"
    }
   ],
   "source": [
    "index = pd.MultiIndex.from_tuples(tuples,names=['first','second'])\n",
    "index"
   ]
  },
  {
   "cell_type": "code",
   "execution_count": 146,
   "metadata": {
    "collapsed": false
   },
   "outputs": [
    {
     "data": {
      "text/html": [
       "<div>\n",
       "<table border=\"1\" class=\"dataframe\">\n",
       "  <thead>\n",
       "    <tr style=\"text-align: right;\">\n",
       "      <th></th>\n",
       "      <th></th>\n",
       "      <th>A</th>\n",
       "      <th>B</th>\n",
       "    </tr>\n",
       "    <tr>\n",
       "      <th>first</th>\n",
       "      <th>second</th>\n",
       "      <th></th>\n",
       "      <th></th>\n",
       "    </tr>\n",
       "  </thead>\n",
       "  <tbody>\n",
       "    <tr>\n",
       "      <th rowspan=\"2\" valign=\"top\">bar</th>\n",
       "      <th>one</th>\n",
       "      <td>-0.702314</td>\n",
       "      <td>0.079016</td>\n",
       "    </tr>\n",
       "    <tr>\n",
       "      <th>two</th>\n",
       "      <td>0.788846</td>\n",
       "      <td>-1.924155</td>\n",
       "    </tr>\n",
       "    <tr>\n",
       "      <th rowspan=\"2\" valign=\"top\">baz</th>\n",
       "      <th>one</th>\n",
       "      <td>1.408150</td>\n",
       "      <td>0.536361</td>\n",
       "    </tr>\n",
       "    <tr>\n",
       "      <th>two</th>\n",
       "      <td>-0.129283</td>\n",
       "      <td>-0.162053</td>\n",
       "    </tr>\n",
       "    <tr>\n",
       "      <th rowspan=\"2\" valign=\"top\">foo</th>\n",
       "      <th>one</th>\n",
       "      <td>-0.977202</td>\n",
       "      <td>-0.528426</td>\n",
       "    </tr>\n",
       "    <tr>\n",
       "      <th>two</th>\n",
       "      <td>0.083542</td>\n",
       "      <td>1.324479</td>\n",
       "    </tr>\n",
       "    <tr>\n",
       "      <th rowspan=\"2\" valign=\"top\">qux</th>\n",
       "      <th>one</th>\n",
       "      <td>-0.315522</td>\n",
       "      <td>-0.285444</td>\n",
       "    </tr>\n",
       "    <tr>\n",
       "      <th>two</th>\n",
       "      <td>-0.638460</td>\n",
       "      <td>-0.199015</td>\n",
       "    </tr>\n",
       "  </tbody>\n",
       "</table>\n",
       "</div>"
      ],
      "text/plain": [
       "                     A         B\n",
       "first second                    \n",
       "bar   one    -0.702314  0.079016\n",
       "      two     0.788846 -1.924155\n",
       "baz   one     1.408150  0.536361\n",
       "      two    -0.129283 -0.162053\n",
       "foo   one    -0.977202 -0.528426\n",
       "      two     0.083542  1.324479\n",
       "qux   one    -0.315522 -0.285444\n",
       "      two    -0.638460 -0.199015"
      ]
     },
     "execution_count": 146,
     "metadata": {},
     "output_type": "execute_result"
    }
   ],
   "source": [
    "df = pd.DataFrame(np.random.randn(8,2),index=index,columns=['A','B'])\n",
    "df"
   ]
  },
  {
   "cell_type": "code",
   "execution_count": 147,
   "metadata": {
    "collapsed": false
   },
   "outputs": [
    {
     "data": {
      "text/html": [
       "<div>\n",
       "<table border=\"1\" class=\"dataframe\">\n",
       "  <thead>\n",
       "    <tr style=\"text-align: right;\">\n",
       "      <th></th>\n",
       "      <th></th>\n",
       "      <th>A</th>\n",
       "      <th>B</th>\n",
       "    </tr>\n",
       "    <tr>\n",
       "      <th>first</th>\n",
       "      <th>second</th>\n",
       "      <th></th>\n",
       "      <th></th>\n",
       "    </tr>\n",
       "  </thead>\n",
       "  <tbody>\n",
       "    <tr>\n",
       "      <th rowspan=\"2\" valign=\"top\">bar</th>\n",
       "      <th>one</th>\n",
       "      <td>-0.702314</td>\n",
       "      <td>0.079016</td>\n",
       "    </tr>\n",
       "    <tr>\n",
       "      <th>two</th>\n",
       "      <td>0.788846</td>\n",
       "      <td>-1.924155</td>\n",
       "    </tr>\n",
       "    <tr>\n",
       "      <th rowspan=\"2\" valign=\"top\">baz</th>\n",
       "      <th>one</th>\n",
       "      <td>1.408150</td>\n",
       "      <td>0.536361</td>\n",
       "    </tr>\n",
       "    <tr>\n",
       "      <th>two</th>\n",
       "      <td>-0.129283</td>\n",
       "      <td>-0.162053</td>\n",
       "    </tr>\n",
       "  </tbody>\n",
       "</table>\n",
       "</div>"
      ],
      "text/plain": [
       "                     A         B\n",
       "first second                    \n",
       "bar   one    -0.702314  0.079016\n",
       "      two     0.788846 -1.924155\n",
       "baz   one     1.408150  0.536361\n",
       "      two    -0.129283 -0.162053"
      ]
     },
     "execution_count": 147,
     "metadata": {},
     "output_type": "execute_result"
    }
   ],
   "source": [
    "df2 = df[:4]\n",
    "df2"
   ]
  },
  {
   "cell_type": "code",
   "execution_count": 148,
   "metadata": {
    "collapsed": false
   },
   "outputs": [
    {
     "data": {
      "text/plain": [
       "first  second   \n",
       "bar    one     A   -0.702314\n",
       "               B    0.079016\n",
       "       two     A    0.788846\n",
       "               B   -1.924155\n",
       "baz    one     A    1.408150\n",
       "               B    0.536361\n",
       "       two     A   -0.129283\n",
       "               B   -0.162053\n",
       "dtype: float64"
      ]
     },
     "execution_count": 148,
     "metadata": {},
     "output_type": "execute_result"
    }
   ],
   "source": [
    "# The stack() method \"compresses\" a level in the DataFrame's columns.\n",
    "stacked = df2.stack()\n",
    "stacked"
   ]
  },
  {
   "cell_type": "code",
   "execution_count": 149,
   "metadata": {
    "collapsed": true
   },
   "outputs": [],
   "source": [
    "# With a \"stacked\" DataFrame or Series (having a 'MultiIndex' as the 'index'), the inverse operation of stack()\n",
    "# is unstack(), which by default unstacks the last level:"
   ]
  },
  {
   "cell_type": "code",
   "execution_count": 150,
   "metadata": {
    "collapsed": false
   },
   "outputs": [
    {
     "data": {
      "text/html": [
       "<div>\n",
       "<table border=\"1\" class=\"dataframe\">\n",
       "  <thead>\n",
       "    <tr style=\"text-align: right;\">\n",
       "      <th></th>\n",
       "      <th></th>\n",
       "      <th>A</th>\n",
       "      <th>B</th>\n",
       "    </tr>\n",
       "    <tr>\n",
       "      <th>first</th>\n",
       "      <th>second</th>\n",
       "      <th></th>\n",
       "      <th></th>\n",
       "    </tr>\n",
       "  </thead>\n",
       "  <tbody>\n",
       "    <tr>\n",
       "      <th rowspan=\"2\" valign=\"top\">bar</th>\n",
       "      <th>one</th>\n",
       "      <td>-0.702314</td>\n",
       "      <td>0.079016</td>\n",
       "    </tr>\n",
       "    <tr>\n",
       "      <th>two</th>\n",
       "      <td>0.788846</td>\n",
       "      <td>-1.924155</td>\n",
       "    </tr>\n",
       "    <tr>\n",
       "      <th rowspan=\"2\" valign=\"top\">baz</th>\n",
       "      <th>one</th>\n",
       "      <td>1.408150</td>\n",
       "      <td>0.536361</td>\n",
       "    </tr>\n",
       "    <tr>\n",
       "      <th>two</th>\n",
       "      <td>-0.129283</td>\n",
       "      <td>-0.162053</td>\n",
       "    </tr>\n",
       "  </tbody>\n",
       "</table>\n",
       "</div>"
      ],
      "text/plain": [
       "                     A         B\n",
       "first second                    \n",
       "bar   one    -0.702314  0.079016\n",
       "      two     0.788846 -1.924155\n",
       "baz   one     1.408150  0.536361\n",
       "      two    -0.129283 -0.162053"
      ]
     },
     "execution_count": 150,
     "metadata": {},
     "output_type": "execute_result"
    }
   ],
   "source": [
    "stacked.unstack()"
   ]
  },
  {
   "cell_type": "code",
   "execution_count": 151,
   "metadata": {
    "collapsed": false
   },
   "outputs": [
    {
     "data": {
      "text/html": [
       "<div>\n",
       "<table border=\"1\" class=\"dataframe\">\n",
       "  <thead>\n",
       "    <tr style=\"text-align: right;\">\n",
       "      <th></th>\n",
       "      <th>second</th>\n",
       "      <th>one</th>\n",
       "      <th>two</th>\n",
       "    </tr>\n",
       "    <tr>\n",
       "      <th>first</th>\n",
       "      <th></th>\n",
       "      <th></th>\n",
       "      <th></th>\n",
       "    </tr>\n",
       "  </thead>\n",
       "  <tbody>\n",
       "    <tr>\n",
       "      <th rowspan=\"2\" valign=\"top\">bar</th>\n",
       "      <th>A</th>\n",
       "      <td>-0.702314</td>\n",
       "      <td>0.788846</td>\n",
       "    </tr>\n",
       "    <tr>\n",
       "      <th>B</th>\n",
       "      <td>0.079016</td>\n",
       "      <td>-1.924155</td>\n",
       "    </tr>\n",
       "    <tr>\n",
       "      <th rowspan=\"2\" valign=\"top\">baz</th>\n",
       "      <th>A</th>\n",
       "      <td>1.408150</td>\n",
       "      <td>-0.129283</td>\n",
       "    </tr>\n",
       "    <tr>\n",
       "      <th>B</th>\n",
       "      <td>0.536361</td>\n",
       "      <td>-0.162053</td>\n",
       "    </tr>\n",
       "  </tbody>\n",
       "</table>\n",
       "</div>"
      ],
      "text/plain": [
       "second        one       two\n",
       "first                      \n",
       "bar   A -0.702314  0.788846\n",
       "      B  0.079016 -1.924155\n",
       "baz   A  1.408150 -0.129283\n",
       "      B  0.536361 -0.162053"
      ]
     },
     "execution_count": 151,
     "metadata": {},
     "output_type": "execute_result"
    }
   ],
   "source": [
    "stacked.unstack(1)"
   ]
  },
  {
   "cell_type": "code",
   "execution_count": 152,
   "metadata": {
    "collapsed": false
   },
   "outputs": [
    {
     "data": {
      "text/html": [
       "<div>\n",
       "<table border=\"1\" class=\"dataframe\">\n",
       "  <thead>\n",
       "    <tr style=\"text-align: right;\">\n",
       "      <th></th>\n",
       "      <th>first</th>\n",
       "      <th>bar</th>\n",
       "      <th>baz</th>\n",
       "    </tr>\n",
       "    <tr>\n",
       "      <th>second</th>\n",
       "      <th></th>\n",
       "      <th></th>\n",
       "      <th></th>\n",
       "    </tr>\n",
       "  </thead>\n",
       "  <tbody>\n",
       "    <tr>\n",
       "      <th rowspan=\"2\" valign=\"top\">one</th>\n",
       "      <th>A</th>\n",
       "      <td>-0.702314</td>\n",
       "      <td>1.408150</td>\n",
       "    </tr>\n",
       "    <tr>\n",
       "      <th>B</th>\n",
       "      <td>0.079016</td>\n",
       "      <td>0.536361</td>\n",
       "    </tr>\n",
       "    <tr>\n",
       "      <th rowspan=\"2\" valign=\"top\">two</th>\n",
       "      <th>A</th>\n",
       "      <td>0.788846</td>\n",
       "      <td>-0.129283</td>\n",
       "    </tr>\n",
       "    <tr>\n",
       "      <th>B</th>\n",
       "      <td>-1.924155</td>\n",
       "      <td>-0.162053</td>\n",
       "    </tr>\n",
       "  </tbody>\n",
       "</table>\n",
       "</div>"
      ],
      "text/plain": [
       "first          bar       baz\n",
       "second                      \n",
       "one    A -0.702314  1.408150\n",
       "       B  0.079016  0.536361\n",
       "two    A  0.788846 -0.129283\n",
       "       B -1.924155 -0.162053"
      ]
     },
     "execution_count": 152,
     "metadata": {},
     "output_type": "execute_result"
    }
   ],
   "source": [
    "stacked.unstack(0)"
   ]
  },
  {
   "cell_type": "code",
   "execution_count": 153,
   "metadata": {
    "collapsed": true
   },
   "outputs": [],
   "source": [
    "### Pivot Tables"
   ]
  },
  {
   "cell_type": "code",
   "execution_count": 154,
   "metadata": {
    "collapsed": false
   },
   "outputs": [
    {
     "data": {
      "text/html": [
       "<div>\n",
       "<table border=\"1\" class=\"dataframe\">\n",
       "  <thead>\n",
       "    <tr style=\"text-align: right;\">\n",
       "      <th></th>\n",
       "      <th>A</th>\n",
       "      <th>B</th>\n",
       "      <th>C</th>\n",
       "      <th>D</th>\n",
       "      <th>E</th>\n",
       "    </tr>\n",
       "  </thead>\n",
       "  <tbody>\n",
       "    <tr>\n",
       "      <th>0</th>\n",
       "      <td>one</td>\n",
       "      <td>A</td>\n",
       "      <td>foo</td>\n",
       "      <td>-0.750736</td>\n",
       "      <td>-0.350743</td>\n",
       "    </tr>\n",
       "    <tr>\n",
       "      <th>1</th>\n",
       "      <td>one</td>\n",
       "      <td>B</td>\n",
       "      <td>foo</td>\n",
       "      <td>-1.086549</td>\n",
       "      <td>0.148726</td>\n",
       "    </tr>\n",
       "    <tr>\n",
       "      <th>2</th>\n",
       "      <td>two</td>\n",
       "      <td>C</td>\n",
       "      <td>foo</td>\n",
       "      <td>0.402469</td>\n",
       "      <td>-1.865618</td>\n",
       "    </tr>\n",
       "    <tr>\n",
       "      <th>3</th>\n",
       "      <td>three</td>\n",
       "      <td>A</td>\n",
       "      <td>bar</td>\n",
       "      <td>-2.281126</td>\n",
       "      <td>-0.234904</td>\n",
       "    </tr>\n",
       "    <tr>\n",
       "      <th>4</th>\n",
       "      <td>one</td>\n",
       "      <td>B</td>\n",
       "      <td>bar</td>\n",
       "      <td>1.675779</td>\n",
       "      <td>-0.233023</td>\n",
       "    </tr>\n",
       "    <tr>\n",
       "      <th>5</th>\n",
       "      <td>one</td>\n",
       "      <td>C</td>\n",
       "      <td>bar</td>\n",
       "      <td>-0.046433</td>\n",
       "      <td>0.524501</td>\n",
       "    </tr>\n",
       "    <tr>\n",
       "      <th>6</th>\n",
       "      <td>two</td>\n",
       "      <td>A</td>\n",
       "      <td>foo</td>\n",
       "      <td>0.311987</td>\n",
       "      <td>0.066947</td>\n",
       "    </tr>\n",
       "    <tr>\n",
       "      <th>7</th>\n",
       "      <td>three</td>\n",
       "      <td>B</td>\n",
       "      <td>foo</td>\n",
       "      <td>1.161856</td>\n",
       "      <td>0.917653</td>\n",
       "    </tr>\n",
       "    <tr>\n",
       "      <th>8</th>\n",
       "      <td>one</td>\n",
       "      <td>C</td>\n",
       "      <td>foo</td>\n",
       "      <td>-0.634162</td>\n",
       "      <td>0.406354</td>\n",
       "    </tr>\n",
       "    <tr>\n",
       "      <th>9</th>\n",
       "      <td>one</td>\n",
       "      <td>A</td>\n",
       "      <td>bar</td>\n",
       "      <td>-0.233298</td>\n",
       "      <td>-0.142774</td>\n",
       "    </tr>\n",
       "    <tr>\n",
       "      <th>10</th>\n",
       "      <td>two</td>\n",
       "      <td>B</td>\n",
       "      <td>bar</td>\n",
       "      <td>0.126542</td>\n",
       "      <td>0.020274</td>\n",
       "    </tr>\n",
       "    <tr>\n",
       "      <th>11</th>\n",
       "      <td>three</td>\n",
       "      <td>C</td>\n",
       "      <td>bar</td>\n",
       "      <td>0.346531</td>\n",
       "      <td>-0.072056</td>\n",
       "    </tr>\n",
       "  </tbody>\n",
       "</table>\n",
       "</div>"
      ],
      "text/plain": [
       "        A  B    C         D         E\n",
       "0     one  A  foo -0.750736 -0.350743\n",
       "1     one  B  foo -1.086549  0.148726\n",
       "2     two  C  foo  0.402469 -1.865618\n",
       "3   three  A  bar -2.281126 -0.234904\n",
       "4     one  B  bar  1.675779 -0.233023\n",
       "5     one  C  bar -0.046433  0.524501\n",
       "6     two  A  foo  0.311987  0.066947\n",
       "7   three  B  foo  1.161856  0.917653\n",
       "8     one  C  foo -0.634162  0.406354\n",
       "9     one  A  bar -0.233298 -0.142774\n",
       "10    two  B  bar  0.126542  0.020274\n",
       "11  three  C  bar  0.346531 -0.072056"
      ]
     },
     "execution_count": 154,
     "metadata": {},
     "output_type": "execute_result"
    }
   ],
   "source": [
    "df = pd.DataFrame({'A' : ['one', 'one', 'two', 'three'] * 3,\n",
    "                   'B' : ['A', 'B', 'C'] * 4,\n",
    "                   'C' : ['foo', 'foo', 'foo', 'bar', 'bar', 'bar'] * 2,\n",
    "                   'D' : np.random.randn(12),\n",
    "                   'E' : np.random.randn(12)\n",
    "                  }\n",
    "                 )\n",
    "df"
   ]
  },
  {
   "cell_type": "code",
   "execution_count": 155,
   "metadata": {
    "collapsed": false
   },
   "outputs": [
    {
     "data": {
      "text/html": [
       "<div>\n",
       "<table border=\"1\" class=\"dataframe\">\n",
       "  <thead>\n",
       "    <tr style=\"text-align: right;\">\n",
       "      <th></th>\n",
       "      <th>C</th>\n",
       "      <th>bar</th>\n",
       "      <th>foo</th>\n",
       "    </tr>\n",
       "    <tr>\n",
       "      <th>A</th>\n",
       "      <th>B</th>\n",
       "      <th></th>\n",
       "      <th></th>\n",
       "    </tr>\n",
       "  </thead>\n",
       "  <tbody>\n",
       "    <tr>\n",
       "      <th rowspan=\"3\" valign=\"top\">one</th>\n",
       "      <th>A</th>\n",
       "      <td>-0.233298</td>\n",
       "      <td>-0.750736</td>\n",
       "    </tr>\n",
       "    <tr>\n",
       "      <th>B</th>\n",
       "      <td>1.675779</td>\n",
       "      <td>-1.086549</td>\n",
       "    </tr>\n",
       "    <tr>\n",
       "      <th>C</th>\n",
       "      <td>-0.046433</td>\n",
       "      <td>-0.634162</td>\n",
       "    </tr>\n",
       "    <tr>\n",
       "      <th rowspan=\"3\" valign=\"top\">three</th>\n",
       "      <th>A</th>\n",
       "      <td>-2.281126</td>\n",
       "      <td>NaN</td>\n",
       "    </tr>\n",
       "    <tr>\n",
       "      <th>B</th>\n",
       "      <td>NaN</td>\n",
       "      <td>1.161856</td>\n",
       "    </tr>\n",
       "    <tr>\n",
       "      <th>C</th>\n",
       "      <td>0.346531</td>\n",
       "      <td>NaN</td>\n",
       "    </tr>\n",
       "    <tr>\n",
       "      <th rowspan=\"3\" valign=\"top\">two</th>\n",
       "      <th>A</th>\n",
       "      <td>NaN</td>\n",
       "      <td>0.311987</td>\n",
       "    </tr>\n",
       "    <tr>\n",
       "      <th>B</th>\n",
       "      <td>0.126542</td>\n",
       "      <td>NaN</td>\n",
       "    </tr>\n",
       "    <tr>\n",
       "      <th>C</th>\n",
       "      <td>NaN</td>\n",
       "      <td>0.402469</td>\n",
       "    </tr>\n",
       "  </tbody>\n",
       "</table>\n",
       "</div>"
      ],
      "text/plain": [
       "C             bar       foo\n",
       "A     B                    \n",
       "one   A -0.233298 -0.750736\n",
       "      B  1.675779 -1.086549\n",
       "      C -0.046433 -0.634162\n",
       "three A -2.281126       NaN\n",
       "      B       NaN  1.161856\n",
       "      C  0.346531       NaN\n",
       "two   A       NaN  0.311987\n",
       "      B  0.126542       NaN\n",
       "      C       NaN  0.402469"
      ]
     },
     "execution_count": 155,
     "metadata": {},
     "output_type": "execute_result"
    }
   ],
   "source": [
    "# we can produce pivot tables from this data very easily\n",
    "pd.pivot_table(df,values='D',index=['A','B'],columns=['C'])"
   ]
  },
  {
   "cell_type": "code",
   "execution_count": 156,
   "metadata": {
    "collapsed": true
   },
   "outputs": [],
   "source": [
    "############################################\n",
    "##  Time Series\n",
    "############################################"
   ]
  },
  {
   "cell_type": "markdown",
   "metadata": {},
   "source": [
    "pandas has simple, powerful, and efficient functionality for performing resampling operations during frequency conversion (e.g., converting secondly data into 5-minutely data). This is extremely common in, but not limited to, financial application. See the Time Series section"
   ]
  },
  {
   "cell_type": "code",
   "execution_count": 165,
   "metadata": {
    "collapsed": false
   },
   "outputs": [
    {
     "data": {
      "text/plain": [
       "2012-01-01    23131\n",
       "Freq: 5T, dtype: int64"
      ]
     },
     "execution_count": 165,
     "metadata": {},
     "output_type": "execute_result"
    }
   ],
   "source": [
    "rng = pd.date_range('1/1/2012', periods=100, freq='S')\n",
    "ts = pd.Series(np.random.randint(0, 500, len(rng)), index=rng)\n",
    "ts.resample('5Min').sum()"
   ]
  },
  {
   "cell_type": "code",
   "execution_count": 166,
   "metadata": {
    "collapsed": false
   },
   "outputs": [
    {
     "data": {
      "text/plain": [
       "2012-03-06   -0.686069\n",
       "2012-03-07    0.692904\n",
       "2012-03-08   -0.138682\n",
       "2012-03-09   -0.636419\n",
       "2012-03-10   -0.828446\n",
       "Freq: D, dtype: float64"
      ]
     },
     "execution_count": 166,
     "metadata": {},
     "output_type": "execute_result"
    }
   ],
   "source": [
    "# Time zone representation\n",
    "rng = pd.date_range('3/6/2012 00:00',periods=5,freq='D')\n",
    "ts = pd.Series(np.random.randn(len(rng)),rng)\n",
    "ts"
   ]
  },
  {
   "cell_type": "code",
   "execution_count": 167,
   "metadata": {
    "collapsed": false
   },
   "outputs": [
    {
     "data": {
      "text/plain": [
       "2012-03-06 00:00:00+00:00   -0.686069\n",
       "2012-03-07 00:00:00+00:00    0.692904\n",
       "2012-03-08 00:00:00+00:00   -0.138682\n",
       "2012-03-09 00:00:00+00:00   -0.636419\n",
       "2012-03-10 00:00:00+00:00   -0.828446\n",
       "Freq: D, dtype: float64"
      ]
     },
     "execution_count": 167,
     "metadata": {},
     "output_type": "execute_result"
    }
   ],
   "source": [
    "ts_utc = ts.tz_localize('UTC')\n",
    "ts_utc"
   ]
  },
  {
   "cell_type": "code",
   "execution_count": 168,
   "metadata": {
    "collapsed": false
   },
   "outputs": [
    {
     "data": {
      "text/plain": [
       "2012-03-05 19:00:00-05:00   -0.686069\n",
       "2012-03-06 19:00:00-05:00    0.692904\n",
       "2012-03-07 19:00:00-05:00   -0.138682\n",
       "2012-03-08 19:00:00-05:00   -0.636419\n",
       "2012-03-09 19:00:00-05:00   -0.828446\n",
       "Freq: D, dtype: float64"
      ]
     },
     "execution_count": 168,
     "metadata": {},
     "output_type": "execute_result"
    }
   ],
   "source": [
    "# Convert to another time zone\n",
    "ts_utc.tz_convert('US/Eastern')"
   ]
  },
  {
   "cell_type": "code",
   "execution_count": 169,
   "metadata": {
    "collapsed": false
   },
   "outputs": [
    {
     "data": {
      "text/plain": [
       "2012-01-31   -0.159359\n",
       "2012-02-29    1.004522\n",
       "2012-03-31    1.096413\n",
       "2012-04-30   -0.273701\n",
       "2012-05-31    1.230837\n",
       "Freq: M, dtype: float64"
      ]
     },
     "execution_count": 169,
     "metadata": {},
     "output_type": "execute_result"
    }
   ],
   "source": [
    "# Converting between time span representations\n",
    "rng = pd.date_range('1/1/2012',periods=5,freq='M')\n",
    "ts = pd.Series(np.random.randn(len(rng)),index=rng)\n",
    "ts"
   ]
  },
  {
   "cell_type": "code",
   "execution_count": 170,
   "metadata": {
    "collapsed": false
   },
   "outputs": [
    {
     "data": {
      "text/plain": [
       "2012-01   -0.159359\n",
       "2012-02    1.004522\n",
       "2012-03    1.096413\n",
       "2012-04   -0.273701\n",
       "2012-05    1.230837\n",
       "Freq: M, dtype: float64"
      ]
     },
     "execution_count": 170,
     "metadata": {},
     "output_type": "execute_result"
    }
   ],
   "source": [
    "ps = ts.to_period()\n",
    "ps"
   ]
  },
  {
   "cell_type": "code",
   "execution_count": 171,
   "metadata": {
    "collapsed": false
   },
   "outputs": [
    {
     "data": {
      "text/plain": [
       "2012-01-01   -0.159359\n",
       "2012-02-01    1.004522\n",
       "2012-03-01    1.096413\n",
       "2012-04-01   -0.273701\n",
       "2012-05-01    1.230837\n",
       "Freq: MS, dtype: float64"
      ]
     },
     "execution_count": 171,
     "metadata": {},
     "output_type": "execute_result"
    }
   ],
   "source": [
    "ps.to_timestamp()"
   ]
  },
  {
   "cell_type": "markdown",
   "metadata": {},
   "source": [
    "Converting between period and timestamp enables some convenient arithmetic functions to be used. In the following example, we convert a quarterly frequency with year ending in November to 9am of the end of the month following the quarter end:"
   ]
  },
  {
   "cell_type": "code",
   "execution_count": 172,
   "metadata": {
    "collapsed": false
   },
   "outputs": [
    {
     "data": {
      "text/plain": [
       "1990-03-01 09:00   -0.645962\n",
       "1990-06-01 09:00    0.619704\n",
       "1990-09-01 09:00   -0.724854\n",
       "1990-12-01 09:00    0.141827\n",
       "1991-03-01 09:00    0.685143\n",
       "Freq: H, dtype: float64"
      ]
     },
     "execution_count": 172,
     "metadata": {},
     "output_type": "execute_result"
    }
   ],
   "source": [
    "prng = pd.period_range('1990Q1','2000Q4',freq='Q-NOV')\n",
    "ts = pd.Series(np.random.randn(len(prng)),prng)\n",
    "ts.index = (prng.asfreq('M','e')+1).asfreq('H','s') + 9\n",
    "ts.head()"
   ]
  },
  {
   "cell_type": "code",
   "execution_count": 173,
   "metadata": {
    "collapsed": true
   },
   "outputs": [],
   "source": [
    "############################\n",
    "##  Categoricals\n",
    "############################"
   ]
  },
  {
   "cell_type": "markdown",
   "metadata": {},
   "source": [
    "Since version 0.15, pandas can include categorical data in a DataFrame. For full docs, see the categorical introduction and the API documentation."
   ]
  },
  {
   "cell_type": "code",
   "execution_count": 174,
   "metadata": {
    "collapsed": false
   },
   "outputs": [
    {
     "data": {
      "text/html": [
       "<div>\n",
       "<table border=\"1\" class=\"dataframe\">\n",
       "  <thead>\n",
       "    <tr style=\"text-align: right;\">\n",
       "      <th></th>\n",
       "      <th>id</th>\n",
       "      <th>raw_grade</th>\n",
       "    </tr>\n",
       "  </thead>\n",
       "  <tbody>\n",
       "    <tr>\n",
       "      <th>0</th>\n",
       "      <td>1</td>\n",
       "      <td>a</td>\n",
       "    </tr>\n",
       "    <tr>\n",
       "      <th>1</th>\n",
       "      <td>2</td>\n",
       "      <td>b</td>\n",
       "    </tr>\n",
       "    <tr>\n",
       "      <th>2</th>\n",
       "      <td>3</td>\n",
       "      <td>b</td>\n",
       "    </tr>\n",
       "    <tr>\n",
       "      <th>3</th>\n",
       "      <td>4</td>\n",
       "      <td>a</td>\n",
       "    </tr>\n",
       "    <tr>\n",
       "      <th>4</th>\n",
       "      <td>5</td>\n",
       "      <td>a</td>\n",
       "    </tr>\n",
       "    <tr>\n",
       "      <th>5</th>\n",
       "      <td>6</td>\n",
       "      <td>e</td>\n",
       "    </tr>\n",
       "  </tbody>\n",
       "</table>\n",
       "</div>"
      ],
      "text/plain": [
       "   id raw_grade\n",
       "0   1         a\n",
       "1   2         b\n",
       "2   3         b\n",
       "3   4         a\n",
       "4   5         a\n",
       "5   6         e"
      ]
     },
     "execution_count": 174,
     "metadata": {},
     "output_type": "execute_result"
    }
   ],
   "source": [
    "df = pd.DataFrame({\"id\":[1,2,3,4,5,6], \n",
    "                   \"raw_grade\":['a', 'b', 'b', 'a', 'a', 'e']})\n",
    "df"
   ]
  },
  {
   "cell_type": "code",
   "execution_count": 175,
   "metadata": {
    "collapsed": false
   },
   "outputs": [
    {
     "data": {
      "text/plain": [
       "0    a\n",
       "1    b\n",
       "2    b\n",
       "3    a\n",
       "4    a\n",
       "5    e\n",
       "Name: grade, dtype: category\n",
       "Categories (3, object): [a, b, e]"
      ]
     },
     "execution_count": 175,
     "metadata": {},
     "output_type": "execute_result"
    }
   ],
   "source": [
    "# Convert the raw grades to a categorical data type\n",
    "df[\"grade\"] = df[\"raw_grade\"].astype(\"category\")\n",
    "df[\"grade\"]"
   ]
  },
  {
   "cell_type": "code",
   "execution_count": 176,
   "metadata": {
    "collapsed": true
   },
   "outputs": [],
   "source": [
    "# Rename the categories to more meaningful names (assigning to Series.cat.categories is inplace!)\n",
    "df['grade'].cat.categories = [\"very good\",\"good\",\"very bad\"]"
   ]
  },
  {
   "cell_type": "code",
   "execution_count": 177,
   "metadata": {
    "collapsed": false
   },
   "outputs": [
    {
     "data": {
      "text/plain": [
       "0    very good\n",
       "1         good\n",
       "2         good\n",
       "3    very good\n",
       "4    very good\n",
       "5     very bad\n",
       "Name: grade, dtype: category\n",
       "Categories (5, object): [very bad, bad, medium, good, very good]"
      ]
     },
     "execution_count": 177,
     "metadata": {},
     "output_type": "execute_result"
    }
   ],
   "source": [
    "# Reorder the categories and simultaneously add the missing categories \n",
    "# (methods under Series.cat return a new Series per default).\n",
    "df['grade'] = df['grade'].cat.set_categories(['very bad','bad','medium','good','very good'])\n",
    "df['grade']"
   ]
  },
  {
   "cell_type": "code",
   "execution_count": 178,
   "metadata": {
    "collapsed": false
   },
   "outputs": [
    {
     "data": {
      "text/html": [
       "<div>\n",
       "<table border=\"1\" class=\"dataframe\">\n",
       "  <thead>\n",
       "    <tr style=\"text-align: right;\">\n",
       "      <th></th>\n",
       "      <th>id</th>\n",
       "      <th>raw_grade</th>\n",
       "      <th>grade</th>\n",
       "    </tr>\n",
       "  </thead>\n",
       "  <tbody>\n",
       "    <tr>\n",
       "      <th>5</th>\n",
       "      <td>6</td>\n",
       "      <td>e</td>\n",
       "      <td>very bad</td>\n",
       "    </tr>\n",
       "    <tr>\n",
       "      <th>1</th>\n",
       "      <td>2</td>\n",
       "      <td>b</td>\n",
       "      <td>good</td>\n",
       "    </tr>\n",
       "    <tr>\n",
       "      <th>2</th>\n",
       "      <td>3</td>\n",
       "      <td>b</td>\n",
       "      <td>good</td>\n",
       "    </tr>\n",
       "    <tr>\n",
       "      <th>0</th>\n",
       "      <td>1</td>\n",
       "      <td>a</td>\n",
       "      <td>very good</td>\n",
       "    </tr>\n",
       "    <tr>\n",
       "      <th>3</th>\n",
       "      <td>4</td>\n",
       "      <td>a</td>\n",
       "      <td>very good</td>\n",
       "    </tr>\n",
       "    <tr>\n",
       "      <th>4</th>\n",
       "      <td>5</td>\n",
       "      <td>a</td>\n",
       "      <td>very good</td>\n",
       "    </tr>\n",
       "  </tbody>\n",
       "</table>\n",
       "</div>"
      ],
      "text/plain": [
       "   id raw_grade      grade\n",
       "5   6         e   very bad\n",
       "1   2         b       good\n",
       "2   3         b       good\n",
       "0   1         a  very good\n",
       "3   4         a  very good\n",
       "4   5         a  very good"
      ]
     },
     "execution_count": 178,
     "metadata": {},
     "output_type": "execute_result"
    }
   ],
   "source": [
    "# Sorting is per order in the categories, not lexical order\n",
    "df.sort_values(by='grade')"
   ]
  },
  {
   "cell_type": "code",
   "execution_count": 179,
   "metadata": {
    "collapsed": false
   },
   "outputs": [
    {
     "data": {
      "text/plain": [
       "grade\n",
       "very bad     1\n",
       "bad          0\n",
       "medium       0\n",
       "good         2\n",
       "very good    3\n",
       "dtype: int64"
      ]
     },
     "execution_count": 179,
     "metadata": {},
     "output_type": "execute_result"
    }
   ],
   "source": [
    "# Grouping by a categorical column shows also empty categories\n",
    "df.groupby('grade').size()"
   ]
  },
  {
   "cell_type": "code",
   "execution_count": 180,
   "metadata": {
    "collapsed": true
   },
   "outputs": [],
   "source": [
    "###########################################\n",
    "### Plotting\n",
    "###########################################"
   ]
  },
  {
   "cell_type": "code",
   "execution_count": 181,
   "metadata": {
    "collapsed": false
   },
   "outputs": [
    {
     "data": {
      "text/plain": [
       "<matplotlib.axes._subplots.AxesSubplot at 0x7fc2cad27b38>"
      ]
     },
     "execution_count": 181,
     "metadata": {},
     "output_type": "execute_result"
    },
    {
     "data": {
      "image/png": "[encoded data removed]",
      "text/plain": [
       "<matplotlib.figure.Figure at 0x7fc2cad8efd0>"
      ]
     },
     "metadata": {},
     "output_type": "display_data"
    }
   ],
   "source": [
    "ts = pd.Series(np.random.randn(1000),index=pd.date_range('1/1/2000',periods=1000))\n",
    "ts = ts.cumsum()\n",
    "ts.plot()"
   ]
  },
  {
   "cell_type": "code",
   "execution_count": 182,
   "metadata": {
    "collapsed": false
   },
   "outputs": [
    {
     "data": {
      "text/plain": [
       "<matplotlib.legend.Legend at 0x7fc2c8303ba8>"
      ]
     },
     "execution_count": 182,
     "metadata": {},
     "output_type": "execute_result"
    },
    {
     "data": {
      "image/png": "[encoded data removed]",
      "text/plain": [
       "<matplotlib.figure.Figure at 0x7fc2c8303b70>"
      ]
     },
     "metadata": {},
     "output_type": "display_data"
    }
   ],
   "source": [
    "# On DataFrame, plot() is a convenient to plot all of the columns with labels\n",
    "df = pd.DataFrame(np.random.randn(1000,4),index=ts.index, columns=['A','B','C','D'])\n",
    "df = df.cumsum()\n",
    "df.plot()\n",
    "plt.legend(loc='best')"
   ]
  },
  {
   "cell_type": "code",
   "execution_count": 183,
   "metadata": {
    "collapsed": true
   },
   "outputs": [],
   "source": [
    "#####################################\n",
    "## Getting Data in/out\n",
    "#####################################"
   ]
  },
  {
   "cell_type": "code",
   "execution_count": 184,
   "metadata": {
    "collapsed": true
   },
   "outputs": [],
   "source": [
    "## writing to a csv file\n",
    "df.to_csv('foo.csv')"
   ]
  },
  {
   "cell_type": "code",
   "execution_count": 185,
   "metadata": {
    "collapsed": false
   },
   "outputs": [
    {
     "data": {
      "text/html": [
       "<div>\n",
       "<table border=\"1\" class=\"dataframe\">\n",
       "  <thead>\n",
       "    <tr style=\"text-align: right;\">\n",
       "      <th></th>\n",
       "      <th>Unnamed: 0</th>\n",
       "      <th>A</th>\n",
       "      <th>B</th>\n",
       "      <th>C</th>\n",
       "      <th>D</th>\n",
       "    </tr>\n",
       "  </thead>\n",
       "  <tbody>\n",
       "    <tr>\n",
       "      <th>0</th>\n",
       "      <td>2000-01-01</td>\n",
       "      <td>0.098817</td>\n",
       "      <td>2.305352</td>\n",
       "      <td>0.270887</td>\n",
       "      <td>1.423471</td>\n",
       "    </tr>\n",
       "    <tr>\n",
       "      <th>1</th>\n",
       "      <td>2000-01-02</td>\n",
       "      <td>-0.480833</td>\n",
       "      <td>2.129300</td>\n",
       "      <td>0.621147</td>\n",
       "      <td>3.165075</td>\n",
       "    </tr>\n",
       "    <tr>\n",
       "      <th>2</th>\n",
       "      <td>2000-01-03</td>\n",
       "      <td>-1.404513</td>\n",
       "      <td>0.890247</td>\n",
       "      <td>0.327342</td>\n",
       "      <td>2.740807</td>\n",
       "    </tr>\n",
       "    <tr>\n",
       "      <th>3</th>\n",
       "      <td>2000-01-04</td>\n",
       "      <td>-2.518958</td>\n",
       "      <td>1.823944</td>\n",
       "      <td>-0.546545</td>\n",
       "      <td>2.955649</td>\n",
       "    </tr>\n",
       "    <tr>\n",
       "      <th>4</th>\n",
       "      <td>2000-01-05</td>\n",
       "      <td>-0.625780</td>\n",
       "      <td>2.164705</td>\n",
       "      <td>0.746331</td>\n",
       "      <td>3.499537</td>\n",
       "    </tr>\n",
       "    <tr>\n",
       "      <th>5</th>\n",
       "      <td>2000-01-06</td>\n",
       "      <td>-0.876374</td>\n",
       "      <td>1.780947</td>\n",
       "      <td>1.210091</td>\n",
       "      <td>5.035776</td>\n",
       "    </tr>\n",
       "    <tr>\n",
       "      <th>6</th>\n",
       "      <td>2000-01-07</td>\n",
       "      <td>-1.756844</td>\n",
       "      <td>2.884119</td>\n",
       "      <td>0.208020</td>\n",
       "      <td>4.620355</td>\n",
       "    </tr>\n",
       "    <tr>\n",
       "      <th>7</th>\n",
       "      <td>2000-01-08</td>\n",
       "      <td>-2.392301</td>\n",
       "      <td>3.513107</td>\n",
       "      <td>1.004574</td>\n",
       "      <td>2.860863</td>\n",
       "    </tr>\n",
       "    <tr>\n",
       "      <th>8</th>\n",
       "      <td>2000-01-09</td>\n",
       "      <td>-1.727280</td>\n",
       "      <td>3.807121</td>\n",
       "      <td>-1.614120</td>\n",
       "      <td>3.576263</td>\n",
       "    </tr>\n",
       "    <tr>\n",
       "      <th>9</th>\n",
       "      <td>2000-01-10</td>\n",
       "      <td>-0.527086</td>\n",
       "      <td>4.050077</td>\n",
       "      <td>-2.116075</td>\n",
       "      <td>3.622012</td>\n",
       "    </tr>\n",
       "    <tr>\n",
       "      <th>10</th>\n",
       "      <td>2000-01-11</td>\n",
       "      <td>0.683771</td>\n",
       "      <td>4.119279</td>\n",
       "      <td>-2.539930</td>\n",
       "      <td>3.465227</td>\n",
       "    </tr>\n",
       "    <tr>\n",
       "      <th>11</th>\n",
       "      <td>2000-01-12</td>\n",
       "      <td>0.949345</td>\n",
       "      <td>2.550090</td>\n",
       "      <td>-2.745329</td>\n",
       "      <td>4.953753</td>\n",
       "    </tr>\n",
       "    <tr>\n",
       "      <th>12</th>\n",
       "      <td>2000-01-13</td>\n",
       "      <td>2.421445</td>\n",
       "      <td>2.550682</td>\n",
       "      <td>-1.961531</td>\n",
       "      <td>3.883759</td>\n",
       "    </tr>\n",
       "    <tr>\n",
       "      <th>13</th>\n",
       "      <td>2000-01-14</td>\n",
       "      <td>3.873397</td>\n",
       "      <td>2.322105</td>\n",
       "      <td>-1.987903</td>\n",
       "      <td>4.987144</td>\n",
       "    </tr>\n",
       "    <tr>\n",
       "      <th>14</th>\n",
       "      <td>2000-01-15</td>\n",
       "      <td>4.382682</td>\n",
       "      <td>1.139541</td>\n",
       "      <td>-1.908379</td>\n",
       "      <td>6.340523</td>\n",
       "    </tr>\n",
       "    <tr>\n",
       "      <th>15</th>\n",
       "      <td>2000-01-16</td>\n",
       "      <td>4.589234</td>\n",
       "      <td>0.831531</td>\n",
       "      <td>-2.239652</td>\n",
       "      <td>9.491217</td>\n",
       "    </tr>\n",
       "    <tr>\n",
       "      <th>16</th>\n",
       "      <td>2000-01-17</td>\n",
       "      <td>3.335773</td>\n",
       "      <td>1.488761</td>\n",
       "      <td>-1.928503</td>\n",
       "      <td>10.221421</td>\n",
       "    </tr>\n",
       "    <tr>\n",
       "      <th>17</th>\n",
       "      <td>2000-01-18</td>\n",
       "      <td>4.332471</td>\n",
       "      <td>0.553149</td>\n",
       "      <td>-2.897829</td>\n",
       "      <td>11.699657</td>\n",
       "    </tr>\n",
       "    <tr>\n",
       "      <th>18</th>\n",
       "      <td>2000-01-19</td>\n",
       "      <td>3.436547</td>\n",
       "      <td>2.665631</td>\n",
       "      <td>-3.735106</td>\n",
       "      <td>12.170631</td>\n",
       "    </tr>\n",
       "    <tr>\n",
       "      <th>19</th>\n",
       "      <td>2000-01-20</td>\n",
       "      <td>3.751851</td>\n",
       "      <td>1.820717</td>\n",
       "      <td>-3.565369</td>\n",
       "      <td>11.036064</td>\n",
       "    </tr>\n",
       "    <tr>\n",
       "      <th>20</th>\n",
       "      <td>2000-01-21</td>\n",
       "      <td>3.967999</td>\n",
       "      <td>1.947277</td>\n",
       "      <td>-3.000961</td>\n",
       "      <td>10.854399</td>\n",
       "    </tr>\n",
       "    <tr>\n",
       "      <th>21</th>\n",
       "      <td>2000-01-22</td>\n",
       "      <td>5.002731</td>\n",
       "      <td>2.372307</td>\n",
       "      <td>-4.601253</td>\n",
       "      <td>10.170890</td>\n",
       "    </tr>\n",
       "    <tr>\n",
       "      <th>22</th>\n",
       "      <td>2000-01-23</td>\n",
       "      <td>4.594612</td>\n",
       "      <td>3.170312</td>\n",
       "      <td>-5.336967</td>\n",
       "      <td>8.170947</td>\n",
       "    </tr>\n",
       "    <tr>\n",
       "      <th>23</th>\n",
       "      <td>2000-01-24</td>\n",
       "      <td>3.336540</td>\n",
       "      <td>3.552973</td>\n",
       "      <td>-5.287811</td>\n",
       "      <td>8.159571</td>\n",
       "    </tr>\n",
       "    <tr>\n",
       "      <th>24</th>\n",
       "      <td>2000-01-25</td>\n",
       "      <td>2.533724</td>\n",
       "      <td>4.250501</td>\n",
       "      <td>-3.907331</td>\n",
       "      <td>8.844117</td>\n",
       "    </tr>\n",
       "    <tr>\n",
       "      <th>25</th>\n",
       "      <td>2000-01-26</td>\n",
       "      <td>2.891746</td>\n",
       "      <td>4.940185</td>\n",
       "      <td>-4.916325</td>\n",
       "      <td>7.755725</td>\n",
       "    </tr>\n",
       "    <tr>\n",
       "      <th>26</th>\n",
       "      <td>2000-01-27</td>\n",
       "      <td>3.129736</td>\n",
       "      <td>3.928233</td>\n",
       "      <td>-3.678552</td>\n",
       "      <td>7.458741</td>\n",
       "    </tr>\n",
       "    <tr>\n",
       "      <th>27</th>\n",
       "      <td>2000-01-28</td>\n",
       "      <td>3.966941</td>\n",
       "      <td>2.440060</td>\n",
       "      <td>-2.927902</td>\n",
       "      <td>8.302793</td>\n",
       "    </tr>\n",
       "    <tr>\n",
       "      <th>28</th>\n",
       "      <td>2000-01-29</td>\n",
       "      <td>3.273264</td>\n",
       "      <td>3.078442</td>\n",
       "      <td>-3.636475</td>\n",
       "      <td>8.644432</td>\n",
       "    </tr>\n",
       "    <tr>\n",
       "      <th>29</th>\n",
       "      <td>2000-01-30</td>\n",
       "      <td>2.904254</td>\n",
       "      <td>2.264361</td>\n",
       "      <td>-3.456801</td>\n",
       "      <td>6.255575</td>\n",
       "    </tr>\n",
       "    <tr>\n",
       "      <th>...</th>\n",
       "      <td>...</td>\n",
       "      <td>...</td>\n",
       "      <td>...</td>\n",
       "      <td>...</td>\n",
       "      <td>...</td>\n",
       "    </tr>\n",
       "    <tr>\n",
       "      <th>970</th>\n",
       "      <td>2002-08-28</td>\n",
       "      <td>1.674102</td>\n",
       "      <td>-6.952710</td>\n",
       "      <td>-20.929679</td>\n",
       "      <td>-34.489970</td>\n",
       "    </tr>\n",
       "    <tr>\n",
       "      <th>971</th>\n",
       "      <td>2002-08-29</td>\n",
       "      <td>1.345452</td>\n",
       "      <td>-6.898870</td>\n",
       "      <td>-22.668541</td>\n",
       "      <td>-33.795618</td>\n",
       "    </tr>\n",
       "    <tr>\n",
       "      <th>972</th>\n",
       "      <td>2002-08-30</td>\n",
       "      <td>3.338471</td>\n",
       "      <td>-6.590817</td>\n",
       "      <td>-23.555901</td>\n",
       "      <td>-34.900551</td>\n",
       "    </tr>\n",
       "    <tr>\n",
       "      <th>973</th>\n",
       "      <td>2002-08-31</td>\n",
       "      <td>3.133490</td>\n",
       "      <td>-6.506287</td>\n",
       "      <td>-23.879972</td>\n",
       "      <td>-35.633614</td>\n",
       "    </tr>\n",
       "    <tr>\n",
       "      <th>974</th>\n",
       "      <td>2002-09-01</td>\n",
       "      <td>2.970229</td>\n",
       "      <td>-4.075120</td>\n",
       "      <td>-24.395952</td>\n",
       "      <td>-36.065030</td>\n",
       "    </tr>\n",
       "    <tr>\n",
       "      <th>975</th>\n",
       "      <td>2002-09-02</td>\n",
       "      <td>4.328385</td>\n",
       "      <td>-4.520318</td>\n",
       "      <td>-24.078822</td>\n",
       "      <td>-37.582159</td>\n",
       "    </tr>\n",
       "    <tr>\n",
       "      <th>976</th>\n",
       "      <td>2002-09-03</td>\n",
       "      <td>3.219793</td>\n",
       "      <td>-4.705502</td>\n",
       "      <td>-21.776633</td>\n",
       "      <td>-38.295547</td>\n",
       "    </tr>\n",
       "    <tr>\n",
       "      <th>977</th>\n",
       "      <td>2002-09-04</td>\n",
       "      <td>2.448737</td>\n",
       "      <td>-4.098825</td>\n",
       "      <td>-19.245157</td>\n",
       "      <td>-36.893523</td>\n",
       "    </tr>\n",
       "    <tr>\n",
       "      <th>978</th>\n",
       "      <td>2002-09-05</td>\n",
       "      <td>1.827955</td>\n",
       "      <td>-2.796067</td>\n",
       "      <td>-19.204249</td>\n",
       "      <td>-36.461999</td>\n",
       "    </tr>\n",
       "    <tr>\n",
       "      <th>979</th>\n",
       "      <td>2002-09-06</td>\n",
       "      <td>1.848812</td>\n",
       "      <td>-1.889275</td>\n",
       "      <td>-16.919463</td>\n",
       "      <td>-38.281210</td>\n",
       "    </tr>\n",
       "    <tr>\n",
       "      <th>980</th>\n",
       "      <td>2002-09-07</td>\n",
       "      <td>1.789174</td>\n",
       "      <td>-2.233312</td>\n",
       "      <td>-17.323968</td>\n",
       "      <td>-40.098125</td>\n",
       "    </tr>\n",
       "    <tr>\n",
       "      <th>981</th>\n",
       "      <td>2002-09-08</td>\n",
       "      <td>0.670435</td>\n",
       "      <td>-2.476444</td>\n",
       "      <td>-17.229019</td>\n",
       "      <td>-38.806803</td>\n",
       "    </tr>\n",
       "    <tr>\n",
       "      <th>982</th>\n",
       "      <td>2002-09-09</td>\n",
       "      <td>1.055703</td>\n",
       "      <td>-1.933833</td>\n",
       "      <td>-18.070405</td>\n",
       "      <td>-37.713873</td>\n",
       "    </tr>\n",
       "    <tr>\n",
       "      <th>983</th>\n",
       "      <td>2002-09-10</td>\n",
       "      <td>1.555601</td>\n",
       "      <td>-0.206930</td>\n",
       "      <td>-16.848263</td>\n",
       "      <td>-38.567420</td>\n",
       "    </tr>\n",
       "    <tr>\n",
       "      <th>984</th>\n",
       "      <td>2002-09-11</td>\n",
       "      <td>0.568979</td>\n",
       "      <td>-2.547869</td>\n",
       "      <td>-17.588280</td>\n",
       "      <td>-38.645241</td>\n",
       "    </tr>\n",
       "    <tr>\n",
       "      <th>985</th>\n",
       "      <td>2002-09-12</td>\n",
       "      <td>-0.995608</td>\n",
       "      <td>-2.280879</td>\n",
       "      <td>-16.295165</td>\n",
       "      <td>-40.544852</td>\n",
       "    </tr>\n",
       "    <tr>\n",
       "      <th>986</th>\n",
       "      <td>2002-09-13</td>\n",
       "      <td>-0.998851</td>\n",
       "      <td>-2.780510</td>\n",
       "      <td>-14.403937</td>\n",
       "      <td>-39.319937</td>\n",
       "    </tr>\n",
       "    <tr>\n",
       "      <th>987</th>\n",
       "      <td>2002-09-14</td>\n",
       "      <td>0.420891</td>\n",
       "      <td>-2.026910</td>\n",
       "      <td>-12.051724</td>\n",
       "      <td>-39.066207</td>\n",
       "    </tr>\n",
       "    <tr>\n",
       "      <th>988</th>\n",
       "      <td>2002-09-15</td>\n",
       "      <td>1.194598</td>\n",
       "      <td>-4.068448</td>\n",
       "      <td>-12.111342</td>\n",
       "      <td>-39.302314</td>\n",
       "    </tr>\n",
       "    <tr>\n",
       "      <th>989</th>\n",
       "      <td>2002-09-16</td>\n",
       "      <td>2.471468</td>\n",
       "      <td>-3.854889</td>\n",
       "      <td>-11.214341</td>\n",
       "      <td>-38.158781</td>\n",
       "    </tr>\n",
       "    <tr>\n",
       "      <th>990</th>\n",
       "      <td>2002-09-17</td>\n",
       "      <td>2.765054</td>\n",
       "      <td>-4.591974</td>\n",
       "      <td>-12.038521</td>\n",
       "      <td>-36.689682</td>\n",
       "    </tr>\n",
       "    <tr>\n",
       "      <th>991</th>\n",
       "      <td>2002-09-18</td>\n",
       "      <td>2.576530</td>\n",
       "      <td>-4.418285</td>\n",
       "      <td>-11.613191</td>\n",
       "      <td>-35.562783</td>\n",
       "    </tr>\n",
       "    <tr>\n",
       "      <th>992</th>\n",
       "      <td>2002-09-19</td>\n",
       "      <td>1.168537</td>\n",
       "      <td>-5.384883</td>\n",
       "      <td>-11.094608</td>\n",
       "      <td>-34.710703</td>\n",
       "    </tr>\n",
       "    <tr>\n",
       "      <th>993</th>\n",
       "      <td>2002-09-20</td>\n",
       "      <td>2.088472</td>\n",
       "      <td>-5.742934</td>\n",
       "      <td>-14.210351</td>\n",
       "      <td>-35.356820</td>\n",
       "    </tr>\n",
       "    <tr>\n",
       "      <th>994</th>\n",
       "      <td>2002-09-21</td>\n",
       "      <td>1.005141</td>\n",
       "      <td>-5.211630</td>\n",
       "      <td>-12.553930</td>\n",
       "      <td>-35.932117</td>\n",
       "    </tr>\n",
       "    <tr>\n",
       "      <th>995</th>\n",
       "      <td>2002-09-22</td>\n",
       "      <td>0.609197</td>\n",
       "      <td>-4.166347</td>\n",
       "      <td>-14.169090</td>\n",
       "      <td>-36.214816</td>\n",
       "    </tr>\n",
       "    <tr>\n",
       "      <th>996</th>\n",
       "      <td>2002-09-23</td>\n",
       "      <td>2.087725</td>\n",
       "      <td>-3.690809</td>\n",
       "      <td>-15.629518</td>\n",
       "      <td>-37.578619</td>\n",
       "    </tr>\n",
       "    <tr>\n",
       "      <th>997</th>\n",
       "      <td>2002-09-24</td>\n",
       "      <td>2.589482</td>\n",
       "      <td>-3.526369</td>\n",
       "      <td>-15.234270</td>\n",
       "      <td>-37.034482</td>\n",
       "    </tr>\n",
       "    <tr>\n",
       "      <th>998</th>\n",
       "      <td>2002-09-25</td>\n",
       "      <td>2.184814</td>\n",
       "      <td>-5.128838</td>\n",
       "      <td>-16.122019</td>\n",
       "      <td>-37.657958</td>\n",
       "    </tr>\n",
       "    <tr>\n",
       "      <th>999</th>\n",
       "      <td>2002-09-26</td>\n",
       "      <td>0.170310</td>\n",
       "      <td>-7.585545</td>\n",
       "      <td>-16.568754</td>\n",
       "      <td>-37.806729</td>\n",
       "    </tr>\n",
       "  </tbody>\n",
       "</table>\n",
       "<p>1000 rows × 5 columns</p>\n",
       "</div>"
      ],
      "text/plain": [
       "     Unnamed: 0         A         B          C          D\n",
       "0    2000-01-01  0.098817  2.305352   0.270887   1.423471\n",
       "1    2000-01-02 -0.480833  2.129300   0.621147   3.165075\n",
       "2    2000-01-03 -1.404513  0.890247   0.327342   2.740807\n",
       "3    2000-01-04 -2.518958  1.823944  -0.546545   2.955649\n",
       "4    2000-01-05 -0.625780  2.164705   0.746331   3.499537\n",
       "5    2000-01-06 -0.876374  1.780947   1.210091   5.035776\n",
       "6    2000-01-07 -1.756844  2.884119   0.208020   4.620355\n",
       "7    2000-01-08 -2.392301  3.513107   1.004574   2.860863\n",
       "8    2000-01-09 -1.727280  3.807121  -1.614120   3.576263\n",
       "9    2000-01-10 -0.527086  4.050077  -2.116075   3.622012\n",
       "10   2000-01-11  0.683771  4.119279  -2.539930   3.465227\n",
       "11   2000-01-12  0.949345  2.550090  -2.745329   4.953753\n",
       "12   2000-01-13  2.421445  2.550682  -1.961531   3.883759\n",
       "13   2000-01-14  3.873397  2.322105  -1.987903   4.987144\n",
       "14   2000-01-15  4.382682  1.139541  -1.908379   6.340523\n",
       "15   2000-01-16  4.589234  0.831531  -2.239652   9.491217\n",
       "16   2000-01-17  3.335773  1.488761  -1.928503  10.221421\n",
       "17   2000-01-18  4.332471  0.553149  -2.897829  11.699657\n",
       "18   2000-01-19  3.436547  2.665631  -3.735106  12.170631\n",
       "19   2000-01-20  3.751851  1.820717  -3.565369  11.036064\n",
       "20   2000-01-21  3.967999  1.947277  -3.000961  10.854399\n",
       "21   2000-01-22  5.002731  2.372307  -4.601253  10.170890\n",
       "22   2000-01-23  4.594612  3.170312  -5.336967   8.170947\n",
       "23   2000-01-24  3.336540  3.552973  -5.287811   8.159571\n",
       "24   2000-01-25  2.533724  4.250501  -3.907331   8.844117\n",
       "25   2000-01-26  2.891746  4.940185  -4.916325   7.755725\n",
       "26   2000-01-27  3.129736  3.928233  -3.678552   7.458741\n",
       "27   2000-01-28  3.966941  2.440060  -2.927902   8.302793\n",
       "28   2000-01-29  3.273264  3.078442  -3.636475   8.644432\n",
       "29   2000-01-30  2.904254  2.264361  -3.456801   6.255575\n",
       "..          ...       ...       ...        ...        ...\n",
       "970  2002-08-28  1.674102 -6.952710 -20.929679 -34.489970\n",
       "971  2002-08-29  1.345452 -6.898870 -22.668541 -33.795618\n",
       "972  2002-08-30  3.338471 -6.590817 -23.555901 -34.900551\n",
       "973  2002-08-31  3.133490 -6.506287 -23.879972 -35.633614\n",
       "974  2002-09-01  2.970229 -4.075120 -24.395952 -36.065030\n",
       "975  2002-09-02  4.328385 -4.520318 -24.078822 -37.582159\n",
       "976  2002-09-03  3.219793 -4.705502 -21.776633 -38.295547\n",
       "977  2002-09-04  2.448737 -4.098825 -19.245157 -36.893523\n",
       "978  2002-09-05  1.827955 -2.796067 -19.204249 -36.461999\n",
       "979  2002-09-06  1.848812 -1.889275 -16.919463 -38.281210\n",
       "980  2002-09-07  1.789174 -2.233312 -17.323968 -40.098125\n",
       "981  2002-09-08  0.670435 -2.476444 -17.229019 -38.806803\n",
       "982  2002-09-09  1.055703 -1.933833 -18.070405 -37.713873\n",
       "983  2002-09-10  1.555601 -0.206930 -16.848263 -38.567420\n",
       "984  2002-09-11  0.568979 -2.547869 -17.588280 -38.645241\n",
       "985  2002-09-12 -0.995608 -2.280879 -16.295165 -40.544852\n",
       "986  2002-09-13 -0.998851 -2.780510 -14.403937 -39.319937\n",
       "987  2002-09-14  0.420891 -2.026910 -12.051724 -39.066207\n",
       "988  2002-09-15  1.194598 -4.068448 -12.111342 -39.302314\n",
       "989  2002-09-16  2.471468 -3.854889 -11.214341 -38.158781\n",
       "990  2002-09-17  2.765054 -4.591974 -12.038521 -36.689682\n",
       "991  2002-09-18  2.576530 -4.418285 -11.613191 -35.562783\n",
       "992  2002-09-19  1.168537 -5.384883 -11.094608 -34.710703\n",
       "993  2002-09-20  2.088472 -5.742934 -14.210351 -35.356820\n",
       "994  2002-09-21  1.005141 -5.211630 -12.553930 -35.932117\n",
       "995  2002-09-22  0.609197 -4.166347 -14.169090 -36.214816\n",
       "996  2002-09-23  2.087725 -3.690809 -15.629518 -37.578619\n",
       "997  2002-09-24  2.589482 -3.526369 -15.234270 -37.034482\n",
       "998  2002-09-25  2.184814 -5.128838 -16.122019 -37.657958\n",
       "999  2002-09-26  0.170310 -7.585545 -16.568754 -37.806729\n",
       "\n",
       "[1000 rows x 5 columns]"
      ]
     },
     "execution_count": 185,
     "metadata": {},
     "output_type": "execute_result"
    }
   ],
   "source": [
    "## reading from a file\n",
    "pd.read_csv('foo.csv')"
   ]
  },
  {
   "cell_type": "code",
   "execution_count": 188,
   "metadata": {
    "collapsed": true
   },
   "outputs": [],
   "source": [
    "# HDF5\n",
    "df.to_hdf('foo.h5','df')"
   ]
  },
  {
   "cell_type": "code",
   "execution_count": 189,
   "metadata": {
    "collapsed": false
   },
   "outputs": [
    {
     "data": {
      "text/html": [
       "<div>\n",
       "<table border=\"1\" class=\"dataframe\">\n",
       "  <thead>\n",
       "    <tr style=\"text-align: right;\">\n",
       "      <th></th>\n",
       "      <th>A</th>\n",
       "      <th>B</th>\n",
       "      <th>C</th>\n",
       "      <th>D</th>\n",
       "    </tr>\n",
       "  </thead>\n",
       "  <tbody>\n",
       "    <tr>\n",
       "      <th>2000-01-01</th>\n",
       "      <td>0.098817</td>\n",
       "      <td>2.305352</td>\n",
       "      <td>0.270887</td>\n",
       "      <td>1.423471</td>\n",
       "    </tr>\n",
       "    <tr>\n",
       "      <th>2000-01-02</th>\n",
       "      <td>-0.480833</td>\n",
       "      <td>2.129300</td>\n",
       "      <td>0.621147</td>\n",
       "      <td>3.165075</td>\n",
       "    </tr>\n",
       "    <tr>\n",
       "      <th>2000-01-03</th>\n",
       "      <td>-1.404513</td>\n",
       "      <td>0.890247</td>\n",
       "      <td>0.327342</td>\n",
       "      <td>2.740807</td>\n",
       "    </tr>\n",
       "    <tr>\n",
       "      <th>2000-01-04</th>\n",
       "      <td>-2.518958</td>\n",
       "      <td>1.823944</td>\n",
       "      <td>-0.546545</td>\n",
       "      <td>2.955649</td>\n",
       "    </tr>\n",
       "    <tr>\n",
       "      <th>2000-01-05</th>\n",
       "      <td>-0.625780</td>\n",
       "      <td>2.164705</td>\n",
       "      <td>0.746331</td>\n",
       "      <td>3.499537</td>\n",
       "    </tr>\n",
       "    <tr>\n",
       "      <th>2000-01-06</th>\n",
       "      <td>-0.876374</td>\n",
       "      <td>1.780947</td>\n",
       "      <td>1.210091</td>\n",
       "      <td>5.035776</td>\n",
       "    </tr>\n",
       "    <tr>\n",
       "      <th>2000-01-07</th>\n",
       "      <td>-1.756844</td>\n",
       "      <td>2.884119</td>\n",
       "      <td>0.208020</td>\n",
       "      <td>4.620355</td>\n",
       "    </tr>\n",
       "    <tr>\n",
       "      <th>2000-01-08</th>\n",
       "      <td>-2.392301</td>\n",
       "      <td>3.513107</td>\n",
       "      <td>1.004574</td>\n",
       "      <td>2.860863</td>\n",
       "    </tr>\n",
       "    <tr>\n",
       "      <th>2000-01-09</th>\n",
       "      <td>-1.727280</td>\n",
       "      <td>3.807121</td>\n",
       "      <td>-1.614120</td>\n",
       "      <td>3.576263</td>\n",
       "    </tr>\n",
       "    <tr>\n",
       "      <th>2000-01-10</th>\n",
       "      <td>-0.527086</td>\n",
       "      <td>4.050077</td>\n",
       "      <td>-2.116075</td>\n",
       "      <td>3.622012</td>\n",
       "    </tr>\n",
       "    <tr>\n",
       "      <th>2000-01-11</th>\n",
       "      <td>0.683771</td>\n",
       "      <td>4.119279</td>\n",
       "      <td>-2.539930</td>\n",
       "      <td>3.465227</td>\n",
       "    </tr>\n",
       "    <tr>\n",
       "      <th>2000-01-12</th>\n",
       "      <td>0.949345</td>\n",
       "      <td>2.550090</td>\n",
       "      <td>-2.745329</td>\n",
       "      <td>4.953753</td>\n",
       "    </tr>\n",
       "    <tr>\n",
       "      <th>2000-01-13</th>\n",
       "      <td>2.421445</td>\n",
       "      <td>2.550682</td>\n",
       "      <td>-1.961531</td>\n",
       "      <td>3.883759</td>\n",
       "    </tr>\n",
       "    <tr>\n",
       "      <th>2000-01-14</th>\n",
       "      <td>3.873397</td>\n",
       "      <td>2.322105</td>\n",
       "      <td>-1.987903</td>\n",
       "      <td>4.987144</td>\n",
       "    </tr>\n",
       "    <tr>\n",
       "      <th>2000-01-15</th>\n",
       "      <td>4.382682</td>\n",
       "      <td>1.139541</td>\n",
       "      <td>-1.908379</td>\n",
       "      <td>6.340523</td>\n",
       "    </tr>\n",
       "    <tr>\n",
       "      <th>2000-01-16</th>\n",
       "      <td>4.589234</td>\n",
       "      <td>0.831531</td>\n",
       "      <td>-2.239652</td>\n",
       "      <td>9.491217</td>\n",
       "    </tr>\n",
       "    <tr>\n",
       "      <th>2000-01-17</th>\n",
       "      <td>3.335773</td>\n",
       "      <td>1.488761</td>\n",
       "      <td>-1.928503</td>\n",
       "      <td>10.221421</td>\n",
       "    </tr>\n",
       "    <tr>\n",
       "      <th>2000-01-18</th>\n",
       "      <td>4.332471</td>\n",
       "      <td>0.553149</td>\n",
       "      <td>-2.897829</td>\n",
       "      <td>11.699657</td>\n",
       "    </tr>\n",
       "    <tr>\n",
       "      <th>2000-01-19</th>\n",
       "      <td>3.436547</td>\n",
       "      <td>2.665631</td>\n",
       "      <td>-3.735106</td>\n",
       "      <td>12.170631</td>\n",
       "    </tr>\n",
       "    <tr>\n",
       "      <th>2000-01-20</th>\n",
       "      <td>3.751851</td>\n",
       "      <td>1.820717</td>\n",
       "      <td>-3.565369</td>\n",
       "      <td>11.036064</td>\n",
       "    </tr>\n",
       "    <tr>\n",
       "      <th>2000-01-21</th>\n",
       "      <td>3.967999</td>\n",
       "      <td>1.947277</td>\n",
       "      <td>-3.000961</td>\n",
       "      <td>10.854399</td>\n",
       "    </tr>\n",
       "    <tr>\n",
       "      <th>2000-01-22</th>\n",
       "      <td>5.002731</td>\n",
       "      <td>2.372307</td>\n",
       "      <td>-4.601253</td>\n",
       "      <td>10.170890</td>\n",
       "    </tr>\n",
       "    <tr>\n",
       "      <th>2000-01-23</th>\n",
       "      <td>4.594612</td>\n",
       "      <td>3.170312</td>\n",
       "      <td>-5.336967</td>\n",
       "      <td>8.170947</td>\n",
       "    </tr>\n",
       "    <tr>\n",
       "      <th>2000-01-24</th>\n",
       "      <td>3.336540</td>\n",
       "      <td>3.552973</td>\n",
       "      <td>-5.287811</td>\n",
       "      <td>8.159571</td>\n",
       "    </tr>\n",
       "    <tr>\n",
       "      <th>2000-01-25</th>\n",
       "      <td>2.533724</td>\n",
       "      <td>4.250501</td>\n",
       "      <td>-3.907331</td>\n",
       "      <td>8.844117</td>\n",
       "    </tr>\n",
       "    <tr>\n",
       "      <th>2000-01-26</th>\n",
       "      <td>2.891746</td>\n",
       "      <td>4.940185</td>\n",
       "      <td>-4.916325</td>\n",
       "      <td>7.755725</td>\n",
       "    </tr>\n",
       "    <tr>\n",
       "      <th>2000-01-27</th>\n",
       "      <td>3.129736</td>\n",
       "      <td>3.928233</td>\n",
       "      <td>-3.678552</td>\n",
       "      <td>7.458741</td>\n",
       "    </tr>\n",
       "    <tr>\n",
       "      <th>2000-01-28</th>\n",
       "      <td>3.966941</td>\n",
       "      <td>2.440060</td>\n",
       "      <td>-2.927902</td>\n",
       "      <td>8.302793</td>\n",
       "    </tr>\n",
       "    <tr>\n",
       "      <th>2000-01-29</th>\n",
       "      <td>3.273264</td>\n",
       "      <td>3.078442</td>\n",
       "      <td>-3.636475</td>\n",
       "      <td>8.644432</td>\n",
       "    </tr>\n",
       "    <tr>\n",
       "      <th>2000-01-30</th>\n",
       "      <td>2.904254</td>\n",
       "      <td>2.264361</td>\n",
       "      <td>-3.456801</td>\n",
       "      <td>6.255575</td>\n",
       "    </tr>\n",
       "    <tr>\n",
       "      <th>...</th>\n",
       "      <td>...</td>\n",
       "      <td>...</td>\n",
       "      <td>...</td>\n",
       "      <td>...</td>\n",
       "    </tr>\n",
       "    <tr>\n",
       "      <th>2002-08-28</th>\n",
       "      <td>1.674102</td>\n",
       "      <td>-6.952710</td>\n",
       "      <td>-20.929679</td>\n",
       "      <td>-34.489970</td>\n",
       "    </tr>\n",
       "    <tr>\n",
       "      <th>2002-08-29</th>\n",
       "      <td>1.345452</td>\n",
       "      <td>-6.898870</td>\n",
       "      <td>-22.668541</td>\n",
       "      <td>-33.795618</td>\n",
       "    </tr>\n",
       "    <tr>\n",
       "      <th>2002-08-30</th>\n",
       "      <td>3.338471</td>\n",
       "      <td>-6.590817</td>\n",
       "      <td>-23.555901</td>\n",
       "      <td>-34.900551</td>\n",
       "    </tr>\n",
       "    <tr>\n",
       "      <th>2002-08-31</th>\n",
       "      <td>3.133490</td>\n",
       "      <td>-6.506287</td>\n",
       "      <td>-23.879972</td>\n",
       "      <td>-35.633614</td>\n",
       "    </tr>\n",
       "    <tr>\n",
       "      <th>2002-09-01</th>\n",
       "      <td>2.970229</td>\n",
       "      <td>-4.075120</td>\n",
       "      <td>-24.395952</td>\n",
       "      <td>-36.065030</td>\n",
       "    </tr>\n",
       "    <tr>\n",
       "      <th>2002-09-02</th>\n",
       "      <td>4.328385</td>\n",
       "      <td>-4.520318</td>\n",
       "      <td>-24.078822</td>\n",
       "      <td>-37.582159</td>\n",
       "    </tr>\n",
       "    <tr>\n",
       "      <th>2002-09-03</th>\n",
       "      <td>3.219793</td>\n",
       "      <td>-4.705502</td>\n",
       "      <td>-21.776633</td>\n",
       "      <td>-38.295547</td>\n",
       "    </tr>\n",
       "    <tr>\n",
       "      <th>2002-09-04</th>\n",
       "      <td>2.448737</td>\n",
       "      <td>-4.098825</td>\n",
       "      <td>-19.245157</td>\n",
       "      <td>-36.893523</td>\n",
       "    </tr>\n",
       "    <tr>\n",
       "      <th>2002-09-05</th>\n",
       "      <td>1.827955</td>\n",
       "      <td>-2.796067</td>\n",
       "      <td>-19.204249</td>\n",
       "      <td>-36.461999</td>\n",
       "    </tr>\n",
       "    <tr>\n",
       "      <th>2002-09-06</th>\n",
       "      <td>1.848812</td>\n",
       "      <td>-1.889275</td>\n",
       "      <td>-16.919463</td>\n",
       "      <td>-38.281210</td>\n",
       "    </tr>\n",
       "    <tr>\n",
       "      <th>2002-09-07</th>\n",
       "      <td>1.789174</td>\n",
       "      <td>-2.233312</td>\n",
       "      <td>-17.323968</td>\n",
       "      <td>-40.098125</td>\n",
       "    </tr>\n",
       "    <tr>\n",
       "      <th>2002-09-08</th>\n",
       "      <td>0.670435</td>\n",
       "      <td>-2.476444</td>\n",
       "      <td>-17.229019</td>\n",
       "      <td>-38.806803</td>\n",
       "    </tr>\n",
       "    <tr>\n",
       "      <th>2002-09-09</th>\n",
       "      <td>1.055703</td>\n",
       "      <td>-1.933833</td>\n",
       "      <td>-18.070405</td>\n",
       "      <td>-37.713873</td>\n",
       "    </tr>\n",
       "    <tr>\n",
       "      <th>2002-09-10</th>\n",
       "      <td>1.555601</td>\n",
       "      <td>-0.206930</td>\n",
       "      <td>-16.848263</td>\n",
       "      <td>-38.567420</td>\n",
       "    </tr>\n",
       "    <tr>\n",
       "      <th>2002-09-11</th>\n",
       "      <td>0.568979</td>\n",
       "      <td>-2.547869</td>\n",
       "      <td>-17.588280</td>\n",
       "      <td>-38.645241</td>\n",
       "    </tr>\n",
       "    <tr>\n",
       "      <th>2002-09-12</th>\n",
       "      <td>-0.995608</td>\n",
       "      <td>-2.280879</td>\n",
       "      <td>-16.295165</td>\n",
       "      <td>-40.544852</td>\n",
       "    </tr>\n",
       "    <tr>\n",
       "      <th>2002-09-13</th>\n",
       "      <td>-0.998851</td>\n",
       "      <td>-2.780510</td>\n",
       "      <td>-14.403937</td>\n",
       "      <td>-39.319937</td>\n",
       "    </tr>\n",
       "    <tr>\n",
       "      <th>2002-09-14</th>\n",
       "      <td>0.420891</td>\n",
       "      <td>-2.026910</td>\n",
       "      <td>-12.051724</td>\n",
       "      <td>-39.066207</td>\n",
       "    </tr>\n",
       "    <tr>\n",
       "      <th>2002-09-15</th>\n",
       "      <td>1.194598</td>\n",
       "      <td>-4.068448</td>\n",
       "      <td>-12.111342</td>\n",
       "      <td>-39.302314</td>\n",
       "    </tr>\n",
       "    <tr>\n",
       "      <th>2002-09-16</th>\n",
       "      <td>2.471468</td>\n",
       "      <td>-3.854889</td>\n",
       "      <td>-11.214341</td>\n",
       "      <td>-38.158781</td>\n",
       "    </tr>\n",
       "    <tr>\n",
       "      <th>2002-09-17</th>\n",
       "      <td>2.765054</td>\n",
       "      <td>-4.591974</td>\n",
       "      <td>-12.038521</td>\n",
       "      <td>-36.689682</td>\n",
       "    </tr>\n",
       "    <tr>\n",
       "      <th>2002-09-18</th>\n",
       "      <td>2.576530</td>\n",
       "      <td>-4.418285</td>\n",
       "      <td>-11.613191</td>\n",
       "      <td>-35.562783</td>\n",
       "    </tr>\n",
       "    <tr>\n",
       "      <th>2002-09-19</th>\n",
       "      <td>1.168537</td>\n",
       "      <td>-5.384883</td>\n",
       "      <td>-11.094608</td>\n",
       "      <td>-34.710703</td>\n",
       "    </tr>\n",
       "    <tr>\n",
       "      <th>2002-09-20</th>\n",
       "      <td>2.088472</td>\n",
       "      <td>-5.742934</td>\n",
       "      <td>-14.210351</td>\n",
       "      <td>-35.356820</td>\n",
       "    </tr>\n",
       "    <tr>\n",
       "      <th>2002-09-21</th>\n",
       "      <td>1.005141</td>\n",
       "      <td>-5.211630</td>\n",
       "      <td>-12.553930</td>\n",
       "      <td>-35.932117</td>\n",
       "    </tr>\n",
       "    <tr>\n",
       "      <th>2002-09-22</th>\n",
       "      <td>0.609197</td>\n",
       "      <td>-4.166347</td>\n",
       "      <td>-14.169090</td>\n",
       "      <td>-36.214816</td>\n",
       "    </tr>\n",
       "    <tr>\n",
       "      <th>2002-09-23</th>\n",
       "      <td>2.087725</td>\n",
       "      <td>-3.690809</td>\n",
       "      <td>-15.629518</td>\n",
       "      <td>-37.578619</td>\n",
       "    </tr>\n",
       "    <tr>\n",
       "      <th>2002-09-24</th>\n",
       "      <td>2.589482</td>\n",
       "      <td>-3.526369</td>\n",
       "      <td>-15.234270</td>\n",
       "      <td>-37.034482</td>\n",
       "    </tr>\n",
       "    <tr>\n",
       "      <th>2002-09-25</th>\n",
       "      <td>2.184814</td>\n",
       "      <td>-5.128838</td>\n",
       "      <td>-16.122019</td>\n",
       "      <td>-37.657958</td>\n",
       "    </tr>\n",
       "    <tr>\n",
       "      <th>2002-09-26</th>\n",
       "      <td>0.170310</td>\n",
       "      <td>-7.585545</td>\n",
       "      <td>-16.568754</td>\n",
       "      <td>-37.806729</td>\n",
       "    </tr>\n",
       "  </tbody>\n",
       "</table>\n",
       "<p>1000 rows × 4 columns</p>\n",
       "</div>"
      ],
      "text/plain": [
       "                   A         B          C          D\n",
       "2000-01-01  0.098817  2.305352   0.270887   1.423471\n",
       "2000-01-02 -0.480833  2.129300   0.621147   3.165075\n",
       "2000-01-03 -1.404513  0.890247   0.327342   2.740807\n",
       "2000-01-04 -2.518958  1.823944  -0.546545   2.955649\n",
       "2000-01-05 -0.625780  2.164705   0.746331   3.499537\n",
       "2000-01-06 -0.876374  1.780947   1.210091   5.035776\n",
       "2000-01-07 -1.756844  2.884119   0.208020   4.620355\n",
       "2000-01-08 -2.392301  3.513107   1.004574   2.860863\n",
       "2000-01-09 -1.727280  3.807121  -1.614120   3.576263\n",
       "2000-01-10 -0.527086  4.050077  -2.116075   3.622012\n",
       "2000-01-11  0.683771  4.119279  -2.539930   3.465227\n",
       "2000-01-12  0.949345  2.550090  -2.745329   4.953753\n",
       "2000-01-13  2.421445  2.550682  -1.961531   3.883759\n",
       "2000-01-14  3.873397  2.322105  -1.987903   4.987144\n",
       "2000-01-15  4.382682  1.139541  -1.908379   6.340523\n",
       "2000-01-16  4.589234  0.831531  -2.239652   9.491217\n",
       "2000-01-17  3.335773  1.488761  -1.928503  10.221421\n",
       "2000-01-18  4.332471  0.553149  -2.897829  11.699657\n",
       "2000-01-19  3.436547  2.665631  -3.735106  12.170631\n",
       "2000-01-20  3.751851  1.820717  -3.565369  11.036064\n",
       "2000-01-21  3.967999  1.947277  -3.000961  10.854399\n",
       "2000-01-22  5.002731  2.372307  -4.601253  10.170890\n",
       "2000-01-23  4.594612  3.170312  -5.336967   8.170947\n",
       "2000-01-24  3.336540  3.552973  -5.287811   8.159571\n",
       "2000-01-25  2.533724  4.250501  -3.907331   8.844117\n",
       "2000-01-26  2.891746  4.940185  -4.916325   7.755725\n",
       "2000-01-27  3.129736  3.928233  -3.678552   7.458741\n",
       "2000-01-28  3.966941  2.440060  -2.927902   8.302793\n",
       "2000-01-29  3.273264  3.078442  -3.636475   8.644432\n",
       "2000-01-30  2.904254  2.264361  -3.456801   6.255575\n",
       "...              ...       ...        ...        ...\n",
       "2002-08-28  1.674102 -6.952710 -20.929679 -34.489970\n",
       "2002-08-29  1.345452 -6.898870 -22.668541 -33.795618\n",
       "2002-08-30  3.338471 -6.590817 -23.555901 -34.900551\n",
       "2002-08-31  3.133490 -6.506287 -23.879972 -35.633614\n",
       "2002-09-01  2.970229 -4.075120 -24.395952 -36.065030\n",
       "2002-09-02  4.328385 -4.520318 -24.078822 -37.582159\n",
       "2002-09-03  3.219793 -4.705502 -21.776633 -38.295547\n",
       "2002-09-04  2.448737 -4.098825 -19.245157 -36.893523\n",
       "2002-09-05  1.827955 -2.796067 -19.204249 -36.461999\n",
       "2002-09-06  1.848812 -1.889275 -16.919463 -38.281210\n",
       "2002-09-07  1.789174 -2.233312 -17.323968 -40.098125\n",
       "2002-09-08  0.670435 -2.476444 -17.229019 -38.806803\n",
       "2002-09-09  1.055703 -1.933833 -18.070405 -37.713873\n",
       "2002-09-10  1.555601 -0.206930 -16.848263 -38.567420\n",
       "2002-09-11  0.568979 -2.547869 -17.588280 -38.645241\n",
       "2002-09-12 -0.995608 -2.280879 -16.295165 -40.544852\n",
       "2002-09-13 -0.998851 -2.780510 -14.403937 -39.319937\n",
       "2002-09-14  0.420891 -2.026910 -12.051724 -39.066207\n",
       "2002-09-15  1.194598 -4.068448 -12.111342 -39.302314\n",
       "2002-09-16  2.471468 -3.854889 -11.214341 -38.158781\n",
       "2002-09-17  2.765054 -4.591974 -12.038521 -36.689682\n",
       "2002-09-18  2.576530 -4.418285 -11.613191 -35.562783\n",
       "2002-09-19  1.168537 -5.384883 -11.094608 -34.710703\n",
       "2002-09-20  2.088472 -5.742934 -14.210351 -35.356820\n",
       "2002-09-21  1.005141 -5.211630 -12.553930 -35.932117\n",
       "2002-09-22  0.609197 -4.166347 -14.169090 -36.214816\n",
       "2002-09-23  2.087725 -3.690809 -15.629518 -37.578619\n",
       "2002-09-24  2.589482 -3.526369 -15.234270 -37.034482\n",
       "2002-09-25  2.184814 -5.128838 -16.122019 -37.657958\n",
       "2002-09-26  0.170310 -7.585545 -16.568754 -37.806729\n",
       "\n",
       "[1000 rows x 4 columns]"
      ]
     },
     "execution_count": 189,
     "metadata": {},
     "output_type": "execute_result"
    }
   ],
   "source": [
    "pd.read_hdf('foo.h5','df')"
   ]
  },
  {
   "cell_type": "code",
   "execution_count": 190,
   "metadata": {
    "collapsed": true
   },
   "outputs": [],
   "source": [
    "## Excel\n",
    "df.to_excel('foo.xlsx',sheet_name='Sheet1')"
   ]
  },
  {
   "cell_type": "code",
   "execution_count": 191,
   "metadata": {
    "collapsed": false
   },
   "outputs": [
    {
     "data": {
      "text/html": [
       "<div>\n",
       "<table border=\"1\" class=\"dataframe\">\n",
       "  <thead>\n",
       "    <tr style=\"text-align: right;\">\n",
       "      <th></th>\n",
       "      <th>A</th>\n",
       "      <th>B</th>\n",
       "      <th>C</th>\n",
       "      <th>D</th>\n",
       "    </tr>\n",
       "  </thead>\n",
       "  <tbody>\n",
       "    <tr>\n",
       "      <th>2000-01-01</th>\n",
       "      <td>0.098817</td>\n",
       "      <td>2.305352</td>\n",
       "      <td>0.270887</td>\n",
       "      <td>1.423471</td>\n",
       "    </tr>\n",
       "    <tr>\n",
       "      <th>2000-01-02</th>\n",
       "      <td>-0.480833</td>\n",
       "      <td>2.129300</td>\n",
       "      <td>0.621147</td>\n",
       "      <td>3.165075</td>\n",
       "    </tr>\n",
       "    <tr>\n",
       "      <th>2000-01-03</th>\n",
       "      <td>-1.404513</td>\n",
       "      <td>0.890247</td>\n",
       "      <td>0.327342</td>\n",
       "      <td>2.740807</td>\n",
       "    </tr>\n",
       "    <tr>\n",
       "      <th>2000-01-04</th>\n",
       "      <td>-2.518958</td>\n",
       "      <td>1.823944</td>\n",
       "      <td>-0.546545</td>\n",
       "      <td>2.955649</td>\n",
       "    </tr>\n",
       "    <tr>\n",
       "      <th>2000-01-05</th>\n",
       "      <td>-0.625780</td>\n",
       "      <td>2.164705</td>\n",
       "      <td>0.746331</td>\n",
       "      <td>3.499537</td>\n",
       "    </tr>\n",
       "    <tr>\n",
       "      <th>2000-01-06</th>\n",
       "      <td>-0.876374</td>\n",
       "      <td>1.780947</td>\n",
       "      <td>1.210091</td>\n",
       "      <td>5.035776</td>\n",
       "    </tr>\n",
       "    <tr>\n",
       "      <th>2000-01-07</th>\n",
       "      <td>-1.756844</td>\n",
       "      <td>2.884119</td>\n",
       "      <td>0.208020</td>\n",
       "      <td>4.620355</td>\n",
       "    </tr>\n",
       "    <tr>\n",
       "      <th>2000-01-08</th>\n",
       "      <td>-2.392301</td>\n",
       "      <td>3.513107</td>\n",
       "      <td>1.004574</td>\n",
       "      <td>2.860863</td>\n",
       "    </tr>\n",
       "    <tr>\n",
       "      <th>2000-01-09</th>\n",
       "      <td>-1.727280</td>\n",
       "      <td>3.807121</td>\n",
       "      <td>-1.614120</td>\n",
       "      <td>3.576263</td>\n",
       "    </tr>\n",
       "    <tr>\n",
       "      <th>2000-01-10</th>\n",
       "      <td>-0.527086</td>\n",
       "      <td>4.050077</td>\n",
       "      <td>-2.116075</td>\n",
       "      <td>3.622012</td>\n",
       "    </tr>\n",
       "    <tr>\n",
       "      <th>2000-01-11</th>\n",
       "      <td>0.683771</td>\n",
       "      <td>4.119279</td>\n",
       "      <td>-2.539930</td>\n",
       "      <td>3.465227</td>\n",
       "    </tr>\n",
       "    <tr>\n",
       "      <th>2000-01-12</th>\n",
       "      <td>0.949345</td>\n",
       "      <td>2.550090</td>\n",
       "      <td>-2.745329</td>\n",
       "      <td>4.953753</td>\n",
       "    </tr>\n",
       "    <tr>\n",
       "      <th>2000-01-13</th>\n",
       "      <td>2.421445</td>\n",
       "      <td>2.550682</td>\n",
       "      <td>-1.961531</td>\n",
       "      <td>3.883759</td>\n",
       "    </tr>\n",
       "    <tr>\n",
       "      <th>2000-01-14</th>\n",
       "      <td>3.873397</td>\n",
       "      <td>2.322105</td>\n",
       "      <td>-1.987903</td>\n",
       "      <td>4.987144</td>\n",
       "    </tr>\n",
       "    <tr>\n",
       "      <th>2000-01-15</th>\n",
       "      <td>4.382682</td>\n",
       "      <td>1.139541</td>\n",
       "      <td>-1.908379</td>\n",
       "      <td>6.340523</td>\n",
       "    </tr>\n",
       "    <tr>\n",
       "      <th>2000-01-16</th>\n",
       "      <td>4.589234</td>\n",
       "      <td>0.831531</td>\n",
       "      <td>-2.239652</td>\n",
       "      <td>9.491217</td>\n",
       "    </tr>\n",
       "    <tr>\n",
       "      <th>2000-01-17</th>\n",
       "      <td>3.335773</td>\n",
       "      <td>1.488761</td>\n",
       "      <td>-1.928503</td>\n",
       "      <td>10.221421</td>\n",
       "    </tr>\n",
       "    <tr>\n",
       "      <th>2000-01-18</th>\n",
       "      <td>4.332471</td>\n",
       "      <td>0.553149</td>\n",
       "      <td>-2.897829</td>\n",
       "      <td>11.699657</td>\n",
       "    </tr>\n",
       "    <tr>\n",
       "      <th>2000-01-19</th>\n",
       "      <td>3.436547</td>\n",
       "      <td>2.665631</td>\n",
       "      <td>-3.735106</td>\n",
       "      <td>12.170631</td>\n",
       "    </tr>\n",
       "    <tr>\n",
       "      <th>2000-01-20</th>\n",
       "      <td>3.751851</td>\n",
       "      <td>1.820717</td>\n",
       "      <td>-3.565369</td>\n",
       "      <td>11.036064</td>\n",
       "    </tr>\n",
       "    <tr>\n",
       "      <th>2000-01-21</th>\n",
       "      <td>3.967999</td>\n",
       "      <td>1.947277</td>\n",
       "      <td>-3.000961</td>\n",
       "      <td>10.854399</td>\n",
       "    </tr>\n",
       "    <tr>\n",
       "      <th>2000-01-22</th>\n",
       "      <td>5.002731</td>\n",
       "      <td>2.372307</td>\n",
       "      <td>-4.601253</td>\n",
       "      <td>10.170890</td>\n",
       "    </tr>\n",
       "    <tr>\n",
       "      <th>2000-01-23</th>\n",
       "      <td>4.594612</td>\n",
       "      <td>3.170312</td>\n",
       "      <td>-5.336967</td>\n",
       "      <td>8.170947</td>\n",
       "    </tr>\n",
       "    <tr>\n",
       "      <th>2000-01-24</th>\n",
       "      <td>3.336540</td>\n",
       "      <td>3.552973</td>\n",
       "      <td>-5.287811</td>\n",
       "      <td>8.159571</td>\n",
       "    </tr>\n",
       "    <tr>\n",
       "      <th>2000-01-25</th>\n",
       "      <td>2.533724</td>\n",
       "      <td>4.250501</td>\n",
       "      <td>-3.907331</td>\n",
       "      <td>8.844117</td>\n",
       "    </tr>\n",
       "    <tr>\n",
       "      <th>2000-01-26</th>\n",
       "      <td>2.891746</td>\n",
       "      <td>4.940185</td>\n",
       "      <td>-4.916325</td>\n",
       "      <td>7.755725</td>\n",
       "    </tr>\n",
       "    <tr>\n",
       "      <th>2000-01-27</th>\n",
       "      <td>3.129736</td>\n",
       "      <td>3.928233</td>\n",
       "      <td>-3.678552</td>\n",
       "      <td>7.458741</td>\n",
       "    </tr>\n",
       "    <tr>\n",
       "      <th>2000-01-28</th>\n",
       "      <td>3.966941</td>\n",
       "      <td>2.440060</td>\n",
       "      <td>-2.927902</td>\n",
       "      <td>8.302793</td>\n",
       "    </tr>\n",
       "    <tr>\n",
       "      <th>2000-01-29</th>\n",
       "      <td>3.273264</td>\n",
       "      <td>3.078442</td>\n",
       "      <td>-3.636475</td>\n",
       "      <td>8.644432</td>\n",
       "    </tr>\n",
       "    <tr>\n",
       "      <th>2000-01-30</th>\n",
       "      <td>2.904254</td>\n",
       "      <td>2.264361</td>\n",
       "      <td>-3.456801</td>\n",
       "      <td>6.255575</td>\n",
       "    </tr>\n",
       "    <tr>\n",
       "      <th>...</th>\n",
       "      <td>...</td>\n",
       "      <td>...</td>\n",
       "      <td>...</td>\n",
       "      <td>...</td>\n",
       "    </tr>\n",
       "    <tr>\n",
       "      <th>2002-08-28</th>\n",
       "      <td>1.674102</td>\n",
       "      <td>-6.952710</td>\n",
       "      <td>-20.929679</td>\n",
       "      <td>-34.489970</td>\n",
       "    </tr>\n",
       "    <tr>\n",
       "      <th>2002-08-29</th>\n",
       "      <td>1.345452</td>\n",
       "      <td>-6.898870</td>\n",
       "      <td>-22.668541</td>\n",
       "      <td>-33.795618</td>\n",
       "    </tr>\n",
       "    <tr>\n",
       "      <th>2002-08-30</th>\n",
       "      <td>3.338471</td>\n",
       "      <td>-6.590817</td>\n",
       "      <td>-23.555901</td>\n",
       "      <td>-34.900551</td>\n",
       "    </tr>\n",
       "    <tr>\n",
       "      <th>2002-08-31</th>\n",
       "      <td>3.133490</td>\n",
       "      <td>-6.506287</td>\n",
       "      <td>-23.879972</td>\n",
       "      <td>-35.633614</td>\n",
       "    </tr>\n",
       "    <tr>\n",
       "      <th>2002-09-01</th>\n",
       "      <td>2.970229</td>\n",
       "      <td>-4.075120</td>\n",
       "      <td>-24.395952</td>\n",
       "      <td>-36.065030</td>\n",
       "    </tr>\n",
       "    <tr>\n",
       "      <th>2002-09-02</th>\n",
       "      <td>4.328385</td>\n",
       "      <td>-4.520318</td>\n",
       "      <td>-24.078822</td>\n",
       "      <td>-37.582159</td>\n",
       "    </tr>\n",
       "    <tr>\n",
       "      <th>2002-09-03</th>\n",
       "      <td>3.219793</td>\n",
       "      <td>-4.705502</td>\n",
       "      <td>-21.776633</td>\n",
       "      <td>-38.295547</td>\n",
       "    </tr>\n",
       "    <tr>\n",
       "      <th>2002-09-04</th>\n",
       "      <td>2.448737</td>\n",
       "      <td>-4.098825</td>\n",
       "      <td>-19.245157</td>\n",
       "      <td>-36.893523</td>\n",
       "    </tr>\n",
       "    <tr>\n",
       "      <th>2002-09-05</th>\n",
       "      <td>1.827955</td>\n",
       "      <td>-2.796067</td>\n",
       "      <td>-19.204249</td>\n",
       "      <td>-36.461999</td>\n",
       "    </tr>\n",
       "    <tr>\n",
       "      <th>2002-09-06</th>\n",
       "      <td>1.848812</td>\n",
       "      <td>-1.889275</td>\n",
       "      <td>-16.919463</td>\n",
       "      <td>-38.281210</td>\n",
       "    </tr>\n",
       "    <tr>\n",
       "      <th>2002-09-07</th>\n",
       "      <td>1.789174</td>\n",
       "      <td>-2.233312</td>\n",
       "      <td>-17.323968</td>\n",
       "      <td>-40.098125</td>\n",
       "    </tr>\n",
       "    <tr>\n",
       "      <th>2002-09-08</th>\n",
       "      <td>0.670435</td>\n",
       "      <td>-2.476444</td>\n",
       "      <td>-17.229019</td>\n",
       "      <td>-38.806803</td>\n",
       "    </tr>\n",
       "    <tr>\n",
       "      <th>2002-09-09</th>\n",
       "      <td>1.055703</td>\n",
       "      <td>-1.933833</td>\n",
       "      <td>-18.070405</td>\n",
       "      <td>-37.713873</td>\n",
       "    </tr>\n",
       "    <tr>\n",
       "      <th>2002-09-10</th>\n",
       "      <td>1.555601</td>\n",
       "      <td>-0.206930</td>\n",
       "      <td>-16.848263</td>\n",
       "      <td>-38.567420</td>\n",
       "    </tr>\n",
       "    <tr>\n",
       "      <th>2002-09-11</th>\n",
       "      <td>0.568979</td>\n",
       "      <td>-2.547869</td>\n",
       "      <td>-17.588280</td>\n",
       "      <td>-38.645241</td>\n",
       "    </tr>\n",
       "    <tr>\n",
       "      <th>2002-09-12</th>\n",
       "      <td>-0.995608</td>\n",
       "      <td>-2.280879</td>\n",
       "      <td>-16.295165</td>\n",
       "      <td>-40.544852</td>\n",
       "    </tr>\n",
       "    <tr>\n",
       "      <th>2002-09-13</th>\n",
       "      <td>-0.998851</td>\n",
       "      <td>-2.780510</td>\n",
       "      <td>-14.403937</td>\n",
       "      <td>-39.319937</td>\n",
       "    </tr>\n",
       "    <tr>\n",
       "      <th>2002-09-14</th>\n",
       "      <td>0.420891</td>\n",
       "      <td>-2.026910</td>\n",
       "      <td>-12.051724</td>\n",
       "      <td>-39.066207</td>\n",
       "    </tr>\n",
       "    <tr>\n",
       "      <th>2002-09-15</th>\n",
       "      <td>1.194598</td>\n",
       "      <td>-4.068448</td>\n",
       "      <td>-12.111342</td>\n",
       "      <td>-39.302314</td>\n",
       "    </tr>\n",
       "    <tr>\n",
       "      <th>2002-09-16</th>\n",
       "      <td>2.471468</td>\n",
       "      <td>-3.854889</td>\n",
       "      <td>-11.214341</td>\n",
       "      <td>-38.158781</td>\n",
       "    </tr>\n",
       "    <tr>\n",
       "      <th>2002-09-17</th>\n",
       "      <td>2.765054</td>\n",
       "      <td>-4.591974</td>\n",
       "      <td>-12.038521</td>\n",
       "      <td>-36.689682</td>\n",
       "    </tr>\n",
       "    <tr>\n",
       "      <th>2002-09-18</th>\n",
       "      <td>2.576530</td>\n",
       "      <td>-4.418285</td>\n",
       "      <td>-11.613191</td>\n",
       "      <td>-35.562783</td>\n",
       "    </tr>\n",
       "    <tr>\n",
       "      <th>2002-09-19</th>\n",
       "      <td>1.168537</td>\n",
       "      <td>-5.384883</td>\n",
       "      <td>-11.094608</td>\n",
       "      <td>-34.710703</td>\n",
       "    </tr>\n",
       "    <tr>\n",
       "      <th>2002-09-20</th>\n",
       "      <td>2.088472</td>\n",
       "      <td>-5.742934</td>\n",
       "      <td>-14.210351</td>\n",
       "      <td>-35.356820</td>\n",
       "    </tr>\n",
       "    <tr>\n",
       "      <th>2002-09-21</th>\n",
       "      <td>1.005141</td>\n",
       "      <td>-5.211630</td>\n",
       "      <td>-12.553930</td>\n",
       "      <td>-35.932117</td>\n",
       "    </tr>\n",
       "    <tr>\n",
       "      <th>2002-09-22</th>\n",
       "      <td>0.609197</td>\n",
       "      <td>-4.166347</td>\n",
       "      <td>-14.169090</td>\n",
       "      <td>-36.214816</td>\n",
       "    </tr>\n",
       "    <tr>\n",
       "      <th>2002-09-23</th>\n",
       "      <td>2.087725</td>\n",
       "      <td>-3.690809</td>\n",
       "      <td>-15.629518</td>\n",
       "      <td>-37.578619</td>\n",
       "    </tr>\n",
       "    <tr>\n",
       "      <th>2002-09-24</th>\n",
       "      <td>2.589482</td>\n",
       "      <td>-3.526369</td>\n",
       "      <td>-15.234270</td>\n",
       "      <td>-37.034482</td>\n",
       "    </tr>\n",
       "    <tr>\n",
       "      <th>2002-09-25</th>\n",
       "      <td>2.184814</td>\n",
       "      <td>-5.128838</td>\n",
       "      <td>-16.122019</td>\n",
       "      <td>-37.657958</td>\n",
       "    </tr>\n",
       "    <tr>\n",
       "      <th>2002-09-26</th>\n",
       "      <td>0.170310</td>\n",
       "      <td>-7.585545</td>\n",
       "      <td>-16.568754</td>\n",
       "      <td>-37.806729</td>\n",
       "    </tr>\n",
       "  </tbody>\n",
       "</table>\n",
       "<p>1000 rows × 4 columns</p>\n",
       "</div>"
      ],
      "text/plain": [
       "                   A         B          C          D\n",
       "2000-01-01  0.098817  2.305352   0.270887   1.423471\n",
       "2000-01-02 -0.480833  2.129300   0.621147   3.165075\n",
       "2000-01-03 -1.404513  0.890247   0.327342   2.740807\n",
       "2000-01-04 -2.518958  1.823944  -0.546545   2.955649\n",
       "2000-01-05 -0.625780  2.164705   0.746331   3.499537\n",
       "2000-01-06 -0.876374  1.780947   1.210091   5.035776\n",
       "2000-01-07 -1.756844  2.884119   0.208020   4.620355\n",
       "2000-01-08 -2.392301  3.513107   1.004574   2.860863\n",
       "2000-01-09 -1.727280  3.807121  -1.614120   3.576263\n",
       "2000-01-10 -0.527086  4.050077  -2.116075   3.622012\n",
       "2000-01-11  0.683771  4.119279  -2.539930   3.465227\n",
       "2000-01-12  0.949345  2.550090  -2.745329   4.953753\n",
       "2000-01-13  2.421445  2.550682  -1.961531   3.883759\n",
       "2000-01-14  3.873397  2.322105  -1.987903   4.987144\n",
       "2000-01-15  4.382682  1.139541  -1.908379   6.340523\n",
       "2000-01-16  4.589234  0.831531  -2.239652   9.491217\n",
       "2000-01-17  3.335773  1.488761  -1.928503  10.221421\n",
       "2000-01-18  4.332471  0.553149  -2.897829  11.699657\n",
       "2000-01-19  3.436547  2.665631  -3.735106  12.170631\n",
       "2000-01-20  3.751851  1.820717  -3.565369  11.036064\n",
       "2000-01-21  3.967999  1.947277  -3.000961  10.854399\n",
       "2000-01-22  5.002731  2.372307  -4.601253  10.170890\n",
       "2000-01-23  4.594612  3.170312  -5.336967   8.170947\n",
       "2000-01-24  3.336540  3.552973  -5.287811   8.159571\n",
       "2000-01-25  2.533724  4.250501  -3.907331   8.844117\n",
       "2000-01-26  2.891746  4.940185  -4.916325   7.755725\n",
       "2000-01-27  3.129736  3.928233  -3.678552   7.458741\n",
       "2000-01-28  3.966941  2.440060  -2.927902   8.302793\n",
       "2000-01-29  3.273264  3.078442  -3.636475   8.644432\n",
       "2000-01-30  2.904254  2.264361  -3.456801   6.255575\n",
       "...              ...       ...        ...        ...\n",
       "2002-08-28  1.674102 -6.952710 -20.929679 -34.489970\n",
       "2002-08-29  1.345452 -6.898870 -22.668541 -33.795618\n",
       "2002-08-30  3.338471 -6.590817 -23.555901 -34.900551\n",
       "2002-08-31  3.133490 -6.506287 -23.879972 -35.633614\n",
       "2002-09-01  2.970229 -4.075120 -24.395952 -36.065030\n",
       "2002-09-02  4.328385 -4.520318 -24.078822 -37.582159\n",
       "2002-09-03  3.219793 -4.705502 -21.776633 -38.295547\n",
       "2002-09-04  2.448737 -4.098825 -19.245157 -36.893523\n",
       "2002-09-05  1.827955 -2.796067 -19.204249 -36.461999\n",
       "2002-09-06  1.848812 -1.889275 -16.919463 -38.281210\n",
       "2002-09-07  1.789174 -2.233312 -17.323968 -40.098125\n",
       "2002-09-08  0.670435 -2.476444 -17.229019 -38.806803\n",
       "2002-09-09  1.055703 -1.933833 -18.070405 -37.713873\n",
       "2002-09-10  1.555601 -0.206930 -16.848263 -38.567420\n",
       "2002-09-11  0.568979 -2.547869 -17.588280 -38.645241\n",
       "2002-09-12 -0.995608 -2.280879 -16.295165 -40.544852\n",
       "2002-09-13 -0.998851 -2.780510 -14.403937 -39.319937\n",
       "2002-09-14  0.420891 -2.026910 -12.051724 -39.066207\n",
       "2002-09-15  1.194598 -4.068448 -12.111342 -39.302314\n",
       "2002-09-16  2.471468 -3.854889 -11.214341 -38.158781\n",
       "2002-09-17  2.765054 -4.591974 -12.038521 -36.689682\n",
       "2002-09-18  2.576530 -4.418285 -11.613191 -35.562783\n",
       "2002-09-19  1.168537 -5.384883 -11.094608 -34.710703\n",
       "2002-09-20  2.088472 -5.742934 -14.210351 -35.356820\n",
       "2002-09-21  1.005141 -5.211630 -12.553930 -35.932117\n",
       "2002-09-22  0.609197 -4.166347 -14.169090 -36.214816\n",
       "2002-09-23  2.087725 -3.690809 -15.629518 -37.578619\n",
       "2002-09-24  2.589482 -3.526369 -15.234270 -37.034482\n",
       "2002-09-25  2.184814 -5.128838 -16.122019 -37.657958\n",
       "2002-09-26  0.170310 -7.585545 -16.568754 -37.806729\n",
       "\n",
       "[1000 rows x 4 columns]"
      ]
     },
     "execution_count": 191,
     "metadata": {},
     "output_type": "execute_result"
    }
   ],
   "source": [
    "pd.read_excel('foo.xlsx','Sheet1',index_col=None,na_values=['NA'])"
   ]
  },
  {
   "cell_type": "code",
   "execution_count": null,
   "metadata": {
    "collapsed": true
   },
   "outputs": [],
   "source": []
  }
 ],
 "metadata": {
  "anaconda-cloud": {},
  "kernelspec": {
   "display_name": "Python [Root]",
   "language": "python",
   "name": "Python [Root]"
  },
  "language_info": {
   "codemirror_mode": {
    "name": "ipython",
    "version": 3
   },
   "file_extension": ".py",
   "mimetype": "text/x-python",
   "name": "python",
   "nbconvert_exporter": "python",
   "pygments_lexer": "ipython3",
   "version": "3.5.2"
  }
 },
 "nbformat": 4,
 "nbformat_minor": 0
}
