{
 "cells": [
  {
   "cell_type": "code",
   "execution_count": 1,
   "metadata": {
    "collapsed": true
   },
   "outputs": [],
   "source": [
    "import numpy as np\n",
    "import pandas as pd\n",
    "from pandas import Series,DataFrame"
   ]
  },
  {
   "cell_type": "code",
   "execution_count": 9,
   "metadata": {
    "collapsed": false
   },
   "outputs": [
    {
     "name": "stdout",
     "output_type": "stream",
     "text": [
      "d    27\n",
      "b    34\n",
      "a    56\n",
      "c    40\n",
      "dtype: int64\n",
      "\n",
      "after reindexing\n",
      "a    56.0\n",
      "b    34.0\n",
      "c    40.0\n",
      "d    27.0\n",
      "e     NaN\n",
      "dtype: float64\n",
      "\n",
      "reindexing, and fill the NaN value\n",
      "a    56\n",
      "b    34\n",
      "c    40\n",
      "d    27\n",
      "e     0\n",
      "dtype: int64\n"
     ]
    }
   ],
   "source": [
    "###### Reindex\n",
    "# Which mean to create a new object with the data conformed to a new index.\n",
    "obj = Series(np.random.randint(100,size=4),index = ['d','b','a','c'])\n",
    "print(obj)\n",
    "print()\n",
    "obj2 = obj.reindex(['a','b','c','d','e']) # introducing missing value if any index values were not already present\n",
    "print(\"after reindexing\")\n",
    "print(obj2)\n",
    "print()\n",
    "obj3 = obj.reindex(['a','b','c','d','e'],fill_value=0)\n",
    "print(\"reindexing, and fill the NaN value\")\n",
    "print(obj3)"
   ]
  },
  {
   "cell_type": "code",
   "execution_count": 11,
   "metadata": {
    "collapsed": false
   },
   "outputs": [
    {
     "name": "stdout",
     "output_type": "stream",
     "text": [
      "0      blue\n",
      "2    purple\n",
      "4    yellow\n",
      "dtype: object\n",
      "\n",
      "after reindexing and interpolation with 'ffill' method\n",
      "0      blue\n",
      "1      blue\n",
      "2    purple\n",
      "3    purple\n",
      "4    yellow\n",
      "5    yellow\n",
      "dtype: object\n"
     ]
    }
   ],
   "source": [
    "# reindexing and interpolation\n",
    "obj4 = Series(['blue','purple','yellow'],index=[0,2,4])\n",
    "print(obj4)\n",
    "print()\n",
    "obj5 = obj4.reindex(range(6),method='ffill')\n",
    "print(\"after reindexing and interpolation with 'ffill' method\")\n",
    "print(obj5)"
   ]
  },
  {
   "cell_type": "code",
   "execution_count": 19,
   "metadata": {
    "collapsed": false
   },
   "outputs": [
    {
     "name": "stdout",
     "output_type": "stream",
     "text": [
      "   Ohio  Texas  Califonia\n",
      "a     0      1          2\n",
      "c     3      4          5\n",
      "d     6      7          8\n",
      "\n",
      "   Ohio  Texas  Califonia\n",
      "a   0.0    1.0        2.0\n",
      "b   NaN    NaN        NaN\n",
      "c   3.0    4.0        5.0\n",
      "d   6.0    7.0        8.0\n",
      "\n",
      "   Texas  Utah  Califonia\n",
      "a      1   NaN          2\n",
      "c      4   NaN          5\n",
      "d      7   NaN          8\n",
      "\n",
      "   Texas  Utah  Califonia\n",
      "a      1   NaN          2\n",
      "b      1   NaN          2\n",
      "c      4   NaN          5\n",
      "d      7   NaN          8\n",
      "\n"
     ]
    },
    {
     "data": {
      "text/html": [
       "<div>\n",
       "<table border=\"1\" class=\"dataframe\">\n",
       "  <thead>\n",
       "    <tr style=\"text-align: right;\">\n",
       "      <th></th>\n",
       "      <th>Texas</th>\n",
       "      <th>Utah</th>\n",
       "      <th>Califonia</th>\n",
       "    </tr>\n",
       "  </thead>\n",
       "  <tbody>\n",
       "    <tr>\n",
       "      <th>a</th>\n",
       "      <td>1.0</td>\n",
       "      <td>NaN</td>\n",
       "      <td>2.0</td>\n",
       "    </tr>\n",
       "    <tr>\n",
       "      <th>b</th>\n",
       "      <td>NaN</td>\n",
       "      <td>NaN</td>\n",
       "      <td>NaN</td>\n",
       "    </tr>\n",
       "    <tr>\n",
       "      <th>c</th>\n",
       "      <td>4.0</td>\n",
       "      <td>NaN</td>\n",
       "      <td>5.0</td>\n",
       "    </tr>\n",
       "    <tr>\n",
       "      <th>d</th>\n",
       "      <td>7.0</td>\n",
       "      <td>NaN</td>\n",
       "      <td>8.0</td>\n",
       "    </tr>\n",
       "  </tbody>\n",
       "</table>\n",
       "</div>"
      ],
      "text/plain": [
       "   Texas  Utah  Califonia\n",
       "a    1.0   NaN        2.0\n",
       "b    NaN   NaN        NaN\n",
       "c    4.0   NaN        5.0\n",
       "d    7.0   NaN        8.0"
      ]
     },
     "execution_count": 19,
     "metadata": {},
     "output_type": "execute_result"
    }
   ],
   "source": [
    "# reindex in DataFrame\n",
    "\n",
    "frame = DataFrame(np.arange(9).reshape((3,3)),index=['a','c','d'],columns=['Ohio','Texas','Califonia'])\n",
    "print(frame)\n",
    "print()\n",
    "\n",
    "frame2 = frame.reindex(['a','b','c','d']) # operate the row index by default\n",
    "print(frame2)\n",
    "print()\n",
    "\n",
    "states = ['Texas','Utah','Califonia']\n",
    "frame3 = frame.reindex(columns=states) # reindex the columns \n",
    "print(frame3)\n",
    "print()\n",
    "\n",
    "frame4 = frame.reindex(index=['a','b','c','d'],columns=['Texas','Utah','Califonia'],method='ffill')\n",
    "print(frame4)\n",
    "print()\n",
    "\n",
    "# reindexing can be done more succinctly by label~indexing with ix:\n",
    "frame.ix[['a','b','c','d'],states]"
   ]
  },
  {
   "cell_type": "code",
   "execution_count": 35,
   "metadata": {
    "collapsed": false
   },
   "outputs": [
    {
     "name": "stdout",
     "output_type": "stream",
     "text": [
      "For Series:  \n",
      "a    0.0\n",
      "b    1.0\n",
      "c    2.0\n",
      "d    3.0\n",
      "e    4.0\n",
      "dtype: float64\n",
      "\n",
      "after dropping 'b' and 'd'\n",
      "a    0.0\n",
      "c    2.0\n",
      "e    4.0\n",
      "dtype: float64\n",
      "-------------------------------\n",
      "With DataFrame\n",
      "          one  two  three  four\n",
      "Ohio        0    1      2     3\n",
      "Colorado    4    5      6     7\n",
      "Utah        8    9     10    11\n",
      "New York   12   13     14    15\n",
      "\n",
      "          one  two  three  four\n",
      "Colorado    4    5      6     7\n",
      "New York   12   13     14    15\n",
      "\n",
      "          one  four\n",
      "Ohio        0     3\n",
      "Colorado    4     7\n",
      "Utah        8    11\n",
      "New York   12    15\n",
      "\n"
     ]
    }
   ],
   "source": [
    "#### Dropping entries from an axis\n",
    "print(\"For Series:  \")\n",
    "obj = Series(np.arange(5.0),index=['a','b','c','d','e'])\n",
    "print(obj)\n",
    "print()\n",
    "obj2 = obj.drop(['b','d'])\n",
    "print(\"after dropping 'b' and 'd'\")\n",
    "print(obj2)\n",
    "print(\"-------------------------------\")\n",
    "\n",
    "print(\"With DataFrame\")\n",
    "frame = DataFrame(np.arange(16).reshape(4,4),index=['Ohio','Colorado','Utah','New York'],\n",
    "                 columns=['one','two','three','four'])\n",
    "print(frame)\n",
    "print()\n",
    "frame1 = frame.drop(['Ohio','Utah']) # drop row by default\n",
    "print(frame1)\n",
    "print()\n",
    "frame2 = frame.drop(['two','three'],axis=1) # drop columns\n",
    "print(frame2)\n",
    "print()"
   ]
  },
  {
   "cell_type": "code",
   "execution_count": 59,
   "metadata": {
    "collapsed": false
   },
   "outputs": [
    {
     "name": "stdout",
     "output_type": "stream",
     "text": [
      "original data:\n",
      "          one  two  three  four\n",
      "Ohio        0    1      2     3\n",
      "Colorado    4    5      6     7\n",
      "Utah        8    9     10    11\n",
      "New York   12   13     14    15\n",
      "-----------------------\n",
      "get 'two' column:\n",
      "Ohio         1\n",
      "Colorado     5\n",
      "Utah         9\n",
      "New York    13\n",
      "Name: two, dtype: int64\n",
      "-----------------------\n",
      "get 'two' and 'three' colum : \n",
      "          two  three\n",
      "Ohio        1      2\n",
      "Colorado    5      6\n",
      "Utah        9     10\n",
      "New York   13     14\n",
      "-----------------------\n",
      "select rows by slicing\n",
      "          one  two  three  four\n",
      "Ohio        0    1      2     3\n",
      "Colorado    4    5      6     7\n",
      "select rows by boolean array\n",
      "          one  two  three  four\n",
      "Colorado    4    5      6     7\n",
      "Utah        8    9     10    11\n",
      "New York   12   13     14    15\n",
      "-----------------------\n",
      "Indexing with a boolean DataFrame\n",
      "            one    two  three   four\n",
      "Ohio       True   True   True   True\n",
      "Colorado   True  False  False  False\n",
      "Utah      False  False  False  False\n",
      "New York  False  False  False  False\n",
      "          one  two  three  four\n",
      "Ohio        0    0      0     0\n",
      "Colorado    0    5      6     7\n",
      "Utah        8    9     10    11\n",
      "New York   12   13     14    15\n",
      "-----------------------\n",
      "\n",
      "two      5\n",
      "three    6\n",
      "Name: Colorado, dtype: int64\n",
      "\n",
      "          two  three\n",
      "Colorado    5      6\n",
      "Utah        9     10\n",
      "          four  one  two\n",
      "Colorado     7    0    5\n",
      "Utah        11    8    9\n",
      "one       8\n",
      "two       9\n",
      "three    10\n",
      "four     11\n",
      "Name: Utah, dtype: int64\n",
      "Ohio        0\n",
      "Colorado    5\n",
      "Utah        9\n",
      "Name: two, dtype: int64\n",
      "          one  two  three\n",
      "Colorado    0    5      6\n",
      "Utah        8    9     10\n",
      "New York   12   13     14\n"
     ]
    }
   ],
   "source": [
    "#### Indexing, Selection, and Filtering\n",
    "\n",
    "# Series indexing works analogously to NumPy array indexing, except you can use the Series's index values instead \n",
    "# of integers. Here just introduce the use of DataFrame\n",
    "\n",
    "frame = DataFrame(np.arange(16).reshape(4,4),index=['Ohio','Colorado','Utah','New York'],\n",
    "                 columns=['one','two','three','four'])\n",
    "print(\"original data:\")\n",
    "print(frame)\n",
    "print(\"-----------------------\")\n",
    "\n",
    "print(\"get 'two' column:\")\n",
    "print(frame['two'])\n",
    "print(\"-----------------------\")\n",
    "\n",
    "print(\"get 'two' and 'three' colum : \")\n",
    "print(frame[['two','three']])\n",
    "print(\"-----------------------\")\n",
    "\n",
    "print(\"select rows by slicing\")\n",
    "print(frame[:2])\n",
    "print(\"select rows by boolean array\")\n",
    "print(frame[frame['three']>5])\n",
    "print(\"-----------------------\")\n",
    "\n",
    "print(\"Indexing with a boolean DataFrame\")\n",
    "print( frame < 5 )\n",
    "frame[frame < 5] = 0\n",
    "print(frame)\n",
    "print(\"-----------------------\")\n",
    "print()\n",
    "\n",
    "# For DataFarame, there is a special indexing field 'ix'. It enables you to select a subset of the rows and columns\n",
    "# from a DataFrame with NumPy like notation plus axis labels.\n",
    "# .ix[row_indexs,colum_indexs]\n",
    "print(frame.ix['Colorado',['two','three']])\n",
    "print()\n",
    "print(frame.ix[['Colorado','Utah'],['two','three']])\n",
    "print(frame.ix[['Colorado','Utah'],[3,0,1]])\n",
    "print(frame.ix[2]) # the second row\n",
    "print(frame.ix[:'Utah','two'])\n",
    "print(frame.ix[frame.three>3,:3])"
   ]
  },
  {
   "cell_type": "code",
   "execution_count": 65,
   "metadata": {
    "collapsed": false
   },
   "outputs": [
    {
     "name": "stdout",
     "output_type": "stream",
     "text": [
      "             b    c    d\n",
      "Beijing    0.0  1.0  2.0\n",
      "Nanning    3.0  4.0  5.0\n",
      "Guangzhou  6.0  7.0  8.0\n",
      "             b     d     e\n",
      "Beijing    0.0   1.0   2.0\n",
      "Nanjing    3.0   4.0   5.0\n",
      "GuangZhou  6.0   7.0   8.0\n",
      "Tianjin    9.0  10.0  11.0\n",
      "\n",
      "df1 + df2\n",
      "             b   c    d   e\n",
      "Beijing    0.0 NaN  3.0 NaN\n",
      "GuangZhou  NaN NaN  NaN NaN\n",
      "Guangzhou  NaN NaN  NaN NaN\n",
      "Nanjing    NaN NaN  NaN NaN\n",
      "Nanning    NaN NaN  NaN NaN\n",
      "Tianjin    NaN NaN  NaN NaN\n",
      "\n",
      "----------------------------\n",
      "using the add method and an argument to fill_value\n",
      "             b    c     d     e\n",
      "Beijing    0.0  1.0   3.0   2.0\n",
      "GuangZhou  6.0  NaN   7.0   8.0\n",
      "Guangzhou  6.0  7.0   8.0   NaN\n",
      "Nanjing    3.0  NaN   4.0   5.0\n",
      "Nanning    3.0  4.0   5.0   NaN\n",
      "Tianjin    9.0  NaN  10.0  11.0\n"
     ]
    }
   ],
   "source": [
    "#### Arithmetic and data aligment\n",
    "# Operations between two Series or DataFrame operand, all based on index (row index) and columns\n",
    "# When adding together object, if any index pairs are not the same, the respective index in the result will be \n",
    "# the union of the index pairs.\n",
    "\n",
    "df1 = DataFrame(np.arange(9.).reshape((3,3)), columns=list('bcd'),index=['Beijing','Nanning','Guangzhou'])\n",
    "df2 = DataFrame(np.arange(12.).reshape((4,3)),columns=list('bde'),index=['Beijing','Nanjing','GuangZhou','Tianjin'])\n",
    "print(df1)\n",
    "print(df2)\n",
    "print()\n",
    "print('df1 + df2')\n",
    "print(df1 + df2)\n",
    "print()\n",
    "print('----------------------------')\n",
    "print(\"using the add method and an argument to fill_value\")\n",
    "print(df1.add(df2,fill_value=0))"
   ]
  },
  {
   "cell_type": "code",
   "execution_count": null,
   "metadata": {
    "collapsed": true
   },
   "outputs": [],
   "source": []
  }
 ],
 "metadata": {
  "kernelspec": {
   "display_name": "Python [Root]",
   "language": "python",
   "name": "Python [Root]"
  },
  "language_info": {
   "codemirror_mode": {
    "name": "ipython",
    "version": 3
   },
   "file_extension": ".py",
   "mimetype": "text/x-python",
   "name": "python",
   "nbconvert_exporter": "python",
   "pygments_lexer": "ipython3",
   "version": "3.5.2"
  }
 },
 "nbformat": 4,
 "nbformat_minor": 0
}
