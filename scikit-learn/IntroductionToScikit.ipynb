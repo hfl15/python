{
 "cells": [
  {
   "cell_type": "code",
   "execution_count": 3,
   "metadata": {
    "collapsed": false
   },
   "outputs": [],
   "source": [
    "# Machine learning\n",
    "#      Supervised Learing\n",
    "#             Classification\n",
    "#             Regression (continue value)\n",
    "#      Unsupervised Learning \n",
    "#             Clustering (to discover groups of similar examples with data)\n",
    "#             Density Estimation ( to determine the distribution of data within the input space)\n",
    "#             Visualization (to project the high-dimentional space down to two or three dimensions)"
   ]
  },
  {
   "cell_type": "code",
   "execution_count": 8,
   "metadata": {
    "collapsed": true
   },
   "outputs": [],
   "source": [
    "import numpy as np\n",
    "from sklearn import datasets,svm"
   ]
  },
  {
   "cell_type": "code",
   "execution_count": 6,
   "metadata": {
    "collapsed": true
   },
   "outputs": [],
   "source": [
    "# load the instance data set\n",
    "# .data saved the samples, a 2-D array, shape [n_samples,n_features]\n",
    "# .target saved the ground truth, shape [n_samples,n_targets], n_targets always is zero for most of all data set\n",
    "iris_dataset = datasets.load_iris()\n",
    "digits_dataset = datasets.load_digits()"
   ]
  },
  {
   "cell_type": "code",
   "execution_count": 13,
   "metadata": {
    "collapsed": false
   },
   "outputs": [
    {
     "name": "stdout",
     "output_type": "stream",
     "text": [
      "the SVC model is :\n",
      " SVC(C=100, cache_size=200, class_weight=None, coef0=0.0,\n",
      "  decision_function_shape=None, degree=3, gamma=0.001, kernel='rbf',\n",
      "  max_iter=-1, probability=False, random_state=None, shrinking=True,\n",
      "  tol=0.001, verbose=False)\n",
      "the predict result is :\n",
      " [8]\n"
     ]
    }
   ],
   "source": [
    "# create and set the classifier\n",
    "clf = svm.SVC(gamma=0.001,C=100)\n",
    "# fit the classifier with train set fit(X,y)\n",
    "fit_ = clf.fit(digits_dataset.data[:-1],digits_dataset.target[:-1])\n",
    "print(\"the SVC model is :\\n\",fit_)\n",
    "# predict the test set by the model learned above\n",
    "predict_ = clf.predict(digits_dataset.data[-1:])\n",
    "print(\"the predict result is :\\n\",predict_)"
   ]
  },
  {
   "cell_type": "code",
   "execution_count": 38,
   "metadata": {
    "collapsed": false
   },
   "outputs": [
    {
     "name": "stdout",
     "output_type": "stream",
     "text": [
      "the predict result is [8] with the svm classifier model loaded by pickle\n",
      "\n",
      "the predict result is [8] with the svm classifier model loaded by joblib\n",
      "\n"
     ]
    }
   ],
   "source": [
    "# model persistence\n",
    "import pickle\n",
    "s = pickle.dumps(clf)\n",
    "clf2 = pickle.loads(s)\n",
    "predict_ = clf2.predict(digits_dataset.data[-1:])\n",
    "print(\"the predict result is [%d] with the svm classifier model loaded by pickle\\n\" %predict_)\n",
    "\n",
    "# save model by joblib, which is more efficient on big data, the file will be divided into distributing file to save\n",
    "from sklearn.externals import joblib\n",
    "joblib.dump(clf,'digi_svm_classifier.pkl')\n",
    "clf3 = joblib.load('digi_svm_classifier.pkl')\n",
    "predict_ = clf3.predict(digits_dataset.data[-1:])\n",
    "print(\"the predict result is [%d] with the svm classifier model loaded by joblib\\n\" %predict_)\n",
    "\n",
    "# Node: joblib.dump returns a list of filenames. Each individual numpy array contained in the 'clf' object is\n",
    "# serialized as a separate file on the filesystem. All files are required int the same folder when reloading\n",
    "# the model with joblib.load.\n",
    "\n",
    "# Security & maintainability limitations\n",
    "# pickle (and joblib by extension), has some issues regarding maintainability and security. Because of this:\n",
    "#    [1] Never unpicle untrusted data\n",
    "#    [2] Models saved in one version of scikit-learn might not load in another version"
   ]
  },
  {
   "cell_type": "code",
   "execution_count": null,
   "metadata": {
    "collapsed": true
   },
   "outputs": [],
   "source": []
  }
 ],
 "metadata": {
  "kernelspec": {
   "display_name": "Python [Root]",
   "language": "python",
   "name": "Python [Root]"
  },
  "language_info": {
   "codemirror_mode": {
    "name": "ipython",
    "version": 3
   },
   "file_extension": ".py",
   "mimetype": "text/x-python",
   "name": "python",
   "nbconvert_exporter": "python",
   "pygments_lexer": "ipython3",
   "version": "3.5.2"
  }
 },
 "nbformat": 4,
 "nbformat_minor": 0
}
