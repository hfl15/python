{
 "cells": [
  {
   "cell_type": "markdown",
   "metadata": {},
   "source": [
    "Linear and Quadratic Discriminant Analysis"
   ]
  },
  {
   "cell_type": "code",
   "execution_count": 2,
   "metadata": {
    "collapsed": true
   },
   "outputs": [],
   "source": [
    "## Example: Linear and Quadratic Discriminant Analysis with confidence ellipsoid"
   ]
  },
  {
   "cell_type": "code",
   "execution_count": 4,
   "metadata": {
    "collapsed": false
   },
   "outputs": [
    {
     "name": "stdout",
     "output_type": "stream",
     "text": [
      "Automatically created module for IPython interactive environment\n"
     ]
    }
   ],
   "source": [
    "print(__doc__)\n",
    "\n",
    "from scipy import linalg\n",
    "import numpy as np\n",
    "import matplotlib.pyplot as plt\n",
    "import matplotlib as mpl\n",
    "from matplotlib import colors\n",
    "\n",
    "from sklearn.discriminant_analysis import LinearDiscriminantAnalysis\n",
    "from sklearn.discriminant_analysis import QuadraticDiscriminantAnalysis\n",
    "\n",
    "## colormap\n",
    "cmap = colors.LinearSegmentedColormap('red_blue_classes',\n",
    "                                     {'red':[(0,1,1),(1,0.7,0.7)],\n",
    "                                     'green':[(0,0.7,0.7),(1,0.7,0.7)],\n",
    "                                     'blue':[(0,0.7,0.7),(1,1,1)]})\n",
    "plt.cm.register_cmap(cmap=cmap)\n",
    "\n",
    "## generate datasets\n",
    "def dataset_fixed_cov():\n",
    "    # Generate 2 Gaussians samples with the same covariance matrix\n",
    "    n, dim = 300,2\n",
    "    np.random.seed(0)\n",
    "    C = np.array([[0.,-0.23],[0.83,.23]])\n",
    "    X = np.r_[]"
   ]
  },
  {
   "cell_type": "code",
   "execution_count": null,
   "metadata": {
    "collapsed": true
   },
   "outputs": [],
   "source": []
  }
 ],
 "metadata": {
  "anaconda-cloud": {},
  "kernelspec": {
   "display_name": "Python [Root]",
   "language": "python",
   "name": "Python [Root]"
  },
  "language_info": {
   "codemirror_mode": {
    "name": "ipython",
    "version": 3
   },
   "file_extension": ".py",
   "mimetype": "text/x-python",
   "name": "python",
   "nbconvert_exporter": "python",
   "pygments_lexer": "ipython3",
   "version": "3.5.2"
  }
 },
 "nbformat": 4,
 "nbformat_minor": 0
}
