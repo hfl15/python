{
 "cells": [
  {
   "cell_type": "code",
   "execution_count": 1,
   "metadata": {
    "collapsed": true
   },
   "outputs": [],
   "source": [
    "import numpy as np\n",
    "import pandas as pd\n",
    "from pandas import Series,DataFrame"
   ]
  },
  {
   "cell_type": "code",
   "execution_count": 14,
   "metadata": {
    "collapsed": false
   },
   "outputs": [
    {
     "name": "stdout",
     "output_type": "stream",
     "text": [
      "df1:  \n",
      "   data1 key\n",
      "0      0   b\n",
      "1      1   b\n",
      "2      2   a\n",
      "3      3   c\n",
      "4      4   a\n",
      "5      5   a\n",
      "6      6   b\n",
      "\n",
      "df2:  \n",
      "   data2 key\n",
      "0      0   a\n",
      "1      1   b\n",
      "2      2   d\n",
      "\n",
      "the result of merging df1 and df2 by default: \n",
      "   data1 key  data2\n",
      "0      0   b      1\n",
      "1      1   b      1\n",
      "2      6   b      1\n",
      "3      2   a      0\n",
      "4      4   a      0\n",
      "5      5   a      0\n",
      "   data1 key  data2\n",
      "0      0   b      1\n",
      "1      1   b      1\n",
      "2      6   b      1\n",
      "3      2   a      0\n",
      "4      4   a      0\n",
      "5      5   a      0\n",
      "\n",
      "the result of merging df1 and df2 by specifying 'key' field as key :\n",
      "   data1 key  data2\n",
      "0      0   b      1\n",
      "1      1   b      1\n",
      "2      6   b      1\n",
      "3      2   a      0\n",
      "4      4   a      0\n",
      "5      5   a      0\n"
     ]
    }
   ],
   "source": [
    "df1 = DataFrame({'key':['b','b','a','c','a','a','b'],\n",
    "                'data1':range(7)})\n",
    "print(\"df1:  \")\n",
    "print(df1)\n",
    "print()\n",
    "\n",
    "df2 = DataFrame({'key':['a','b','d'],\n",
    "                'data2':range(3)})\n",
    "print(\"df2:  \")\n",
    "print(df2)\n",
    "print()\n",
    "\n",
    "## merge df1 and df2 by default setting, which mean the overlapping column names as the keys\n",
    "print(\"the result of merging df1 and df2 by default: \")\n",
    "dfr = df1.merge(df2)\n",
    "print(dfr)\n",
    "## or\n",
    "dfr = pd.merge(df1,df2)\n",
    "print(dfr)\n",
    "\n",
    "print()\n",
    "print(\"the result of merging df1 and df2 by specifying 'key' field as key :\")\n",
    "dfr = pd.merge(df1,df2,on='key')\n",
    "print(dfr)"
   ]
  },
  {
   "cell_type": "code",
   "execution_count": 17,
   "metadata": {
    "collapsed": false
   },
   "outputs": [
    {
     "name": "stdout",
     "output_type": "stream",
     "text": [
      "   data1 lkey  data2 rkey\n",
      "0      0    b      1    b\n",
      "1      1    b      1    b\n",
      "2      6    b      1    b\n",
      "3      2    a      0    a\n",
      "4      4    a      0    a\n",
      "5      5    a      0    a\n"
     ]
    }
   ],
   "source": [
    "# If the column names are different in each object, you can spesify them separately:\n",
    "df3 = DataFrame({'lkey':['b','b','a','c','a','a','b'],\n",
    "                'data1':range(7)})\n",
    "df4 = DataFrame({'rkey':['a','b','d'],\n",
    "                'data2':range(3)})\n",
    "dfr = pd.merge(df3,df4,left_on='lkey',right_on='rkey')\n",
    "print(dfr)"
   ]
  },
  {
   "cell_type": "code",
   "execution_count": 18,
   "metadata": {
    "collapsed": false
   },
   "outputs": [
    {
     "data": {
      "text/html": [
       "<div>\n",
       "<table border=\"1\" class=\"dataframe\">\n",
       "  <thead>\n",
       "    <tr style=\"text-align: right;\">\n",
       "      <th></th>\n",
       "      <th>data1</th>\n",
       "      <th>key</th>\n",
       "      <th>data2</th>\n",
       "    </tr>\n",
       "  </thead>\n",
       "  <tbody>\n",
       "    <tr>\n",
       "      <th>0</th>\n",
       "      <td>0.0</td>\n",
       "      <td>b</td>\n",
       "      <td>1.0</td>\n",
       "    </tr>\n",
       "    <tr>\n",
       "      <th>1</th>\n",
       "      <td>1.0</td>\n",
       "      <td>b</td>\n",
       "      <td>1.0</td>\n",
       "    </tr>\n",
       "    <tr>\n",
       "      <th>2</th>\n",
       "      <td>6.0</td>\n",
       "      <td>b</td>\n",
       "      <td>1.0</td>\n",
       "    </tr>\n",
       "    <tr>\n",
       "      <th>3</th>\n",
       "      <td>2.0</td>\n",
       "      <td>a</td>\n",
       "      <td>0.0</td>\n",
       "    </tr>\n",
       "    <tr>\n",
       "      <th>4</th>\n",
       "      <td>4.0</td>\n",
       "      <td>a</td>\n",
       "      <td>0.0</td>\n",
       "    </tr>\n",
       "    <tr>\n",
       "      <th>5</th>\n",
       "      <td>5.0</td>\n",
       "      <td>a</td>\n",
       "      <td>0.0</td>\n",
       "    </tr>\n",
       "    <tr>\n",
       "      <th>6</th>\n",
       "      <td>3.0</td>\n",
       "      <td>c</td>\n",
       "      <td>NaN</td>\n",
       "    </tr>\n",
       "    <tr>\n",
       "      <th>7</th>\n",
       "      <td>NaN</td>\n",
       "      <td>d</td>\n",
       "      <td>2.0</td>\n",
       "    </tr>\n",
       "  </tbody>\n",
       "</table>\n",
       "</div>"
      ],
      "text/plain": [
       "   data1 key  data2\n",
       "0    0.0   b    1.0\n",
       "1    1.0   b    1.0\n",
       "2    6.0   b    1.0\n",
       "3    2.0   a    0.0\n",
       "4    4.0   a    0.0\n",
       "5    5.0   a    0.0\n",
       "6    3.0   c    NaN\n",
       "7    NaN   d    2.0"
      ]
     },
     "execution_count": 18,
     "metadata": {},
     "output_type": "execute_result"
    }
   ],
   "source": [
    "# By default merge does an 'inner' join, the keys in the result are the intersection.\n",
    "# Other possible options are 'left','right','outer'\n",
    "\n",
    "# The outer join takes the union of teh keys, combining the effect of applying both left and right joins\n",
    "pd.merge(df1,df2,how='outer')"
   ]
  },
  {
   "cell_type": "code",
   "execution_count": null,
   "metadata": {
    "collapsed": true
   },
   "outputs": [],
   "source": []
  }
 ],
 "metadata": {
  "anaconda-cloud": {},
  "kernelspec": {
   "display_name": "Python [Root]",
   "language": "python",
   "name": "Python [Root]"
  },
  "language_info": {
   "codemirror_mode": {
    "name": "ipython",
    "version": 3
   },
   "file_extension": ".py",
   "mimetype": "text/x-python",
   "name": "python",
   "nbconvert_exporter": "python",
   "pygments_lexer": "ipython3",
   "version": "3.5.2"
  }
 },
 "nbformat": 4,
 "nbformat_minor": 0
}
